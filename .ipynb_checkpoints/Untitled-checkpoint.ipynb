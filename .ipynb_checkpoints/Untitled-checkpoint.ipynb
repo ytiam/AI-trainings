{
 "cells": [
  {
   "cell_type": "code",
   "execution_count": 1,
   "id": "7a4899c0",
   "metadata": {},
   "outputs": [],
   "source": [
    "N = 5\n",
    "str_ = \"ababa\""
   ]
  },
  {
   "cell_type": "code",
   "execution_count": null,
   "id": "f513ffcf",
   "metadata": {},
   "outputs": [],
   "source": [
    "for i in range(N):\n",
    "    sub_str_ = str_[0:i+1]\n",
    "    "
   ]
  },
  {
   "cell_type": "code",
   "execution_count": null,
   "id": "32a3aa5c",
   "metadata": {},
   "outputs": [],
   "source": [
    "sub_str_ = \"aba\""
   ]
  },
  {
   "cell_type": "code",
   "execution_count": null,
   "id": "233866e4",
   "metadata": {},
   "outputs": [],
   "source": [
    "str_.sub"
   ]
  },
  {
   "cell_type": "code",
   "execution_count": null,
   "id": "04ff7d87",
   "metadata": {},
   "outputs": [],
   "source": []
  },
  {
   "cell_type": "code",
   "execution_count": null,
   "id": "2466999f",
   "metadata": {},
   "outputs": [],
   "source": []
  },
  {
   "cell_type": "code",
   "execution_count": null,
   "id": "3f8c70cc",
   "metadata": {},
   "outputs": [],
   "source": []
  }
 ],
 "metadata": {
  "kernelspec": {
   "display_name": "Python 3 (ipykernel)",
   "language": "python",
   "name": "python3"
  },
  "language_info": {
   "codemirror_mode": {
    "name": "ipython",
    "version": 3
   },
   "file_extension": ".py",
   "mimetype": "text/x-python",
   "name": "python",
   "nbconvert_exporter": "python",
   "pygments_lexer": "ipython3",
   "version": "3.10.11"
  }
 },
 "nbformat": 4,
 "nbformat_minor": 5
}
