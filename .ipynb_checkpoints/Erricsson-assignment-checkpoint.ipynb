{
 "cells": [
  {
   "cell_type": "code",
   "execution_count": 35,
   "id": "6aace4e9",
   "metadata": {},
   "outputs": [],
   "source": [
    "N = 5\n",
    "str_ = \"ababa\""
   ]
  },
  {
   "cell_type": "code",
   "execution_count": 36,
   "id": "aafb779a",
   "metadata": {},
   "outputs": [],
   "source": [
    "def count_overlapping_substr_occurance(N, str_):\n",
    "    count_dict = {}\n",
    "    for i in range(N):\n",
    "        count = 0\n",
    "        sub_str_ = str_[0:i+1]\n",
    "        len_sub_str_ = len(sub_str_)\n",
    "        for j in range(N-len_sub_str_+1):\n",
    "            all_sub_str_ = str_[j:j+len_sub_str_]\n",
    "            print(sub_str_,\"****************\",all_sub_str_)\n",
    "            if sub_str_ == all_sub_str_:\n",
    "                count+= 1\n",
    "        count_dict[sub_str_]  = count\n",
    "    print(\"\\n############\\nCount_dict: \",count_dict)\n",
    "    return \" \".join([str(i) for i in count_dict.values()])"
   ]
  },
  {
   "cell_type": "code",
   "execution_count": 39,
   "id": "76946338",
   "metadata": {},
   "outputs": [
    {
     "name": "stdout",
     "output_type": "stream",
     "text": [
      "a **************** a\n",
      "a **************** b\n",
      "a **************** a\n",
      "a **************** b\n",
      "a **************** a\n",
      "ab **************** ab\n",
      "ab **************** ba\n",
      "ab **************** ab\n",
      "ab **************** ba\n",
      "aba **************** aba\n",
      "aba **************** bab\n",
      "aba **************** aba\n",
      "abab **************** abab\n",
      "abab **************** baba\n",
      "ababa **************** ababa\n",
      "\n",
      "############\n",
      "Count_dict:  {'a': 3, 'ab': 2, 'aba': 2, 'abab': 1, 'ababa': 1}\n"
     ]
    },
    {
     "data": {
      "text/plain": [
       "'3 2 2 1 1'"
      ]
     },
     "execution_count": 39,
     "metadata": {},
     "output_type": "execute_result"
    }
   ],
   "source": [
    "count_overlapping_substr_occurance(N, str_)"
   ]
  },
  {
   "cell_type": "code",
   "execution_count": null,
   "id": "8ef0d5b9",
   "metadata": {},
   "outputs": [],
   "source": []
  },
  {
   "cell_type": "code",
   "execution_count": null,
   "id": "b86fdf43",
   "metadata": {},
   "outputs": [],
   "source": []
  }
 ],
 "metadata": {
  "kernelspec": {
   "display_name": "Python 3 (ipykernel)",
   "language": "python",
   "name": "python3"
  },
  "language_info": {
   "codemirror_mode": {
    "name": "ipython",
    "version": 3
   },
   "file_extension": ".py",
   "mimetype": "text/x-python",
   "name": "python",
   "nbconvert_exporter": "python",
   "pygments_lexer": "ipython3",
   "version": "3.10.11"
  }
 },
 "nbformat": 4,
 "nbformat_minor": 5
}
