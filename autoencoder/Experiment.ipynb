{
 "cells": [
  {
   "cell_type": "code",
   "execution_count": 1,
   "id": "d4ec54d1",
   "metadata": {},
   "outputs": [
    {
     "name": "stderr",
     "output_type": "stream",
     "text": [
      "2025-02-25 17:31:05.525372: I external/local_xla/xla/tsl/cuda/cudart_stub.cc:32] Could not find cuda drivers on your machine, GPU will not be used.\n",
      "2025-02-25 17:31:05.532510: E external/local_xla/xla/stream_executor/cuda/cuda_fft.cc:477] Unable to register cuFFT factory: Attempting to register factory for plugin cuFFT when one has already been registered\n",
      "WARNING: All log messages before absl::InitializeLog() is called are written to STDERR\n",
      "E0000 00:00:1740504665.544459      72 cuda_dnn.cc:8310] Unable to register cuDNN factory: Attempting to register factory for plugin cuDNN when one has already been registered\n",
      "E0000 00:00:1740504665.547982      72 cuda_blas.cc:1418] Unable to register cuBLAS factory: Attempting to register factory for plugin cuBLAS when one has already been registered\n",
      "2025-02-25 17:31:05.560849: I tensorflow/core/platform/cpu_feature_guard.cc:210] This TensorFlow binary is optimized to use available CPU instructions in performance-critical operations.\n",
      "To enable the following instructions: AVX2 FMA, in other operations, rebuild TensorFlow with the appropriate compiler flags.\n"
     ]
    }
   ],
   "source": [
    "import numpy as np\n",
    "import pandas as pd\n",
    "import torch\n",
    "import torch.nn as nn\n",
    "import torch.optim as optim\n",
    "import matplotlib.pyplot as plt\n",
    "from sklearn.preprocessing import StandardScaler, LabelEncoder\n",
    "from mpl_toolkits.mplot3d import Axes3D\n",
    "from sklearn.model_selection import train_test_split\n",
    "from torch.nn import functional as F\n",
    "from keras.datasets import mnist"
   ]
  },
  {
   "cell_type": "code",
   "execution_count": 2,
   "id": "bb7a05f4",
   "metadata": {},
   "outputs": [],
   "source": [
    "(x_train, _), (x_test, _) = mnist.load_data()"
   ]
  },
  {
   "cell_type": "code",
   "execution_count": 3,
   "id": "c6b96ff4",
   "metadata": {},
   "outputs": [],
   "source": [
    "x_train = x_train.astype(\"float32\")/255.0\n",
    "x_test = x_test.astype(\"float32\")/255.0"
   ]
  },
  {
   "cell_type": "code",
   "execution_count": 152,
   "id": "43432229",
   "metadata": {},
   "outputs": [],
   "source": [
    "train_dl = torch.utils.data.DataLoader(x_train,batch_size=60,shuffle=True)\n",
    "val_dl = torch.utils.data.DataLoader(x_test,batch_size=60,shuffle=True)"
   ]
  },
  {
   "cell_type": "code",
   "execution_count": 153,
   "id": "96cb22b3",
   "metadata": {},
   "outputs": [],
   "source": [
    "# Defining Autoencoder model\n",
    "class VAE_EXP(nn.Module):\n",
    "    def __init__(self):\n",
    "        super(VAE_EXP, self).__init__()\n",
    "        \n",
    "        #self.raw_beta = nn.Parameter(data=torch.Tensor(1), requires_grad=True)\n",
    "        \n",
    "        self.linear_encoder = nn.Sequential(\n",
    "               nn.Linear(input_size, 128),\n",
    "               nn.ReLU(),\n",
    "               nn.Linear(128, 32),\n",
    "               nn.ReLU(),\n",
    "               nn.Linear(32, encoding_dim),\n",
    "               nn.GELU()\n",
    "           )\n",
    "        \n",
    "        self.encoder = nn.Sequential(\n",
    "               nn.Conv2d(1,32,3,padding=1),\n",
    "               nn.ReLU(),\n",
    "               nn.MaxPool2d(2,2),\n",
    "               nn.Conv2d(32,16,3,padding=1),\n",
    "               nn.ReLU(),\n",
    "               nn.MaxPool2d(2,2),\n",
    "               nn.Conv2d(16,8,3,padding=1),\n",
    "               nn.ReLU(),\n",
    "               nn.MaxPool2d(2,2),\n",
    "           )\n",
    "        self.decoder = nn.Sequential(\n",
    "           nn.ConvTranspose2d(8,8,3,stride=2),\n",
    "           nn.ReLU(),\n",
    "           nn.ConvTranspose2d(8,16,2,stride=2),\n",
    "           nn.ReLU(),\n",
    "           nn.ConvTranspose2d(16,32,2,stride=2),\n",
    "           nn.ReLU(),\n",
    "           nn.Conv2d(32,1,3,padding=1),\n",
    "           nn.Sigmoid(),\n",
    "       )\n",
    "        \n",
    "        self.fc_mu = nn.Linear(8*9, latent_dim)\n",
    "        self.fc_var = nn.Linear(8*9, latent_dim)\n",
    "        \n",
    "        self.decoder_input = nn.Linear(latent_dim, 8*9)\n",
    "        \n",
    "    def reparameterize(self, mu, logvar):\n",
    "        \"\"\"\n",
    "        Reparameterization trick to sample from N(mu, var) from\n",
    "        N(0,1).\n",
    "        :param mu: (Tensor) Mean of the latent Gaussian [B x D]\n",
    "        :param logvar: (Tensor) Standard deviation of the latent Gaussian [B x D]\n",
    "        :return: (Tensor) [B x D]\n",
    "        \"\"\"\n",
    "        std = torch.exp(0.5 * logvar)\n",
    "        eps = torch.randn_like(std)\n",
    "        return eps * std + mu\n",
    "    \n",
    "    def forward(self, x):\n",
    "        x_conv_in = torch.tensor(x).unsqueeze(1)\n",
    "        x_lin_in = x.reshape(len(x), np.prod(x.shape[1:]))\n",
    "        \n",
    "        conv_encoded = self.encoder(x_conv_in)\n",
    "        linear_encoded = self.linear_encoder(x_lin_in)\n",
    "        \n",
    "        conv_encoded_flatten = torch.flatten(conv_encoded, start_dim=1)\n",
    "        \n",
    "        #print(conv_encoded_flatten.shape, \"===========\", linear_encoded.shape)\n",
    "        \n",
    "        result = conv_encoded_flatten + linear_encoded\n",
    "        \n",
    "        #print(result[0],\"*****\",conv_encoded_flatten[0],\"++++\",linear_encoded[0])\n",
    "        # Split the result into mu and var components\n",
    "        # of the latent Gaussian distribution\n",
    "        mu = self.fc_mu(result)\n",
    "        log_var = self.fc_var(result)\n",
    "        \n",
    "        z = self.reparameterize(mu, log_var)\n",
    "        \n",
    "        decoded = self.decoder_input(z)\n",
    "        decoded = decoded.view(-1,8,3,3)\n",
    "        x_ = self.decoder(decoded)\n",
    "        return  [x_, x, mu, log_var]"
   ]
  },
  {
   "cell_type": "code",
   "execution_count": 154,
   "id": "395c82eb",
   "metadata": {},
   "outputs": [],
   "source": [
    "def loss_function(recons, input_, mu, log_var):\n",
    "        \"\"\"\n",
    "        Computes the VAE loss function.\n",
    "        KL(N(\\mu, \\sigma), N(0, 1)) = \\log \\frac{1}{\\sigma} + \\frac{\\sigma^2 + \\mu^2}{2} - \\frac{1}{2}\n",
    "        :param args:\n",
    "        :param kwargs:\n",
    "        :return:\n",
    "        \"\"\"\n",
    "\n",
    "        kld_weight = 0.00025 #kwargs['M_N'] # Account for the minibatch samples from the dataset\n",
    "        recons_loss =F.mse_loss(recons, input_)\n",
    "\n",
    "\n",
    "        kld_loss = torch.mean(-0.5 * torch.sum(1 + log_var - mu ** 2 - log_var.exp(), dim = 1), dim = 0)\n",
    "\n",
    "        loss = recons_loss + kld_weight * kld_loss\n",
    "        return loss"
   ]
  },
  {
   "cell_type": "code",
   "execution_count": 155,
   "id": "be6532ce",
   "metadata": {},
   "outputs": [
    {
     "data": {
      "text/plain": [
       "(60000, 28, 28)"
      ]
     },
     "execution_count": 155,
     "metadata": {},
     "output_type": "execute_result"
    }
   ],
   "source": [
    "x_train.shape"
   ]
  },
  {
   "cell_type": "code",
   "execution_count": 156,
   "id": "1ce7ecb0",
   "metadata": {},
   "outputs": [],
   "source": [
    "input_size = np.prod(x_train.shape[1:])\n",
    "latent_dim = 128\n",
    "encoding_dim = 72"
   ]
  },
  {
   "cell_type": "code",
   "execution_count": 157,
   "id": "81418b0e",
   "metadata": {},
   "outputs": [],
   "source": [
    "# Setting random seed for reproducibility\n",
    "torch.manual_seed(30)\n",
    "model = VAE_EXP()"
   ]
  },
  {
   "cell_type": "code",
   "execution_count": 158,
   "id": "b4d8366b",
   "metadata": {},
   "outputs": [],
   "source": [
    "model = model.to(\"cuda\")"
   ]
  },
  {
   "cell_type": "code",
   "execution_count": 159,
   "id": "8ac320c5",
   "metadata": {},
   "outputs": [],
   "source": [
    "num_epochs = 100\n",
    "criterion = loss_function\n",
    "optimizer = torch.optim.Adam(model.parameters(),lr=0.002)\n",
    "sched = torch.optim.lr_scheduler.OneCycleLR(optimizer,max_lr=0.002, steps_per_epoch=len(train_dl),epochs=num_epochs)"
   ]
  },
  {
   "cell_type": "code",
   "execution_count": 160,
   "id": "8831bb4b",
   "metadata": {},
   "outputs": [],
   "source": [
    "class EarlyStopper:\n",
    "    def __init__(self, patience=1, min_delta=0):\n",
    "        self.patience = patience\n",
    "        self.min_delta = min_delta\n",
    "        self.counter = 0\n",
    "        self.min_validation_loss = float('inf')\n",
    "\n",
    "    def early_stop(self, validation_loss):\n",
    "        if validation_loss < self.min_validation_loss:\n",
    "            self.min_validation_loss = validation_loss\n",
    "            self.counter = 0\n",
    "        elif validation_loss < (self.min_validation_loss + self.min_delta):\n",
    "            print(\"*********************\")\n",
    "            self.counter += 1\n",
    "            if self.counter >= self.patience:\n",
    "                return True\n",
    "        return False"
   ]
  },
  {
   "cell_type": "code",
   "execution_count": 161,
   "id": "9b415955",
   "metadata": {
    "scrolled": false
   },
   "outputs": [
    {
     "name": "stderr",
     "output_type": "stream",
     "text": [
      "/tmp/ipykernel_72/30680453.py:57: UserWarning: To copy construct from a tensor, it is recommended to use sourceTensor.clone().detach() or sourceTensor.clone().detach().requires_grad_(True), rather than torch.tensor(sourceTensor).\n",
      "  x_conv_in = torch.tensor(x).unsqueeze(1)\n"
     ]
    },
    {
     "name": "stdout",
     "output_type": "stream",
     "text": [
      "Epoch [1/100], Loss: 0.1165, Val_Loss: 0.0714\n",
      "Epoch [2/100], Loss: 0.0656, Val_Loss: 0.0621\n",
      "Epoch [3/100], Loss: 0.0586, Val_Loss: 0.0555\n",
      "Epoch [4/100], Loss: 0.0513, Val_Loss: 0.0471\n",
      "Epoch [5/100], Loss: 0.0449, Val_Loss: 0.0425\n",
      "Epoch [6/100], Loss: 0.0411, Val_Loss: 0.0392\n",
      "Epoch [7/100], Loss: 0.0375, Val_Loss: 0.0352\n",
      "Epoch [8/100], Loss: 0.0339, Val_Loss: 0.0318\n",
      "Epoch [9/100], Loss: 0.0305, Val_Loss: 0.0285\n",
      "Epoch [10/100], Loss: 0.0279, Val_Loss: 0.0266\n",
      "Epoch [11/100], Loss: 0.0263, Val_Loss: 0.0252\n",
      "Epoch [12/100], Loss: 0.0252, Val_Loss: 0.0243\n",
      "Epoch [13/100], Loss: 0.0244, Val_Loss: 0.0237\n",
      "Epoch [14/100], Loss: 0.0238, Val_Loss: 0.0233\n",
      "Epoch [15/100], Loss: 0.0235, Val_Loss: 0.0232\n",
      "Epoch [16/100], Loss: 0.0231, Val_Loss: 0.0228\n",
      "Epoch [17/100], Loss: 0.0228, Val_Loss: 0.0224\n",
      "Epoch [18/100], Loss: 0.0226, Val_Loss: 0.0220\n",
      "Epoch [19/100], Loss: 0.0223, Val_Loss: 0.0218\n",
      "Epoch [20/100], Loss: 0.0221, Val_Loss: 0.0217\n",
      "Epoch [21/100], Loss: 0.0219, Val_Loss: 0.0213\n",
      "*********************\n",
      "Epoch [22/100], Loss: 0.0218, Val_Loss: 0.0213\n",
      "Epoch [23/100], Loss: 0.0217, Val_Loss: 0.0216\n",
      "Epoch [24/100], Loss: 0.0216, Val_Loss: 0.0212\n",
      "*********************\n",
      "Epoch [25/100], Loss: 0.0215, Val_Loss: 0.0212\n",
      "Epoch [26/100], Loss: 0.0214, Val_Loss: 0.0209\n",
      "Epoch [27/100], Loss: 0.0213, Val_Loss: 0.0211\n",
      "*********************\n",
      "Epoch [28/100], Loss: 0.0212, Val_Loss: 0.0209\n",
      "*********************\n",
      "Epoch [29/100], Loss: 0.0211, Val_Loss: 0.0209\n",
      "*********************\n",
      "Epoch [30/100], Loss: 0.0210, Val_Loss: 0.0209\n",
      "Epoch [31/100], Loss: 0.0209, Val_Loss: 0.0210\n",
      "Epoch [32/100], Loss: 0.0208, Val_Loss: 0.0207\n",
      "Epoch [33/100], Loss: 0.0208, Val_Loss: 0.0203\n",
      "Epoch [34/100], Loss: 0.0207, Val_Loss: 0.0202\n",
      "Epoch [35/100], Loss: 0.0206, Val_Loss: 0.0206\n",
      "Epoch [36/100], Loss: 0.0206, Val_Loss: 0.0203\n",
      "Epoch [37/100], Loss: 0.0205, Val_Loss: 0.0205\n",
      "*********************\n",
      "Epoch [38/100], Loss: 0.0204, Val_Loss: 0.0202\n",
      "Epoch [39/100], Loss: 0.0204, Val_Loss: 0.0201\n",
      "Epoch [40/100], Loss: 0.0203, Val_Loss: 0.0203\n",
      "Epoch [41/100], Loss: 0.0203, Val_Loss: 0.0204\n",
      "Epoch [42/100], Loss: 0.0202, Val_Loss: 0.0199\n",
      "*********************\n",
      "Epoch [43/100], Loss: 0.0201, Val_Loss: 0.0199\n",
      "*********************\n",
      "Epoch [44/100], Loss: 0.0201, Val_Loss: 0.0199\n",
      "Epoch [45/100], Loss: 0.0200, Val_Loss: 0.0198\n",
      "Epoch [46/100], Loss: 0.0200, Val_Loss: 0.0197\n",
      "*********************\n",
      "Epoch [47/100], Loss: 0.0199, Val_Loss: 0.0197\n",
      "Epoch [48/100], Loss: 0.0199, Val_Loss: 0.0196\n",
      "*********************\n",
      "Epoch [49/100], Loss: 0.0198, Val_Loss: 0.0196\n",
      "Epoch [50/100], Loss: 0.0198, Val_Loss: 0.0199\n",
      "*********************\n",
      "Epoch [51/100], Loss: 0.0197, Val_Loss: 0.0196\n",
      "Epoch [52/100], Loss: 0.0197, Val_Loss: 0.0195\n",
      "Epoch [53/100], Loss: 0.0196, Val_Loss: 0.0194\n",
      "*********************\n",
      "Epoch [54/100], Loss: 0.0196, Val_Loss: 0.0194\n",
      "Epoch [55/100], Loss: 0.0196, Val_Loss: 0.0193\n",
      "*********************\n",
      "Epoch [56/100], Loss: 0.0195, Val_Loss: 0.0193\n",
      "*********************\n",
      "Epoch [57/100], Loss: 0.0195, Val_Loss: 0.0193\n",
      "Epoch [58/100], Loss: 0.0194, Val_Loss: 0.0196\n",
      "Epoch [59/100], Loss: 0.0194, Val_Loss: 0.0191\n",
      "Epoch [60/100], Loss: 0.0193, Val_Loss: 0.0193\n",
      "*********************\n",
      "Epoch [61/100], Loss: 0.0193, Val_Loss: 0.0191\n",
      "*********************\n",
      "Epoch [62/100], Loss: 0.0192, Val_Loss: 0.0191\n",
      "*********************\n",
      "Epoch [63/100], Loss: 0.0192, Val_Loss: 0.0191\n",
      "Epoch [64/100], Loss: 0.0192, Val_Loss: 0.0190\n",
      "Epoch [65/100], Loss: 0.0191, Val_Loss: 0.0189\n",
      "*********************\n",
      "Epoch [66/100], Loss: 0.0191, Val_Loss: 0.0189\n",
      "Epoch [67/100], Loss: 0.0191, Val_Loss: 0.0190\n",
      "Epoch [68/100], Loss: 0.0190, Val_Loss: 0.0188\n",
      "*********************\n",
      "Epoch [69/100], Loss: 0.0190, Val_Loss: 0.0188\n",
      "*********************\n",
      "Epoch [70/100], Loss: 0.0189, Val_Loss: 0.0188\n",
      "*********************\n",
      "Epoch [71/100], Loss: 0.0189, Val_Loss: 0.0188\n",
      "Epoch [72/100], Loss: 0.0189, Val_Loss: 0.0189\n",
      "Epoch [73/100], Loss: 0.0188, Val_Loss: 0.0187\n",
      "*********************\n",
      "Epoch [74/100], Loss: 0.0188, Val_Loss: 0.0187\n",
      "*********************\n",
      "Epoch [75/100], Loss: 0.0188, Val_Loss: 0.0187\n",
      "Epoch [76/100], Loss: 0.0187, Val_Loss: 0.0186\n",
      "*********************\n",
      "Epoch [77/100], Loss: 0.0187, Val_Loss: 0.0186\n",
      "*********************\n",
      "Epoch [78/100], Loss: 0.0187, Val_Loss: 0.0186\n",
      "Epoch [79/100], Loss: 0.0186, Val_Loss: 0.0185\n",
      "*********************\n",
      "Epoch [80/100], Loss: 0.0186, Val_Loss: 0.0185\n",
      "*********************\n",
      "Epoch [81/100], Loss: 0.0186, Val_Loss: 0.0185\n",
      "*********************\n",
      "Epoch [82/100], Loss: 0.0185, Val_Loss: 0.0185\n",
      "*********************\n",
      "Epoch [83/100], Loss: 0.0185, Val_Loss: 0.0185\n",
      "Epoch [84/100], Loss: 0.0185, Val_Loss: 0.0184\n",
      "*********************\n",
      "Epoch [85/100], Loss: 0.0185, Val_Loss: 0.0184\n",
      "*********************\n",
      "Epoch [86/100], Loss: 0.0185, Val_Loss: 0.0184\n",
      "Epoch [87/100], Loss: 0.0184, Val_Loss: 0.0183\n",
      "*********************\n",
      "Epoch [88/100], Loss: 0.0184, Val_Loss: 0.0183\n",
      "*********************\n",
      "Epoch [89/100], Loss: 0.0184, Val_Loss: 0.0183\n",
      "*********************\n",
      "Epoch [90/100], Loss: 0.0184, Val_Loss: 0.0183\n",
      "*********************\n",
      "Epoch [91/100], Loss: 0.0184, Val_Loss: 0.0183\n",
      "*********************\n"
     ]
    }
   ],
   "source": [
    "# Training the autoencoder\n",
    "early_stopper = EarlyStopper(patience=5, min_delta=0.0001)\n",
    "for epoch in range(num_epochs):\n",
    "    model.train()\n",
    "    trl = 0\n",
    "    for bat in train_dl:\n",
    "        train_data = bat.to(\"cuda\")\n",
    "        # Forward pass\n",
    "        recons, input_, mu, log_var = model(train_data)\n",
    "        input_ = input_.unsqueeze(1)\n",
    "        loss = criterion(recons, input_, mu, log_var)\n",
    "\n",
    "        # Backward pass and optimization\n",
    "        loss.backward()\n",
    "        optimizer.step()\n",
    "        optimizer.zero_grad()\n",
    "        sched.step()\n",
    "        trl += loss.item()\n",
    "        \n",
    "    model.eval()\n",
    "    vl = 0\n",
    "    with torch.no_grad():\n",
    "        for bat_val in val_dl:\n",
    "            val_data = bat_val.to(\"cuda\")\n",
    "            recons, input_, mu, log_var = model(val_data)\n",
    "            input_ = input_.unsqueeze(1)\n",
    "            val_loss = criterion(recons, input_, mu, log_var)\n",
    "            vl += val_loss.item()\n",
    "    if early_stopper.early_stop(round(vl/len(val_dl),4)):\n",
    "        break\n",
    "    # Loss for each epoch\n",
    "    print(f'Epoch [{epoch + 1}/{num_epochs}], Loss: {trl/len(train_dl):.4f}, Val_Loss: {vl/len(val_dl):.4f}')"
   ]
  },
  {
   "cell_type": "code",
   "execution_count": 90,
   "id": "6a8129d3",
   "metadata": {},
   "outputs": [],
   "source": [
    "# model.raw_beta"
   ]
  },
  {
   "cell_type": "code",
   "execution_count": 162,
   "id": "1aab2cbd",
   "metadata": {},
   "outputs": [
    {
     "data": {
      "text/plain": [
       "<matplotlib.image.AxesImage at 0x7d5c9c033370>"
      ]
     },
     "execution_count": 162,
     "metadata": {},
     "output_type": "execute_result"
    },
    {
     "data": {
      "image/png": "[encoded data removed]",
      "text/plain": [
       "<Figure size 640x480 with 1 Axes>"
      ]
     },
     "metadata": {},
     "output_type": "display_data"
    }
   ],
   "source": [
    "i = 26\n",
    "plt.imshow(bat_val[i].reshape(28,28))"
   ]
  },
  {
   "cell_type": "code",
   "execution_count": 163,
   "id": "0e01442e",
   "metadata": {},
   "outputs": [
    {
     "name": "stderr",
     "output_type": "stream",
     "text": [
      "/tmp/ipykernel_72/30680453.py:57: UserWarning: To copy construct from a tensor, it is recommended to use sourceTensor.clone().detach() or sourceTensor.clone().detach().requires_grad_(True), rather than torch.tensor(sourceTensor).\n",
      "  x_conv_in = torch.tensor(x).unsqueeze(1)\n"
     ]
    },
    {
     "data": {
      "text/plain": [
       "<matplotlib.image.AxesImage at 0x7d5c9051ff70>"
      ]
     },
     "execution_count": 163,
     "metadata": {},
     "output_type": "execute_result"
    },
    {
     "data": {
      "image/png": "[encoded data removed]",
      "text/plain": [
       "<Figure size 640x480 with 1 Axes>"
      ]
     },
     "metadata": {},
     "output_type": "display_data"
    }
   ],
   "source": [
    "output = model(bat_val[i].unsqueeze(0).to(\"cuda\"))[0].detach().cpu()\n",
    "plt.imshow(output[0].reshape(28,28))"
   ]
  },
  {
   "cell_type": "code",
   "execution_count": null,
   "id": "ab870334",
   "metadata": {},
   "outputs": [],
   "source": []
  },
  {
   "cell_type": "code",
   "execution_count": null,
   "id": "ec420a19",
   "metadata": {},
   "outputs": [],
   "source": []
  }
 ],
 "metadata": {
  "kernelspec": {
   "display_name": "Python 3 (ipykernel)",
   "language": "python",
   "name": "python3"
  },
  "language_info": {
   "codemirror_mode": {
    "name": "ipython",
    "version": 3
   },
   "file_extension": ".py",
   "mimetype": "text/x-python",
   "name": "python",
   "nbconvert_exporter": "python",
   "pygments_lexer": "ipython3",
   "version": "3.10.11"
  }
 },
 "nbformat": 4,
 "nbformat_minor": 5
}
