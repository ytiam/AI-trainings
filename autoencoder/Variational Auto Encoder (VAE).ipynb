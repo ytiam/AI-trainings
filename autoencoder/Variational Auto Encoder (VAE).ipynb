{
 "cells": [
  {
   "cell_type": "markdown",
   "id": "c401b268",
   "metadata": {},
   "source": [
    "**Easiest Explanations**: \n",
    "- Overall VAE: https://kvfrans.com/variational-autoencoders-explained/\n",
    "- Reparametrization: https://dilithjay.com/blog/the-reparameterization-trick-clearly-explained\n",
    "\n",
    "**Code**:\n",
    "- https://github.com/AntixK/PyTorch-VAE/blob/master/models/vanilla_vae.py"
   ]
  },
  {
   "cell_type": "code",
   "execution_count": 78,
   "id": "6c73884e",
   "metadata": {},
   "outputs": [],
   "source": [
    "import numpy as np\n",
    "import pandas as pd\n",
    "import torch\n",
    "import torch.nn as nn\n",
    "import torch.optim as optim\n",
    "import matplotlib.pyplot as plt\n",
    "from sklearn.preprocessing import StandardScaler, LabelEncoder\n",
    "from mpl_toolkits.mplot3d import Axes3D\n",
    "from sklearn.model_selection import train_test_split\n",
    "from torch.nn import functional as F"
   ]
  },
  {
   "cell_type": "code",
   "execution_count": 2,
   "id": "e8ad5de8",
   "metadata": {},
   "outputs": [
    {
     "name": "stderr",
     "output_type": "stream",
     "text": [
      "2025-02-23 05:56:18.842905: I external/local_xla/xla/tsl/cuda/cudart_stub.cc:32] Could not find cuda drivers on your machine, GPU will not be used.\n",
      "2025-02-23 05:56:18.959403: E external/local_xla/xla/stream_executor/cuda/cuda_fft.cc:477] Unable to register cuFFT factory: Attempting to register factory for plugin cuFFT when one has already been registered\n",
      "WARNING: All log messages before absl::InitializeLog() is called are written to STDERR\n",
      "E0000 00:00:1740290179.051911      56 cuda_dnn.cc:8310] Unable to register cuDNN factory: Attempting to register factory for plugin cuDNN when one has already been registered\n",
      "E0000 00:00:1740290179.078128      56 cuda_blas.cc:1418] Unable to register cuBLAS factory: Attempting to register factory for plugin cuBLAS when one has already been registered\n",
      "2025-02-23 05:56:19.309714: I tensorflow/core/platform/cpu_feature_guard.cc:210] This TensorFlow binary is optimized to use available CPU instructions in performance-critical operations.\n",
      "To enable the following instructions: AVX2 FMA, in other operations, rebuild TensorFlow with the appropriate compiler flags.\n"
     ]
    }
   ],
   "source": [
    "from keras.datasets import mnist\n",
    "import numpy as np"
   ]
  },
  {
   "cell_type": "code",
   "execution_count": 141,
   "id": "c8aa2d85",
   "metadata": {},
   "outputs": [],
   "source": [
    "(x_train, _), (x_test, _) = mnist.load_data()"
   ]
  },
  {
   "cell_type": "code",
   "execution_count": 142,
   "id": "5411f170",
   "metadata": {},
   "outputs": [],
   "source": [
    "x_train = x_train.astype(\"float32\")/255.0\n",
    "x_test = x_test.astype(\"float32\")/255.0"
   ]
  },
  {
   "cell_type": "code",
   "execution_count": 143,
   "id": "0e0519b8",
   "metadata": {},
   "outputs": [],
   "source": [
    "x_train = torch.tensor(x_train).unsqueeze(1) # adding an extra dimension at 1st index, as channel dimension\n",
    "x_test = torch.tensor(x_test).unsqueeze(1)"
   ]
  },
  {
   "cell_type": "code",
   "execution_count": 144,
   "id": "1980bad6",
   "metadata": {},
   "outputs": [],
   "source": [
    "train_dl = torch.utils.data.DataLoader(x_train,batch_size=60,shuffle=True)\n",
    "val_dl = torch.utils.data.DataLoader(x_test,batch_size=60,shuffle=True)"
   ]
  },
  {
   "cell_type": "code",
   "execution_count": 145,
   "id": "126edd0d",
   "metadata": {},
   "outputs": [],
   "source": [
    "latent_dim = 128"
   ]
  },
  {
   "cell_type": "code",
   "execution_count": 180,
   "id": "d24e27d6",
   "metadata": {},
   "outputs": [],
   "source": [
    "# Defining Autoencoder model\n",
    "class Autoencoder_conv(nn.Module):\n",
    "    def __init__(self):\n",
    "        super(Autoencoder_conv, self).__init__()\n",
    "        self.encoder = nn.Sequential(\n",
    "               nn.Conv2d(1,32,3,padding=1),\n",
    "               nn.ReLU(),\n",
    "               nn.MaxPool2d(2,2),\n",
    "               nn.Conv2d(32,16,3,padding=1),\n",
    "               nn.ReLU(),\n",
    "               nn.MaxPool2d(2,2),\n",
    "               nn.Conv2d(16,8,3,padding=1),\n",
    "               nn.ReLU(),\n",
    "               nn.MaxPool2d(2,2),\n",
    "            \n",
    "           )\n",
    "        self.decoder = nn.Sequential(\n",
    "           nn.ConvTranspose2d(8,8,3,stride=2),\n",
    "           nn.ReLU(),\n",
    "           nn.ConvTranspose2d(8,16,2,stride=2),\n",
    "           nn.ReLU(),\n",
    "           nn.ConvTranspose2d(16,32,2,stride=2),\n",
    "           nn.ReLU(),\n",
    "           nn.Conv2d(32,1,3,padding=1),\n",
    "           nn.Sigmoid(),\n",
    "       )\n",
    "        \n",
    "        self.fc_mu = nn.Linear(8*9, latent_dim)\n",
    "        self.fc_var = nn.Linear(8*9, latent_dim)\n",
    "        \n",
    "        self.decoder_input = nn.Linear(latent_dim, 8*9)\n",
    "        \n",
    "    def reparameterize(self, mu, logvar):\n",
    "        \"\"\"\n",
    "        Reparameterization trick to sample from N(mu, var) from\n",
    "        N(0,1).\n",
    "        :param mu: (Tensor) Mean of the latent Gaussian [B x D]\n",
    "        :param logvar: (Tensor) Standard deviation of the latent Gaussian [B x D]\n",
    "        :return: (Tensor) [B x D]\n",
    "        \"\"\"\n",
    "        std = torch.exp(0.5 * logvar)\n",
    "        eps = torch.randn_like(std)\n",
    "        return eps * std + mu\n",
    "    \n",
    "    def forward(self, x):\n",
    "        encoded = self.encoder(x)\n",
    "        result = torch.flatten(encoded, start_dim=1)\n",
    "        \n",
    "        # Split the result into mu and var components\n",
    "        # of the latent Gaussian distribution\n",
    "        mu = self.fc_mu(result)\n",
    "        log_var = self.fc_var(result)\n",
    "        \n",
    "        z = self.reparameterize(mu, log_var)\n",
    "        \n",
    "        decoded = self.decoder_input(z)\n",
    "        decoded = decoded.view(-1,8,3,3)\n",
    "        x_ = self.decoder(decoded)\n",
    "        return  [x_, x, mu, log_var]"
   ]
  },
  {
   "cell_type": "markdown",
   "id": "bb24ba5c",
   "metadata": {},
   "source": [
    "### **Derivation of KL Divergence Between Two Gaussians**  \n",
    "\n",
    "We want to compute the **KL divergence** between the approximate posterior $ q(z | x) $ and the prior $ p(z) $, both of which are Gaussian distributions:  \n",
    "\n",
    "$\n",
    "D_{KL}( q(z | x) || p(z) ) = \\int q(z | x) \\log \\frac{q(z | x)}{p(z)} dz\n",
    "$\n",
    "\n",
    "Given:  \n",
    "- $ q(z | x) = \\mathcal{N}(\\mu, \\sigma^2 I) $ (learned latent distribution)  \n",
    "- $ p(z) = \\mathcal{N}(0, I) $ (standard normal prior)\n",
    "\n",
    "Let’s **derive** the formula step by step.\n",
    "\n",
    "---\n",
    "\n",
    "## **Step 1: Write the Gaussian Probability Density Functions**  \n",
    "\n",
    "For a **multivariate Gaussian** $ \\mathcal{N}(\\mu, \\Sigma) $, the probability density function is:\n",
    "\n",
    "$\n",
    "p(z) = \\frac{1}{(2\\pi)^{d/2} |\\Sigma|^{1/2}} \\exp \\left( -\\frac{1}{2} (z - \\mu)^T \\Sigma^{-1} (z - \\mu) \\right)\n",
    "$\n",
    "\n",
    "For our specific case:  \n",
    "1. The prior **$ p(z) $** is a **standard Gaussian** $ \\mathcal{N}(0, I) $, so:\n",
    "\n",
    "   $\n",
    "   p(z) = \\frac{1}{(2\\pi)^{d/2}} \\exp \\left( -\\frac{1}{2} z^T z \\right)\n",
    "   $\n",
    "\n",
    "2. The approximate posterior **$ q(z | x) $** is a Gaussian $ \\mathcal{N}(\\mu, \\sigma^2 I) $:\n",
    "\n",
    "   $\n",
    "   q(z | x) = \\frac{1}{(2\\pi)^{d/2} |\\Sigma|^{1/2}} \\exp \\left( -\\frac{1}{2} (z - \\mu)^T \\Sigma^{-1} (z - \\mu) \\right)\n",
    "   $\n",
    "\n",
    "   Since $ \\Sigma = \\text{diag}(\\sigma^2) $, we can write:\n",
    "\n",
    "   $\n",
    "   q(z | x) = \\frac{1}{(2\\pi)^{d/2} \\prod_{i} \\sigma_i} \\exp \\left( -\\frac{1}{2} \\sum_{i} \\frac{(z_i - \\mu_i)^2}{\\sigma_i^2} \\right)\n",
    "   $\n",
    "\n",
    "---\n",
    "\n",
    "## **Step 2: Compute the KL Divergence Formula**\n",
    "$\n",
    "D_{KL}( q(z | x) || p(z) ) = \\int q(z | x) \\log \\frac{q(z | x)}{p(z)} dz\n",
    "$\n",
    "\n",
    "### **Step 2.1: Compute the Log Term**\n",
    "$\n",
    "\\log \\frac{q(z | x)}{p(z)} = \\log q(z | x) - \\log p(z)\n",
    "$\n",
    "\n",
    "Using our Gaussian density functions:\n",
    "\n",
    "$\n",
    "\\log q(z | x) = -\\frac{d}{2} \\log (2\\pi) - \\sum_{i} \\log \\sigma_i - \\frac{1}{2} \\sum_{i} \\frac{(z_i - \\mu_i)^2}{\\sigma_i^2}\n",
    "$\n",
    "\n",
    "$\n",
    "\\log p(z) = -\\frac{d}{2} \\log (2\\pi) - \\frac{1}{2} \\sum_{i} z_i^2\n",
    "$\n",
    "\n",
    "So the log fraction becomes:\n",
    "\n",
    "$\n",
    "\\log \\frac{q(z | x)}{p(z)} = -\\sum_{i} \\log \\sigma_i - \\frac{1}{2} \\sum_{i} \\frac{(z_i - \\mu_i)^2}{\\sigma_i^2} + \\frac{1}{2} \\sum_{i} z_i^2\n",
    "$\n",
    "\n",
    "---\n",
    "\n",
    "### **Step 2.2: Compute the Expectation $ \\mathbb{E}_{q(z | x)} [\\log q(z | x) - \\log p(z)] $**\n",
    "\n",
    "Since KL divergence integrates over $ q(z | x) $, we take the expectation:\n",
    "\n",
    "$\n",
    "D_{KL}( q(z | x) || p(z) ) = \\mathbb{E}_{q(z | x)} \\left[ \\log q(z | x) - \\log p(z) \\right]\n",
    "$\n",
    "\n",
    "For the expectation of individual terms:\n",
    "\n",
    "1. **Expectation of $ \\sum_{i} z_i^2 $ under $ q(z | x) $**  \n",
    "   Since $ z \\sim \\mathcal{N}(\\mu, \\sigma^2) $, we use:\n",
    "\n",
    "   $\n",
    "   \\mathbb{E}_{q(z | x)} [z_i^2] = \\text{Var}[z_i] + (\\mathbb{E}[z_i])^2 = \\sigma_i^2 + \\mu_i^2\n",
    "   $\n",
    "\n",
    "2. **Expectation of $ \\sum_{i} \\frac{(z_i - \\mu_i)^2}{\\sigma_i^2} $ under $ q(z | x) $**  \n",
    "   The term $ (z_i - \\mu_i)^2 / \\sigma_i^2 $ follows a chi-squared distribution with mean **1**, so:\n",
    "\n",
    "   $\n",
    "   \\mathbb{E}_{q(z | x)} \\left[ \\sum_{i} \\frac{(z_i - \\mu_i)^2}{\\sigma_i^2} \\right] = d\n",
    "   $\n",
    "\n",
    "3. **Expectation of $ \\sum_{i} \\log \\sigma_i $ is just the term itself** since it is independent of $ z $.\n",
    "\n",
    "Putting it all together:\n",
    "\n",
    "$\n",
    "D_{KL}( q(z | x) || p(z) ) = \\sum_{i} \\left( \\log 1 - \\log \\sigma_i - \\frac{1}{2} (1 - \\sigma_i^2 - \\mu_i^2) \\right)\n",
    "$\n",
    "\n",
    "$\n",
    "= \\frac{1}{2} \\sum_{i} \\left( \\sigma_i^2 + \\mu_i^2 - \\log \\sigma_i^2 - 1 \\right)\n",
    "$\n",
    "\n",
    "---\n",
    "\n",
    "## **Final KL Loss Formula**\n",
    "$\n",
    "D_{KL}( q(z | x) || p(z) ) = \\frac{1}{2} \\sum_{i=1}^{d} \\left( \\sigma_i^2 + \\mu_i^2 - \\log \\sigma_i^2 - 1 \\right)\n",
    "$\n",
    "\n",
    "---\n",
    "\n",
    "## **Key Takeaways**\n",
    "1. **This KL divergence term acts as a regularizer** in VAEs, ensuring that the latent distribution does not drift too far from the prior $ \\mathcal{N}(0, I) $.\n",
    "2. **The formula arises naturally from the expectation over Gaussian distributions**.\n",
    "3. **Minimizing KL Loss encourages the encoder to output latent representations that are close to a unit Gaussian**, making sampling and generation smooth."
   ]
  },
  {
   "cell_type": "code",
   "execution_count": 186,
   "id": "3fe65c1b",
   "metadata": {},
   "outputs": [],
   "source": [
    "def loss_function(recons, input_, mu, log_var):\n",
    "        \"\"\"\n",
    "        Computes the VAE loss function.\n",
    "        KL(N(\\mu, \\sigma), N(0, 1)) = \\log \\frac{1}{\\sigma} + \\frac{\\sigma^2 + \\mu^2}{2} - \\frac{1}{2}\n",
    "        :param args:\n",
    "        :param kwargs:\n",
    "        :return:\n",
    "        \"\"\"\n",
    "\n",
    "        kld_weight = 0.00025 #kwargs['M_N'] # Account for the minibatch samples from the dataset\n",
    "        recons_loss =F.mse_loss(recons, input_)\n",
    "\n",
    "\n",
    "        kld_loss = torch.mean(-0.5 * torch.sum(1 + log_var - mu ** 2 - log_var.exp(), dim = 1), dim = 0)\n",
    "\n",
    "        loss = recons_loss + kld_weight * kld_loss\n",
    "        return loss"
   ]
  },
  {
   "cell_type": "code",
   "execution_count": 187,
   "id": "67cf4235",
   "metadata": {},
   "outputs": [],
   "source": [
    "# Setting random seed for reproducibility\n",
    "torch.manual_seed(30)\n",
    "model = Autoencoder_conv()"
   ]
  },
  {
   "cell_type": "code",
   "execution_count": 188,
   "id": "0d14c4fd",
   "metadata": {},
   "outputs": [],
   "source": [
    "model = model.to(\"cuda\")"
   ]
  },
  {
   "cell_type": "code",
   "execution_count": 189,
   "id": "3a74bb94",
   "metadata": {},
   "outputs": [],
   "source": [
    "num_epochs = 50\n",
    "criterion = loss_function\n",
    "optimizer = torch.optim.Adam(model.parameters(),lr=0.0001)\n",
    "sched = torch.optim.lr_scheduler.OneCycleLR(optimizer,max_lr=0.0001,steps_per_epoch=len(train_dl),epochs=num_epochs)"
   ]
  },
  {
   "cell_type": "code",
   "execution_count": 190,
   "id": "d6ccca9e",
   "metadata": {
    "scrolled": false
   },
   "outputs": [
    {
     "name": "stdout",
     "output_type": "stream",
     "text": [
      "Epoch [1/50], Loss: 0.2266, Val_Loss: 0.2240\n",
      "Epoch [2/50], Loss: 0.2194, Val_Loss: 0.2133\n",
      "Epoch [3/50], Loss: 0.1942, Val_Loss: 0.1374\n",
      "Epoch [4/50], Loss: 0.0964, Val_Loss: 0.0813\n",
      "Epoch [5/50], Loss: 0.0760, Val_Loss: 0.0734\n",
      "Epoch [6/50], Loss: 0.0702, Val_Loss: 0.0676\n",
      "Epoch [7/50], Loss: 0.0646, Val_Loss: 0.0622\n",
      "Epoch [8/50], Loss: 0.0593, Val_Loss: 0.0569\n",
      "Epoch [9/50], Loss: 0.0547, Val_Loss: 0.0524\n",
      "Epoch [10/50], Loss: 0.0510, Val_Loss: 0.0491\n",
      "Epoch [11/50], Loss: 0.0482, Val_Loss: 0.0466\n",
      "Epoch [12/50], Loss: 0.0460, Val_Loss: 0.0448\n",
      "Epoch [13/50], Loss: 0.0442, Val_Loss: 0.0429\n",
      "Epoch [14/50], Loss: 0.0424, Val_Loss: 0.0411\n",
      "Epoch [15/50], Loss: 0.0409, Val_Loss: 0.0396\n",
      "Epoch [16/50], Loss: 0.0394, Val_Loss: 0.0383\n",
      "Epoch [17/50], Loss: 0.0382, Val_Loss: 0.0371\n",
      "Epoch [18/50], Loss: 0.0370, Val_Loss: 0.0360\n",
      "Epoch [19/50], Loss: 0.0360, Val_Loss: 0.0351\n",
      "Epoch [20/50], Loss: 0.0350, Val_Loss: 0.0341\n",
      "Epoch [21/50], Loss: 0.0342, Val_Loss: 0.0334\n",
      "Epoch [22/50], Loss: 0.0334, Val_Loss: 0.0327\n",
      "Epoch [23/50], Loss: 0.0328, Val_Loss: 0.0320\n",
      "Epoch [24/50], Loss: 0.0322, Val_Loss: 0.0315\n",
      "Epoch [25/50], Loss: 0.0316, Val_Loss: 0.0309\n",
      "Epoch [26/50], Loss: 0.0312, Val_Loss: 0.0305\n",
      "Epoch [27/50], Loss: 0.0307, Val_Loss: 0.0300\n",
      "Epoch [28/50], Loss: 0.0303, Val_Loss: 0.0297\n",
      "Epoch [29/50], Loss: 0.0299, Val_Loss: 0.0293\n",
      "Epoch [30/50], Loss: 0.0296, Val_Loss: 0.0290\n",
      "Epoch [31/50], Loss: 0.0293, Val_Loss: 0.0287\n",
      "Epoch [32/50], Loss: 0.0291, Val_Loss: 0.0285\n",
      "Epoch [33/50], Loss: 0.0288, Val_Loss: 0.0283\n",
      "Epoch [34/50], Loss: 0.0286, Val_Loss: 0.0281\n",
      "Epoch [35/50], Loss: 0.0284, Val_Loss: 0.0280\n",
      "Epoch [36/50], Loss: 0.0283, Val_Loss: 0.0278\n",
      "Epoch [37/50], Loss: 0.0281, Val_Loss: 0.0277\n",
      "Epoch [38/50], Loss: 0.0280, Val_Loss: 0.0276\n",
      "Epoch [39/50], Loss: 0.0279, Val_Loss: 0.0275\n",
      "Epoch [40/50], Loss: 0.0279, Val_Loss: 0.0274\n",
      "Epoch [41/50], Loss: 0.0278, Val_Loss: 0.0274\n",
      "Epoch [42/50], Loss: 0.0277, Val_Loss: 0.0273\n",
      "Epoch [43/50], Loss: 0.0277, Val_Loss: 0.0273\n",
      "Epoch [44/50], Loss: 0.0277, Val_Loss: 0.0272\n",
      "Epoch [45/50], Loss: 0.0276, Val_Loss: 0.0272\n",
      "Epoch [46/50], Loss: 0.0276, Val_Loss: 0.0272\n",
      "Epoch [47/50], Loss: 0.0276, Val_Loss: 0.0272\n",
      "Epoch [48/50], Loss: 0.0276, Val_Loss: 0.0272\n",
      "Epoch [49/50], Loss: 0.0276, Val_Loss: 0.0272\n",
      "Epoch [50/50], Loss: 0.0276, Val_Loss: 0.0272\n"
     ]
    }
   ],
   "source": [
    "# Training the autoencoder\n",
    "for epoch in range(num_epochs):\n",
    "    model.train()\n",
    "    trl = 0\n",
    "    for bat in train_dl:\n",
    "        train_data = bat.to(\"cuda\")\n",
    "        # Forward pass\n",
    "        recons, input_, mu, log_var = model(train_data)\n",
    "        loss = criterion(recons, input_, mu, log_var)\n",
    "\n",
    "        # Backward pass and optimization\n",
    "        loss.backward()\n",
    "        optimizer.step()\n",
    "        optimizer.zero_grad()\n",
    "        sched.step()\n",
    "        trl += loss.item()\n",
    "        \n",
    "    model.eval()\n",
    "    vl = 0\n",
    "    with torch.no_grad():\n",
    "        for bat_val in val_dl:\n",
    "            val_data = bat_val.to(\"cuda\")\n",
    "            recons, input_, mu, log_var = model(val_data)\n",
    "            val_loss = criterion(recons, input_, mu, log_var)\n",
    "            vl += val_loss.item()\n",
    "\n",
    "    # Loss for each epoch\n",
    "    print(f'Epoch [{epoch + 1}/{num_epochs}], Loss: {trl/len(train_dl):.4f}, Val_Loss: {vl/len(val_dl):.4f}')"
   ]
  },
  {
   "cell_type": "code",
   "execution_count": 191,
   "id": "fa8e9d11",
   "metadata": {},
   "outputs": [],
   "source": [
    "i = 21"
   ]
  },
  {
   "cell_type": "code",
   "execution_count": 176,
   "id": "284bc614",
   "metadata": {},
   "outputs": [
    {
     "data": {
      "text/plain": [
       "<matplotlib.image.AxesImage at 0x7c31d51f6470>"
      ]
     },
     "execution_count": 176,
     "metadata": {},
     "output_type": "execute_result"
    },
    {
     "data": {
      "image/png": "[encoded data removed]",
      "text/plain": [
       "<Figure size 640x480 with 1 Axes>"
      ]
     },
     "metadata": {},
     "output_type": "display_data"
    }
   ],
   "source": [
    "plt.imshow(bat_val[i].reshape(28,28))"
   ]
  },
  {
   "cell_type": "code",
   "execution_count": 177,
   "id": "e13029b5",
   "metadata": {},
   "outputs": [],
   "source": [
    "output = model(bat_val[i].unsqueeze(0).to(\"cuda\"))[0].detach().cpu()"
   ]
  },
  {
   "cell_type": "code",
   "execution_count": 178,
   "id": "619876d8",
   "metadata": {},
   "outputs": [
    {
     "data": {
      "text/plain": [
       "torch.Size([1, 1, 28, 28])"
      ]
     },
     "execution_count": 178,
     "metadata": {},
     "output_type": "execute_result"
    }
   ],
   "source": [
    "output.shape"
   ]
  },
  {
   "cell_type": "code",
   "execution_count": 179,
   "id": "751c924d",
   "metadata": {},
   "outputs": [
    {
     "data": {
      "text/plain": [
       "<matplotlib.image.AxesImage at 0x7c31d4f5f3a0>"
      ]
     },
     "execution_count": 179,
     "metadata": {},
     "output_type": "execute_result"
    },
    {
     "data": {
      "image/png": "[encoded data removed]",
      "text/plain": [
       "<Figure size 640x480 with 1 Axes>"
      ]
     },
     "metadata": {},
     "output_type": "display_data"
    }
   ],
   "source": [
    "plt.imshow(output[0].reshape(28,28))"
   ]
  },
  {
   "cell_type": "code",
   "execution_count": null,
   "id": "c80968c1",
   "metadata": {},
   "outputs": [],
   "source": []
  },
  {
   "cell_type": "markdown",
   "id": "d21761c6",
   "metadata": {},
   "source": [
    "How come, \n",
    "z = torch.normal(mu, sigma) is not differentiable, \n",
    "but,\n",
    "epsilon = torch.randn_like(sigma)  # Sample from standard normal\n",
    " z = mu + sigma * epsilon \n",
    "is differentiable?\n",
    "\n",
    "\n",
    "- Great question! The key difference lies in **how randomness interacts with the computational graph** and whether the function is **deterministic with respect to the parameters**.\n",
    "\n",
    "---\n",
    "\n",
    "## **1. Why Is `z = torch.normal(mu, sigma)` Not Differentiable?**\n",
    "When you use:\n",
    "```python\n",
    "z = torch.normal(mu, sigma)\n",
    "```\n",
    "you are directly sampling from a normal distribution. This operation **does not have a well-defined gradient** because it introduces **stochasticity into the computation graph itself**.\n",
    "\n",
    "### **Breaking Down the Issue:**\n",
    "- `torch.normal(mu, sigma)` generates new random numbers in each forward pass.\n",
    "- Since sampling from a probability distribution is **non-differentiable**, there is **no explicit mathematical function** linking `z` to `mu` and `sigma` in a way that allows derivatives.\n",
    "- As a result, PyTorch **does not track gradients** for `z`, and calling `.backward()` on a loss computed using `z` leads to an error.\n",
    "\n",
    "This is why `torch.normal(mu, sigma)` **breaks backpropagation**.\n",
    "\n",
    "---\n",
    "\n",
    "## **2. Why Is `z = mu + sigma * epsilon` Differentiable?**\n",
    "When you use:\n",
    "```python\n",
    "epsilon = torch.randn_like(sigma)  # Sample from N(0,1) (fixed distribution)\n",
    "z = mu + sigma * epsilon  # Reparameterization trick\n",
    "```\n",
    "you **separate** the randomness (sampling `epsilon`) from the learnable parameters (`mu` and `sigma`).\n",
    "\n",
    "### **Breaking Down Why It Works:**\n",
    "- **`epsilon` is sampled independently** from \\( \\mathcal{N}(0,1) \\), which means it does not depend on `mu` or `sigma`. Since it's just a tensor of random numbers, it is treated as a constant during differentiation.\n",
    "- The transformation:\n",
    "  \\[\n",
    "  z = \\mu + \\sigma \\cdot \\epsilon\n",
    "  \\]\n",
    "  is a **fully differentiable function** with respect to `mu` and `sigma`:\n",
    "  - \\( \\frac{\\partial z}{\\partial \\mu} = 1 \\) (gradients can flow directly)\n",
    "  - \\( \\frac{\\partial z}{\\partial \\sigma} = \\epsilon \\) (gradients propagate correctly)\n",
    "- Since every operation in `mu + sigma * epsilon` is differentiable, **PyTorch can compute gradients** and backpropagate without issues.\n",
    "\n",
    "---\n",
    "\n",
    "## **3. Key Intuition**\n",
    "- **`torch.normal(mu, sigma)` is a \"hard\" sampling step**—there's no deterministic function linking `z` to `mu` and `sigma`, so gradients cannot be computed.\n",
    "- **`z = mu + sigma * epsilon` transforms a fixed random variable `epsilon`** into `z` in a differentiable way.\n",
    "\n",
    "This is why the **reparameterization trick** is necessary for VAEs to work with backpropagation.\n",
    "\n",
    "---"
   ]
  },
  {
   "cell_type": "code",
   "execution_count": null,
   "id": "c43324ef",
   "metadata": {},
   "outputs": [],
   "source": []
  },
  {
   "cell_type": "code",
   "execution_count": 205,
   "id": "d44e4e4a",
   "metadata": {},
   "outputs": [
    {
     "data": {
      "text/plain": [
       "(array([   9.,   87.,  421., 1505., 2746., 2952., 1658.,  508.,  104.,\n",
       "          10.]),\n",
       " array([4.19651318, 4.3547492 , 4.51298571, 4.67122173, 4.82945824,\n",
       "        4.98769426, 5.14593029, 5.30416679, 5.46240282, 5.62063932,\n",
       "        5.77887535]),\n",
       " <BarContainer object of 10 artists>)"
      ]
     },
     "execution_count": 205,
     "metadata": {},
     "output_type": "execute_result"
    },
    {
     "data": {
      "image/png": "[encoded data removed]",
      "text/plain": [
       "<Figure size 640x480 with 1 Axes>"
      ]
     },
     "metadata": {},
     "output_type": "display_data"
    }
   ],
   "source": [
    "temp = []\n",
    "\n",
    "for i in range(10000):\n",
    "    temp.append(torch.normal(torch.tensor(5.0),torch.tensor(0.2)))\n",
    "plt.hist(temp)"
   ]
  },
  {
   "cell_type": "code",
   "execution_count": 206,
   "id": "2205c35b",
   "metadata": {},
   "outputs": [
    {
     "data": {
      "text/plain": [
       "(array([5.000e+00, 6.700e+01, 5.130e+02, 1.724e+03, 3.198e+03, 2.892e+03,\n",
       "        1.256e+03, 3.130e+02, 2.900e+01, 3.000e+00]),\n",
       " array([-4.10888386, -3.25992298, -2.4109621 , -1.56200123, -0.71304035,\n",
       "         0.13592052,  0.9848814 ,  1.83384228,  2.68280315,  3.53176403,\n",
       "         4.38072491]),\n",
       " <BarContainer object of 10 artists>)"
      ]
     },
     "execution_count": 206,
     "metadata": {},
     "output_type": "execute_result"
    },
    {
     "data": {
      "image/png": "[encoded data removed]",
      "text/plain": [
       "<Figure size 640x480 with 1 Axes>"
      ]
     },
     "metadata": {},
     "output_type": "display_data"
    }
   ],
   "source": [
    "temp = []\n",
    "\n",
    "for i in range(10000):\n",
    "    temp.append(torch.normal(torch.tensor(0.0),torch.tensor(1.0)))\n",
    "plt.hist(temp)"
   ]
  },
  {
   "cell_type": "code",
   "execution_count": null,
   "id": "69982844",
   "metadata": {},
   "outputs": [],
   "source": []
  }
 ],
 "metadata": {
  "kernelspec": {
   "display_name": "Python 3 (ipykernel)",
   "language": "python",
   "name": "python3"
  },
  "language_info": {
   "codemirror_mode": {
    "name": "ipython",
    "version": 3
   },
   "file_extension": ".py",
   "mimetype": "text/x-python",
   "name": "python",
   "nbconvert_exporter": "python",
   "pygments_lexer": "ipython3",
   "version": "3.10.11"
  }
 },
 "nbformat": 4,
 "nbformat_minor": 5
}
