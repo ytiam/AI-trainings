{
 "cells": [
  {
   "cell_type": "code",
   "execution_count": 2,
   "id": "d4ec54d1",
   "metadata": {},
   "outputs": [],
   "source": [
    "import numpy as np\n",
    "import pandas as pd\n",
    "import torch\n",
    "import torch.nn as nn\n",
    "import torch.optim as optim\n",
    "import matplotlib.pyplot as plt\n",
    "from sklearn.preprocessing import StandardScaler, LabelEncoder\n",
    "from mpl_toolkits.mplot3d import Axes3D\n",
    "from sklearn.model_selection import train_test_split\n",
    "from torch.nn import functional as F\n",
    "from keras.datasets import mnist, fashion_mnist"
   ]
  },
  {
   "cell_type": "code",
   "execution_count": 3,
   "id": "bb7a05f4",
   "metadata": {},
   "outputs": [
    {
     "name": "stdout",
     "output_type": "stream",
     "text": [
      "Downloading data from https://storage.googleapis.com/tensorflow/tf-keras-datasets/train-labels-idx1-ubyte.gz\n",
      "\u001b[1m29515/29515\u001b[0m \u001b[32m━━━━━━━━━━━━━━━━━━━━\u001b[0m\u001b[37m\u001b[0m \u001b[1m0s\u001b[0m 14us/step\n",
      "Downloading data from https://storage.googleapis.com/tensorflow/tf-keras-datasets/train-images-idx3-ubyte.gz\n",
      "\u001b[1m26421880/26421880\u001b[0m \u001b[32m━━━━━━━━━━━━━━━━━━━━\u001b[0m\u001b[37m\u001b[0m \u001b[1m3s\u001b[0m 0us/step\n",
      "Downloading data from https://storage.googleapis.com/tensorflow/tf-keras-datasets/t10k-labels-idx1-ubyte.gz\n",
      "\u001b[1m5148/5148\u001b[0m \u001b[32m━━━━━━━━━━━━━━━━━━━━\u001b[0m\u001b[37m\u001b[0m \u001b[1m0s\u001b[0m 1us/step\n",
      "Downloading data from https://storage.googleapis.com/tensorflow/tf-keras-datasets/t10k-images-idx3-ubyte.gz\n",
      "\u001b[1m4422102/4422102\u001b[0m \u001b[32m━━━━━━━━━━━━━━━━━━━━\u001b[0m\u001b[37m\u001b[0m \u001b[1m0s\u001b[0m 0us/step\n"
     ]
    }
   ],
   "source": [
    "(x_train, _), (x_test, _) = fashion_mnist.load_data()"
   ]
  },
  {
   "cell_type": "code",
   "execution_count": 4,
   "id": "c6b96ff4",
   "metadata": {},
   "outputs": [],
   "source": [
    "x_train = x_train.astype(\"float32\")/255.0\n",
    "x_test = x_test.astype(\"float32\")/255.0"
   ]
  },
  {
   "cell_type": "code",
   "execution_count": 5,
   "id": "43432229",
   "metadata": {},
   "outputs": [],
   "source": [
    "train_dl = torch.utils.data.DataLoader(x_train,batch_size=60,shuffle=True)\n",
    "val_dl = torch.utils.data.DataLoader(x_test,batch_size=60,shuffle=True)"
   ]
  },
  {
   "cell_type": "code",
   "execution_count": 6,
   "id": "96cb22b3",
   "metadata": {},
   "outputs": [],
   "source": [
    "# Defining Autoencoder model\n",
    "class VAE_EXP(nn.Module):\n",
    "    def __init__(self):\n",
    "        super(VAE_EXP, self).__init__()\n",
    "        \n",
    "        #self.raw_beta = nn.Parameter(data=torch.Tensor(1), requires_grad=True)\n",
    "        \n",
    "        self.linear_encoder = nn.Sequential(\n",
    "               nn.Linear(input_size, 128),\n",
    "               nn.ReLU(),\n",
    "               nn.Linear(128, 32),\n",
    "               nn.ReLU(),\n",
    "               nn.Linear(32, encoding_dim),\n",
    "               nn.GELU()\n",
    "           )\n",
    "        \n",
    "        self.encoder = nn.Sequential(\n",
    "               nn.Conv2d(1,32,3,padding=1),\n",
    "               nn.ReLU(),\n",
    "               nn.MaxPool2d(2,2),\n",
    "               nn.Conv2d(32,16,3,padding=1),\n",
    "               nn.ReLU(),\n",
    "               nn.MaxPool2d(2,2),\n",
    "               nn.Conv2d(16,8,3,padding=1),\n",
    "               nn.ReLU(),\n",
    "               nn.MaxPool2d(2,2),\n",
    "           )\n",
    "        self.decoder = nn.Sequential(\n",
    "           nn.ConvTranspose2d(8,8,3,stride=2),\n",
    "           nn.ReLU(),\n",
    "           nn.ConvTranspose2d(8,16,2,stride=2),\n",
    "           nn.ReLU(),\n",
    "           nn.ConvTranspose2d(16,32,2,stride=2),\n",
    "           nn.ReLU(),\n",
    "           nn.Conv2d(32,1,3,padding=1),\n",
    "           nn.Sigmoid(),\n",
    "       )\n",
    "        \n",
    "        self.fc_mu = nn.Linear(8*9, latent_dim)\n",
    "        self.fc_var = nn.Linear(8*9, latent_dim)\n",
    "        \n",
    "        self.decoder_input = nn.Linear(latent_dim, 8*9)\n",
    "        \n",
    "    def reparameterize(self, mu, logvar):\n",
    "        \"\"\"\n",
    "        Reparameterization trick to sample from N(mu, var) from\n",
    "        N(0,1).\n",
    "        :param mu: (Tensor) Mean of the latent Gaussian [B x D]\n",
    "        :param logvar: (Tensor) Standard deviation of the latent Gaussian [B x D]\n",
    "        :return: (Tensor) [B x D]\n",
    "        \"\"\"\n",
    "        std = torch.exp(0.5 * logvar)\n",
    "        eps = torch.randn_like(std)\n",
    "        return eps * std + mu\n",
    "    \n",
    "    def forward(self, x):\n",
    "        x_conv_in = torch.tensor(x).unsqueeze(1)\n",
    "        x_lin_in = x.reshape(len(x), np.prod(x.shape[1:]))\n",
    "        \n",
    "        conv_encoded = self.encoder(x_conv_in)\n",
    "        linear_encoded = self.linear_encoder(x_lin_in)\n",
    "        \n",
    "        conv_encoded_flatten = torch.flatten(conv_encoded, start_dim=1)\n",
    "        \n",
    "        #print(conv_encoded_flatten.shape, \"===========\", linear_encoded.shape)\n",
    "        \n",
    "        result = conv_encoded_flatten + linear_encoded\n",
    "        \n",
    "        #print(result[0],\"*****\",conv_encoded_flatten[0],\"++++\",linear_encoded[0])\n",
    "        # Split the result into mu and var components\n",
    "        # of the latent Gaussian distribution\n",
    "        mu = self.fc_mu(result)\n",
    "        log_var = self.fc_var(result)\n",
    "        \n",
    "        z = self.reparameterize(mu, log_var)\n",
    "        \n",
    "        decoded = self.decoder_input(z)\n",
    "        decoded = decoded.view(-1,8,3,3)\n",
    "        x_ = self.decoder(decoded)\n",
    "        return  [x_, x, mu, log_var]"
   ]
  },
  {
   "cell_type": "code",
   "execution_count": 7,
   "id": "395c82eb",
   "metadata": {},
   "outputs": [],
   "source": [
    "def loss_function(recons, input_, mu, log_var):\n",
    "        \"\"\"\n",
    "        Computes the VAE loss function.\n",
    "        KL(N(\\mu, \\sigma), N(0, 1)) = \\log \\frac{1}{\\sigma} + \\frac{\\sigma^2 + \\mu^2}{2} - \\frac{1}{2}\n",
    "        :param args:\n",
    "        :param kwargs:\n",
    "        :return:\n",
    "        \"\"\"\n",
    "\n",
    "        kld_weight = 0.00025 #kwargs['M_N'] # Account for the minibatch samples from the dataset\n",
    "        recons_loss =F.mse_loss(recons, input_)\n",
    "\n",
    "\n",
    "        kld_loss = torch.mean(-0.5 * torch.sum(1 + log_var - mu ** 2 - log_var.exp(), dim = 1), dim = 0)\n",
    "\n",
    "        loss = recons_loss + kld_weight * kld_loss\n",
    "        return loss"
   ]
  },
  {
   "cell_type": "code",
   "execution_count": 8,
   "id": "be6532ce",
   "metadata": {},
   "outputs": [
    {
     "data": {
      "text/plain": [
       "(60000, 28, 28)"
      ]
     },
     "execution_count": 8,
     "metadata": {},
     "output_type": "execute_result"
    }
   ],
   "source": [
    "x_train.shape"
   ]
  },
  {
   "cell_type": "code",
   "execution_count": 9,
   "id": "1ce7ecb0",
   "metadata": {},
   "outputs": [],
   "source": [
    "input_size = np.prod(x_train.shape[1:])\n",
    "latent_dim = 128\n",
    "encoding_dim = 72"
   ]
  },
  {
   "cell_type": "code",
   "execution_count": 10,
   "id": "81418b0e",
   "metadata": {},
   "outputs": [],
   "source": [
    "# Setting random seed for reproducibility\n",
    "torch.manual_seed(30)\n",
    "model = VAE_EXP()"
   ]
  },
  {
   "cell_type": "code",
   "execution_count": 11,
   "id": "b4d8366b",
   "metadata": {},
   "outputs": [],
   "source": [
    "model = model.to(\"cuda\")"
   ]
  },
  {
   "cell_type": "code",
   "execution_count": 12,
   "id": "8ac320c5",
   "metadata": {},
   "outputs": [],
   "source": [
    "num_epochs = 100\n",
    "criterion = loss_function\n",
    "optimizer = torch.optim.Adam(model.parameters(),lr=0.002)\n",
    "sched = torch.optim.lr_scheduler.OneCycleLR(optimizer,max_lr=0.002, steps_per_epoch=len(train_dl),epochs=num_epochs)"
   ]
  },
  {
   "cell_type": "code",
   "execution_count": 13,
   "id": "90e3252b",
   "metadata": {},
   "outputs": [],
   "source": [
    "class EarlyStopper:\n",
    "    def __init__(self, patience=1, min_delta=0):\n",
    "        self.patience = patience\n",
    "        self.min_delta = min_delta\n",
    "        self.counter = 0\n",
    "        self.min_validation_loss = float('inf')\n",
    "\n",
    "    def early_stop(self, validation_loss):\n",
    "        if validation_loss < self.min_validation_loss:\n",
    "            self.min_validation_loss = validation_loss\n",
    "            self.counter = 0\n",
    "        elif validation_loss < (self.min_validation_loss + self.min_delta):\n",
    "            print(\"*********************\")\n",
    "            self.counter += 1\n",
    "            if self.counter >= self.patience:\n",
    "                return True\n",
    "        return False"
   ]
  },
  {
   "cell_type": "code",
   "execution_count": 14,
   "id": "9b415955",
   "metadata": {
    "scrolled": true
   },
   "outputs": [
    {
     "name": "stderr",
     "output_type": "stream",
     "text": [
      "/tmp/ipykernel_40/30680453.py:57: UserWarning: To copy construct from a tensor, it is recommended to use sourceTensor.clone().detach() or sourceTensor.clone().detach().requires_grad_(True), rather than torch.tensor(sourceTensor).\n",
      "  x_conv_in = torch.tensor(x).unsqueeze(1)\n"
     ]
    },
    {
     "name": "stdout",
     "output_type": "stream",
     "text": [
      "Epoch [1/100], Loss: 0.1098, Val_Loss: 0.0673\n",
      "Epoch [2/100], Loss: 0.0561, Val_Loss: 0.0478\n",
      "Epoch [3/100], Loss: 0.0447, Val_Loss: 0.0424\n",
      "Epoch [4/100], Loss: 0.0403, Val_Loss: 0.0386\n",
      "Epoch [5/100], Loss: 0.0366, Val_Loss: 0.0349\n",
      "Epoch [6/100], Loss: 0.0331, Val_Loss: 0.0316\n",
      "Epoch [7/100], Loss: 0.0302, Val_Loss: 0.0291\n",
      "Epoch [8/100], Loss: 0.0280, Val_Loss: 0.0271\n",
      "Epoch [9/100], Loss: 0.0264, Val_Loss: 0.0259\n",
      "Epoch [10/100], Loss: 0.0254, Val_Loss: 0.0253\n",
      "Epoch [11/100], Loss: 0.0248, Val_Loss: 0.0245\n",
      "Epoch [12/100], Loss: 0.0244, Val_Loss: 0.0246\n",
      "Epoch [13/100], Loss: 0.0241, Val_Loss: 0.0240\n",
      "Epoch [14/100], Loss: 0.0239, Val_Loss: 0.0238\n",
      "Epoch [15/100], Loss: 0.0237, Val_Loss: 0.0236\n",
      "Epoch [16/100], Loss: 0.0235, Val_Loss: 0.0234\n",
      "Epoch [17/100], Loss: 0.0234, Val_Loss: 0.0235\n",
      "Epoch [18/100], Loss: 0.0233, Val_Loss: 0.0232\n",
      "*********************\n",
      "Epoch [19/100], Loss: 0.0232, Val_Loss: 0.0232\n",
      "Epoch [20/100], Loss: 0.0231, Val_Loss: 0.0230\n",
      "Epoch [21/100], Loss: 0.0230, Val_Loss: 0.0229\n",
      "*********************\n",
      "Epoch [22/100], Loss: 0.0229, Val_Loss: 0.0229\n",
      "Epoch [23/100], Loss: 0.0229, Val_Loss: 0.0228\n",
      "*********************\n",
      "Epoch [24/100], Loss: 0.0228, Val_Loss: 0.0228\n",
      "*********************\n",
      "Epoch [25/100], Loss: 0.0227, Val_Loss: 0.0228\n",
      "Epoch [26/100], Loss: 0.0226, Val_Loss: 0.0224\n",
      "Epoch [27/100], Loss: 0.0225, Val_Loss: 0.0226\n",
      "Epoch [28/100], Loss: 0.0225, Val_Loss: 0.0227\n",
      "*********************\n",
      "Epoch [29/100], Loss: 0.0224, Val_Loss: 0.0224\n",
      "Epoch [30/100], Loss: 0.0223, Val_Loss: 0.0227\n",
      "Epoch [31/100], Loss: 0.0222, Val_Loss: 0.0220\n",
      "Epoch [32/100], Loss: 0.0221, Val_Loss: 0.0219\n",
      "*********************\n",
      "Epoch [33/100], Loss: 0.0220, Val_Loss: 0.0219\n",
      "*********************\n",
      "Epoch [34/100], Loss: 0.0220, Val_Loss: 0.0219\n",
      "Epoch [35/100], Loss: 0.0219, Val_Loss: 0.0221\n",
      "*********************\n",
      "Epoch [36/100], Loss: 0.0218, Val_Loss: 0.0219\n",
      "Epoch [37/100], Loss: 0.0217, Val_Loss: 0.0217\n",
      "Epoch [38/100], Loss: 0.0217, Val_Loss: 0.0221\n",
      "*********************\n",
      "Epoch [39/100], Loss: 0.0216, Val_Loss: 0.0217\n",
      "*********************\n",
      "Epoch [40/100], Loss: 0.0216, Val_Loss: 0.0217\n",
      "Epoch [41/100], Loss: 0.0215, Val_Loss: 0.0215\n",
      "*********************\n",
      "Epoch [42/100], Loss: 0.0215, Val_Loss: 0.0215\n",
      "*********************\n",
      "Epoch [43/100], Loss: 0.0214, Val_Loss: 0.0215\n",
      "Epoch [44/100], Loss: 0.0213, Val_Loss: 0.0213\n",
      "Epoch [45/100], Loss: 0.0213, Val_Loss: 0.0215\n",
      "Epoch [46/100], Loss: 0.0212, Val_Loss: 0.0212\n",
      "*********************\n",
      "Epoch [47/100], Loss: 0.0212, Val_Loss: 0.0212\n",
      "*********************\n",
      "Epoch [48/100], Loss: 0.0212, Val_Loss: 0.0212\n",
      "*********************\n",
      "Epoch [49/100], Loss: 0.0211, Val_Loss: 0.0212\n",
      "Epoch [50/100], Loss: 0.0211, Val_Loss: 0.0211\n",
      "Epoch [51/100], Loss: 0.0210, Val_Loss: 0.0212\n",
      "Epoch [52/100], Loss: 0.0210, Val_Loss: 0.0212\n",
      "Epoch [53/100], Loss: 0.0210, Val_Loss: 0.0210\n",
      "*********************\n",
      "Epoch [54/100], Loss: 0.0209, Val_Loss: 0.0210\n",
      "*********************\n",
      "Epoch [55/100], Loss: 0.0209, Val_Loss: 0.0210\n",
      "*********************\n",
      "Epoch [56/100], Loss: 0.0209, Val_Loss: 0.0210\n",
      "Epoch [57/100], Loss: 0.0208, Val_Loss: 0.0209\n",
      "*********************\n",
      "Epoch [58/100], Loss: 0.0208, Val_Loss: 0.0209\n",
      "*********************\n",
      "Epoch [59/100], Loss: 0.0207, Val_Loss: 0.0209\n",
      "Epoch [60/100], Loss: 0.0207, Val_Loss: 0.0207\n",
      "Epoch [61/100], Loss: 0.0207, Val_Loss: 0.0208\n",
      "*********************\n",
      "Epoch [62/100], Loss: 0.0206, Val_Loss: 0.0207\n",
      "Epoch [63/100], Loss: 0.0206, Val_Loss: 0.0208\n",
      "*********************\n",
      "Epoch [64/100], Loss: 0.0205, Val_Loss: 0.0207\n",
      "*********************\n",
      "Epoch [65/100], Loss: 0.0205, Val_Loss: 0.0207\n",
      "*********************\n",
      "Epoch [66/100], Loss: 0.0205, Val_Loss: 0.0207\n",
      "Epoch [67/100], Loss: 0.0205, Val_Loss: 0.0206\n",
      "*********************\n",
      "Epoch [68/100], Loss: 0.0204, Val_Loss: 0.0206\n",
      "Epoch [69/100], Loss: 0.0204, Val_Loss: 0.0204\n",
      "Epoch [70/100], Loss: 0.0204, Val_Loss: 0.0206\n",
      "Epoch [71/100], Loss: 0.0203, Val_Loss: 0.0205\n",
      "Epoch [72/100], Loss: 0.0203, Val_Loss: 0.0205\n",
      "Epoch [73/100], Loss: 0.0203, Val_Loss: 0.0205\n",
      "*********************\n",
      "Epoch [74/100], Loss: 0.0202, Val_Loss: 0.0204\n",
      "*********************\n",
      "Epoch [75/100], Loss: 0.0202, Val_Loss: 0.0204\n",
      "*********************\n",
      "Epoch [76/100], Loss: 0.0202, Val_Loss: 0.0204\n",
      "Epoch [77/100], Loss: 0.0202, Val_Loss: 0.0203\n",
      "*********************\n",
      "Epoch [78/100], Loss: 0.0201, Val_Loss: 0.0203\n",
      "Epoch [79/100], Loss: 0.0201, Val_Loss: 0.0204\n",
      "*********************\n",
      "Epoch [80/100], Loss: 0.0201, Val_Loss: 0.0203\n",
      "*********************\n",
      "Epoch [81/100], Loss: 0.0201, Val_Loss: 0.0203\n",
      "*********************\n",
      "Epoch [82/100], Loss: 0.0201, Val_Loss: 0.0203\n",
      "Epoch [83/100], Loss: 0.0200, Val_Loss: 0.0202\n",
      "*********************\n",
      "Epoch [84/100], Loss: 0.0200, Val_Loss: 0.0202\n",
      "*********************\n",
      "Epoch [85/100], Loss: 0.0200, Val_Loss: 0.0202\n",
      "*********************\n",
      "Epoch [86/100], Loss: 0.0200, Val_Loss: 0.0202\n",
      "*********************\n",
      "Epoch [87/100], Loss: 0.0200, Val_Loss: 0.0202\n",
      "*********************\n"
     ]
    }
   ],
   "source": [
    "# Training the autoencoder\n",
    "early_stopper = EarlyStopper(patience=5, min_delta=0.0001)\n",
    "for epoch in range(num_epochs):\n",
    "    model.train()\n",
    "    trl = 0\n",
    "    for bat in train_dl:\n",
    "        train_data = bat.to(\"cuda\")\n",
    "        # Forward pass\n",
    "        recons, input_, mu, log_var = model(train_data)\n",
    "        input_ = input_.unsqueeze(1)\n",
    "        loss = criterion(recons, input_, mu, log_var)\n",
    "\n",
    "        # Backward pass and optimization\n",
    "        loss.backward()\n",
    "        optimizer.step()\n",
    "        optimizer.zero_grad()\n",
    "        sched.step()\n",
    "        trl += loss.item()\n",
    "        \n",
    "    model.eval()\n",
    "    vl = 0\n",
    "    with torch.no_grad():\n",
    "        for bat_val in val_dl:\n",
    "            val_data = bat_val.to(\"cuda\")\n",
    "            recons, input_, mu, log_var = model(val_data)\n",
    "            input_ = input_.unsqueeze(1)\n",
    "            val_loss = criterion(recons, input_, mu, log_var)\n",
    "            vl += val_loss.item()\n",
    "    if early_stopper.early_stop(round(vl/len(val_dl),4)):\n",
    "        break\n",
    "    # Loss for each epoch\n",
    "    print(f'Epoch [{epoch + 1}/{num_epochs}], Loss: {trl/len(train_dl):.4f}, Val_Loss: {vl/len(val_dl):.4f}')"
   ]
  },
  {
   "cell_type": "code",
   "execution_count": 90,
   "id": "6a8129d3",
   "metadata": {},
   "outputs": [],
   "source": [
    "# model.raw_beta"
   ]
  },
  {
   "cell_type": "code",
   "execution_count": 15,
   "id": "1aab2cbd",
   "metadata": {},
   "outputs": [
    {
     "data": {
      "text/plain": [
       "<matplotlib.image.AxesImage at 0x746be60af3d0>"
      ]
     },
     "execution_count": 15,
     "metadata": {},
     "output_type": "execute_result"
    },
    {
     "data": {
      "image/png": "[encoded data removed]",
      "text/plain": [
       "<Figure size 640x480 with 1 Axes>"
      ]
     },
     "metadata": {},
     "output_type": "display_data"
    }
   ],
   "source": [
    "i = 26\n",
    "plt.imshow(bat_val[i].reshape(28,28))"
   ]
  },
  {
   "cell_type": "code",
   "execution_count": 16,
   "id": "0e01442e",
   "metadata": {},
   "outputs": [
    {
     "name": "stderr",
     "output_type": "stream",
     "text": [
      "/tmp/ipykernel_40/30680453.py:57: UserWarning: To copy construct from a tensor, it is recommended to use sourceTensor.clone().detach() or sourceTensor.clone().detach().requires_grad_(True), rather than torch.tensor(sourceTensor).\n",
      "  x_conv_in = torch.tensor(x).unsqueeze(1)\n"
     ]
    },
    {
     "data": {
      "text/plain": [
       "<matplotlib.image.AxesImage at 0x746be3f4e470>"
      ]
     },
     "execution_count": 16,
     "metadata": {},
     "output_type": "execute_result"
    },
    {
     "data": {
      "image/png": "[encoded data removed]",
      "text/plain": [
       "<Figure size 640x480 with 1 Axes>"
      ]
     },
     "metadata": {},
     "output_type": "display_data"
    }
   ],
   "source": [
    "output = model(bat_val[i].unsqueeze(0).to(\"cuda\"))[0].detach().cpu()\n",
    "plt.imshow(output[0].reshape(28,28))"
   ]
  },
  {
   "cell_type": "code",
   "execution_count": null,
   "id": "ab870334",
   "metadata": {},
   "outputs": [],
   "source": []
  },
  {
   "cell_type": "code",
   "execution_count": 23,
   "id": "ec420a19",
   "metadata": {},
   "outputs": [
    {
     "data": {
      "text/plain": [
       "<matplotlib.image.AxesImage at 0x746be2a40b20>"
      ]
     },
     "execution_count": 23,
     "metadata": {},
     "output_type": "execute_result"
    },
    {
     "data": {
      "image/png": "[encoded data removed]",
      "text/plain": [
       "<Figure size 640x480 with 1 Axes>"
      ]
     },
     "metadata": {},
     "output_type": "display_data"
    }
   ],
   "source": [
    "z = torch.randn(1, latent_dim).to(\"cuda\")\n",
    "\n",
    "decoded = model.decoder_input(z)\n",
    "decoded = decoded.view(-1,8,3,3)\n",
    "x_ = model.decoder(decoded).to(\"cuda\").detach().cpu()\n",
    "\n",
    "plt.imshow(x_[0].reshape(28,28))"
   ]
  },
  {
   "cell_type": "code",
   "execution_count": 198,
   "id": "911fe6a5",
   "metadata": {},
   "outputs": [],
   "source": []
  },
  {
   "cell_type": "code",
   "execution_count": null,
   "id": "75e6f6a6",
   "metadata": {},
   "outputs": [],
   "source": []
  }
 ],
 "metadata": {
  "kernelspec": {
   "display_name": "Python 3 (ipykernel)",
   "language": "python",
   "name": "python3"
  },
  "language_info": {
   "codemirror_mode": {
    "name": "ipython",
    "version": 3
   },
   "file_extension": ".py",
   "mimetype": "text/x-python",
   "name": "python",
   "nbconvert_exporter": "python",
   "pygments_lexer": "ipython3",
   "version": "3.10.11"
  }
 },
 "nbformat": 4,
 "nbformat_minor": 5
}
