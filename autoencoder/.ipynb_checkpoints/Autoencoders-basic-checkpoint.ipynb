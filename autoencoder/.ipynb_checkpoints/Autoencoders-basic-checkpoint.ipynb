{
 "cells": [
  {
   "cell_type": "markdown",
   "id": "3acb044f",
   "metadata": {},
   "source": [
    "## In a very generic sense, what is an encoder ? Why we need it\n",
    "\n",
    "An **encoder** is a component or algorithm that transforms input data into a compressed, structured, or more useful representation (often a lower-dimensional vector or feature space). \n",
    "\n",
    "### Why do we need an encoder?\n",
    "1. **Dimensionality Reduction**: It reduces the size of the data while retaining its essential features, making computation faster and more efficient.\n",
    "   \n",
    "2. **Feature Extraction**: Encoders capture meaningful patterns or features from raw data, which can then be used for tasks like classification, clustering, or reconstruction.\n",
    "\n",
    "3. **Data Compression**: Encoders help compress data for efficient storage or transmission while maintaining enough information for reconstruction or downstream tasks.\n",
    "\n",
    "4. **Input Standardization**: Encoders transform diverse types of input (text, images, etc.) into a consistent format (e.g., numerical vectors) that models can process.\n",
    "\n",
    "Examples: \n",
    "- **Text**: A text encoder (like in NLP) converts words into embeddings (e.g., Word2Vec, BERT).\n",
    "- **Images**: An image encoder reduces high-dimensional image data to meaningful feature maps.\n",
    "- **Signals**: Audio encoders compress sound into key features (e.g., for speech recognition)."
   ]
  },
  {
   "cell_type": "markdown",
   "id": "3e7d72c2",
   "metadata": {},
   "source": [
    "## Why i should encode an information and why even should I again decode it\n",
    "\n",
    "In **information theory**, **encoding** is the process of converting data (or information) into a specific format that is optimized for a particular purpose, such as efficient transmission, storage, or error detection/correction. Here's why encoding is necessary and why decoding is required:\n",
    "\n",
    "### Why Encode Information?\n",
    "1. **Efficient Transmission**: Encoding minimizes the resources (bandwidth, energy) required to transmit information over a channel by compressing it (e.g., Huffman coding, Shannon's entropy-based coding).\n",
    "\n",
    "2. **Error Detection and Correction**: Encoders can add redundancy or special structures to data (e.g., parity bits, Hamming codes) to detect and correct errors that may occur during transmission.\n",
    "\n",
    "3. **Security**: Encoding can transform data into a secure format (e.g., encryption) to ensure privacy and prevent unauthorized access.\n",
    "\n",
    "4. **Compatibility**: Encoding standardizes data into a form that can be transmitted over specific channels or stored in specific systems (e.g., ASCII for text or JPEG for images).\n",
    "\n",
    "5. **Noise Resilience**: Encoding can make data more robust to noise or interference in communication channels (e.g., channel coding like Reed-Solomon codes).\n",
    "\n",
    "---\n",
    "\n",
    "### Why Decode the Information?\n",
    "1. **Recover Original Data**: The encoded data needs to be converted back to its original form (decoding) to be meaningful to the receiver.\n",
    "\n",
    "2. **Interpretation by Humans/Machines**: Encoded data is usually not directly interpretable. Decoding translates it into a human-readable or machine-processable format.\n",
    "\n",
    "3. **Error Correction**: Decoding ensures that errors introduced during transmission are detected and, if possible, corrected, preserving the integrity of the information.\n",
    "\n",
    "### Example\n",
    "- **Transmission Scenario**:  \n",
    "   - **Encoding**: Compress and add error-correcting codes to the data for efficient and reliable transmission over a noisy communication channel.  \n",
    "   - **Decoding**: At the receiver's end, the data is decompressed, errors are corrected, and the original information is reconstructed for use.\n",
    "\n",
    "Without encoding and decoding, information transmission and storage would be inefficient, unreliable, and prone to errors."
   ]
  },
  {
   "cell_type": "markdown",
   "id": "1445af05",
   "metadata": {},
   "source": [
    "## In Deep Learning context, What an encoder is in generic sense?\n",
    "\n",
    "In deep learning, an **encoder** is a neural network component that **transforms input data into a compressed, lower-dimensional representation** or feature space while preserving the most important information. It acts as the first stage of a model in tasks where the data needs to be encoded into a form that is easier to work with for downstream tasks.\n",
    "\n",
    "### Generic Characteristics:\n",
    "1. **Dimensionality Reduction**: Encoders compress the input into a smaller latent space representation.\n",
    "2. **Feature Extraction**: They capture the most meaningful features of the input data.\n",
    "3. **Purpose**: The encoded representation is often used for tasks like classification, reconstruction, or generating new data.\n",
    "\n",
    "### Examples:\n",
    "- In **Autoencoders**: The encoder compresses the input into a latent vector (bottleneck) before the decoder reconstructs the data.\n",
    "- In **Transformer models**: The encoder processes sequences by learning contextual relationships using self-attention.\n",
    "- In **Convolutional Neural Networks (CNNs)**: The encoder extracts hierarchical spatial features for tasks like image recognition.\n",
    "\n",
    "\n",
    "## So, Encoders are mostly for representation learning. Is my understanding correct?\n",
    "\n",
    "Yes, the **encoder** and **decoder blocks from a Transformer** can technically be adapted to build an **autoencoder**. However, the architecture would need some modifications depending on the use case.\n",
    "\n",
    "### How it Works:\n",
    "1. **Encoder Block**: \n",
    "   - The Transformer encoder can process the input sequence and generate a **latent representation** (a compressed representation of the input).\n",
    "   - It captures relationships between tokens using **self-attention** and learns a contextualized embedding.\n",
    "\n",
    "2. **Decoder Block**:\n",
    "   - The Transformer decoder can take the latent representation and reconstruct the original input (or predict the desired output).\n",
    "   - It uses **cross-attention** to focus on the encoder's output and self-attention for decoding sequential information.\n",
    "\n",
    "---\n",
    "\n",
    "### Challenges and Considerations:\n",
    "1. **Sequence Length**: Transformers generally process fixed-length inputs. For tasks like image reconstruction in autoencoders, input data may need reshaping.\n",
    "2. **Bottleneck Latent Representation**:\n",
    "   - Autoencoders often use a **compression bottleneck** (e.g., a small latent space). Transformers do not inherently compress to a small latent space, so modifications like dimensionality reduction might be necessary.\n",
    "3. **Positional Information**: Positional encodings used in Transformers must be carefully considered for sequence reconstruction.\n",
    "4. **Decoder Objective**:\n",
    "   - For traditional autoencoders, the decoder reconstructs the **exact input**.\n",
    "   - In tasks like denoising autoencoders, the decoder reconstructs a **clean version** of the input from noisy input.\n",
    "\n",
    "---\n",
    "\n",
    "### Use Cases of Transformer-based Autoencoders:\n",
    "1. **Text Representation (NLP)**:\n",
    "   - Transformer-based autoencoders like **BERT** learn contextual representations but can be used for reconstruction tasks as well.\n",
    "   \n",
    "2. **Vision (Images)**:\n",
    "   - **Vision Transformers (ViTs)** can form the basis of autoencoders for image compression or reconstruction.\n",
    "   - Example: **MAE (Masked Autoencoders)** for vision tasks.\n",
    "\n",
    "3. **Denoising or Masking Tasks**:\n",
    "   - Models like **BERT (masked token prediction)** and **MAE** are specialized autoencoders using Transformer blocks.\n",
    "\n",
    "### Summary:\n",
    "While the Transformer encoder and decoder blocks are not *directly* designed for autoencoding, they can be adapted to build powerful autoencoders, especially in scenarios where the data is sequential (text, images, or time-series)."
   ]
  },
  {
   "cell_type": "markdown",
   "id": "565a919a",
   "metadata": {},
   "source": [
    "**Beginners Tutorial**: https://www.datacamp.com/tutorial/introduction-to-autoencoders"
   ]
  },
  {
   "cell_type": "markdown",
   "id": "58ad7e2e",
   "metadata": {},
   "source": [
    "## Types of Autoencoders\n",
    "\n",
    "Over the years, different types of Autoencoders have been developed:\n",
    "\n",
    "- Undercomplete Autoencoder\n",
    "- Sparse Autoencoder\n",
    "- Contractive Autoencoder\n",
    "- Denoising Autoencoder\n",
    "- Convolutional Autoencoder\n",
    "- Variational Autoencoder\n"
   ]
  },
  {
   "cell_type": "markdown",
   "id": "9d242330",
   "metadata": {},
   "source": [
    "### AutoEncoders for Dimensionality Reduction"
   ]
  },
  {
   "cell_type": "code",
   "execution_count": 1,
   "id": "18b3b607",
   "metadata": {},
   "outputs": [],
   "source": [
    "import numpy as np\n",
    "import pandas as pd\n",
    "import torch\n",
    "import torch.nn as nn\n",
    "import torch.optim as optim\n",
    "import matplotlib.pyplot as plt\n",
    "from sklearn.preprocessing import StandardScaler, LabelEncoder\n",
    "from mpl_toolkits.mplot3d import Axes3D\n",
    "from sklearn.model_selection import train_test_split"
   ]
  },
  {
   "cell_type": "code",
   "execution_count": 2,
   "id": "bd2f2220",
   "metadata": {},
   "outputs": [],
   "source": [
    "df = pd.read_csv(\"../data/weatherAUS.csv\")\n",
    "df = df.drop(['Date', 'Location', 'WindDir9am',\n",
    "             'WindGustDir', 'WindDir3pm'], axis=1)\n",
    "df = df.dropna(how = 'any')\n",
    "df.loc[df['RainToday'] == 'No', 'RainToday'] = 0\n",
    "df.loc[df['RainToday'] == 'Yes', 'RainToday'] = 1"
   ]
  },
  {
   "cell_type": "code",
   "execution_count": 3,
   "id": "08c6dfbc",
   "metadata": {},
   "outputs": [
    {
     "data": {
      "text/plain": [
       "(58090, 18)"
      ]
     },
     "execution_count": 3,
     "metadata": {},
     "output_type": "execute_result"
    }
   ],
   "source": [
    "df.shape"
   ]
  },
  {
   "cell_type": "code",
   "execution_count": 4,
   "id": "1cf11093",
   "metadata": {},
   "outputs": [],
   "source": [
    "df = pd.concat([df,df])\n",
    "df = df.sample(frac=1)"
   ]
  },
  {
   "cell_type": "code",
   "execution_count": 5,
   "id": "2987c87f",
   "metadata": {},
   "outputs": [
    {
     "data": {
      "text/plain": [
       "(116180, 18)"
      ]
     },
     "execution_count": 5,
     "metadata": {},
     "output_type": "execute_result"
    }
   ],
   "source": [
    "df.shape"
   ]
  },
  {
   "cell_type": "code",
   "execution_count": null,
   "id": "a9714476",
   "metadata": {},
   "outputs": [],
   "source": []
  },
  {
   "cell_type": "code",
   "execution_count": 40,
   "id": "6e906244",
   "metadata": {},
   "outputs": [],
   "source": [
    "X, Y = df.drop('RainTomorrow', axis=1, inplace=False), df[['RainTomorrow']]"
   ]
  },
  {
   "cell_type": "code",
   "execution_count": 72,
   "id": "eb90c6ad",
   "metadata": {},
   "outputs": [],
   "source": [
    "X_train, X_test, y_train, y_test = train_test_split(\n",
    "    X, Y, test_size=0.10, random_state=30)"
   ]
  },
  {
   "cell_type": "code",
   "execution_count": 73,
   "id": "704d1cf0",
   "metadata": {},
   "outputs": [],
   "source": [
    "# Normalizing Data\n",
    "scaler = StandardScaler()\n",
    "X_train_scaled = scaler.fit_transform(X_train)\n",
    "X_test_scaled = scaler.transform(X_test)"
   ]
  },
  {
   "cell_type": "code",
   "execution_count": 74,
   "id": "7dc0a52a",
   "metadata": {},
   "outputs": [
    {
     "data": {
      "text/plain": [
       "RainToday\n",
       "0    90646\n",
       "1    25534\n",
       "Name: count, dtype: int64"
      ]
     },
     "execution_count": 74,
     "metadata": {},
     "output_type": "execute_result"
    }
   ],
   "source": [
    "X['RainToday'].value_counts()"
   ]
  },
  {
   "cell_type": "code",
   "execution_count": 75,
   "id": "0927df78",
   "metadata": {},
   "outputs": [],
   "source": [
    "X_train_tensor_float = torch.FloatTensor(X_train_scaled)\n",
    "X_test_tensor_float = torch.FloatTensor(X_test_scaled)"
   ]
  },
  {
   "cell_type": "code",
   "execution_count": 76,
   "id": "34194c4a",
   "metadata": {},
   "outputs": [],
   "source": [
    "X_train_tensor_float = X_train_tensor_float.to(\"cuda\")\n",
    "X_test_tensor_float = X_test_tensor_float.to(\"cuda\")"
   ]
  },
  {
   "cell_type": "code",
   "execution_count": null,
   "id": "0ffadfb8",
   "metadata": {},
   "outputs": [],
   "source": []
  },
  {
   "cell_type": "code",
   "execution_count": 77,
   "id": "d34e97ce",
   "metadata": {},
   "outputs": [],
   "source": [
    "# Converting string labels to numerical labels\n",
    "label_encoder = LabelEncoder()\n",
    "Y_train_numerical = label_encoder.fit_transform(y_train.values.ravel())\n",
    "Y_test_numerical = label_encoder.transform(y_test.values.ravel())"
   ]
  },
  {
   "cell_type": "code",
   "execution_count": 78,
   "id": "5828a586",
   "metadata": {},
   "outputs": [
    {
     "data": {
      "text/plain": [
       "(array([0, 0, 0, ..., 0, 0, 0]), array([0, 0, 0, ..., 0, 0, 0]))"
      ]
     },
     "execution_count": 78,
     "metadata": {},
     "output_type": "execute_result"
    }
   ],
   "source": [
    "Y_train_numerical, Y_test_numerical"
   ]
  },
  {
   "cell_type": "code",
   "execution_count": 123,
   "id": "08ae171c",
   "metadata": {},
   "outputs": [],
   "source": [
    "# Defining Autoencoder model\n",
    "class Autoencoder(nn.Module):\n",
    "    def __init__(self, input_size, encoding_dim):\n",
    "        super(Autoencoder, self).__init__()\n",
    "        self.encoder = nn.Sequential(\n",
    "               nn.Linear(input_size, 34),\n",
    "               nn.ReLU(),\n",
    "               nn.Linear(34, 16),\n",
    "               nn.ReLU(),\n",
    "               nn.Linear(16, encoding_dim),\n",
    "               nn.ReLU()\n",
    "           )\n",
    "        self.decoder = nn.Sequential(\n",
    "           nn.Linear(encoding_dim, 16),\n",
    "           nn.ReLU(),\n",
    "           nn.Linear(16, input_size),\n",
    "           nn.ReLU()\n",
    "       )\n",
    "\n",
    "    def forward(self, x):\n",
    "        x = self.encoder(x)\n",
    "        x = self.decoder(x)\n",
    "        return x"
   ]
  },
  {
   "cell_type": "code",
   "execution_count": 124,
   "id": "ee843398",
   "metadata": {},
   "outputs": [],
   "source": [
    "# Setting random seed for reproducibility\n",
    "torch.manual_seed(42)\n",
    "\n",
    "input_size = X_train.shape[1]  # Number of input features\n",
    "encoding_dim = 3  # Desired number of output dimensions\n",
    "model = Autoencoder(input_size, encoding_dim)\n",
    "model = model.to(\"cuda\")"
   ]
  },
  {
   "cell_type": "code",
   "execution_count": 125,
   "id": "b50890b3",
   "metadata": {},
   "outputs": [],
   "source": [
    "# Loss function and optimizer\n",
    "criterion = nn.MSELoss()\n",
    "optimizer = optim.Adam(model.parameters(), lr=0.003)"
   ]
  },
  {
   "cell_type": "code",
   "execution_count": 126,
   "id": "aee0ccff",
   "metadata": {},
   "outputs": [
    {
     "data": {
      "text/plain": [
       "tensor([[ 0.1024, -0.4046, -0.3025,  ..., -0.5413, -0.4713, -0.5310],\n",
       "        [-0.9011, -0.1466, -0.3025,  ..., -0.7379, -0.1058, -0.5310],\n",
       "        [-1.1944, -1.3363, -0.3025,  ..., -1.5392, -1.2316, -0.5310],\n",
       "        ...,\n",
       "        [-0.4689,  0.0254, -0.3025,  ..., -0.3750,  0.1720, -0.5310],\n",
       "        [ 0.6427,  0.1974, -0.3025,  ...,  0.3507,  0.2305, -0.5310],\n",
       "        [-0.1447,  0.4698, -0.3025,  ...,  0.3356,  0.5229, -0.5310]],\n",
       "       device='cuda:0')"
      ]
     },
     "execution_count": 126,
     "metadata": {},
     "output_type": "execute_result"
    }
   ],
   "source": [
    "X_train_tensor_float"
   ]
  },
  {
   "cell_type": "code",
   "execution_count": 128,
   "id": "0ec19b8d",
   "metadata": {},
   "outputs": [
    {
     "name": "stdout",
     "output_type": "stream",
     "text": [
      "Epoch [1/400], Loss: 1.0104, Val_Loss: 0.9975\n",
      "Epoch [2/400], Loss: 1.0079, Val_Loss: 0.9952\n",
      "Epoch [3/400], Loss: 1.0056, Val_Loss: 0.9932\n",
      "Epoch [4/400], Loss: 1.0036, Val_Loss: 0.9916\n",
      "Epoch [5/400], Loss: 1.0020, Val_Loss: 0.9900\n",
      "Epoch [6/400], Loss: 1.0004, Val_Loss: 0.9882\n",
      "Epoch [7/400], Loss: 0.9986, Val_Loss: 0.9862\n",
      "Epoch [8/400], Loss: 0.9966, Val_Loss: 0.9842\n",
      "Epoch [9/400], Loss: 0.9946, Val_Loss: 0.9823\n",
      "Epoch [10/400], Loss: 0.9927, Val_Loss: 0.9804\n",
      "Epoch [11/400], Loss: 0.9908, Val_Loss: 0.9782\n",
      "Epoch [12/400], Loss: 0.9886, Val_Loss: 0.9757\n",
      "Epoch [13/400], Loss: 0.9860, Val_Loss: 0.9728\n",
      "Epoch [14/400], Loss: 0.9831, Val_Loss: 0.9698\n",
      "Epoch [15/400], Loss: 0.9801, Val_Loss: 0.9669\n",
      "Epoch [16/400], Loss: 0.9771, Val_Loss: 0.9639\n",
      "Epoch [17/400], Loss: 0.9740, Val_Loss: 0.9607\n",
      "Epoch [18/400], Loss: 0.9708, Val_Loss: 0.9571\n",
      "Epoch [19/400], Loss: 0.9671, Val_Loss: 0.9531\n",
      "Epoch [20/400], Loss: 0.9630, Val_Loss: 0.9485\n",
      "Epoch [21/400], Loss: 0.9583, Val_Loss: 0.9433\n",
      "Epoch [22/400], Loss: 0.9529, Val_Loss: 0.9374\n",
      "Epoch [23/400], Loss: 0.9470, Val_Loss: 0.9310\n",
      "Epoch [24/400], Loss: 0.9404, Val_Loss: 0.9241\n",
      "Epoch [25/400], Loss: 0.9334, Val_Loss: 0.9169\n",
      "Epoch [26/400], Loss: 0.9261, Val_Loss: 0.9097\n",
      "Epoch [27/400], Loss: 0.9188, Val_Loss: 0.9026\n",
      "Epoch [28/400], Loss: 0.9116, Val_Loss: 0.8956\n",
      "Epoch [29/400], Loss: 0.9045, Val_Loss: 0.8887\n",
      "Epoch [30/400], Loss: 0.8975, Val_Loss: 0.8815\n",
      "Epoch [31/400], Loss: 0.8902, Val_Loss: 0.8740\n",
      "Epoch [32/400], Loss: 0.8826, Val_Loss: 0.8661\n",
      "Epoch [33/400], Loss: 0.8746, Val_Loss: 0.8582\n",
      "Epoch [34/400], Loss: 0.8665, Val_Loss: 0.8503\n",
      "Epoch [35/400], Loss: 0.8586, Val_Loss: 0.8428\n",
      "Epoch [36/400], Loss: 0.8508, Val_Loss: 0.8358\n",
      "Epoch [37/400], Loss: 0.8436, Val_Loss: 0.8293\n",
      "Epoch [38/400], Loss: 0.8369, Val_Loss: 0.8236\n",
      "Epoch [39/400], Loss: 0.8309, Val_Loss: 0.8186\n",
      "Epoch [40/400], Loss: 0.8256, Val_Loss: 0.8144\n",
      "Epoch [41/400], Loss: 0.8213, Val_Loss: 0.8112\n",
      "Epoch [42/400], Loss: 0.8179, Val_Loss: 0.8087\n",
      "Epoch [43/400], Loss: 0.8153, Val_Loss: 0.8066\n",
      "Epoch [44/400], Loss: 0.8131, Val_Loss: 0.8047\n",
      "Epoch [45/400], Loss: 0.8112, Val_Loss: 0.8030\n",
      "Epoch [46/400], Loss: 0.8094, Val_Loss: 0.8012\n",
      "Epoch [47/400], Loss: 0.8076, Val_Loss: 0.7995\n",
      "Epoch [48/400], Loss: 0.8058, Val_Loss: 0.7977\n",
      "Epoch [49/400], Loss: 0.8040, Val_Loss: 0.7960\n",
      "Epoch [50/400], Loss: 0.8023, Val_Loss: 0.7945\n",
      "Epoch [51/400], Loss: 0.8008, Val_Loss: 0.7932\n",
      "Epoch [52/400], Loss: 0.7994, Val_Loss: 0.7919\n",
      "Epoch [53/400], Loss: 0.7982, Val_Loss: 0.7907\n",
      "Epoch [54/400], Loss: 0.7970, Val_Loss: 0.7894\n",
      "Epoch [55/400], Loss: 0.7956, Val_Loss: 0.7879\n",
      "Epoch [56/400], Loss: 0.7941, Val_Loss: 0.7863\n",
      "Epoch [57/400], Loss: 0.7925, Val_Loss: 0.7846\n",
      "Epoch [58/400], Loss: 0.7908, Val_Loss: 0.7829\n",
      "Epoch [59/400], Loss: 0.7890, Val_Loss: 0.7813\n",
      "Epoch [60/400], Loss: 0.7873, Val_Loss: 0.7796\n",
      "Epoch [61/400], Loss: 0.7856, Val_Loss: 0.7779\n",
      "Epoch [62/400], Loss: 0.7839, Val_Loss: 0.7763\n",
      "Epoch [63/400], Loss: 0.7821, Val_Loss: 0.7746\n",
      "Epoch [64/400], Loss: 0.7804, Val_Loss: 0.7730\n",
      "Epoch [65/400], Loss: 0.7787, Val_Loss: 0.7714\n",
      "Epoch [66/400], Loss: 0.7770, Val_Loss: 0.7698\n",
      "Epoch [67/400], Loss: 0.7753, Val_Loss: 0.7682\n",
      "Epoch [68/400], Loss: 0.7735, Val_Loss: 0.7666\n",
      "Epoch [69/400], Loss: 0.7718, Val_Loss: 0.7651\n",
      "Epoch [70/400], Loss: 0.7702, Val_Loss: 0.7635\n",
      "Epoch [71/400], Loss: 0.7686, Val_Loss: 0.7619\n",
      "Epoch [72/400], Loss: 0.7669, Val_Loss: 0.7602\n",
      "Epoch [73/400], Loss: 0.7651, Val_Loss: 0.7584\n",
      "Epoch [74/400], Loss: 0.7633, Val_Loss: 0.7565\n",
      "Epoch [75/400], Loss: 0.7614, Val_Loss: 0.7546\n",
      "Epoch [76/400], Loss: 0.7595, Val_Loss: 0.7528\n",
      "Epoch [77/400], Loss: 0.7576, Val_Loss: 0.7509\n",
      "Epoch [78/400], Loss: 0.7558, Val_Loss: 0.7491\n",
      "Epoch [79/400], Loss: 0.7540, Val_Loss: 0.7473\n",
      "Epoch [80/400], Loss: 0.7521, Val_Loss: 0.7452\n",
      "Epoch [81/400], Loss: 0.7500, Val_Loss: 0.7425\n",
      "Epoch [82/400], Loss: 0.7472, Val_Loss: 0.7390\n",
      "Epoch [83/400], Loss: 0.7436, Val_Loss: 0.7348\n",
      "Epoch [84/400], Loss: 0.7393, Val_Loss: 0.7301\n",
      "Epoch [85/400], Loss: 0.7346, Val_Loss: 0.7256\n",
      "Epoch [86/400], Loss: 0.7300, Val_Loss: 0.7215\n",
      "Epoch [87/400], Loss: 0.7260, Val_Loss: 0.7182\n",
      "Epoch [88/400], Loss: 0.7227, Val_Loss: 0.7154\n",
      "Epoch [89/400], Loss: 0.7200, Val_Loss: 0.7130\n",
      "Epoch [90/400], Loss: 0.7176, Val_Loss: 0.7108\n",
      "Epoch [91/400], Loss: 0.7155, Val_Loss: 0.7086\n",
      "Epoch [92/400], Loss: 0.7134, Val_Loss: 0.7065\n",
      "Epoch [93/400], Loss: 0.7114, Val_Loss: 0.7047\n",
      "Epoch [94/400], Loss: 0.7097, Val_Loss: 0.7033\n",
      "Epoch [95/400], Loss: 0.7083, Val_Loss: 0.7021\n",
      "Epoch [96/400], Loss: 0.7071, Val_Loss: 0.7009\n",
      "Epoch [97/400], Loss: 0.7060, Val_Loss: 0.6998\n",
      "Epoch [98/400], Loss: 0.7049, Val_Loss: 0.6987\n",
      "Epoch [99/400], Loss: 0.7038, Val_Loss: 0.6974\n",
      "Epoch [100/400], Loss: 0.7026, Val_Loss: 0.6961\n",
      "Epoch [101/400], Loss: 0.7013, Val_Loss: 0.6948\n",
      "Epoch [102/400], Loss: 0.7000, Val_Loss: 0.6935\n",
      "Epoch [103/400], Loss: 0.6988, Val_Loss: 0.6922\n",
      "Epoch [104/400], Loss: 0.6975, Val_Loss: 0.6909\n",
      "Epoch [105/400], Loss: 0.6962, Val_Loss: 0.6895\n",
      "Epoch [106/400], Loss: 0.6948, Val_Loss: 0.6880\n",
      "Epoch [107/400], Loss: 0.6933, Val_Loss: 0.6864\n",
      "Epoch [108/400], Loss: 0.6917, Val_Loss: 0.6848\n",
      "Epoch [109/400], Loss: 0.6900, Val_Loss: 0.6832\n",
      "Epoch [110/400], Loss: 0.6884, Val_Loss: 0.6816\n",
      "Epoch [111/400], Loss: 0.6868, Val_Loss: 0.6801\n",
      "Epoch [112/400], Loss: 0.6852, Val_Loss: 0.6786\n",
      "Epoch [113/400], Loss: 0.6837, Val_Loss: 0.6772\n",
      "Epoch [114/400], Loss: 0.6822, Val_Loss: 0.6757\n",
      "Epoch [115/400], Loss: 0.6807, Val_Loss: 0.6742\n",
      "Epoch [116/400], Loss: 0.6792, Val_Loss: 0.6728\n",
      "Epoch [117/400], Loss: 0.6777, Val_Loss: 0.6714\n",
      "Epoch [118/400], Loss: 0.6764, Val_Loss: 0.6703\n",
      "Epoch [119/400], Loss: 0.6752, Val_Loss: 0.6692\n",
      "Epoch [120/400], Loss: 0.6741, Val_Loss: 0.6681\n",
      "Epoch [121/400], Loss: 0.6730, Val_Loss: 0.6670\n",
      "Epoch [122/400], Loss: 0.6718, Val_Loss: 0.6660\n",
      "Epoch [123/400], Loss: 0.6708, Val_Loss: 0.6651\n",
      "Epoch [124/400], Loss: 0.6698, Val_Loss: 0.6643\n",
      "Epoch [125/400], Loss: 0.6690, Val_Loss: 0.6636\n",
      "Epoch [126/400], Loss: 0.6682, Val_Loss: 0.6630\n",
      "Epoch [127/400], Loss: 0.6675, Val_Loss: 0.6624\n",
      "Epoch [128/400], Loss: 0.6669, Val_Loss: 0.6617\n",
      "Epoch [129/400], Loss: 0.6662, Val_Loss: 0.6611\n",
      "Epoch [130/400], Loss: 0.6655, Val_Loss: 0.6605\n",
      "Epoch [131/400], Loss: 0.6649, Val_Loss: 0.6600\n",
      "Epoch [132/400], Loss: 0.6644, Val_Loss: 0.6596\n",
      "Epoch [133/400], Loss: 0.6639, Val_Loss: 0.6591\n",
      "Epoch [134/400], Loss: 0.6633, Val_Loss: 0.6586\n",
      "Epoch [135/400], Loss: 0.6628, Val_Loss: 0.6581\n",
      "Epoch [136/400], Loss: 0.6622, Val_Loss: 0.6576\n",
      "Epoch [137/400], Loss: 0.6617, Val_Loss: 0.6571\n",
      "Epoch [138/400], Loss: 0.6612, Val_Loss: 0.6566\n",
      "Epoch [139/400], Loss: 0.6607, Val_Loss: 0.6561\n",
      "Epoch [140/400], Loss: 0.6602, Val_Loss: 0.6556\n",
      "Epoch [141/400], Loss: 0.6597, Val_Loss: 0.6551\n",
      "Epoch [142/400], Loss: 0.6592, Val_Loss: 0.6547\n",
      "Epoch [143/400], Loss: 0.6587, Val_Loss: 0.6542\n",
      "Epoch [144/400], Loss: 0.6582, Val_Loss: 0.6538\n",
      "Epoch [145/400], Loss: 0.6578, Val_Loss: 0.6534\n",
      "Epoch [146/400], Loss: 0.6573, Val_Loss: 0.6529\n",
      "Epoch [147/400], Loss: 0.6569, Val_Loss: 0.6525\n",
      "Epoch [148/400], Loss: 0.6564, Val_Loss: 0.6521\n",
      "Epoch [149/400], Loss: 0.6560, Val_Loss: 0.6517\n",
      "Epoch [150/400], Loss: 0.6555, Val_Loss: 0.6512\n",
      "Epoch [151/400], Loss: 0.6551, Val_Loss: 0.6508\n",
      "Epoch [152/400], Loss: 0.6547, Val_Loss: 0.6504\n",
      "Epoch [153/400], Loss: 0.6542, Val_Loss: 0.6500\n",
      "Epoch [154/400], Loss: 0.6538, Val_Loss: 0.6496\n",
      "Epoch [155/400], Loss: 0.6533, Val_Loss: 0.6492\n",
      "Epoch [156/400], Loss: 0.6529, Val_Loss: 0.6488\n",
      "Epoch [157/400], Loss: 0.6525, Val_Loss: 0.6484\n",
      "Epoch [158/400], Loss: 0.6521, Val_Loss: 0.6480\n",
      "Epoch [159/400], Loss: 0.6517, Val_Loss: 0.6477\n",
      "Epoch [160/400], Loss: 0.6513, Val_Loss: 0.6473\n",
      "Epoch [161/400], Loss: 0.6509, Val_Loss: 0.6469\n",
      "Epoch [162/400], Loss: 0.6505, Val_Loss: 0.6466\n",
      "Epoch [163/400], Loss: 0.6501, Val_Loss: 0.6462\n",
      "Epoch [164/400], Loss: 0.6497, Val_Loss: 0.6459\n",
      "Epoch [165/400], Loss: 0.6493, Val_Loss: 0.6455\n",
      "Epoch [166/400], Loss: 0.6490, Val_Loss: 0.6452\n",
      "Epoch [167/400], Loss: 0.6486, Val_Loss: 0.6449\n",
      "Epoch [168/400], Loss: 0.6482, Val_Loss: 0.6446\n",
      "Epoch [169/400], Loss: 0.6479, Val_Loss: 0.6442\n",
      "Epoch [170/400], Loss: 0.6475, Val_Loss: 0.6439\n",
      "Epoch [171/400], Loss: 0.6471, Val_Loss: 0.6436\n",
      "Epoch [172/400], Loss: 0.6468, Val_Loss: 0.6433\n",
      "Epoch [173/400], Loss: 0.6464, Val_Loss: 0.6430\n",
      "Epoch [174/400], Loss: 0.6461, Val_Loss: 0.6427\n",
      "Epoch [175/400], Loss: 0.6458, Val_Loss: 0.6424\n",
      "Epoch [176/400], Loss: 0.6454, Val_Loss: 0.6421\n",
      "Epoch [177/400], Loss: 0.6451, Val_Loss: 0.6418\n",
      "Epoch [178/400], Loss: 0.6448, Val_Loss: 0.6415\n",
      "Epoch [179/400], Loss: 0.6444, Val_Loss: 0.6412\n",
      "Epoch [180/400], Loss: 0.6441, Val_Loss: 0.6409\n",
      "Epoch [181/400], Loss: 0.6438, Val_Loss: 0.6407\n",
      "Epoch [182/400], Loss: 0.6435, Val_Loss: 0.6404\n"
     ]
    },
    {
     "name": "stdout",
     "output_type": "stream",
     "text": [
      "Epoch [183/400], Loss: 0.6432, Val_Loss: 0.6401\n",
      "Epoch [184/400], Loss: 0.6429, Val_Loss: 0.6399\n",
      "Epoch [185/400], Loss: 0.6426, Val_Loss: 0.6396\n",
      "Epoch [186/400], Loss: 0.6423, Val_Loss: 0.6394\n",
      "Epoch [187/400], Loss: 0.6420, Val_Loss: 0.6391\n",
      "Epoch [188/400], Loss: 0.6417, Val_Loss: 0.6389\n",
      "Epoch [189/400], Loss: 0.6415, Val_Loss: 0.6386\n",
      "Epoch [190/400], Loss: 0.6412, Val_Loss: 0.6384\n",
      "Epoch [191/400], Loss: 0.6409, Val_Loss: 0.6381\n",
      "Epoch [192/400], Loss: 0.6407, Val_Loss: 0.6379\n",
      "Epoch [193/400], Loss: 0.6404, Val_Loss: 0.6377\n",
      "Epoch [194/400], Loss: 0.6401, Val_Loss: 0.6374\n",
      "Epoch [195/400], Loss: 0.6399, Val_Loss: 0.6372\n",
      "Epoch [196/400], Loss: 0.6396, Val_Loss: 0.6370\n",
      "Epoch [197/400], Loss: 0.6394, Val_Loss: 0.6368\n",
      "Epoch [198/400], Loss: 0.6391, Val_Loss: 0.6366\n",
      "Epoch [199/400], Loss: 0.6389, Val_Loss: 0.6363\n",
      "Epoch [200/400], Loss: 0.6386, Val_Loss: 0.6361\n",
      "Epoch [201/400], Loss: 0.6384, Val_Loss: 0.6359\n",
      "Epoch [202/400], Loss: 0.6382, Val_Loss: 0.6357\n",
      "Epoch [203/400], Loss: 0.6379, Val_Loss: 0.6355\n",
      "Epoch [204/400], Loss: 0.6377, Val_Loss: 0.6353\n",
      "Epoch [205/400], Loss: 0.6375, Val_Loss: 0.6351\n",
      "Epoch [206/400], Loss: 0.6373, Val_Loss: 0.6349\n",
      "Epoch [207/400], Loss: 0.6370, Val_Loss: 0.6347\n",
      "Epoch [208/400], Loss: 0.6368, Val_Loss: 0.6345\n",
      "Epoch [209/400], Loss: 0.6366, Val_Loss: 0.6343\n",
      "Epoch [210/400], Loss: 0.6364, Val_Loss: 0.6341\n",
      "Epoch [211/400], Loss: 0.6362, Val_Loss: 0.6339\n",
      "Epoch [212/400], Loss: 0.6360, Val_Loss: 0.6338\n",
      "Epoch [213/400], Loss: 0.6358, Val_Loss: 0.6336\n",
      "Epoch [214/400], Loss: 0.6356, Val_Loss: 0.6334\n",
      "Epoch [215/400], Loss: 0.6354, Val_Loss: 0.6332\n",
      "Epoch [216/400], Loss: 0.6352, Val_Loss: 0.6330\n",
      "Epoch [217/400], Loss: 0.6350, Val_Loss: 0.6329\n",
      "Epoch [218/400], Loss: 0.6349, Val_Loss: 0.6327\n",
      "Epoch [219/400], Loss: 0.6347, Val_Loss: 0.6326\n",
      "Epoch [220/400], Loss: 0.6346, Val_Loss: 0.6325\n",
      "Epoch [221/400], Loss: 0.6345, Val_Loss: 0.6325\n",
      "Epoch [222/400], Loss: 0.6345, Val_Loss: 0.6323\n",
      "Epoch [223/400], Loss: 0.6342, Val_Loss: 0.6320\n",
      "Epoch [224/400], Loss: 0.6339, Val_Loss: 0.6317\n",
      "Epoch [225/400], Loss: 0.6336, Val_Loss: 0.6317\n",
      "Epoch [226/400], Loss: 0.6336, Val_Loss: 0.6316\n",
      "Epoch [227/400], Loss: 0.6335, Val_Loss: 0.6313\n",
      "Epoch [228/400], Loss: 0.6332, Val_Loss: 0.6311\n",
      "Epoch [229/400], Loss: 0.6330, Val_Loss: 0.6311\n",
      "Epoch [230/400], Loss: 0.6330, Val_Loss: 0.6309\n",
      "Epoch [231/400], Loss: 0.6328, Val_Loss: 0.6307\n",
      "Epoch [232/400], Loss: 0.6325, Val_Loss: 0.6306\n",
      "Epoch [233/400], Loss: 0.6324, Val_Loss: 0.6305\n",
      "Epoch [234/400], Loss: 0.6323, Val_Loss: 0.6303\n",
      "Epoch [235/400], Loss: 0.6321, Val_Loss: 0.6301\n",
      "Epoch [236/400], Loss: 0.6319, Val_Loss: 0.6301\n",
      "Epoch [237/400], Loss: 0.6319, Val_Loss: 0.6299\n",
      "Epoch [238/400], Loss: 0.6317, Val_Loss: 0.6298\n",
      "Epoch [239/400], Loss: 0.6315, Val_Loss: 0.6296\n",
      "Epoch [240/400], Loss: 0.6314, Val_Loss: 0.6295\n",
      "Epoch [241/400], Loss: 0.6313, Val_Loss: 0.6294\n",
      "Epoch [242/400], Loss: 0.6312, Val_Loss: 0.6293\n",
      "Epoch [243/400], Loss: 0.6310, Val_Loss: 0.6291\n",
      "Epoch [244/400], Loss: 0.6309, Val_Loss: 0.6291\n",
      "Epoch [245/400], Loss: 0.6308, Val_Loss: 0.6289\n",
      "Epoch [246/400], Loss: 0.6307, Val_Loss: 0.6288\n",
      "Epoch [247/400], Loss: 0.6305, Val_Loss: 0.6287\n",
      "Epoch [248/400], Loss: 0.6305, Val_Loss: 0.6286\n",
      "Epoch [249/400], Loss: 0.6304, Val_Loss: 0.6285\n",
      "Epoch [250/400], Loss: 0.6302, Val_Loss: 0.6284\n",
      "Epoch [251/400], Loss: 0.6301, Val_Loss: 0.6283\n",
      "Epoch [252/400], Loss: 0.6300, Val_Loss: 0.6282\n",
      "Epoch [253/400], Loss: 0.6299, Val_Loss: 0.6281\n",
      "Epoch [254/400], Loss: 0.6298, Val_Loss: 0.6280\n",
      "Epoch [255/400], Loss: 0.6297, Val_Loss: 0.6279\n",
      "Epoch [256/400], Loss: 0.6296, Val_Loss: 0.6278\n",
      "Epoch [257/400], Loss: 0.6295, Val_Loss: 0.6277\n",
      "Epoch [258/400], Loss: 0.6294, Val_Loss: 0.6276\n",
      "Epoch [259/400], Loss: 0.6293, Val_Loss: 0.6275\n",
      "Epoch [260/400], Loss: 0.6292, Val_Loss: 0.6274\n",
      "Epoch [261/400], Loss: 0.6291, Val_Loss: 0.6274\n",
      "Epoch [262/400], Loss: 0.6290, Val_Loss: 0.6273\n",
      "Epoch [263/400], Loss: 0.6290, Val_Loss: 0.6272\n",
      "Epoch [264/400], Loss: 0.6289, Val_Loss: 0.6271\n",
      "Epoch [265/400], Loss: 0.6288, Val_Loss: 0.6270\n",
      "Epoch [266/400], Loss: 0.6287, Val_Loss: 0.6270\n",
      "Epoch [267/400], Loss: 0.6286, Val_Loss: 0.6269\n",
      "Epoch [268/400], Loss: 0.6285, Val_Loss: 0.6268\n",
      "Epoch [269/400], Loss: 0.6285, Val_Loss: 0.6267\n",
      "Epoch [270/400], Loss: 0.6284, Val_Loss: 0.6267\n",
      "Epoch [271/400], Loss: 0.6283, Val_Loss: 0.6266\n",
      "Epoch [272/400], Loss: 0.6282, Val_Loss: 0.6265\n",
      "Epoch [273/400], Loss: 0.6281, Val_Loss: 0.6265\n",
      "Epoch [274/400], Loss: 0.6281, Val_Loss: 0.6264\n",
      "Epoch [275/400], Loss: 0.6280, Val_Loss: 0.6263\n",
      "Epoch [276/400], Loss: 0.6279, Val_Loss: 0.6263\n",
      "Epoch [277/400], Loss: 0.6279, Val_Loss: 0.6262\n",
      "Epoch [278/400], Loss: 0.6278, Val_Loss: 0.6261\n",
      "Epoch [279/400], Loss: 0.6277, Val_Loss: 0.6261\n",
      "Epoch [280/400], Loss: 0.6277, Val_Loss: 0.6260\n",
      "Epoch [281/400], Loss: 0.6276, Val_Loss: 0.6260\n",
      "Epoch [282/400], Loss: 0.6276, Val_Loss: 0.6259\n",
      "Epoch [283/400], Loss: 0.6275, Val_Loss: 0.6259\n",
      "Epoch [284/400], Loss: 0.6275, Val_Loss: 0.6258\n",
      "Epoch [285/400], Loss: 0.6274, Val_Loss: 0.6258\n",
      "Epoch [286/400], Loss: 0.6274, Val_Loss: 0.6258\n",
      "Epoch [287/400], Loss: 0.6273, Val_Loss: 0.6257\n",
      "Epoch [288/400], Loss: 0.6273, Val_Loss: 0.6256\n",
      "Epoch [289/400], Loss: 0.6272, Val_Loss: 0.6256\n",
      "Epoch [290/400], Loss: 0.6271, Val_Loss: 0.6255\n",
      "Epoch [291/400], Loss: 0.6270, Val_Loss: 0.6254\n",
      "Epoch [292/400], Loss: 0.6270, Val_Loss: 0.6254\n",
      "Epoch [293/400], Loss: 0.6269, Val_Loss: 0.6253\n",
      "Epoch [294/400], Loss: 0.6269, Val_Loss: 0.6253\n",
      "Epoch [295/400], Loss: 0.6268, Val_Loss: 0.6253\n",
      "Epoch [296/400], Loss: 0.6268, Val_Loss: 0.6252\n",
      "Epoch [297/400], Loss: 0.6267, Val_Loss: 0.6252\n",
      "Epoch [298/400], Loss: 0.6267, Val_Loss: 0.6251\n",
      "Epoch [299/400], Loss: 0.6267, Val_Loss: 0.6251\n",
      "Epoch [300/400], Loss: 0.6266, Val_Loss: 0.6250\n",
      "Epoch [301/400], Loss: 0.6266, Val_Loss: 0.6250\n",
      "Epoch [302/400], Loss: 0.6265, Val_Loss: 0.6249\n",
      "Epoch [303/400], Loss: 0.6264, Val_Loss: 0.6249\n",
      "Epoch [304/400], Loss: 0.6264, Val_Loss: 0.6248\n",
      "Epoch [305/400], Loss: 0.6263, Val_Loss: 0.6248\n",
      "Epoch [306/400], Loss: 0.6263, Val_Loss: 0.6247\n",
      "Epoch [307/400], Loss: 0.6262, Val_Loss: 0.6247\n",
      "Epoch [308/400], Loss: 0.6262, Val_Loss: 0.6247\n",
      "Epoch [309/400], Loss: 0.6262, Val_Loss: 0.6246\n",
      "Epoch [310/400], Loss: 0.6261, Val_Loss: 0.6246\n",
      "Epoch [311/400], Loss: 0.6261, Val_Loss: 0.6246\n",
      "Epoch [312/400], Loss: 0.6261, Val_Loss: 0.6246\n",
      "Epoch [313/400], Loss: 0.6261, Val_Loss: 0.6245\n",
      "Epoch [314/400], Loss: 0.6261, Val_Loss: 0.6246\n",
      "Epoch [315/400], Loss: 0.6261, Val_Loss: 0.6245\n",
      "Epoch [316/400], Loss: 0.6260, Val_Loss: 0.6245\n",
      "Epoch [317/400], Loss: 0.6260, Val_Loss: 0.6244\n",
      "Epoch [318/400], Loss: 0.6259, Val_Loss: 0.6244\n",
      "Epoch [319/400], Loss: 0.6258, Val_Loss: 0.6242\n",
      "Epoch [320/400], Loss: 0.6258, Val_Loss: 0.6242\n",
      "Epoch [321/400], Loss: 0.6257, Val_Loss: 0.6242\n",
      "Epoch [322/400], Loss: 0.6257, Val_Loss: 0.6242\n",
      "Epoch [323/400], Loss: 0.6257, Val_Loss: 0.6242\n",
      "Epoch [324/400], Loss: 0.6257, Val_Loss: 0.6241\n",
      "Epoch [325/400], Loss: 0.6257, Val_Loss: 0.6241\n",
      "Epoch [326/400], Loss: 0.6256, Val_Loss: 0.6240\n",
      "Epoch [327/400], Loss: 0.6255, Val_Loss: 0.6240\n",
      "Epoch [328/400], Loss: 0.6255, Val_Loss: 0.6239\n",
      "Epoch [329/400], Loss: 0.6254, Val_Loss: 0.6239\n",
      "Epoch [330/400], Loss: 0.6254, Val_Loss: 0.6239\n",
      "Epoch [331/400], Loss: 0.6254, Val_Loss: 0.6239\n",
      "Epoch [332/400], Loss: 0.6254, Val_Loss: 0.6239\n",
      "Epoch [333/400], Loss: 0.6254, Val_Loss: 0.6238\n",
      "Epoch [334/400], Loss: 0.6253, Val_Loss: 0.6238\n",
      "Epoch [335/400], Loss: 0.6253, Val_Loss: 0.6237\n",
      "Epoch [336/400], Loss: 0.6252, Val_Loss: 0.6237\n",
      "Epoch [337/400], Loss: 0.6252, Val_Loss: 0.6237\n",
      "Epoch [338/400], Loss: 0.6252, Val_Loss: 0.6237\n",
      "Epoch [339/400], Loss: 0.6252, Val_Loss: 0.6236\n",
      "Epoch [340/400], Loss: 0.6251, Val_Loss: 0.6236\n",
      "Epoch [341/400], Loss: 0.6251, Val_Loss: 0.6236\n",
      "Epoch [342/400], Loss: 0.6251, Val_Loss: 0.6236\n",
      "Epoch [343/400], Loss: 0.6251, Val_Loss: 0.6235\n",
      "Epoch [344/400], Loss: 0.6250, Val_Loss: 0.6235\n",
      "Epoch [345/400], Loss: 0.6250, Val_Loss: 0.6235\n",
      "Epoch [346/400], Loss: 0.6250, Val_Loss: 0.6234\n",
      "Epoch [347/400], Loss: 0.6249, Val_Loss: 0.6234\n",
      "Epoch [348/400], Loss: 0.6249, Val_Loss: 0.6234\n",
      "Epoch [349/400], Loss: 0.6249, Val_Loss: 0.6234\n",
      "Epoch [350/400], Loss: 0.6249, Val_Loss: 0.6233\n",
      "Epoch [351/400], Loss: 0.6249, Val_Loss: 0.6233\n",
      "Epoch [352/400], Loss: 0.6248, Val_Loss: 0.6233\n",
      "Epoch [353/400], Loss: 0.6248, Val_Loss: 0.6233\n",
      "Epoch [354/400], Loss: 0.6248, Val_Loss: 0.6233\n",
      "Epoch [355/400], Loss: 0.6248, Val_Loss: 0.6233\n",
      "Epoch [356/400], Loss: 0.6248, Val_Loss: 0.6233\n",
      "Epoch [357/400], Loss: 0.6248, Val_Loss: 0.6233\n",
      "Epoch [358/400], Loss: 0.6248, Val_Loss: 0.6232\n",
      "Epoch [359/400], Loss: 0.6248, Val_Loss: 0.6232\n",
      "Epoch [360/400], Loss: 0.6247, Val_Loss: 0.6231\n",
      "Epoch [361/400], Loss: 0.6246, Val_Loss: 0.6231\n",
      "Epoch [362/400], Loss: 0.6246, Val_Loss: 0.6231\n",
      "Epoch [363/400], Loss: 0.6246, Val_Loss: 0.6231\n",
      "Epoch [364/400], Loss: 0.6246, Val_Loss: 0.6231\n"
     ]
    },
    {
     "name": "stdout",
     "output_type": "stream",
     "text": [
      "Epoch [365/400], Loss: 0.6246, Val_Loss: 0.6231\n",
      "Epoch [366/400], Loss: 0.6246, Val_Loss: 0.6230\n",
      "Epoch [367/400], Loss: 0.6245, Val_Loss: 0.6230\n",
      "Epoch [368/400], Loss: 0.6245, Val_Loss: 0.6229\n",
      "Epoch [369/400], Loss: 0.6245, Val_Loss: 0.6229\n",
      "Epoch [370/400], Loss: 0.6245, Val_Loss: 0.6229\n",
      "Epoch [371/400], Loss: 0.6245, Val_Loss: 0.6229\n",
      "Epoch [372/400], Loss: 0.6244, Val_Loss: 0.6228\n",
      "Epoch [373/400], Loss: 0.6244, Val_Loss: 0.6228\n",
      "Epoch [374/400], Loss: 0.6243, Val_Loss: 0.6228\n",
      "Epoch [375/400], Loss: 0.6243, Val_Loss: 0.6228\n",
      "Epoch [376/400], Loss: 0.6243, Val_Loss: 0.6228\n",
      "Epoch [377/400], Loss: 0.6243, Val_Loss: 0.6227\n",
      "Epoch [378/400], Loss: 0.6243, Val_Loss: 0.6227\n",
      "Epoch [379/400], Loss: 0.6242, Val_Loss: 0.6227\n",
      "Epoch [380/400], Loss: 0.6242, Val_Loss: 0.6227\n",
      "Epoch [381/400], Loss: 0.6242, Val_Loss: 0.6226\n",
      "Epoch [382/400], Loss: 0.6242, Val_Loss: 0.6226\n",
      "Epoch [383/400], Loss: 0.6242, Val_Loss: 0.6226\n",
      "Epoch [384/400], Loss: 0.6242, Val_Loss: 0.6226\n",
      "Epoch [385/400], Loss: 0.6241, Val_Loss: 0.6226\n",
      "Epoch [386/400], Loss: 0.6241, Val_Loss: 0.6226\n",
      "Epoch [387/400], Loss: 0.6241, Val_Loss: 0.6225\n",
      "Epoch [388/400], Loss: 0.6241, Val_Loss: 0.6225\n",
      "Epoch [389/400], Loss: 0.6241, Val_Loss: 0.6225\n",
      "Epoch [390/400], Loss: 0.6240, Val_Loss: 0.6225\n",
      "Epoch [391/400], Loss: 0.6240, Val_Loss: 0.6224\n",
      "Epoch [392/400], Loss: 0.6240, Val_Loss: 0.6224\n",
      "Epoch [393/400], Loss: 0.6239, Val_Loss: 0.6224\n",
      "Epoch [394/400], Loss: 0.6239, Val_Loss: 0.6223\n",
      "Epoch [395/400], Loss: 0.6239, Val_Loss: 0.6223\n",
      "Epoch [396/400], Loss: 0.6239, Val_Loss: 0.6223\n",
      "Epoch [397/400], Loss: 0.6239, Val_Loss: 0.6223\n",
      "Epoch [398/400], Loss: 0.6239, Val_Loss: 0.6223\n",
      "Epoch [399/400], Loss: 0.6239, Val_Loss: 0.6223\n",
      "Epoch [400/400], Loss: 0.6239, Val_Loss: 0.6223\n"
     ]
    }
   ],
   "source": [
    "# Training the autoencoder\n",
    "num_epochs = 400\n",
    "for epoch in range(num_epochs):\n",
    "    \n",
    "    model.train()\n",
    "    # Forward pass\n",
    "    outputs = model(X_train_tensor_float)\n",
    "    loss = criterion(outputs, X_train_tensor_float)\n",
    "\n",
    "    # Backward pass and optimization\n",
    "    optimizer.zero_grad()\n",
    "    loss.backward()\n",
    "    optimizer.step()\n",
    "    \n",
    "    model.eval()\n",
    "    outputs = model(X_test_tensor_float)\n",
    "    val_loss = criterion(outputs, X_test_tensor_float)\n",
    "\n",
    "    # Loss for each epoch\n",
    "    print(f'Epoch [{epoch + 1}/{num_epochs}], Loss: {loss.item():.4f}, Val_Loss: {val_loss.item():.4f}')"
   ]
  },
  {
   "cell_type": "code",
   "execution_count": 95,
   "id": "246762f6",
   "metadata": {},
   "outputs": [],
   "source": [
    "# Encoding the data using the trained autoencoder\n",
    "encoded_data = model.encoder(X_train_tensor_float).detach().cpu().numpy()"
   ]
  },
  {
   "cell_type": "code",
   "execution_count": 96,
   "id": "8db1c7ad",
   "metadata": {},
   "outputs": [
    {
     "data": {
      "text/plain": [
       "array([[ 0.      , 18.78322 , 19.540085],\n",
       "       [ 0.      , 61.38915 , 15.988406],\n",
       "       [ 0.      , 88.41254 , 19.987755],\n",
       "       ...,\n",
       "       [ 0.      , 28.584393, 34.018833],\n",
       "       [ 0.      , 17.962765, 19.503937],\n",
       "       [ 0.      , 14.015751,  9.82816 ]], dtype=float32)"
      ]
     },
     "execution_count": 96,
     "metadata": {},
     "output_type": "execute_result"
    }
   ],
   "source": [
    "encoded_data"
   ]
  },
  {
   "cell_type": "code",
   "execution_count": null,
   "id": "dee97350",
   "metadata": {},
   "outputs": [],
   "source": []
  },
  {
   "cell_type": "code",
   "execution_count": 100,
   "id": "95dedbbe",
   "metadata": {},
   "outputs": [
    {
     "data": {
      "image/png": "[encoded data removed]",
      "text/plain": [
       "<Figure size 800x800 with 1 Axes>"
      ]
     },
     "metadata": {},
     "output_type": "display_data"
    }
   ],
   "source": [
    "# Plotting the encoded data in 3D space\n",
    "fig = plt.figure(figsize=(8, 8))\n",
    "ax = fig.add_subplot(111, projection='3d')\n",
    "scatter = ax.scatter(encoded_data[:, 0], encoded_data[:, 1],\n",
    "                    encoded_data[:, 2], c=Y_train_numerical, cmap='viridis')\n",
    "\n",
    "# Mapping numerical labels back to original string labels for the legend\n",
    "labels = label_encoder.inverse_transform(np.unique(Y_train_numerical))\n",
    "legend_labels = {num: label for num, label in zip(np.unique(Y_train_numerical),\n",
    "                                                 labels)}\n",
    "\n",
    "# Creating a custom legend with original string labels\n",
    "handles = [plt.Line2D([0], [0], marker='o', color='w',\n",
    "                    markerfacecolor=scatter.to_rgba(num),\n",
    "                    markersize=10,\n",
    "                    label=legend_labels[num]) for num in np.unique(Y_train_numerical)]\n",
    "ax.legend(handles=handles, title=\"Raining Tomorrow?\")\n",
    "\n",
    "# Adjusting the layout to provide more space for labels\n",
    "ax.xaxis.labelpad = 20\n",
    "ax.yaxis.labelpad = 20\n",
    "\n",
    "ax.set_xticks([])\n",
    "ax.set_yticks([])\n",
    "ax.set_zticks([])\n",
    "\n",
    "# Manually adding z-axis label for better visibility\n",
    "ax.text2D(0.05, 0.95, 'Encoded Dimension 3', transform=ax.transAxes,\n",
    "         fontsize=12, color='black')\n",
    "\n",
    "ax.set_xlabel('Encoded Dimension 1')\n",
    "ax.set_ylabel('Encoded Dimension 2')\n",
    "ax.set_title('Autoencoder Dimensionality Reduction')\n",
    "\n",
    "plt.tight_layout()\n",
    "\n",
    "plt.savefig('Rain_Prediction_Autoencoder.png')\n",
    "\n",
    "plt.show()"
   ]
  },
  {
   "cell_type": "code",
   "execution_count": 11,
   "id": "7fe6289e",
   "metadata": {},
   "outputs": [
    {
     "data": {
      "text/plain": [
       "True"
      ]
     },
     "execution_count": 11,
     "metadata": {},
     "output_type": "execute_result"
    }
   ],
   "source": [
    "torch.cuda.is_available()"
   ]
  },
  {
   "cell_type": "markdown",
   "id": "4f7ca5c8",
   "metadata": {},
   "source": [
    "### With Image"
   ]
  },
  {
   "cell_type": "markdown",
   "id": "6bc459ec",
   "metadata": {},
   "source": [
    "https://github.com/benjaminirving/mlseminars-autoencoders/blob/master/Autoencoders.ipynb"
   ]
  },
  {
   "cell_type": "code",
   "execution_count": 2,
   "id": "93f60b7a",
   "metadata": {},
   "outputs": [
    {
     "name": "stderr",
     "output_type": "stream",
     "text": [
      "2025-02-16 14:40:13.368917: I external/local_xla/xla/tsl/cuda/cudart_stub.cc:32] Could not find cuda drivers on your machine, GPU will not be used.\n",
      "2025-02-16 14:40:13.547976: E external/local_xla/xla/stream_executor/cuda/cuda_fft.cc:477] Unable to register cuFFT factory: Attempting to register factory for plugin cuFFT when one has already been registered\n",
      "WARNING: All log messages before absl::InitializeLog() is called are written to STDERR\n",
      "E0000 00:00:1739716813.668768      21 cuda_dnn.cc:8310] Unable to register cuDNN factory: Attempting to register factory for plugin cuDNN when one has already been registered\n",
      "E0000 00:00:1739716813.696085      21 cuda_blas.cc:1418] Unable to register cuBLAS factory: Attempting to register factory for plugin cuBLAS when one has already been registered\n",
      "2025-02-16 14:40:13.920999: I tensorflow/core/platform/cpu_feature_guard.cc:210] This TensorFlow binary is optimized to use available CPU instructions in performance-critical operations.\n",
      "To enable the following instructions: AVX2 FMA, in other operations, rebuild TensorFlow with the appropriate compiler flags.\n"
     ]
    }
   ],
   "source": [
    "from keras.datasets import mnist\n",
    "import numpy as np"
   ]
  },
  {
   "cell_type": "code",
   "execution_count": 3,
   "id": "89149419",
   "metadata": {},
   "outputs": [],
   "source": [
    "(x_train, _), (x_test, _) = mnist.load_data()"
   ]
  },
  {
   "cell_type": "code",
   "execution_count": 4,
   "id": "3de64819",
   "metadata": {},
   "outputs": [
    {
     "data": {
      "text/plain": [
       "<matplotlib.image.AxesImage at 0x754118608fd0>"
      ]
     },
     "execution_count": 4,
     "metadata": {},
     "output_type": "execute_result"
    },
    {
     "data": {
      "image/png": "[encoded data removed]",
      "text/plain": [
       "<Figure size 640x480 with 1 Axes>"
      ]
     },
     "metadata": {},
     "output_type": "display_data"
    }
   ],
   "source": [
    "plt.imshow(x_train[1], cmap=\"gray\")"
   ]
  },
  {
   "cell_type": "code",
   "execution_count": 22,
   "id": "88dc5b39",
   "metadata": {},
   "outputs": [],
   "source": [
    "x_train = x_train.astype(\"float32\")/255.0\n",
    "x_test = x_test.astype(\"float32\")/255.0"
   ]
  },
  {
   "cell_type": "code",
   "execution_count": 23,
   "id": "fe8ed9c7",
   "metadata": {},
   "outputs": [],
   "source": [
    "x_train = x_train.reshape(len(x_train), np.prod(x_train.shape[1:]))\n",
    "x_test = x_test.reshape(len(x_test), np.prod(x_test.shape[1:]))"
   ]
  },
  {
   "cell_type": "code",
   "execution_count": 24,
   "id": "81ba54a0",
   "metadata": {},
   "outputs": [
    {
     "data": {
      "text/plain": [
       "(60000, 784)"
      ]
     },
     "execution_count": 24,
     "metadata": {},
     "output_type": "execute_result"
    }
   ],
   "source": [
    "x_train.shape"
   ]
  },
  {
   "cell_type": "code",
   "execution_count": 38,
   "id": "89eeadbc",
   "metadata": {},
   "outputs": [],
   "source": [
    "train_dl = torch.utils.data.DataLoader(x_train,batch_size=60,shuffle=True)\n",
    "val_dl = torch.utils.data.DataLoader(x_test,batch_size=60,shuffle=False)"
   ]
  },
  {
   "cell_type": "code",
   "execution_count": 126,
   "id": "4a457c2f",
   "metadata": {},
   "outputs": [],
   "source": [
    "# Defining Autoencoder model\n",
    "class Autoencoder(nn.Module):\n",
    "    def __init__(self, input_size, encoding_dim):\n",
    "        super(Autoencoder, self).__init__()\n",
    "        self.encoder = nn.Sequential(\n",
    "               nn.Linear(input_size, 256),\n",
    "               nn.ReLU(),\n",
    "               nn.Linear(256, 128),\n",
    "               nn.ReLU(),\n",
    "               nn.Linear(128, encoding_dim),\n",
    "               nn.ReLU()\n",
    "           )\n",
    "        self.decoder = nn.Sequential(\n",
    "           nn.Linear(encoding_dim, 128),\n",
    "           nn.ReLU(),\n",
    "           nn.Linear(128, input_size),\n",
    "           nn.Sigmoid()\n",
    "       )\n",
    "\n",
    "    def forward(self, x):\n",
    "        x = self.encoder(x)\n",
    "        x = self.decoder(x)\n",
    "        return x"
   ]
  },
  {
   "cell_type": "code",
   "execution_count": 127,
   "id": "d6ab3dd2",
   "metadata": {},
   "outputs": [],
   "source": [
    "# Setting random seed for reproducibility\n",
    "torch.manual_seed(42)\n",
    "input_size = x_train.shape[1]  # Number of input features\n",
    "encoding_dim = 64  # Desired number of output dimensions\n",
    "model = Autoencoder(input_size, encoding_dim)"
   ]
  },
  {
   "cell_type": "code",
   "execution_count": 128,
   "id": "073388a9",
   "metadata": {},
   "outputs": [],
   "source": [
    "model = model.to(\"cuda\")"
   ]
  },
  {
   "cell_type": "code",
   "execution_count": 129,
   "id": "f23c3961",
   "metadata": {},
   "outputs": [],
   "source": [
    "criterion = nn.MSELoss()\n",
    "optimizer = torch.optim.Adam(model.parameters(),lr=0.01) #lr = 6e-4 / 25."
   ]
  },
  {
   "cell_type": "code",
   "execution_count": 130,
   "id": "2f5533d4",
   "metadata": {},
   "outputs": [
    {
     "name": "stdout",
     "output_type": "stream",
     "text": [
      "Epoch [1/20], Loss: 0.0327, Val_Loss: 0.0213\n",
      "Epoch [2/20], Loss: 0.0197, Val_Loss: 0.0173\n",
      "Epoch [3/20], Loss: 0.0169, Val_Loss: 0.0155\n",
      "Epoch [4/20], Loss: 0.0158, Val_Loss: 0.0157\n",
      "Epoch [5/20], Loss: 0.0153, Val_Loss: 0.0151\n",
      "Epoch [6/20], Loss: 0.0149, Val_Loss: 0.0144\n",
      "Epoch [7/20], Loss: 0.0148, Val_Loss: 0.0145\n",
      "Epoch [8/20], Loss: 0.0146, Val_Loss: 0.0134\n",
      "Epoch [9/20], Loss: 0.0142, Val_Loss: 0.0137\n",
      "Epoch [10/20], Loss: 0.0139, Val_Loss: 0.0141\n",
      "Epoch [11/20], Loss: 0.0138, Val_Loss: 0.0132\n",
      "Epoch [12/20], Loss: 0.0138, Val_Loss: 0.0136\n",
      "Epoch [13/20], Loss: 0.0137, Val_Loss: 0.0136\n",
      "Epoch [14/20], Loss: 0.0137, Val_Loss: 0.0134\n",
      "Epoch [15/20], Loss: 0.0135, Val_Loss: 0.0130\n",
      "Epoch [16/20], Loss: 0.0136, Val_Loss: 0.0130\n",
      "Epoch [17/20], Loss: 0.0135, Val_Loss: 0.0137\n",
      "Epoch [18/20], Loss: 0.0134, Val_Loss: 0.0136\n",
      "Epoch [19/20], Loss: 0.0135, Val_Loss: 0.0129\n",
      "Epoch [20/20], Loss: 0.0135, Val_Loss: 0.0132\n"
     ]
    }
   ],
   "source": [
    "# Training the autoencoder\n",
    "num_epochs = 20\n",
    "for epoch in range(num_epochs):\n",
    "    model.train()\n",
    "    trl = 0\n",
    "    for bat in train_dl:\n",
    "        train_data = bat.to(\"cuda\")\n",
    "        # Forward pass\n",
    "        outputs = model(train_data)\n",
    "        loss = criterion(outputs, train_data)\n",
    "\n",
    "        # Backward pass and optimization\n",
    "        optimizer.zero_grad()\n",
    "        loss.backward()\n",
    "        optimizer.step()\n",
    "        trl += loss.item()\n",
    "        \n",
    "    model.eval()\n",
    "    vl = 0\n",
    "    with torch.no_grad():\n",
    "        for bat_val in val_dl:\n",
    "            val_data = bat_val.to(\"cuda\")\n",
    "            outputs = model(val_data)\n",
    "            val_loss = criterion(outputs, val_data)\n",
    "            vl += val_loss.item()\n",
    "\n",
    "    # Loss for each epoch\n",
    "    print(f'Epoch [{epoch + 1}/{num_epochs}], Loss: {trl/len(train_dl):.4f}, Val_Loss: {vl/len(val_dl):.4f}')"
   ]
  },
  {
   "cell_type": "code",
   "execution_count": 108,
   "id": "a8a72cc1",
   "metadata": {},
   "outputs": [],
   "source": [
    "i = 100"
   ]
  },
  {
   "cell_type": "code",
   "execution_count": 109,
   "id": "7e12bd08",
   "metadata": {},
   "outputs": [],
   "source": [
    "test_sample = model.decoder(model.encoder(torch.FloatTensor(x_test[i]).to(\"cuda\")))"
   ]
  },
  {
   "cell_type": "code",
   "execution_count": 110,
   "id": "1d266d58",
   "metadata": {},
   "outputs": [],
   "source": [
    "test_sample = test_sample.detach().cpu().numpy()"
   ]
  },
  {
   "cell_type": "code",
   "execution_count": 111,
   "id": "760ca860",
   "metadata": {},
   "outputs": [
    {
     "data": {
      "text/plain": [
       "<matplotlib.image.AxesImage at 0x72f4ac17f640>"
      ]
     },
     "execution_count": 111,
     "metadata": {},
     "output_type": "execute_result"
    },
    {
     "data": {
      "image/png": "[encoded data removed]",
      "text/plain": [
       "<Figure size 640x480 with 1 Axes>"
      ]
     },
     "metadata": {},
     "output_type": "display_data"
    }
   ],
   "source": [
    "plt.imshow(test_sample.reshape(28,28))"
   ]
  },
  {
   "cell_type": "code",
   "execution_count": 112,
   "id": "41d66ae9",
   "metadata": {},
   "outputs": [
    {
     "data": {
      "text/plain": [
       "<matplotlib.image.AxesImage at 0x72f4ac1f9960>"
      ]
     },
     "execution_count": 112,
     "metadata": {},
     "output_type": "execute_result"
    },
    {
     "data": {
      "image/png": "[encoded data removed]",
      "text/plain": [
       "<Figure size 640x480 with 1 Axes>"
      ]
     },
     "metadata": {},
     "output_type": "display_data"
    }
   ],
   "source": [
    "plt.imshow(x_test[i].reshape(28,28))"
   ]
  },
  {
   "cell_type": "code",
   "execution_count": 113,
   "id": "a8dbbcbb",
   "metadata": {},
   "outputs": [
    {
     "data": {
      "text/plain": [
       "<matplotlib.image.AxesImage at 0x72f4a7f4f1f0>"
      ]
     },
     "execution_count": 113,
     "metadata": {},
     "output_type": "execute_result"
    },
    {
     "data": {
      "image/png": "[encoded data removed]",
      "text/plain": [
       "<Figure size 640x480 with 1 Axes>"
      ]
     },
     "metadata": {},
     "output_type": "display_data"
    }
   ],
   "source": [
    "plt.imshow(model.encoder(torch.FloatTensor(x_test[i]).to(\"cuda\")).detach().cpu().numpy().reshape(8,8))"
   ]
  },
  {
   "cell_type": "code",
   "execution_count": null,
   "id": "5cd55e63",
   "metadata": {},
   "outputs": [],
   "source": []
  },
  {
   "cell_type": "markdown",
   "id": "f446a470",
   "metadata": {},
   "source": [
    "## Denoising AutoEncoders"
   ]
  },
  {
   "cell_type": "code",
   "execution_count": 4,
   "id": "8b499caf",
   "metadata": {},
   "outputs": [],
   "source": [
    "# Defining Autoencoder model\n",
    "class Autoencoder(nn.Module):\n",
    "    def __init__(self, input_size, encoding_dim):\n",
    "        super(Autoencoder, self).__init__()\n",
    "        self.encoder = nn.Sequential(\n",
    "               nn.Linear(input_size, 256),\n",
    "               nn.ReLU(),\n",
    "               nn.Linear(256, 128),\n",
    "               nn.ReLU(),\n",
    "               nn.Linear(128, encoding_dim),\n",
    "               nn.ReLU()\n",
    "           )\n",
    "        self.decoder = nn.Sequential(\n",
    "           nn.Linear(encoding_dim, 128),\n",
    "           nn.ReLU(),\n",
    "           nn.Linear(128, input_size),\n",
    "           nn.Sigmoid()\n",
    "       )\n",
    "\n",
    "    def forward(self, x):\n",
    "        x = self.encoder(x)\n",
    "        x = self.decoder(x)\n",
    "        return x"
   ]
  },
  {
   "cell_type": "code",
   "execution_count": 5,
   "id": "da5b1e42",
   "metadata": {},
   "outputs": [],
   "source": [
    "# Setting random seed for reproducibility\n",
    "torch.manual_seed(42)\n",
    "input_size = x_train.shape[1]  # Number of input features\n",
    "encoding_dim = 64  # Desired number of output dimensions\n",
    "model = Autoencoder(input_size, encoding_dim)"
   ]
  },
  {
   "cell_type": "code",
   "execution_count": 7,
   "id": "37598f00",
   "metadata": {},
   "outputs": [],
   "source": [
    "model = model.to(\"cuda\")"
   ]
  },
  {
   "cell_type": "code",
   "execution_count": 8,
   "id": "050f8e9a",
   "metadata": {},
   "outputs": [],
   "source": [
    "criterion = nn.MSELoss()\n",
    "optimizer = torch.optim.Adam(model.parameters(),lr=0.001) #lr = 6e-4 / 25."
   ]
  },
  {
   "cell_type": "code",
   "execution_count": 9,
   "id": "4f8de605",
   "metadata": {},
   "outputs": [],
   "source": [
    "noise_factor = 0.5"
   ]
  },
  {
   "cell_type": "code",
   "execution_count": 179,
   "id": "768362c7",
   "metadata": {},
   "outputs": [
    {
     "name": "stdout",
     "output_type": "stream",
     "text": [
      "Epoch [1/20], Loss: 0.0496, Val_Loss: 0.0335\n",
      "Epoch [2/20], Loss: 0.0299, Val_Loss: 0.0263\n",
      "Epoch [3/20], Loss: 0.0255, Val_Loss: 0.0238\n",
      "Epoch [4/20], Loss: 0.0235, Val_Loss: 0.0219\n",
      "Epoch [5/20], Loss: 0.0218, Val_Loss: 0.0207\n",
      "Epoch [6/20], Loss: 0.0207, Val_Loss: 0.0200\n",
      "Epoch [7/20], Loss: 0.0197, Val_Loss: 0.0189\n",
      "Epoch [8/20], Loss: 0.0190, Val_Loss: 0.0181\n",
      "Epoch [9/20], Loss: 0.0184, Val_Loss: 0.0176\n",
      "Epoch [10/20], Loss: 0.0180, Val_Loss: 0.0175\n",
      "Epoch [11/20], Loss: 0.0176, Val_Loss: 0.0171\n",
      "Epoch [12/20], Loss: 0.0173, Val_Loss: 0.0168\n",
      "Epoch [13/20], Loss: 0.0170, Val_Loss: 0.0165\n",
      "Epoch [14/20], Loss: 0.0168, Val_Loss: 0.0163\n",
      "Epoch [15/20], Loss: 0.0165, Val_Loss: 0.0167\n",
      "Epoch [16/20], Loss: 0.0162, Val_Loss: 0.0159\n",
      "Epoch [17/20], Loss: 0.0160, Val_Loss: 0.0157\n",
      "Epoch [18/20], Loss: 0.0159, Val_Loss: 0.0155\n",
      "Epoch [19/20], Loss: 0.0158, Val_Loss: 0.0154\n",
      "Epoch [20/20], Loss: 0.0156, Val_Loss: 0.0151\n"
     ]
    }
   ],
   "source": [
    "# Training the autoencoder\n",
    "num_epochs = 20\n",
    "for epoch in range(num_epochs):\n",
    "    model.train()\n",
    "    trl = 0\n",
    "    for bat in train_dl:\n",
    "        train_data = bat.to(\"cuda\")\n",
    "        \n",
    "        noisy_imgs = train_data + noise_factor * torch.randn(*train_data.shape).to(\"cuda\")\n",
    "        # Clip the images to be between 0 and 1\n",
    "        noisy_imgs = np.clip(noisy_imgs.cpu(), 0., 1.)\n",
    "        \n",
    "        # Forward pass\n",
    "        outputs = model(noisy_imgs.to(\"cuda\"))\n",
    "        loss = criterion(outputs, train_data)\n",
    "\n",
    "        # Backward pass and optimization\n",
    "        optimizer.zero_grad()\n",
    "        loss.backward()\n",
    "        optimizer.step()\n",
    "        trl += loss.item()\n",
    "        \n",
    "    model.eval()\n",
    "    vl = 0\n",
    "    with torch.no_grad():\n",
    "        for bat_val in val_dl:\n",
    "            val_data = bat_val.to(\"cuda\")\n",
    "            \n",
    "            noisy_imgs = val_data + noise_factor * torch.randn(*val_data.shape).to(\"cuda\")\n",
    "            # Clip the images to be between 0 and 1\n",
    "            noisy_imgs = np.clip(noisy_imgs.cpu(), 0., 1.)\n",
    "            \n",
    "            outputs = model(noisy_imgs.to(\"cuda\"))\n",
    "            val_loss = criterion(outputs, val_data)\n",
    "            vl += val_loss.item()\n",
    "\n",
    "    # Loss for each epoch\n",
    "    print(f'Epoch [{epoch + 1}/{num_epochs}], Loss: {trl/len(train_dl):.4f}, Val_Loss: {vl/len(val_dl):.4f}')"
   ]
  },
  {
   "cell_type": "code",
   "execution_count": 180,
   "id": "a614e371",
   "metadata": {},
   "outputs": [
    {
     "data": {
      "text/plain": [
       "<matplotlib.image.AxesImage at 0x72f4a40b2170>"
      ]
     },
     "execution_count": 180,
     "metadata": {},
     "output_type": "execute_result"
    },
    {
     "data": {
      "image/png": "[encoded data removed]",
      "text/plain": [
       "<Figure size 640x480 with 1 Axes>"
      ]
     },
     "metadata": {},
     "output_type": "display_data"
    }
   ],
   "source": [
    "plt.imshow(noisy_imgs[0].reshape(28,28))"
   ]
  },
  {
   "cell_type": "markdown",
   "id": "2b8853df",
   "metadata": {},
   "source": [
    "### Using Convolution Mechanism"
   ]
  },
  {
   "cell_type": "code",
   "execution_count": 125,
   "id": "ee1e053e",
   "metadata": {},
   "outputs": [],
   "source": [
    "(x_train, _), (x_test, _) = mnist.load_data()"
   ]
  },
  {
   "cell_type": "code",
   "execution_count": 126,
   "id": "40f6ca63",
   "metadata": {},
   "outputs": [],
   "source": [
    "x_train = x_train.astype(\"float32\")/255.0\n",
    "x_test = x_test.astype(\"float32\")/255.0"
   ]
  },
  {
   "cell_type": "code",
   "execution_count": 127,
   "id": "0cd450a0",
   "metadata": {},
   "outputs": [
    {
     "data": {
      "text/plain": [
       "(60000, 28, 28)"
      ]
     },
     "execution_count": 127,
     "metadata": {},
     "output_type": "execute_result"
    }
   ],
   "source": [
    "x_train.shape"
   ]
  },
  {
   "cell_type": "code",
   "execution_count": 128,
   "id": "39362703",
   "metadata": {},
   "outputs": [],
   "source": [
    "x_train = torch.tensor(x_train).unsqueeze(1) # adding an extra dimension at 1st index, as channel dimension\n",
    "x_test = torch.tensor(x_test).unsqueeze(1)"
   ]
  },
  {
   "cell_type": "code",
   "execution_count": 129,
   "id": "ea86cabd",
   "metadata": {},
   "outputs": [],
   "source": [
    "train_dl = torch.utils.data.DataLoader(x_train,batch_size=60,shuffle=True)\n",
    "val_dl = torch.utils.data.DataLoader(x_test,batch_size=60,shuffle=True)"
   ]
  },
  {
   "cell_type": "code",
   "execution_count": 137,
   "id": "ce5c1be7",
   "metadata": {},
   "outputs": [],
   "source": [
    "# Defining Autoencoder model\n",
    "class Autoencoder_conv(nn.Module):\n",
    "    def __init__(self):\n",
    "        super(Autoencoder_conv, self).__init__()\n",
    "        self.encoder = nn.Sequential(\n",
    "               nn.Conv2d(1,32,3,padding=1),\n",
    "               nn.ReLU(),\n",
    "               nn.MaxPool2d(2,2),\n",
    "               nn.Conv2d(32,16,3,padding=1),\n",
    "               nn.ReLU(),\n",
    "               nn.MaxPool2d(2,2),\n",
    "               nn.Conv2d(16,8,3,padding=1),\n",
    "               nn.ReLU(),\n",
    "               nn.MaxPool2d(2,2),\n",
    "            \n",
    "           )\n",
    "        self.decoder = nn.Sequential(\n",
    "           nn.ConvTranspose2d(8,8,3,stride=2),\n",
    "           nn.ReLU(),\n",
    "           nn.ConvTranspose2d(8,16,2,stride=2),\n",
    "           nn.ReLU(),\n",
    "           nn.ConvTranspose2d(16,32,2,stride=2),\n",
    "           nn.ReLU(),\n",
    "           nn.Conv2d(32,1,3,padding=1),\n",
    "           nn.Sigmoid(),\n",
    "       )\n",
    "\n",
    "    def forward(self, x):\n",
    "        x = self.encoder(x)\n",
    "        x = self.decoder(x)\n",
    "        return x"
   ]
  },
  {
   "cell_type": "code",
   "execution_count": null,
   "id": "01a9830b",
   "metadata": {},
   "outputs": [],
   "source": []
  },
  {
   "cell_type": "code",
   "execution_count": 138,
   "id": "0af52483",
   "metadata": {},
   "outputs": [],
   "source": [
    "# Setting random seed for reproducibility\n",
    "torch.manual_seed(30)\n",
    "model = Autoencoder_conv()"
   ]
  },
  {
   "cell_type": "code",
   "execution_count": 139,
   "id": "182be124",
   "metadata": {},
   "outputs": [],
   "source": [
    "model = model.to(\"cuda\")"
   ]
  },
  {
   "cell_type": "code",
   "execution_count": 140,
   "id": "631c6709",
   "metadata": {},
   "outputs": [
    {
     "data": {
      "text/plain": [
       "Autoencoder_conv(\n",
       "  (encoder): Sequential(\n",
       "    (0): Conv2d(1, 64, kernel_size=(3, 3), stride=(1, 1), padding=(1, 1))\n",
       "    (1): ReLU()\n",
       "    (2): MaxPool2d(kernel_size=2, stride=2, padding=0, dilation=1, ceil_mode=False)\n",
       "    (3): Conv2d(64, 32, kernel_size=(3, 3), stride=(1, 1), padding=(1, 1))\n",
       "    (4): ReLU()\n",
       "    (5): MaxPool2d(kernel_size=2, stride=2, padding=0, dilation=1, ceil_mode=False)\n",
       "    (6): Conv2d(32, 16, kernel_size=(3, 3), stride=(1, 1), padding=(1, 1))\n",
       "    (7): ReLU()\n",
       "    (8): MaxPool2d(kernel_size=2, stride=2, padding=0, dilation=1, ceil_mode=False)\n",
       "    (9): Conv2d(16, 8, kernel_size=(3, 3), stride=(1, 1), padding=(1, 1))\n",
       "    (10): ReLU()\n",
       "    (11): MaxPool2d(kernel_size=2, stride=2, padding=0, dilation=1, ceil_mode=False)\n",
       "  )\n",
       "  (decoder): Sequential(\n",
       "    (0): ConvTranspose2d(8, 8, kernel_size=(3, 3), stride=(2, 2))\n",
       "    (1): ReLU()\n",
       "    (2): ConvTranspose2d(8, 16, kernel_size=(2, 2), stride=(2, 2))\n",
       "    (3): ReLU()\n",
       "    (4): ConvTranspose2d(16, 32, kernel_size=(2, 2), stride=(2, 2))\n",
       "    (5): ReLU()\n",
       "    (6): Conv2d(32, 1, kernel_size=(3, 3), stride=(1, 1), padding=(1, 1))\n",
       "    (7): Sigmoid()\n",
       "  )\n",
       ")"
      ]
     },
     "execution_count": 140,
     "metadata": {},
     "output_type": "execute_result"
    }
   ],
   "source": [
    "model"
   ]
  },
  {
   "cell_type": "code",
   "execution_count": 141,
   "id": "d441cfff",
   "metadata": {},
   "outputs": [],
   "source": [
    "num_epochs = 50\n",
    "criterion = nn.BCELoss()\n",
    "optimizer = torch.optim.Adam(model.parameters(),lr=0.0001)\n",
    "sched = torch.optim.lr_scheduler.OneCycleLR(optimizer,max_lr=0.0001,steps_per_epoch=len(train_dl),epochs=num_epochs)"
   ]
  },
  {
   "cell_type": "code",
   "execution_count": 142,
   "id": "7e51c4a4",
   "metadata": {},
   "outputs": [],
   "source": [
    "noise_factor = 0.5"
   ]
  },
  {
   "cell_type": "code",
   "execution_count": 143,
   "id": "adff1b3a",
   "metadata": {},
   "outputs": [
    {
     "ename": "ValueError",
     "evalue": "Using a target size (torch.Size([60, 1, 28, 28])) that is different to the input size (torch.Size([60, 1, 12, 12])) is deprecated. Please ensure they have the same size.",
     "output_type": "error",
     "traceback": [
      "\u001b[0;31m---------------------------------------------------------------------------\u001b[0m",
      "\u001b[0;31mValueError\u001b[0m                                Traceback (most recent call last)",
      "Cell \u001b[0;32mIn[143], line 13\u001b[0m\n\u001b[1;32m     11\u001b[0m \u001b[38;5;66;03m# Forward pass\u001b[39;00m\n\u001b[1;32m     12\u001b[0m outputs \u001b[38;5;241m=\u001b[39m model(noisy_imgs\u001b[38;5;241m.\u001b[39mto(\u001b[38;5;124m\"\u001b[39m\u001b[38;5;124mcuda\u001b[39m\u001b[38;5;124m\"\u001b[39m))\n\u001b[0;32m---> 13\u001b[0m loss \u001b[38;5;241m=\u001b[39m \u001b[43mcriterion\u001b[49m\u001b[43m(\u001b[49m\u001b[43moutputs\u001b[49m\u001b[43m,\u001b[49m\u001b[43m \u001b[49m\u001b[43mtrain_data\u001b[49m\u001b[43m)\u001b[49m\n\u001b[1;32m     15\u001b[0m \u001b[38;5;66;03m# Backward pass and optimization\u001b[39;00m\n\u001b[1;32m     16\u001b[0m loss\u001b[38;5;241m.\u001b[39mbackward()\n",
      "File \u001b[0;32m/opt/conda/lib/python3.10/site-packages/torch/nn/modules/module.py:1501\u001b[0m, in \u001b[0;36mModule._call_impl\u001b[0;34m(self, *args, **kwargs)\u001b[0m\n\u001b[1;32m   1496\u001b[0m \u001b[38;5;66;03m# If we don't have any hooks, we want to skip the rest of the logic in\u001b[39;00m\n\u001b[1;32m   1497\u001b[0m \u001b[38;5;66;03m# this function, and just call forward.\u001b[39;00m\n\u001b[1;32m   1498\u001b[0m \u001b[38;5;28;01mif\u001b[39;00m \u001b[38;5;129;01mnot\u001b[39;00m (\u001b[38;5;28mself\u001b[39m\u001b[38;5;241m.\u001b[39m_backward_hooks \u001b[38;5;129;01mor\u001b[39;00m \u001b[38;5;28mself\u001b[39m\u001b[38;5;241m.\u001b[39m_backward_pre_hooks \u001b[38;5;129;01mor\u001b[39;00m \u001b[38;5;28mself\u001b[39m\u001b[38;5;241m.\u001b[39m_forward_hooks \u001b[38;5;129;01mor\u001b[39;00m \u001b[38;5;28mself\u001b[39m\u001b[38;5;241m.\u001b[39m_forward_pre_hooks\n\u001b[1;32m   1499\u001b[0m         \u001b[38;5;129;01mor\u001b[39;00m _global_backward_pre_hooks \u001b[38;5;129;01mor\u001b[39;00m _global_backward_hooks\n\u001b[1;32m   1500\u001b[0m         \u001b[38;5;129;01mor\u001b[39;00m _global_forward_hooks \u001b[38;5;129;01mor\u001b[39;00m _global_forward_pre_hooks):\n\u001b[0;32m-> 1501\u001b[0m     \u001b[38;5;28;01mreturn\u001b[39;00m \u001b[43mforward_call\u001b[49m\u001b[43m(\u001b[49m\u001b[38;5;241;43m*\u001b[39;49m\u001b[43margs\u001b[49m\u001b[43m,\u001b[49m\u001b[43m \u001b[49m\u001b[38;5;241;43m*\u001b[39;49m\u001b[38;5;241;43m*\u001b[39;49m\u001b[43mkwargs\u001b[49m\u001b[43m)\u001b[49m\n\u001b[1;32m   1502\u001b[0m \u001b[38;5;66;03m# Do not call functions when jit is used\u001b[39;00m\n\u001b[1;32m   1503\u001b[0m full_backward_hooks, non_full_backward_hooks \u001b[38;5;241m=\u001b[39m [], []\n",
      "File \u001b[0;32m/opt/conda/lib/python3.10/site-packages/torch/nn/modules/loss.py:619\u001b[0m, in \u001b[0;36mBCELoss.forward\u001b[0;34m(self, input, target)\u001b[0m\n\u001b[1;32m    618\u001b[0m \u001b[38;5;28;01mdef\u001b[39;00m \u001b[38;5;21mforward\u001b[39m(\u001b[38;5;28mself\u001b[39m, \u001b[38;5;28minput\u001b[39m: Tensor, target: Tensor) \u001b[38;5;241m-\u001b[39m\u001b[38;5;241m>\u001b[39m Tensor:\n\u001b[0;32m--> 619\u001b[0m     \u001b[38;5;28;01mreturn\u001b[39;00m \u001b[43mF\u001b[49m\u001b[38;5;241;43m.\u001b[39;49m\u001b[43mbinary_cross_entropy\u001b[49m\u001b[43m(\u001b[49m\u001b[38;5;28;43minput\u001b[39;49m\u001b[43m,\u001b[49m\u001b[43m \u001b[49m\u001b[43mtarget\u001b[49m\u001b[43m,\u001b[49m\u001b[43m \u001b[49m\u001b[43mweight\u001b[49m\u001b[38;5;241;43m=\u001b[39;49m\u001b[38;5;28;43mself\u001b[39;49m\u001b[38;5;241;43m.\u001b[39;49m\u001b[43mweight\u001b[49m\u001b[43m,\u001b[49m\u001b[43m \u001b[49m\u001b[43mreduction\u001b[49m\u001b[38;5;241;43m=\u001b[39;49m\u001b[38;5;28;43mself\u001b[39;49m\u001b[38;5;241;43m.\u001b[39;49m\u001b[43mreduction\u001b[49m\u001b[43m)\u001b[49m\n",
      "File \u001b[0;32m/opt/conda/lib/python3.10/site-packages/torch/nn/functional.py:3089\u001b[0m, in \u001b[0;36mbinary_cross_entropy\u001b[0;34m(input, target, weight, size_average, reduce, reduction)\u001b[0m\n\u001b[1;32m   3087\u001b[0m     reduction_enum \u001b[38;5;241m=\u001b[39m _Reduction\u001b[38;5;241m.\u001b[39mget_enum(reduction)\n\u001b[1;32m   3088\u001b[0m \u001b[38;5;28;01mif\u001b[39;00m target\u001b[38;5;241m.\u001b[39msize() \u001b[38;5;241m!=\u001b[39m \u001b[38;5;28minput\u001b[39m\u001b[38;5;241m.\u001b[39msize():\n\u001b[0;32m-> 3089\u001b[0m     \u001b[38;5;28;01mraise\u001b[39;00m \u001b[38;5;167;01mValueError\u001b[39;00m(\n\u001b[1;32m   3090\u001b[0m         \u001b[38;5;124m\"\u001b[39m\u001b[38;5;124mUsing a target size (\u001b[39m\u001b[38;5;132;01m{}\u001b[39;00m\u001b[38;5;124m) that is different to the input size (\u001b[39m\u001b[38;5;132;01m{}\u001b[39;00m\u001b[38;5;124m) is deprecated. \u001b[39m\u001b[38;5;124m\"\u001b[39m\n\u001b[1;32m   3091\u001b[0m         \u001b[38;5;124m\"\u001b[39m\u001b[38;5;124mPlease ensure they have the same size.\u001b[39m\u001b[38;5;124m\"\u001b[39m\u001b[38;5;241m.\u001b[39mformat(target\u001b[38;5;241m.\u001b[39msize(), \u001b[38;5;28minput\u001b[39m\u001b[38;5;241m.\u001b[39msize())\n\u001b[1;32m   3092\u001b[0m     )\n\u001b[1;32m   3094\u001b[0m \u001b[38;5;28;01mif\u001b[39;00m weight \u001b[38;5;129;01mis\u001b[39;00m \u001b[38;5;129;01mnot\u001b[39;00m \u001b[38;5;28;01mNone\u001b[39;00m:\n\u001b[1;32m   3095\u001b[0m     new_size \u001b[38;5;241m=\u001b[39m _infer_size(target\u001b[38;5;241m.\u001b[39msize(), weight\u001b[38;5;241m.\u001b[39msize())\n",
      "\u001b[0;31mValueError\u001b[0m: Using a target size (torch.Size([60, 1, 28, 28])) that is different to the input size (torch.Size([60, 1, 12, 12])) is deprecated. Please ensure they have the same size."
     ]
    }
   ],
   "source": [
    "# Training the autoencoder\n",
    "for epoch in range(num_epochs):\n",
    "    model.train()\n",
    "    trl = 0\n",
    "    for bat in train_dl:\n",
    "        train_data = bat.to(\"cuda\")\n",
    "        \n",
    "        noisy_imgs = train_data + noise_factor * torch.randn(*train_data.shape).to(\"cuda\")\n",
    "        # Clip the images to be between 0 and 1\n",
    "        noisy_imgs = np.clip(noisy_imgs.cpu(), 0., 1.)\n",
    "        # Forward pass\n",
    "        outputs = model(noisy_imgs.to(\"cuda\"))\n",
    "        loss = criterion(outputs, train_data)\n",
    "\n",
    "        # Backward pass and optimization\n",
    "        loss.backward()\n",
    "        optimizer.step()\n",
    "        optimizer.zero_grad()\n",
    "        sched.step()\n",
    "        trl += loss.item()\n",
    "        \n",
    "    model.eval()\n",
    "    vl = 0\n",
    "    with torch.no_grad():\n",
    "        for bat_val in val_dl:\n",
    "            val_data = bat_val.to(\"cuda\")\n",
    "            \n",
    "            noisy_imgs = val_data + noise_factor * torch.randn(*val_data.shape).to(\"cuda\")\n",
    "            # Clip the images to be between 0 and 1\n",
    "            noisy_imgs = np.clip(noisy_imgs.cpu(), 0., 1.)\n",
    "            \n",
    "            outputs = model(noisy_imgs.to(\"cuda\"))\n",
    "            val_loss = criterion(outputs, val_data)\n",
    "            vl += val_loss.item()\n",
    "\n",
    "    # Loss for each epoch\n",
    "    print(f'Epoch [{epoch + 1}/{num_epochs}], Loss: {trl/len(train_dl):.4f}, Val_Loss: {vl/len(val_dl):.4f}')"
   ]
  },
  {
   "cell_type": "code",
   "execution_count": 109,
   "id": "08f8e3ac",
   "metadata": {},
   "outputs": [
    {
     "data": {
      "text/plain": [
       "<matplotlib.image.AxesImage at 0x754076ffef20>"
      ]
     },
     "execution_count": 109,
     "metadata": {},
     "output_type": "execute_result"
    },
    {
     "data": {
      "image/png": "[encoded data removed]",
      "text/plain": [
       "<Figure size 640x480 with 1 Axes>"
      ]
     },
     "metadata": {},
     "output_type": "display_data"
    }
   ],
   "source": [
    "plt.imshow(noisy_imgs[23].reshape(28,28))"
   ]
  },
  {
   "cell_type": "code",
   "execution_count": 110,
   "id": "cb95402f",
   "metadata": {},
   "outputs": [],
   "source": [
    "outputs = model(noisy_imgs[23].to(\"cuda\")).detach().cpu()"
   ]
  },
  {
   "cell_type": "code",
   "execution_count": 111,
   "id": "dd6205ec",
   "metadata": {},
   "outputs": [
    {
     "data": {
      "text/plain": [
       "torch.Size([1, 28, 28])"
      ]
     },
     "execution_count": 111,
     "metadata": {},
     "output_type": "execute_result"
    }
   ],
   "source": [
    "outputs.shape"
   ]
  },
  {
   "cell_type": "code",
   "execution_count": 112,
   "id": "ef24740d",
   "metadata": {},
   "outputs": [
    {
     "data": {
      "text/plain": [
       "<matplotlib.image.AxesImage at 0x754076e66080>"
      ]
     },
     "execution_count": 112,
     "metadata": {},
     "output_type": "execute_result"
    },
    {
     "data": {
      "image/png": "[encoded data removed]",
      "text/plain": [
       "<Figure size 640x480 with 1 Axes>"
      ]
     },
     "metadata": {},
     "output_type": "display_data"
    }
   ],
   "source": [
    "plt.imshow(outputs[0])"
   ]
  },
  {
   "cell_type": "markdown",
   "id": "1ffb5735",
   "metadata": {},
   "source": [
    "## Variational AutoEncoders"
   ]
  },
  {
   "cell_type": "markdown",
   "id": "0cbaa041",
   "metadata": {},
   "source": [
    "Great Exaplanation: https://kvfrans.com/variational-autoencoders-explained/"
   ]
  },
  {
   "cell_type": "code",
   "execution_count": null,
   "id": "3565178b",
   "metadata": {},
   "outputs": [],
   "source": []
  },
  {
   "cell_type": "code",
   "execution_count": null,
   "id": "80e0cd3d",
   "metadata": {},
   "outputs": [],
   "source": []
  },
  {
   "cell_type": "code",
   "execution_count": null,
   "id": "3452a870",
   "metadata": {},
   "outputs": [],
   "source": []
  }
 ],
 "metadata": {
  "kernelspec": {
   "display_name": "Python 3 (ipykernel)",
   "language": "python",
   "name": "python3"
  },
  "language_info": {
   "codemirror_mode": {
    "name": "ipython",
    "version": 3
   },
   "file_extension": ".py",
   "mimetype": "text/x-python",
   "name": "python",
   "nbconvert_exporter": "python",
   "pygments_lexer": "ipython3",
   "version": "3.10.11"
  }
 },
 "nbformat": 4,
 "nbformat_minor": 5
}
