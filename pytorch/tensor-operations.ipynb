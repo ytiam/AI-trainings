{
 "cells": [
  {
   "cell_type": "markdown",
   "id": "4d389984",
   "metadata": {},
   "source": [
    "- https://stackoverflow.com/questions/48915810/what-does-contiguous-do-in-pytorch\n",
    "- https://stackoverflow.com/questions/49643225/whats-the-difference-between-reshape-and-view-in-pytorch"
   ]
  },
  {
   "cell_type": "code",
   "execution_count": 1,
   "id": "b25514ca",
   "metadata": {},
   "outputs": [],
   "source": [
    "import torch"
   ]
  },
  {
   "cell_type": "markdown",
   "id": "d50a4372",
   "metadata": {},
   "source": [
    "Torch Official tutorial\n",
    "\n",
    "https://pytorch.org/tutorials/beginner/introyt/tensors_deeper_tutorial.html"
   ]
  },
  {
   "cell_type": "markdown",
   "id": "263a9271",
   "metadata": {},
   "source": [
    "### Example"
   ]
  },
  {
   "cell_type": "code",
   "execution_count": 11,
   "id": "0dffd939",
   "metadata": {},
   "outputs": [],
   "source": [
    "# random tensor create\n",
    "a = torch.randint(2,100,(2,3,2))"
   ]
  },
  {
   "cell_type": "code",
   "execution_count": 12,
   "id": "0531568f",
   "metadata": {},
   "outputs": [
    {
     "data": {
      "text/plain": [
       "tensor([[[61, 82, 43,  ..., 59,  3, 84],\n",
       "         [65, 57, 74,  ..., 61, 88, 64],\n",
       "         [84, 87, 50,  ..., 67, 69, 53],\n",
       "         ...,\n",
       "         [18, 68, 66,  ..., 25,  5, 14],\n",
       "         [72, 80, 21,  ..., 76, 86, 82],\n",
       "         [41, 67, 84,  ..., 93, 99, 74]],\n",
       "\n",
       "        [[ 8,  8, 92,  ..., 73, 18, 90],\n",
       "         [13, 81,  2,  ..., 58, 37, 31],\n",
       "         [ 8, 23, 32,  ..., 25, 87, 75],\n",
       "         ...,\n",
       "         [76, 19, 51,  ..., 26, 56, 30],\n",
       "         [62, 63, 92,  ..., 54, 53, 97],\n",
       "         [50, 66, 19,  ..., 28, 83, 61]],\n",
       "\n",
       "        [[81, 36, 11,  ..., 65, 77, 62],\n",
       "         [13, 48, 16,  ...,  5, 29, 38],\n",
       "         [18, 70, 83,  ..., 67, 60, 97],\n",
       "         ...,\n",
       "         [ 9, 47, 80,  ..., 72, 58, 14],\n",
       "         [31, 19, 77,  ..., 99, 20,  8],\n",
       "         [ 6, 54, 19,  ..., 97, 43, 14]]])"
      ]
     },
     "execution_count": 12,
     "metadata": {},
     "output_type": "execute_result"
    }
   ],
   "source": [
    "a"
   ]
  },
  {
   "cell_type": "code",
   "execution_count": 13,
   "id": "f20f91ba",
   "metadata": {},
   "outputs": [
    {
     "data": {
      "text/plain": [
       "torch.Size([3, 24, 26])"
      ]
     },
     "execution_count": 13,
     "metadata": {},
     "output_type": "execute_result"
    }
   ],
   "source": [
    "a.shape"
   ]
  },
  {
   "cell_type": "code",
   "execution_count": 16,
   "id": "2f0fe36c",
   "metadata": {},
   "outputs": [
    {
     "data": {
      "text/plain": [
       "tensor([[[61, 82, 43],\n",
       "         [12, 77, 25],\n",
       "         [39, 15, 75],\n",
       "         ...,\n",
       "         [45, 49, 29],\n",
       "         [63, 45, 98],\n",
       "         [67, 69, 53]],\n",
       "\n",
       "        [[58, 38, 84],\n",
       "         [75, 86, 34],\n",
       "         [94, 33, 35],\n",
       "         ...,\n",
       "         [26,  6, 30],\n",
       "         [64, 65,  7],\n",
       "         [50, 44, 11]],\n",
       "\n",
       "        [[76, 80, 28],\n",
       "         [29, 93,  3],\n",
       "         [64, 30, 11],\n",
       "         ...,\n",
       "         [39, 28, 80],\n",
       "         [66, 57, 69],\n",
       "         [88, 59,  4]],\n",
       "\n",
       "        ...,\n",
       "\n",
       "        [[ 9, 42, 28],\n",
       "         [92, 25, 96],\n",
       "         [28, 25, 92],\n",
       "         ...,\n",
       "         [38, 55, 38],\n",
       "         [79, 54, 90],\n",
       "         [48, 26, 97]],\n",
       "\n",
       "        [[35, 54, 71],\n",
       "         [51, 32,  2],\n",
       "         [43, 34, 54],\n",
       "         ...,\n",
       "         [94, 64, 51],\n",
       "         [74, 44, 24],\n",
       "         [49, 43, 43]],\n",
       "\n",
       "        [[ 9, 47, 80],\n",
       "         [76,  3, 76],\n",
       "         [20, 41, 83],\n",
       "         ...,\n",
       "         [93, 32, 28],\n",
       "         [24, 75, 42],\n",
       "         [97, 43, 14]]])"
      ]
     },
     "execution_count": 16,
     "metadata": {},
     "output_type": "execute_result"
    }
   ],
   "source": [
    "# view of the tensor in the desired shape\n",
    "a.view((2,2,3))"
   ]
  },
  {
   "cell_type": "code",
   "execution_count": 5,
   "id": "05c7fdf9",
   "metadata": {},
   "outputs": [
    {
     "data": {
      "text/plain": [
       "tensor([[[26, 91],\n",
       "         [26, 98]],\n",
       "\n",
       "        [[77, 60],\n",
       "         [85, 42]],\n",
       "\n",
       "        [[59,  6],\n",
       "         [43, 60]]])"
      ]
     },
     "execution_count": 5,
     "metadata": {},
     "output_type": "execute_result"
    }
   ],
   "source": [
    "a.view((3,2,2))"
   ]
  },
  {
   "cell_type": "code",
   "execution_count": 53,
   "id": "02cee5d5",
   "metadata": {},
   "outputs": [
    {
     "data": {
      "text/plain": [
       "tensor([61, 56, 18, 29, 89, 21, 50, 57, 39, 74, 30, 74])"
      ]
     },
     "execution_count": 53,
     "metadata": {},
     "output_type": "execute_result"
    }
   ],
   "source": [
    "# flatten the tensor in a single dimension\n",
    "a.flatten()"
   ]
  },
  {
   "cell_type": "code",
   "execution_count": 54,
   "id": "f46ce49e",
   "metadata": {},
   "outputs": [
    {
     "data": {
      "text/plain": [
       "([67, 73, 41, 75], [12, 14, 74, 86], [81, 92, 51, 63])"
      ]
     },
     "execution_count": 54,
     "metadata": {},
     "output_type": "execute_result"
    }
   ],
   "source": [
    "# Own understanding -> view is basically: 1) first flatten 2) then distribute the numbers as per the \n",
    "# desired shape from left to right\n",
    "[67,73,41,75], [12,14,74,86], [81, 92, 51, 63]"
   ]
  },
  {
   "cell_type": "code",
   "execution_count": 57,
   "id": "6260481a",
   "metadata": {},
   "outputs": [
    {
     "data": {
      "text/plain": [
       "tensor([[[61, 50],\n",
       "         [18, 39],\n",
       "         [89, 30]],\n",
       "\n",
       "        [[56, 57],\n",
       "         [29, 74],\n",
       "         [21, 74]]])"
      ]
     },
     "execution_count": 57,
     "metadata": {},
     "output_type": "execute_result"
    }
   ],
   "source": [
    "# tensor transpose \n",
    "at = a.T\n",
    "at"
   ]
  },
  {
   "cell_type": "code",
   "execution_count": 58,
   "id": "ac2734da",
   "metadata": {},
   "outputs": [
    {
     "data": {
      "text/plain": [
       "torch.Size([2, 3, 2])"
      ]
     },
     "execution_count": 58,
     "metadata": {},
     "output_type": "execute_result"
    }
   ],
   "source": [
    "at.shape"
   ]
  },
  {
   "cell_type": "code",
   "execution_count": 63,
   "id": "2e28dd73",
   "metadata": {},
   "outputs": [],
   "source": [
    "at = a.view(3,2,2)"
   ]
  },
  {
   "cell_type": "code",
   "execution_count": 64,
   "id": "75e2557b",
   "metadata": {},
   "outputs": [
    {
     "data": {
      "text/plain": [
       "(torch.Size([3, 2, 2]), torch.Size([2, 2, 3]))"
      ]
     },
     "execution_count": 64,
     "metadata": {},
     "output_type": "execute_result"
    }
   ],
   "source": [
    "at.shape, at.T.shape"
   ]
  },
  {
   "cell_type": "markdown",
   "id": "9eb33b5e",
   "metadata": {},
   "source": [
    "- As can be seen above, the tensor transpose basically creates a view of the tensor with shape of the original tensor's shape in reverse order (intuitively)"
   ]
  },
  {
   "cell_type": "markdown",
   "id": "e6d2bb3e",
   "metadata": {},
   "source": [
    "### Another Example"
   ]
  },
  {
   "cell_type": "code",
   "execution_count": 24,
   "id": "6f210e73",
   "metadata": {},
   "outputs": [],
   "source": [
    "b = torch.randint(2,100,(1,3,5,7))"
   ]
  },
  {
   "cell_type": "code",
   "execution_count": 25,
   "id": "763e4b33",
   "metadata": {},
   "outputs": [
    {
     "data": {
      "text/plain": [
       "torch.Size([1, 3, 5, 7])"
      ]
     },
     "execution_count": 25,
     "metadata": {},
     "output_type": "execute_result"
    }
   ],
   "source": [
    "b.shape"
   ]
  },
  {
   "cell_type": "code",
   "execution_count": 26,
   "id": "0bcc8088",
   "metadata": {},
   "outputs": [
    {
     "data": {
      "text/plain": [
       "tensor([[[[27, 15, 73, 72, 52, 82, 13],\n",
       "          [42,  4, 45, 66, 42, 60, 10],\n",
       "          [15, 12, 25, 83, 69, 12, 15],\n",
       "          [88, 99, 87, 43,  8,  6, 29],\n",
       "          [24, 89, 67, 30, 25, 34, 95]]],\n",
       "\n",
       "\n",
       "        [[[88, 35, 49, 78, 43, 68, 44],\n",
       "          [55, 34, 71, 82, 15, 21,  2],\n",
       "          [81, 57, 69, 72, 99, 47, 30],\n",
       "          [34, 65,  3, 39, 28, 31, 39],\n",
       "          [30, 95, 97, 23, 16,  9, 21]]],\n",
       "\n",
       "\n",
       "        [[[ 2, 86, 24, 93, 93, 74, 62],\n",
       "          [96, 81, 98, 52,  3, 15, 49],\n",
       "          [41, 63, 16, 10, 72, 51, 86],\n",
       "          [14, 11, 19, 17, 47, 24, 80],\n",
       "          [63, 92, 30, 62, 52, 16, 92]]]])"
      ]
     },
     "execution_count": 26,
     "metadata": {},
     "output_type": "execute_result"
    }
   ],
   "source": [
    "b.view(3,1,5,7)"
   ]
  },
  {
   "cell_type": "code",
   "execution_count": 27,
   "id": "fb68a812",
   "metadata": {},
   "outputs": [
    {
     "data": {
      "text/plain": [
       "torch.Size([7, 5, 3, 1])"
      ]
     },
     "execution_count": 27,
     "metadata": {},
     "output_type": "execute_result"
    }
   ],
   "source": [
    "b.T.shape"
   ]
  },
  {
   "cell_type": "code",
   "execution_count": null,
   "id": "0e0223fa",
   "metadata": {},
   "outputs": [],
   "source": []
  },
  {
   "cell_type": "code",
   "execution_count": 65,
   "id": "0f48a2f3",
   "metadata": {},
   "outputs": [
    {
     "data": {
      "text/plain": [
       "torch.Size([1, 7, 5, 3])"
      ]
     },
     "execution_count": 65,
     "metadata": {},
     "output_type": "execute_result"
    }
   ],
   "source": [
    "# applying transpose using torch module, this is pair wise, the two dimensions we want to swipe\n",
    "torch.transpose(b, 1,3).shape"
   ]
  },
  {
   "cell_type": "code",
   "execution_count": 29,
   "id": "9efb9f59",
   "metadata": {},
   "outputs": [
    {
     "data": {
      "text/plain": [
       "tensor([[[[27, 15, 73],\n",
       "          [72, 52, 82],\n",
       "          [13, 42,  4],\n",
       "          [45, 66, 42],\n",
       "          [60, 10, 15]],\n",
       "\n",
       "         [[12, 25, 83],\n",
       "          [69, 12, 15],\n",
       "          [88, 99, 87],\n",
       "          [43,  8,  6],\n",
       "          [29, 24, 89]],\n",
       "\n",
       "         [[67, 30, 25],\n",
       "          [34, 95, 88],\n",
       "          [35, 49, 78],\n",
       "          [43, 68, 44],\n",
       "          [55, 34, 71]],\n",
       "\n",
       "         [[82, 15, 21],\n",
       "          [ 2, 81, 57],\n",
       "          [69, 72, 99],\n",
       "          [47, 30, 34],\n",
       "          [65,  3, 39]],\n",
       "\n",
       "         [[28, 31, 39],\n",
       "          [30, 95, 97],\n",
       "          [23, 16,  9],\n",
       "          [21,  2, 86],\n",
       "          [24, 93, 93]],\n",
       "\n",
       "         [[74, 62, 96],\n",
       "          [81, 98, 52],\n",
       "          [ 3, 15, 49],\n",
       "          [41, 63, 16],\n",
       "          [10, 72, 51]],\n",
       "\n",
       "         [[86, 14, 11],\n",
       "          [19, 17, 47],\n",
       "          [24, 80, 63],\n",
       "          [92, 30, 62],\n",
       "          [52, 16, 92]]]])"
      ]
     },
     "execution_count": 29,
     "metadata": {},
     "output_type": "execute_result"
    }
   ],
   "source": [
    "b.view(1,7,5,3)"
   ]
  },
  {
   "cell_type": "code",
   "execution_count": 30,
   "id": "55690d37",
   "metadata": {},
   "outputs": [
    {
     "data": {
      "text/plain": [
       "(105, 35, 7, 1)"
      ]
     },
     "execution_count": 30,
     "metadata": {},
     "output_type": "execute_result"
    }
   ],
   "source": [
    "b.stride()"
   ]
  },
  {
   "cell_type": "markdown",
   "id": "3e2dedce",
   "metadata": {},
   "source": [
    "In PyTorch, **contiguous** refers to the memory layout of a tensor. A tensor is said to be contiguous if its elements are stored in a contiguous block of memory in row-major order (C-style order). This ensures that accessing elements in a sequential manner is efficient.\n",
    "\n",
    "### Key Points:\n",
    "1. **Memory Layout**:\n",
    "   - When you create or modify a tensor (e.g., via slicing, transposing, or reshaping), the resulting tensor may not have its elements stored in a contiguous block in memory.\n",
    "   - Operations like `transpose` or `permute` only change how the data is *viewed* without changing its underlying memory layout.\n",
    "\n",
    "2. **Why it Matters**:\n",
    "   - Many PyTorch operations (like those involving GPUs or certain low-level functions) require tensors to be contiguous.\n",
    "   - If a tensor is not contiguous, PyTorch will internally create a contiguous copy, which can impact performance.\n",
    "\n",
    "3. **Checking Contiguity**:\n",
    "   Use the `.is_contiguous()` method:\n",
    "   ```python\n",
    "   import torch\n",
    "   a = torch.randn(3, 3)\n",
    "   print(a.is_contiguous())  # True\n",
    "   b = a.transpose(0, 1)\n",
    "   print(b.is_contiguous())  # False\n",
    "   ```\n",
    "\n",
    "4. **Making a Tensor Contiguous**:\n",
    "   Use `.contiguous()` to return a contiguous copy of the tensor:\n",
    "   ```python\n",
    "   c = b.contiguous()\n",
    "   print(c.is_contiguous())  # True\n",
    "   ```\n",
    "\n",
    "### Example:\n",
    "```python\n",
    "# Original tensor\n",
    "x = torch.tensor([[1, 2], [3, 4]])\n",
    "print(x.is_contiguous())  # True\n",
    "\n",
    "# Transposed tensor (non-contiguous)\n",
    "y = x.t()\n",
    "print(y.is_contiguous())  # False\n",
    "\n",
    "# Making it contiguous\n",
    "z = y.contiguous()\n",
    "print(z.is_contiguous())  # True\n",
    "```\n",
    "\n",
    "### Summary:\n",
    "Contiguity is important for performance and compatibility with certain operations. If you're unsure whether a tensor is contiguous or not, check using `.is_contiguous()`, and use `.contiguous()` if needed."
   ]
  },
  {
   "cell_type": "code",
   "execution_count": 31,
   "id": "10516d05",
   "metadata": {},
   "outputs": [
    {
     "data": {
      "text/plain": [
       "True"
      ]
     },
     "execution_count": 31,
     "metadata": {},
     "output_type": "execute_result"
    }
   ],
   "source": [
    "b.is_contiguous()"
   ]
  },
  {
   "cell_type": "code",
   "execution_count": 36,
   "id": "543221a2",
   "metadata": {},
   "outputs": [
    {
     "data": {
      "text/plain": [
       "False"
      ]
     },
     "execution_count": 36,
     "metadata": {},
     "output_type": "execute_result"
    }
   ],
   "source": [
    "b.T.is_contiguous()"
   ]
  },
  {
   "cell_type": "code",
   "execution_count": 35,
   "id": "dc934118",
   "metadata": {},
   "outputs": [
    {
     "data": {
      "text/plain": [
       "True"
      ]
     },
     "execution_count": 35,
     "metadata": {},
     "output_type": "execute_result"
    }
   ],
   "source": [
    "b.T.contiguous().is_contiguous()"
   ]
  },
  {
   "cell_type": "code",
   "execution_count": 39,
   "id": "bd693bac",
   "metadata": {},
   "outputs": [
    {
     "data": {
      "text/plain": [
       "torch.Size([1, 3, 5, 7])"
      ]
     },
     "execution_count": 39,
     "metadata": {},
     "output_type": "execute_result"
    }
   ],
   "source": [
    "b.shape"
   ]
  },
  {
   "cell_type": "code",
   "execution_count": 46,
   "id": "838180b4",
   "metadata": {},
   "outputs": [],
   "source": [
    "b_ = b.T"
   ]
  },
  {
   "cell_type": "code",
   "execution_count": 48,
   "id": "c9210356",
   "metadata": {},
   "outputs": [
    {
     "data": {
      "text/plain": [
       "torch.Size([7, 5, 3, 1])"
      ]
     },
     "execution_count": 48,
     "metadata": {},
     "output_type": "execute_result"
    }
   ],
   "source": [
    "b_.shape"
   ]
  },
  {
   "cell_type": "code",
   "execution_count": 50,
   "id": "9bf1adbc",
   "metadata": {},
   "outputs": [
    {
     "data": {
      "text/plain": [
       "torch.Size([7, 5, 3])"
      ]
     },
     "execution_count": 50,
     "metadata": {},
     "output_type": "execute_result"
    }
   ],
   "source": [
    "b_.squeeze().shape"
   ]
  },
  {
   "cell_type": "code",
   "execution_count": null,
   "id": "65d67fe7",
   "metadata": {},
   "outputs": [],
   "source": []
  },
  {
   "cell_type": "code",
   "execution_count": null,
   "id": "de4d67bc",
   "metadata": {},
   "outputs": [],
   "source": []
  },
  {
   "cell_type": "code",
   "execution_count": 17,
   "id": "f1714318",
   "metadata": {},
   "outputs": [],
   "source": [
    "import inspect"
   ]
  },
  {
   "cell_type": "code",
   "execution_count": 23,
   "id": "62aa40a1",
   "metadata": {},
   "outputs": [
    {
     "data": {
      "text/plain": [
       "<module 'torch' from '/opt/conda/lib/python3.10/site-packages/torch/__init__.py'>"
      ]
     },
     "execution_count": 23,
     "metadata": {},
     "output_type": "execute_result"
    }
   ],
   "source": [
    "inspect.getmodule(torch.transpose)"
   ]
  },
  {
   "cell_type": "code",
   "execution_count": 37,
   "id": "b5f814d8",
   "metadata": {},
   "outputs": [],
   "source": [
    "inspect.getmodule(b.is_contiguous)"
   ]
  },
  {
   "cell_type": "code",
   "execution_count": null,
   "id": "456bbd25",
   "metadata": {},
   "outputs": [],
   "source": []
  },
  {
   "cell_type": "markdown",
   "id": "eff76741",
   "metadata": {},
   "source": [
    "#### Creating an uninitialized tensor"
   ]
  },
  {
   "cell_type": "code",
   "execution_count": 4,
   "id": "d2a86f07",
   "metadata": {},
   "outputs": [
    {
     "data": {
      "text/plain": [
       "tensor([6.2950e-12])"
      ]
     },
     "execution_count": 4,
     "metadata": {},
     "output_type": "execute_result"
    }
   ],
   "source": [
    "torch.Tensor(1) #<- a garbage value from memory may be. This is not initialized"
   ]
  },
  {
   "cell_type": "code",
   "execution_count": 6,
   "id": "36bcbcf5",
   "metadata": {},
   "outputs": [
    {
     "data": {
      "text/plain": [
       "tensor([0.])"
      ]
     },
     "execution_count": 6,
     "metadata": {},
     "output_type": "execute_result"
    }
   ],
   "source": [
    "# For initialized random tensor\n",
    "torch.zeros(1)"
   ]
  },
  {
   "cell_type": "code",
   "execution_count": 7,
   "id": "1679f4ae",
   "metadata": {},
   "outputs": [
    {
     "data": {
      "text/plain": [
       "tensor([1.])"
      ]
     },
     "execution_count": 7,
     "metadata": {},
     "output_type": "execute_result"
    }
   ],
   "source": [
    "# or,\n",
    "torch.ones(1)"
   ]
  },
  {
   "cell_type": "code",
   "execution_count": 9,
   "id": "b102d637",
   "metadata": {},
   "outputs": [
    {
     "data": {
      "text/plain": [
       "tensor([0.8554])"
      ]
     },
     "execution_count": 9,
     "metadata": {},
     "output_type": "execute_result"
    }
   ],
   "source": [
    "#or \n",
    "torch.rand(1)"
   ]
  },
  {
   "cell_type": "code",
   "execution_count": null,
   "id": "d6aee7e4",
   "metadata": {},
   "outputs": [],
   "source": []
  },
  {
   "cell_type": "code",
   "execution_count": 4,
   "id": "3d843be8",
   "metadata": {},
   "outputs": [],
   "source": [
    "t = torch.tensor([[1, 2,3], [3, 4,5]])\n",
    "# torch.gather(t, 1, torch.tensor([[0, 0], [1, 0]]))"
   ]
  },
  {
   "cell_type": "code",
   "execution_count": 9,
   "id": "0c3b5c3c",
   "metadata": {},
   "outputs": [
    {
     "data": {
      "text/plain": [
       "tensor([[2, 2],\n",
       "        [4, 3]])"
      ]
     },
     "execution_count": 9,
     "metadata": {},
     "output_type": "execute_result"
    }
   ],
   "source": [
    "t.gather(-1,torch.tensor([[1, 1], [1, 0]]))"
   ]
  },
  {
   "cell_type": "code",
   "execution_count": null,
   "id": "1c09fbed",
   "metadata": {},
   "outputs": [],
   "source": []
  },
  {
   "cell_type": "code",
   "execution_count": null,
   "id": "4e551fb9",
   "metadata": {},
   "outputs": [],
   "source": []
  },
  {
   "cell_type": "code",
   "execution_count": null,
   "id": "3ad04e68",
   "metadata": {},
   "outputs": [],
   "source": []
  },
  {
   "cell_type": "code",
   "execution_count": null,
   "id": "35faea94",
   "metadata": {},
   "outputs": [],
   "source": []
  }
 ],
 "metadata": {
  "kernelspec": {
   "display_name": "Python 3 (ipykernel)",
   "language": "python",
   "name": "python3"
  },
  "language_info": {
   "codemirror_mode": {
    "name": "ipython",
    "version": 3
   },
   "file_extension": ".py",
   "mimetype": "text/x-python",
   "name": "python",
   "nbconvert_exporter": "python",
   "pygments_lexer": "ipython3",
   "version": "3.10.11"
  }
 },
 "nbformat": 4,
 "nbformat_minor": 5
}
