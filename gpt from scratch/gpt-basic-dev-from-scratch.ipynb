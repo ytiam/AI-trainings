{
 "cells": [
  {
   "cell_type": "code",
   "execution_count": 36,
   "id": "94ed7ea6",
   "metadata": {},
   "outputs": [],
   "source": [
    "# Tutorial: https://www.youtube.com/watch?v=kCc8FmEb1nY&list=PLAqhIrjkxbuWI23v9cThsA9GvCAUhRvKZ&index=9"
   ]
  },
  {
   "cell_type": "code",
   "execution_count": 1,
   "id": "319cb022",
   "metadata": {},
   "outputs": [],
   "source": [
    "# We always start with a dataset to train on. Let's download the tiny shakespeare dataset\n",
    "#!wget https://raw.githubusercontent.com/karpathy/char-rnn/master/data/tinyshakespeare/input.txt"
   ]
  },
  {
   "cell_type": "markdown",
   "id": "7f9a78dc",
   "metadata": {},
   "source": [
    "In Transformers, the dot product is called **attention** because it is the mechanism that determines how much importance (or attention) should be given to other elements in a sequence when processing a particular element.\n",
    "\n",
    "### Intuition Behind Attention as Dot Product\n",
    "\n",
    "1. **Similarity Measurement**:  \n",
    "   - The **dot product** between two vectors (queries \\(Q\\) and keys \\(K\\)) measures their similarity or alignment.  \n",
    "   - When processing a word (or token) in a sequence, the model calculates how similar it is to other words in the same sequence. Words with higher similarity scores are deemed more relevant.\n",
    "\n",
    "2. **Context Gathering**:  \n",
    "   - Attention assigns a weight to each word (based on similarity), allowing the model to focus more on relevant words when generating the output.  \n",
    "   - For example, in the sentence \"The cat sat on the mat,\" when the model processes \"sat,\" it might pay more attention to \"cat\" because they are contextually related.\n",
    "\n",
    "3. **Scaling with Softmax**:  \n",
    "   - After computing the dot product, a softmax function normalizes the scores into probabilities. These probabilities represent how much attention should be paid to each word.\n",
    "\n",
    "4. **Dynamic Focus**:  \n",
    "   - Unlike static methods, attention dynamically computes relevance for each token in the context of the current query. This adaptability enables the model to focus on different words depending on the input.\n",
    "\n",
    "### Why Call It \"Attention\"?  \n",
    "The term \"attention\" comes from its purpose:  \n",
    "- Just like humans selectively focus on certain parts of a scene, the attention mechanism allows the model to focus on relevant parts of the input sequence while processing.\n",
    "\n",
    "### Mathematical Breakdown\n",
    "- Given \\(Q\\), \\(K\\), and \\(V\\) matrices (queries, keys, and values):  \n",
    "  $$\n",
    "  \\text{Attention}(Q, K, V) = \\text{softmax}\\left(\\frac{QK^T}{\\sqrt{d_k}}\\right)V\n",
    "  $$  \n",
    "- Here:\n",
    "  - \\(QK^T\\): Dot product determines how similar each query is to each key.\n",
    "  - \\(\\text{softmax}()\\): Converts these scores into a probability distribution.\n",
    "  - \\(V\\): Combines information from all values weighted by attention scores.\n",
    "\n",
    "In essence, attention via the dot product enables the model to allocate focus dynamically and contextually, forming the foundation of the Transformer architecture's power."
   ]
  },
  {
   "cell_type": "markdown",
   "id": "211758d7",
   "metadata": {},
   "source": [
    "**Perplexity** is a metric used in Natural Language Processing (NLP) to evaluate how well a probabilistic model (like a language model) predicts a sequence of words. It quantifies the level of \"uncertainty\" or \"surprise\" the model has when encountering a given dataset.\n",
    "\n",
    "### Definition of Perplexity\n",
    "\n",
    "Perplexity is formally defined as the exponentiated average negative log-likelihood of a sequence. For a sequence of \\(N\\) words \\(w_1, w_2, \\ldots, w_N\\), with a language model assigning probabilities $\\(P(w_1), P(w_2 | w_1), \\ldots, P(w_N | w_1, \\ldots, w_{N-1})\\)$, the perplexity is:\n",
    "\n",
    "$$\n",
    "\\text{Perplexity} = 2^{-\\frac{1}{N} \\sum_{i=1}^{N} \\log_2 P(w_i | w_1, \\ldots, w_{i-1})}\n",
    "$$\n",
    "\n",
    "Alternatively, using natural logarithms:\n",
    "\n",
    "$$\n",
    "\\text{Perplexity} = e^{-\\frac{1}{N} \\sum_{i=1}^{N} \\log P(w_i | w_1, \\ldots, w_{i-1})}\n",
    "$$\n",
    "\n",
    "### Intuition Behind Perplexity\n",
    "\n",
    "1. **Measure of Predictability**:  \n",
    "   - Lower perplexity means the model assigns higher probabilities to the actual words in the sequence, indicating better performance.\n",
    "   - Higher perplexity means the model is less confident or incorrect in its predictions.\n",
    "\n",
    "2. **Interpretation**:  \n",
    "   - Perplexity can be thought of as the \"effective size\" of the set of plausible next words according to the model.\n",
    "   - For example, if the perplexity is 10, the model effectively considers 10 equally likely words at each step.\n",
    "\n",
    "3. **Ideal Case**:  \n",
    "   - A perfect language model (that always assigns a probability of 1 to the correct word) has a perplexity of 1.\n",
    "   - A model with uniformly random predictions over \\(V\\) words in the vocabulary will have a perplexity of \\(V\\).\n",
    "\n",
    "### Practical Usage\n",
    "\n",
    "1. **Evaluation Metric**:\n",
    "   - Perplexity is commonly used to compare language models during training and testing.\n",
    "   - Lower perplexity indicates a better model.\n",
    "\n",
    "2. **Challenges**:\n",
    "   - Perplexity is sensitive to the size of the vocabulary. Models trained on larger vocabularies often have higher perplexity because probabilities are spread out over more words.\n",
    "   - It may not directly correlate with downstream task performance (e.g., translation or summarization).\n",
    "\n",
    "### Example\n",
    "\n",
    "Suppose a language model predicts the next word in a sentence, and for a sequence \\(w_1, w_2, w_3\\), it assigns probabilities:\n",
    "$$\n",
    "P(w_1) = 0.2, \\, P(w_2 | w_1) = 0.5, \\, P(w_3 | w_1, w_2) = 0.25\n",
    "$$\n",
    "Then, the perplexity for this sequence is:\n",
    "\n",
    "$$\n",
    "\\text{Perplexity} = \\sqrt[3]{\\frac{1}{0.2 \\times 0.5 \\times 0.25}} = \\sqrt[3]{40} \\approx 3.42\n",
    "$$\n",
    "This means the model is, on average, as \"confused\" as if there were about 3.42 equally likely choices at each step."
   ]
  },
  {
   "cell_type": "markdown",
   "id": "06873a31",
   "metadata": {},
   "source": [
    "Notes:\n",
    "- Attention is a **communication mechanism**. Can be seen as nodes in a directed graph looking at each other and aggregating information with a weighted sum from all nodes that point to them, with data-dependent weights.\n",
    "- There is no notion of space. Attention simply acts over a set of vectors. This is why we need to positionally encode tokens.\n",
    "- Each example across batch dimension is of course processed completely independently and never \"talk\" to each other\n",
    "- In an \"encoder\" attention block just delete the single line that does masking with `tril`, allowing all tokens to communicate. This block here is called a \"decoder\" attention block because it has triangular masking, and is usually used in autoregressive settings, like language modeling.\n",
    "- \"self-attention\" just means that the keys and values are produced from the same source as queries. In \"cross-attention\", the queries still get produced from x, but the keys and values come from some other, external source (e.g. an encoder module)\n",
    "- \"Scaled\" attention additional divides `wei` by 1/sqrt(head_size). This makes it so when input Q,K are unit variance, wei will be unit variance too and Softmax will stay diffuse and not saturate too much. Illustration below"
   ]
  },
  {
   "cell_type": "markdown",
   "id": "9493db5c",
   "metadata": {},
   "source": [
    "------------------------------------------------------------------------------------"
   ]
  },
  {
   "cell_type": "markdown",
   "id": "e02dd81e",
   "metadata": {},
   "source": [
    "Tuning hyperparameters for transformer models can be complex, but there are some guidelines and strategies to make it more systematic and effective. Here are some tips for each parameter:\n",
    "\n",
    "### 1. **Batch Size**\n",
    "   - Larger batch sizes can speed up training, but they also r1.220673 Mequire more memory, which could be a constraint depending on your hardware (like your RTX 2060 GPU).\n",
    "   - Start with a smaller batch size (e.g., 8 or 16) and increase gradually if your GPU allows.\n",
    "   - Alternatively, gradient accumulation can mimic larger batch sizes without increasing actual memory usage.\n",
    "\n",
    "### 2. **Block Size (Sequence Length)**\n",
    "   - This controls the length of the sequence used as input. Higher values improve the model's capacity to capture long-range dependencies, but at the cost of increased memory usage.\n",
    "   - Experiment with small values (e.g., 32, 64) and increase based on your dataset's average sequence length. For very long sequences, consider breaking them up and applying techniques like masking to capture contextual information.\n",
    "\n",
    "### 3. **Learning Rate**\n",
    "   - Start with a learning rate around \\(1e-4\\) or \\(1e-3\\) and use learning rate schedulers like cosine decay or step decay.\n",
    "   - If training is unstable, reduce the learning rate, as high learning rates can cause exploding gradients in transformer models.\n",
    "   - Use smaller learning rates for fine-tuning pre-trained models.\n",
    "\n",
    "### 4. **Dropout Rate**\n",
    "   - Generally, 0.1 to 0.3 is a good range to start with. For larger datasets, lower dropout (around 0.1) may be suitable, while smaller datasets may need a higher dropout to avoid overfitting.\n",
    "\n",
    "### 5. **Embedding Size (`n_embd`)**\n",
    "   - Start with small values like 64 or 128 if your model size is restricted by hardware. However, `n_embd` should ideally be divisible by `n_head`.\n",
    "   - Increase `n_embd` if you’re observing underfitting (model is unable to learn the complexities of the dataset).\n",
    "   \n",
    "### 6. **Number of Heads (`n_head`)**\n",
    "   - Usually, `n_embd` divided by `n_head` should result in an integer for ease of implementation.\n",
    "   - For a small model, starting with 8 heads should work well. Increasing it may allow the model to capture more complex relationships but will require more memory.\n",
    "\n",
    "### 7. **Number of Layers (`n_layer`)**\n",
    "   - Start with 4–6 layers and increase as needed, depending on your hardware.\n",
    "   - More layers can improve model performance but may lead to overfitting or excessive computational load. You can also experiment with 12 layers if using techniques like regularization or dropout.\n",
    "\n",
    "### 8. **Evaluation Interval and Iterations**\n",
    "   - For `max_iters`, set it high, but use early stopping based on validation loss to prevent unnecessary computation.\n",
    "   - `eval_interval` and `eval_iters` can be adjusted to balance frequency of evaluations with performance overhead. More frequent evaluations provide more insights into learning dynamics but increase runtime.\n",
    "\n",
    "### **Practical Tips for Hyperparameter Tuning**\n",
    "- **Learning Rate Finder**: Gradually increase the learning rate and observe the loss. It can give you an idea of a good learning rate range.\n",
    "- **Grid Search or Random Search**: Start with a coarse grid or a randomized search to find promising values and then perform a finer search around these values.\n",
    "- **Optuna and Hyperopt**: Tools like Optuna can automate hyperparameter tuning by efficiently navigating the search space based on Bayesian optimization.\n",
    "\n",
    "Let me know if you’d like to dive deeper into tuning specific parameters, especially given your GPU constraints!"
   ]
  },
  {
   "cell_type": "markdown",
   "id": "5f177478",
   "metadata": {},
   "source": [
    "Training a transformer model, even with a smaller vocabulary size like 512, can still be slow due to the complexity of self-attention operations and the number of parameters in the model. Here are some tips to speed up training on your setup:\n",
    "\n",
    "1. **Mixed-Precision Training (FP16)**:\n",
    "   - Mixed-precision training allows computations to be done in 16-bit floating-point precision instead of 32-bit, reducing memory usage and speeding up training. NVIDIA’s **Apex library** or **PyTorch’s `torch.cuda.amp`** module can help with this. The RTX 2060 supports FP16, so this could give a performance boost.\n",
    "\n",
    "2. **Reduce Model Depth or Width**:\n",
    "   - If feasible, consider using fewer layers (reduce the depth) or fewer attention heads in the model. This will reduce the number of parameters and speed up training. For example, using a 6-layer transformer instead of a 12-layer one or reducing the number of heads from 12 to 8 could make a noticeable difference.\n",
    "\n",
    "3. **Gradient Accumulation**:\n",
    "   - If batch size is small due to memory limitations, gradient accumulation can simulate a larger batch size by accumulating gradients over multiple forward passes before updating weights. This can help with stability and possibly improve convergence speed.\n",
    "\n",
    "4. **Optimize Data Loading**:\n",
    "   - Ensure your data pipeline is efficient. Use **`DataLoader`** with `num_workers` for parallel data loading if using PyTorch, which can reduce waiting time for each batch.\n",
    "\n",
    "5. **Reduce Sequence Length (if possible)**:\n",
    "   - Training time scales with sequence length due to the self-attention mechanism. If you can shorten your input sequences without losing context, it can speed up each training iteration.\n",
    "\n",
    "6. **Increase Learning Rate or Use Warmup**:\n",
    "   - Using a slightly higher learning rate or a learning rate schedule with warmup can help the model converge faster. Be cautious, as too high of a learning rate can destabilize training.\n",
    "\n",
    "7. **Use a Smaller Batch Size with Gradient Accumulation**:\n",
    "   - If your model’s batch size is limited by memory, setting a smaller batch size and accumulating gradients over multiple steps may help.\n",
    "\n",
    "8. **Profile the Training Loop**:\n",
    "   - Tools like **PyTorch’s profiler** can help identify bottlenecks. For example, you might find that a large portion of time is spent on specific operations or data loading.\n",
    "\n",
    "Let me know if you want more details on any of these techniques!"
   ]
  },
  {
   "cell_type": "markdown",
   "id": "b9c016a7",
   "metadata": {},
   "source": [
    "Reducing the number of attention heads in a multihead attention mechanism doesn’t necessarily decrease the total number of model parameters because of how the parameters are allocated across different parts of the model. Here’s why this happens:\n",
    "\n",
    "1. **Fixed Projection Dimension**:\n",
    "   - In multihead attention, the total dimensionality of the attention projection is typically fixed (e.g., 512 or 768) regardless of the number of heads. For example, if the model's hidden dimension is 512, it will still remain 512 even if you reduce the number of heads. \n",
    "   - Reducing the number of heads doesn’t change the overall dimensionality of the query, key, and value matrices; instead, it just changes how the dimensionality is split across each head.\n",
    "\n",
    "2. **Parameter Distribution Across Attention Layers**:\n",
    "   - The query, key, and value matrices in the multihead attention layer are still projected to the same dimensionality, so the number of parameters in each of these matrices remains unchanged.\n",
    "   - When you reduce the number of heads, the model simply divides the same total projection size into fewer heads, making each head slightly \"wider\" but keeping the total parameter count constant.\n",
    "\n",
    "3. **Feed-Forward Layers Remain Unchanged**:\n",
    "   - In transformer layers, a significant portion of parameters is also in the feed-forward network (FFN) layer after the attention layer. This layer is independent of the number of attention heads and typically has a large number of parameters that remain the same.\n",
    "\n",
    "### How to Actually Reduce Parameters\n",
    "To reduce the number of parameters effectively, you could try the following:\n",
    "\n",
    "- **Reduce the Model’s Hidden Dimension**: Reducing the hidden dimension of the transformer (e.g., from 512 to 384) will decrease the size of both the attention and feed-forward layers, lowering parameter count overall.\n",
    "- **Reduce the Number of Layers**: Reducing the number of transformer layers (depth of the model) will decrease the number of parameters as each layer contains independent parameters.\n",
    "- **Decrease FFN Dimension**: The FFN layer often has a higher dimension than the model's hidden size (e.g., 4x the hidden dimension). Reducing this factor will also reduce the parameter count significantly.\n",
    "\n",
    "Let me know if you’d like more specifics on adjusting these aspects in your model!"
   ]
  },
  {
   "cell_type": "code",
   "execution_count": 1,
   "id": "ae7b0390",
   "metadata": {},
   "outputs": [],
   "source": [
    "import torch\n",
    "import torch.nn as nn\n",
    "from torch.nn import functional as F\n",
    "import sys\n",
    "sys.path.append(\"/home/karapathy_trainings/\")\n",
    "# from tokenizer.minbpe.minbpe import BasicTokenizer\n",
    "import tiktoken\n",
    "import datetime\n",
    "import json\n",
    "import os\n",
    "get_datetime = lambda x: f\"{x.day}_{x.month}_{x.year}_{x.hour}_{x.minute}\""
   ]
  },
  {
   "cell_type": "code",
   "execution_count": 2,
   "id": "376a6dcb",
   "metadata": {},
   "outputs": [],
   "source": [
    "device = 'cuda' if torch.cuda.is_available() else 'cpu'"
   ]
  },
  {
   "cell_type": "code",
   "execution_count": 3,
   "id": "126fe303",
   "metadata": {},
   "outputs": [],
   "source": [
    "# tokenizer_ = BasicTokenizer()\n",
    "# tokenizer_.load(\"/home/karapathy_trainings/tokenizer/minbpe/bpe_encoding.model\")"
   ]
  },
  {
   "cell_type": "code",
   "execution_count": 4,
   "id": "f82d2f32",
   "metadata": {},
   "outputs": [],
   "source": [
    "with open(\"config/hyperparam.json\", \"r\") as file:\n",
    "    hyperparams = json.load(file)\n",
    "    file.close()"
   ]
  },
  {
   "cell_type": "code",
   "execution_count": 5,
   "id": "97071d70",
   "metadata": {},
   "outputs": [],
   "source": [
    "# hyperparameters\n",
    "batch_size = hyperparams.get(\"batch_size\", 8) # how many independent sequences will we process in parallel?\n",
    "block_size = hyperparams.get(\"block_size\", 100) # what is the maximum context length for predictions?\n",
    "max_iters = hyperparams.get(\"max_iters\", 100)\n",
    "eval_interval = hyperparams.get(\"eval_interval\", 500)\n",
    "learning_rate = hyperparams.get(\"learning_rate\", 0.01)\n",
    "eval_iters = hyperparams.get(\"eval_iters\", 200)\n",
    "n_embd = hyperparams.get(\"n_embd\", 768) # should be a number divisible by n_head\n",
    "n_head = hyperparams.get(\"n_head\", 16) \n",
    "n_blocks = hyperparams.get(\"n_blocks\", 8)\n",
    "dropout = hyperparams.get(\"dropout\", 0.1)\n",
    "# ------------"
   ]
  },
  {
   "cell_type": "code",
   "execution_count": 6,
   "id": "e913ff3c",
   "metadata": {},
   "outputs": [
    {
     "data": {
      "text/plain": [
       "('cuda',\n",
       " {'batch_size': 8,\n",
       "  'block_size': 32,\n",
       "  'max_iters': 3000,\n",
       "  'eval_interval': 100,\n",
       "  'learning_rate': 0.0001,\n",
       "  'eval_iters': 200,\n",
       "  'n_embd': 768,\n",
       "  'n_head': 4,\n",
       "  'n_blocks': 6,\n",
       "  'dropout': 0.3})"
      ]
     },
     "execution_count": 6,
     "metadata": {},
     "output_type": "execute_result"
    }
   ],
   "source": [
    "device, hyperparams"
   ]
  },
  {
   "cell_type": "code",
   "execution_count": 7,
   "id": "359f159f",
   "metadata": {},
   "outputs": [],
   "source": [
    "torch.manual_seed(1337)\n",
    "\n",
    "# wget https://raw.githubusercontent.com/karpathy/char-rnn/master/data/tinyshakespeare/input.txt\n",
    "with open('input.txt', 'r', encoding='utf-8') as f:\n",
    "    text = f.read()\n",
    "\n",
    "# here are all the unique characters that occur in this text\n",
    "chars = sorted(list(set(text)))\n",
    "vocab_size = len(chars)\n",
    "# create a mapping from characters to integers\n",
    "stoi = { ch:i for i,ch in enumerate(chars) }\n",
    "itos = { i:ch for i,ch in enumerate(chars) }\n",
    "\n",
    "encode = lambda s: [stoi[c] for c in s] # encoder: take a string, output a list of integers\n",
    "decode = lambda l: ''.join([itos[i] for i in l]) # decoder: take a list of integers, output a string\n",
    "\n",
    "\n",
    "# Train and test splits\n",
    "data = torch.tensor(encode(text), dtype=torch.long)\n",
    "n = int(0.9*len(data)) # first 90% will be train, rest val\n",
    "train_data = data[:n]\n",
    "val_data = data[n:]"
   ]
  },
  {
   "cell_type": "code",
   "execution_count": 8,
   "id": "5ae793ca",
   "metadata": {},
   "outputs": [],
   "source": [
    "ix = torch.randint(len(data) - block_size, (batch_size,))"
   ]
  },
  {
   "cell_type": "code",
   "execution_count": 9,
   "id": "915eed71",
   "metadata": {},
   "outputs": [
    {
     "data": {
      "text/plain": [
       "torch.Size([8])"
      ]
     },
     "execution_count": 9,
     "metadata": {},
     "output_type": "execute_result"
    }
   ],
   "source": [
    "ix.shape"
   ]
  },
  {
   "cell_type": "code",
   "execution_count": 10,
   "id": "8fdc6786",
   "metadata": {},
   "outputs": [
    {
     "data": {
      "text/plain": [
       "1115395"
      ]
     },
     "execution_count": 10,
     "metadata": {},
     "output_type": "execute_result"
    }
   ],
   "source": [
    "len(text)"
   ]
  },
  {
   "cell_type": "code",
   "execution_count": 11,
   "id": "af858c97",
   "metadata": {},
   "outputs": [],
   "source": [
    "# torch.manual_seed(1337)\n",
    "\n",
    "# # wget https://raw.githubusercontent.com/karpathy/char-rnn/master/data/tinyshakespeare/input.txt\n",
    "# with open('input.txt', 'r', encoding='utf-8') as f:\n",
    "#     text = f.read()\n",
    "\n",
    "# # here are all the unique characters that occur in this text\n",
    "# vocab = tokenizer_.vocab\n",
    "# vocab_size = len(vocab)\n",
    "                 \n",
    "# # Train and test splits\n",
    "# #data = torch.tensor(encode(text), dtype=torch.long)\n",
    "\n",
    "# data = torch.tensor(tokenizer_.encode(text), dtype=torch.long)\n",
    "# n = int(0.9*len(data)) # first 90% will be train, rest val\n",
    "# train_data = data[:n]\n",
    "# val_data = data[n:]"
   ]
  },
  {
   "cell_type": "code",
   "execution_count": 12,
   "id": "4bf0f069",
   "metadata": {},
   "outputs": [
    {
     "data": {
      "text/plain": [
       "65"
      ]
     },
     "execution_count": 12,
     "metadata": {},
     "output_type": "execute_result"
    }
   ],
   "source": [
    "vocab_size"
   ]
  },
  {
   "cell_type": "code",
   "execution_count": 13,
   "id": "b43c9d85",
   "metadata": {},
   "outputs": [],
   "source": [
    "def save_model_details(path, hyperparams, model, loss_step_details):\n",
    "    s = get_datetime(datetime.datetime.now())\n",
    "    path_ = os.path.join(path,s)\n",
    "    if not os.path.exists(path_):\n",
    "        os.makedirs(path_)\n",
    "    root = path_\n",
    "    try:\n",
    "        with open(f\"{path_}/hyperparams.json\",\"w\") as f:\n",
    "            json.dump(hyperparams, f)\n",
    "            f.close()\n",
    "    except:\n",
    "        pass\n",
    "        \n",
    "    try:\n",
    "        with open(f\"{path_}/loss.json\",\"w\") as f:\n",
    "            json.dump(loss_step_details, f)\n",
    "            f.close()\n",
    "    except:\n",
    "        pass\n",
    "        \n",
    "    torch.save(model, f\"{path_}/minigpt.model\")"
   ]
  },
  {
   "cell_type": "code",
   "execution_count": 14,
   "id": "0aa80be3",
   "metadata": {},
   "outputs": [],
   "source": [
    "# data loading\n",
    "def get_batch(split):\n",
    "    # generate a small batch of data of inputs x and targets y\n",
    "    data = train_data if split == 'train' else val_data\n",
    "    ix = torch.randint(len(data) - block_size, (batch_size,))\n",
    "    x = torch.stack([data[i:i+block_size] for i in ix])\n",
    "    y = torch.stack([data[i+1:i+block_size+1] for i in ix])\n",
    "    x, y = x.to(device), y.to(device)\n",
    "    return x, y\n",
    "\n",
    "@torch.no_grad()\n",
    "def estimate_loss():\n",
    "    out = {}\n",
    "    model.eval()\n",
    "    for split in ['train', 'val']:\n",
    "        losses = torch.zeros(eval_iters)\n",
    "        for k in range(eval_iters):\n",
    "            X, Y = get_batch(split)\n",
    "            logits, loss = model(X, Y)\n",
    "            losses[k] = loss.item()\n",
    "        out[split] = losses.mean()\n",
    "    model.train()\n",
    "    return out"
   ]
  },
  {
   "cell_type": "code",
   "execution_count": 15,
   "id": "b68e2abb",
   "metadata": {},
   "outputs": [],
   "source": [
    "class Head(nn.Module):\n",
    "    \"\"\" one head of self-attention \"\"\"\n",
    "\n",
    "    def __init__(self, head_size):\n",
    "        super().__init__()\n",
    "        self.key = nn.Linear(n_embd, head_size, bias=False)\n",
    "        self.query = nn.Linear(n_embd, head_size, bias=False)\n",
    "        self.value = nn.Linear(n_embd, head_size, bias=False)\n",
    "        self.register_buffer('tril', torch.tril(torch.ones(block_size, block_size)))\n",
    "\n",
    "        self.dropout = nn.Dropout(dropout)\n",
    "\n",
    "    def forward(self, x):\n",
    "        B,T,C = x.shape\n",
    "        k = self.key(x)   # (B,T,C)\n",
    "        q = self.query(x) # (B,T,C)\n",
    "        # compute attention scores (\"affinities\")\n",
    "        wei = q @ k.transpose(-2,-1) * C**-0.5 # (B, T, C) @ (B, C, T) -> (B, T, T)\n",
    "        wei = wei.masked_fill(self.tril[:T, :T] == 0, float('-inf')) # (B, T, T)\n",
    "        wei = F.softmax(wei, dim=-1) # (B, T, T)\n",
    "        wei = self.dropout(wei)\n",
    "        # perform the weighted aggregation of the values\n",
    "        v = self.value(x) # (B,T,C)\n",
    "        out = wei @ v # (B, T, T) @ (B, T, C) -> (B, T, C)\n",
    "        return out\n",
    "\n",
    "class MultiHeadAttention(nn.Module):\n",
    "    \"\"\" multiple heads of self-attention in parallel \"\"\"\n",
    "\n",
    "    def __init__(self, num_heads, head_size):\n",
    "        super().__init__()\n",
    "        self.heads = nn.ModuleList([Head(head_size) for _ in range(num_heads)])\n",
    "        self.proj = nn.Linear(n_embd, n_embd)\n",
    "        self.dropout = nn.Dropout(dropout)\n",
    "\n",
    "    def forward(self, x):\n",
    "        out = torch.cat([h(x) for h in self.heads], dim=-1)\n",
    "        out = self.dropout(self.proj(out))\n",
    "        return out\n",
    "\n",
    "class FeedFoward(nn.Module):\n",
    "    \"\"\" a simple linear layer followed by a non-linearity \"\"\"\n",
    "\n",
    "    def __init__(self, n_embd):\n",
    "        super().__init__()\n",
    "        self.net = nn.Sequential(\n",
    "            nn.Linear(n_embd, 4 * n_embd),\n",
    "            nn.ReLU(),\n",
    "#             nn.Linear(4*n_embd, 8 * n_embd),\n",
    "#             nn.ReLU(),\n",
    "#             nn.Dropout(dropout),\n",
    "#             nn.Linear(8*n_embd, 4 * n_embd),\n",
    "#             nn.ReLU(),\n",
    "            nn.Linear(4 * n_embd, n_embd),\n",
    "            nn.Dropout(dropout),\n",
    "        )\n",
    "\n",
    "    def forward(self, x):\n",
    "        return self.net(x)\n",
    "\n",
    "class Block(nn.Module):\n",
    "    \"\"\" Transformer block: communication followed by computation \"\"\"\n",
    "\n",
    "    def __init__(self, n_embd, n_head):\n",
    "        # n_embd: embedding dimension, n_head: the number of heads we'd like\n",
    "        super().__init__()\n",
    "        head_size = n_embd // n_head\n",
    "        self.sa = MultiHeadAttention(n_head, head_size)\n",
    "        self.ffwd = FeedFoward(n_embd)\n",
    "        self.ln1 = nn.LayerNorm(n_embd)\n",
    "        self.ln2 = nn.LayerNorm(n_embd)\n",
    "\n",
    "    def forward(self, x):\n",
    "        x = x + self.sa(self.ln1(x)) # residual connection\n",
    "        x = x + self.ffwd(self.ln2(x)) # residual connection\n",
    "        return x"
   ]
  },
  {
   "cell_type": "code",
   "execution_count": 16,
   "id": "9b5251a4",
   "metadata": {},
   "outputs": [],
   "source": [
    "# super simple bigram model\n",
    "class BigramLanguageModel(nn.Module):\n",
    "\n",
    "    def __init__(self):\n",
    "        super().__init__()\n",
    "        #--------------------------------------------------#\n",
    "        # each token directly reads off the logits for the next token from a lookup table\n",
    "        self.token_embedding_table = nn.Embedding(vocab_size, n_embd) #** Learnable Token Embedding\n",
    "        self.position_embedding_table = nn.Embedding(block_size, n_embd) #** Learnable Positional Encoding\n",
    "        #--------------------------------------------------#\n",
    "        \n",
    "        #-------------- Enters the transformer block ------#\n",
    "        #self.sa_head = MultiHeadAttention(n_head, n_embd//4) #Head(n_embd)\n",
    "        #self.ff = FeedFoward(n_embd)\n",
    "        self.blocks = nn.Sequential(*[Block(n_embd, n_head=n_head) for _ in range(n_blocks)])\n",
    "        self.ln_f = nn.LayerNorm(n_embd) # final layer norm\n",
    "        self.lm_head = nn.Linear(n_embd, vocab_size)\n",
    "        #--------------------------------------------------#\n",
    "\n",
    "    def forward(self, idx, targets=None):\n",
    "        B, T = idx.shape\n",
    "\n",
    "        # idx and targets are both (B,T) tensor of integers\n",
    "        tok_emb = self.token_embedding_table(idx) # (B,T,C)\n",
    "        pos_emb = self.position_embedding_table(torch.arange(T, device=device)) # (T,C)\n",
    "        x = tok_emb + pos_emb # (B,T,C)\n",
    "        #x = self.sa_head(x)\n",
    "        #x = self.ff(x)\n",
    "        x = self.blocks(x) # (B,T,C)\n",
    "        x = self.ln_f(x) # (B,T,C)\n",
    "        logits = self.lm_head(x) # (B,T,vocab_size)\n",
    "        \n",
    "        #### No Softmax needed as cross_entropy function in pytorch internally applies\n",
    "        #### the softmax before loss calculation\n",
    "        \n",
    "        if targets is None:\n",
    "            loss = None\n",
    "        else:\n",
    "            B, T, C = logits.shape\n",
    "            logits = logits.view(B*T, C)\n",
    "            targets = targets.view(B*T)\n",
    "            loss = F.cross_entropy(logits, targets)\n",
    "\n",
    "        return logits, loss\n",
    "\n",
    "    def generate(self, idx, max_new_tokens):\n",
    "        # idx is (B, T) array of indices in the current context\n",
    "        for _ in range(max_new_tokens):\n",
    "            # crop idx to the last block_size tokens\n",
    "            idx_cond = idx[:, -block_size:]\n",
    "            print(\"****\",idx_cond.shape)\n",
    "            # get the predictions\n",
    "            logits, loss = self(idx_cond)\n",
    "            # focus only on the last time step\n",
    "            logits = logits[:, -1, :] # becomes (B, C)\n",
    "            # apply softmax to get probabilities\n",
    "            probs = F.softmax(logits, dim=-1) # (B, C)\n",
    "            # sample from the distribution\n",
    "            idx_next = torch.multinomial(probs, num_samples=1) # (B, 1)\n",
    "            # append sampled index to the running sequence\n",
    "            idx = torch.cat((idx, idx_next), dim=1) # (B, T+1)\n",
    "            #print(idx)\n",
    "        return idx"
   ]
  },
  {
   "cell_type": "code",
   "execution_count": 17,
   "id": "d1f2a9c7",
   "metadata": {},
   "outputs": [
    {
     "name": "stdout",
     "output_type": "stream",
     "text": [
      "42.639425 M parameters\n"
     ]
    }
   ],
   "source": [
    "model = BigramLanguageModel()\n",
    "m = model.to(device)\n",
    "# print the number of parameters in the model\n",
    "print(sum(p.numel() for p in m.parameters())/1e6, 'M parameters')\n",
    "\n",
    "# create a PyTorch optimizer\n",
    "optimizer = torch.optim.AdamW(model.parameters(), lr=learning_rate)"
   ]
  },
  {
   "cell_type": "code",
   "execution_count": 18,
   "id": "07382ce9",
   "metadata": {},
   "outputs": [],
   "source": [
    "loss_curve = {}\n",
    "max_iters = 0"
   ]
  },
  {
   "cell_type": "code",
   "execution_count": 19,
   "id": "b74e2214",
   "metadata": {},
   "outputs": [
    {
     "name": "stdout",
     "output_type": "stream",
     "text": [
      "step 0: train loss 4.3607, val loss 4.3572\n",
      "step 100: train loss 2.5728, val loss 2.5842\n",
      "step 200: train loss 2.4751, val loss 2.4885\n",
      "step 300: train loss 2.3574, val loss 2.3642\n"
     ]
    },
    {
     "ename": "KeyboardInterrupt",
     "evalue": "",
     "output_type": "error",
     "traceback": [
      "\u001b[0;31m---------------------------------------------------------------------------\u001b[0m",
      "\u001b[0;31mKeyboardInterrupt\u001b[0m                         Traceback (most recent call last)",
      "Cell \u001b[0;32mIn[19], line 13\u001b[0m\n\u001b[1;32m     10\u001b[0m     \u001b[38;5;28mprint\u001b[39m(\u001b[38;5;124mf\u001b[39m\u001b[38;5;124m\"\u001b[39m\u001b[38;5;124mstep \u001b[39m\u001b[38;5;132;01m{\u001b[39;00m\u001b[38;5;28miter\u001b[39m\u001b[38;5;132;01m}\u001b[39;00m\u001b[38;5;124m: train loss \u001b[39m\u001b[38;5;132;01m{\u001b[39;00mlosses[\u001b[38;5;124m'\u001b[39m\u001b[38;5;124mtrain\u001b[39m\u001b[38;5;124m'\u001b[39m]\u001b[38;5;132;01m:\u001b[39;00m\u001b[38;5;124m.4f\u001b[39m\u001b[38;5;132;01m}\u001b[39;00m\u001b[38;5;124m, val loss \u001b[39m\u001b[38;5;132;01m{\u001b[39;00mlosses[\u001b[38;5;124m'\u001b[39m\u001b[38;5;124mval\u001b[39m\u001b[38;5;124m'\u001b[39m]\u001b[38;5;132;01m:\u001b[39;00m\u001b[38;5;124m.4f\u001b[39m\u001b[38;5;132;01m}\u001b[39;00m\u001b[38;5;124m\"\u001b[39m)\n\u001b[1;32m     12\u001b[0m \u001b[38;5;66;03m# sample a batch of data\u001b[39;00m\n\u001b[0;32m---> 13\u001b[0m xb, yb \u001b[38;5;241m=\u001b[39m \u001b[43mget_batch\u001b[49m\u001b[43m(\u001b[49m\u001b[38;5;124;43m'\u001b[39;49m\u001b[38;5;124;43mtrain\u001b[39;49m\u001b[38;5;124;43m'\u001b[39;49m\u001b[43m)\u001b[49m\n\u001b[1;32m     15\u001b[0m \u001b[38;5;66;03m# evaluate the loss\u001b[39;00m\n\u001b[1;32m     16\u001b[0m logits, loss \u001b[38;5;241m=\u001b[39m m(xb, yb)\n",
      "Cell \u001b[0;32mIn[14], line 8\u001b[0m, in \u001b[0;36mget_batch\u001b[0;34m(split)\u001b[0m\n\u001b[1;32m      6\u001b[0m x \u001b[38;5;241m=\u001b[39m torch\u001b[38;5;241m.\u001b[39mstack([data[i:i\u001b[38;5;241m+\u001b[39mblock_size] \u001b[38;5;28;01mfor\u001b[39;00m i \u001b[38;5;129;01min\u001b[39;00m ix])\n\u001b[1;32m      7\u001b[0m y \u001b[38;5;241m=\u001b[39m torch\u001b[38;5;241m.\u001b[39mstack([data[i\u001b[38;5;241m+\u001b[39m\u001b[38;5;241m1\u001b[39m:i\u001b[38;5;241m+\u001b[39mblock_size\u001b[38;5;241m+\u001b[39m\u001b[38;5;241m1\u001b[39m] \u001b[38;5;28;01mfor\u001b[39;00m i \u001b[38;5;129;01min\u001b[39;00m ix])\n\u001b[0;32m----> 8\u001b[0m x, y \u001b[38;5;241m=\u001b[39m \u001b[43mx\u001b[49m\u001b[38;5;241;43m.\u001b[39;49m\u001b[43mto\u001b[49m\u001b[43m(\u001b[49m\u001b[43mdevice\u001b[49m\u001b[43m)\u001b[49m, y\u001b[38;5;241m.\u001b[39mto(device)\n\u001b[1;32m      9\u001b[0m \u001b[38;5;28;01mreturn\u001b[39;00m x, y\n",
      "\u001b[0;31mKeyboardInterrupt\u001b[0m: "
     ]
    }
   ],
   "source": [
    "for iter in range(max_iters, max_iters+1000):\n",
    "    iter_loss_temp = {}\n",
    "    # every once in a while evaluate the loss on train and val sets\n",
    "    if iter % eval_interval == 0 or iter == max_iters - 1:\n",
    "        losses = estimate_loss()\n",
    "\n",
    "        iter_loss_temp['train'] = float(f\"{losses['train'].item():.4f}\")\n",
    "        iter_loss_temp['val'] = float(f\"{losses['val'].item():.4f}\")\n",
    "        loss_curve[iter] = iter_loss_temp \n",
    "        print(f\"step {iter}: train loss {losses['train']:.4f}, val loss {losses['val']:.4f}\")\n",
    "\n",
    "    # sample a batch of data\n",
    "    xb, yb = get_batch('train')\n",
    "\n",
    "    # evaluate the loss\n",
    "    logits, loss = m(xb, yb)\n",
    "    optimizer.zero_grad(set_to_none=True)\n",
    "    loss.backward()\n",
    "    optimizer.step()\n",
    "max_iters += 1000"
   ]
  },
  {
   "cell_type": "code",
   "execution_count": 19,
   "id": "ff732ffb",
   "metadata": {},
   "outputs": [],
   "source": [
    "# loss_curve_ = {}\n",
    "\n",
    "# for k, v in loss_curve.items():\n",
    "#     temp = {}\n",
    "#     for k1, v1 in v.items():\n",
    "#         temp[k1] = float(f\"{v1.item():.4f}\")\n",
    "#         loss_curve_[k] = temp"
   ]
  },
  {
   "cell_type": "code",
   "execution_count": 21,
   "id": "ae374358",
   "metadata": {},
   "outputs": [],
   "source": [
    "save_model_details(\"saved_model_checkpoints\",hyperparams,m,loss_curve)"
   ]
  },
  {
   "cell_type": "code",
   "execution_count": 20,
   "id": "5d6d5365",
   "metadata": {},
   "outputs": [
    {
     "name": "stdout",
     "output_type": "stream",
     "text": [
      "\n",
      "Loond spet in fim Vimp me-time the, teat frewn, weet sooow no login to so seseeseers'd dand sham,\n",
      "To. Mask e be we wime thalle a they woued,\n",
      "Wer go blarth and any with the le eent wuty ndow romenepals faess dious ser;\n",
      "Tre, ner on sorme in a Ist band magre,\n",
      "And com se the up to spenconce thumpe,\n",
      "Tive on sain op, congsIed cien, framese, agat, mabulave!\n",
      "Wiph, yoand faille, sabbeinl sind;\n",
      "Bept, thin reat youg fith?\n",
      "\n",
      "PUMESBES:\n",
      "Iblome ke de id asee nelce int her thowe will spes: theee swith mark swer unet the on at Wershe ,in:\n",
      "Awith they le noul meare to an cinsts deare thay?\n",
      "The sawhing thie whoy tragote stons; me,\n",
      "Theme consence on groive ist\n",
      "A stiree kne Go dest pe the passey.\n",
      "\n",
      "GLARD:\n",
      "Lin: mer him your yere beavere ansed and thise sper nearsbe neaft sperey oir the too gooow sen, en\n",
      "un weat thire Wour rou thate perty\n",
      "Re peapesee hid reade hean thatish,\n",
      "Any smaid decr thire! with thatt wowe and tham haithy.\n",
      "\n",
      "BULEY HARY EO:\n",
      "Ore, seno sirt to nieg and graves,\n",
      "Roo, note to my ly beay thom on nene\n",
      "blin boe fientire hesver, withy Ture.\n",
      "\n",
      "MPERHARK:\n",
      "Whaplol oftr hit ong thenes\n",
      "Ae dearto me int onge we nen with goone nou dio tiend shile riem cong?\n",
      "\n",
      "FROLIO:\n",
      "Prount foan iThere tlia as whe well same dres, of the ist trom.\n",
      "\n",
      "Qnty ke witonn, wall. Iy breand hind Fith.\n",
      "\n",
      "CAPTiteart, the sennd beert cane anfer buonte sies.\n",
      "\n",
      "Aeld Eakee fuock.\n",
      "\n",
      "HALUSE tCY:\n",
      "Yith crom me be.\n",
      "\n",
      "KLO:\n",
      "But Prom the yet preenmy the at spe treave. Ee gon nabely.\n",
      "\n",
      "Ding:\n",
      "Ar we by fith ste incen s made in to.\n",
      "\n",
      "SIO: fath and in un ferepen, ke nay ingedey\n",
      "Hel will thit; youbour bat. Whien?\n",
      "\n",
      "WCUSIHAgYou, OF shist hiond of ishbus toet yers,\n",
      "Creem fochseew ip cant bat leawer;\n",
      "Laty Kepustadre:\n",
      "O he aur posp, wene'll tai seare.\n",
      "\n",
      "Te,\n",
      "The lye nave you deraught poot oe be faing. Withome fatill wettruen:\n",
      "Iu dor we bete loncud right ball,\n",
      "Clone yoom prest oune, lowesvant,\n",
      "On cowk on neermese be sit not preain,\n",
      "And ise teare a mand woreroon o's.\n",
      "\n",
      "GLOd and ennProce;\n",
      "BEN\n",
      "BARK:\n",
      "Whees jande wint righode tu'try forene the nees the prees\n"
     ]
    }
   ],
   "source": [
    "# generate from the model\n",
    "torch.manual_seed(10)\n",
    "context = torch.zeros((1, 1), dtype=torch.long\n",
    "                      , device=device)\n",
    "print(decode(m.generate(context, max_new_tokens=2000)[0].tolist()))"
   ]
  },
  {
   "cell_type": "code",
   "execution_count": null,
   "id": "b7745e7d",
   "metadata": {},
   "outputs": [],
   "source": []
  },
  {
   "cell_type": "markdown",
   "id": "bede99f3",
   "metadata": {},
   "source": [
    "### Inference by Loading Saved Model"
   ]
  },
  {
   "cell_type": "code",
   "execution_count": 23,
   "id": "96ee7bd7",
   "metadata": {},
   "outputs": [],
   "source": [
    "m_ = torch.load(\"saved_model_checkpoints/3_11_2024_18_24/minigpt.model\")"
   ]
  },
  {
   "cell_type": "code",
   "execution_count": 24,
   "id": "0f3e8792",
   "metadata": {},
   "outputs": [],
   "source": [
    "with open(\"saved_model_checkpoints/3_11_2024_14_25/hyperparams.json\", \"r\") as file:\n",
    "    hyperparams = json.load(file)\n",
    "    file.close()"
   ]
  },
  {
   "cell_type": "code",
   "execution_count": 25,
   "id": "badb2c35",
   "metadata": {},
   "outputs": [],
   "source": [
    "# hyperparameters\n",
    "batch_size = hyperparams.get(\"batch_size\", 8) # how many independent sequences will we process in parallel?\n",
    "block_size = hyperparams.get(\"block_size\", 100) # what is the maximum context length for predictions?\n",
    "max_iters = hyperparams.get(\"max_iters\", 100)\n",
    "eval_interval = hyperparams.get(\"eval_interval\", 500)\n",
    "learning_rate = hyperparams.get(\"learning_rate\", 0.01)\n",
    "eval_iters = hyperparams.get(\"eval_iters\", 200)\n",
    "n_embd = hyperparams.get(\"n_embd\", 768) # should be a number divisible by n_head\n",
    "n_head = hyperparams.get(\"n_head\", 16) \n",
    "n_blocks = hyperparams.get(\"n_blocks\", 8)\n",
    "dropout = hyperparams.get(\"dropout\", 0.1)\n",
    "# ------------"
   ]
  },
  {
   "cell_type": "code",
   "execution_count": 27,
   "id": "f28b808e",
   "metadata": {
    "scrolled": true
   },
   "outputs": [
    {
     "name": "stdout",
     "output_type": "stream",
     "text": [
      "\n",
      "stry in't.\n",
      "\n",
      "JUCIO:\n",
      "Madamuch grow's tieens, a the well is with aidurest\n",
      "Shand what, much stell ger proud,\n",
      "And this, wither but I was\n",
      "That proor mann's dightio, as you ungelyout a son,\n",
      "What staaist suchorful.\n",
      "Onr Glo? A dielows thou bannot lord of an woman your wrich meliever;\n",
      "Ay, bef lie,s, merrants, but wherest of our you I but do word'd\n",
      "Date did Suntruceds. Some it, are I preace\n",
      "With coue a nature I, have king, newers on,\n",
      "Somar.' O in she that word, as may have stand if is succh.\n",
      "\n",
      "DORD Servose, Landshort of GuOUCESTER:\n",
      "Thoughost of your a mon:\n",
      "Here the wrant by everings from onithet, while\n",
      "entl my not than lad? I thangur'd I know though word fher leart's that I his garainst Tutsendy.\n",
      "\n",
      "Numpherter:\n",
      "Unge betcy\n",
      "Will, my you landed well in Here's save\n",
      "Tyser brokest.\n",
      "Come mucio, arroth thand dabe his kess word's nor tead\n",
      "So of thousandest to devinguur trestemas,\n",
      "That's by man not Morbasted?\n",
      "\n",
      "TLEORENTESS OF YORK:\n",
      "Withat, doway.\n",
      "With stard,---\n",
      "And your ventainser,\n",
      "And them'd you seture, subjes of of caer.\n",
      "And up Englite and shall himrainss;\n",
      "Who, casess as more clet with's nighinkst, fair you warger's these,\n",
      "yinke stanaces, for sleasle my\n",
      "daright froses, anot with your country\n",
      "To young fleesors boly beain, me,\n",
      "That she odne aptomple.\n",
      "\n",
      "Seet him Wearge:\n",
      "Doybelay.\n",
      "\n",
      "LAGURETER:\n",
      "Be is not?\n",
      "\n",
      "BECLIOPS:\n",
      "Ayven Vallaeul me you flaul, lord, with sood encees,\n",
      "I satke, I but chart? Buckingthal, share I'll Vent\n",
      "Omm his vonotoour, lord; Go! The eame her worne! o' crove stark's,\n",
      "Then's again wear chievent god itsedies.\n",
      "'Sest voliel.\n",
      "Farew tell, not mebid than you say voingaint\n",
      "And time anribditsly bead him long,\n",
      "The so Left, I sail thee, ha! 's swreather we\n",
      "When love such dole o' told are foi't?\n",
      "\n",
      "PEMBERLANUS:\n",
      "Pordom with high,\n",
      "Ghe oldungely'st turnticiled, the despeary\n",
      "With whencedimesomens as shephild heir\n",
      "A sseeph a? hall one maked, whan lovest of winks,\n",
      "Navele sheet of in this curtuines!\n",
      "Cal, my lord! lot\n",
      "Where the nend.\n",
      "But farmal and and word, for sir, ve thaniors,\n",
      "Tulet ovisirfess. fr\n"
     ]
    }
   ],
   "source": [
    "# generate from the model\n",
    "#torch.manual_seed(10)\n",
    "context = torch.zeros((1, 1), dtype=torch.long\n",
    "                      , device=device)\n",
    "print(decode(m_.generate(context, max_new_tokens=2000)[0].tolist()))"
   ]
  },
  {
   "cell_type": "code",
   "execution_count": null,
   "id": "dbe006cf",
   "metadata": {},
   "outputs": [],
   "source": []
  },
  {
   "cell_type": "code",
   "execution_count": 28,
   "id": "696a9594",
   "metadata": {},
   "outputs": [],
   "source": [
    "with open(\"saved_model_checkpoints/3_11_2024_14_25/loss.json\", \"r\") as file:\n",
    "    loss_curve = json.load(file)\n",
    "    file.close()"
   ]
  },
  {
   "cell_type": "code",
   "execution_count": 32,
   "id": "3254b17b",
   "metadata": {},
   "outputs": [],
   "source": [
    "import pandas as pd\n",
    "loss_df = pd.DataFrame(loss_curve).T"
   ]
  },
  {
   "cell_type": "code",
   "execution_count": 33,
   "id": "4a6e44be",
   "metadata": {},
   "outputs": [
    {
     "data": {
      "text/plain": [
       "<Axes: >"
      ]
     },
     "execution_count": 33,
     "metadata": {},
     "output_type": "execute_result"
    },
    {
     "data": {
      "image/png": "[encoded data removed]",
      "text/plain": [
       "<Figure size 640x480 with 1 Axes>"
      ]
     },
     "metadata": {},
     "output_type": "display_data"
    }
   ],
   "source": [
    "loss_df.plot()"
   ]
  },
  {
   "cell_type": "code",
   "execution_count": null,
   "id": "6e15a2f2",
   "metadata": {},
   "outputs": [],
   "source": []
  }
 ],
 "metadata": {
  "kernelspec": {
   "display_name": "Python 3 (ipykernel)",
   "language": "python",
   "name": "python3"
  },
  "language_info": {
   "codemirror_mode": {
    "name": "ipython",
    "version": 3
   },
   "file_extension": ".py",
   "mimetype": "text/x-python",
   "name": "python",
   "nbconvert_exporter": "python",
   "pygments_lexer": "ipython3",
   "version": "3.10.11"
  }
 },
 "nbformat": 4,
 "nbformat_minor": 5
}
