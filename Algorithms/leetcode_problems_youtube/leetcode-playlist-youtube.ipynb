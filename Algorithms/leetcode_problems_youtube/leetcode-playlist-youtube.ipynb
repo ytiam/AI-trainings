{
 "cells": [
  {
   "cell_type": "markdown",
   "id": "6d5010b2",
   "metadata": {},
   "source": [
    "#### 1 - Given an integer array, return True if any number occurs atlest twice else return False\n",
    "https://youtu.be/3OamzN90kPg?si=eHwQL3X7KnnZ3ViI"
   ]
  },
  {
   "cell_type": "code",
   "execution_count": 14,
   "id": "670f65c0",
   "metadata": {},
   "outputs": [],
   "source": [
    "import random\n",
    "test_num = [random.randint(10,1000000) for _ in range(100000000)]"
   ]
  },
  {
   "cell_type": "code",
   "execution_count": 33,
   "id": "828de967",
   "metadata": {},
   "outputs": [
    {
     "name": "stdout",
     "output_type": "stream",
     "text": [
      "CPU times: user 74 µs, sys: 1e+03 ns, total: 75 µs\n",
      "Wall time: 85.8 µs\n"
     ]
    },
    {
     "data": {
      "text/plain": [
       "True"
      ]
     },
     "execution_count": 33,
     "metadata": {},
     "output_type": "execute_result"
    }
   ],
   "source": [
    "%%time\n",
    "# BruteForce Approach\n",
    "def duplicate_num(num):\n",
    "    for i in range(len(num)):\n",
    "        for j in range(i,len(num)):\n",
    "            if num[i] == num[j]:\n",
    "                return True\n",
    "    return False\n",
    "        \n",
    "duplicate_num(test_num)"
   ]
  },
  {
   "cell_type": "code",
   "execution_count": 26,
   "id": "d255879b",
   "metadata": {},
   "outputs": [
    {
     "name": "stdout",
     "output_type": "stream",
     "text": [
      "CPU times: user 4.13 s, sys: 15 ms, total: 4.15 s\n",
      "Wall time: 4.12 s\n"
     ]
    },
    {
     "data": {
      "text/plain": [
       "True"
      ]
     },
     "execution_count": 26,
     "metadata": {},
     "output_type": "execute_result"
    }
   ],
   "source": [
    "%%time\n",
    "\n",
    "def duplicate_num_sort(num):\n",
    "    num.sort() # <- sort takes a bit more time O(n*logn) and space O(1)\n",
    "    for i in range(len(num)-1):\n",
    "        if num[i] == num[i+1]:\n",
    "            return True\n",
    "    return False\n",
    "\n",
    "duplicate_num_sort(test_num)"
   ]
  },
  {
   "cell_type": "code",
   "execution_count": null,
   "id": "81ddb755",
   "metadata": {},
   "outputs": [],
   "source": []
  },
  {
   "cell_type": "code",
   "execution_count": 34,
   "id": "b5849d2e",
   "metadata": {},
   "outputs": [
    {
     "name": "stdout",
     "output_type": "stream",
     "text": [
      "CPU times: user 14 µs, sys: 1e+03 ns, total: 15 µs\n",
      "Wall time: 16.2 µs\n"
     ]
    },
    {
     "data": {
      "text/plain": [
       "True"
      ]
     },
     "execution_count": 34,
     "metadata": {},
     "output_type": "execute_result"
    }
   ],
   "source": [
    "%%time\n",
    "\n",
    "# Using set as Hash table, this is best after bruteforce\n",
    "def duplicate_num_hashset(num):\n",
    "    hashset = set()\n",
    "    for i in num:\n",
    "        if i in hashset:\n",
    "            return True\n",
    "        else:\n",
    "            hashset.add(i)\n",
    "    return False\n",
    "\n",
    "duplicate_num_hashset(test_num)"
   ]
  },
  {
   "cell_type": "code",
   "execution_count": null,
   "id": "42586c9d",
   "metadata": {},
   "outputs": [],
   "source": []
  },
  {
   "cell_type": "markdown",
   "id": "14cf5476",
   "metadata": {},
   "source": [
    "#### 2- Given an array of integers, return indices of the two numbers such that they add up to a given target. It is not allowed to use the same number twice. We may assume that each input would have exactly one solution.\n",
    "https://youtu.be/KLlXCFG5TnA?si=OAypfzMv0i8-QfM8"
   ]
  },
  {
   "cell_type": "code",
   "execution_count": 64,
   "id": "b08e304c",
   "metadata": {},
   "outputs": [],
   "source": [
    "num = [3,5,2,6,1]\n",
    "target = 4"
   ]
  },
  {
   "cell_type": "code",
   "execution_count": 65,
   "id": "5a99bfd6",
   "metadata": {},
   "outputs": [
    {
     "data": {
      "text/plain": [
       "[3, 5, 2, 6, 1]"
      ]
     },
     "execution_count": 65,
     "metadata": {},
     "output_type": "execute_result"
    }
   ],
   "source": [
    "num"
   ]
  },
  {
   "cell_type": "code",
   "execution_count": 67,
   "id": "c93f7521",
   "metadata": {},
   "outputs": [
    {
     "name": "stdout",
     "output_type": "stream",
     "text": [
      "CPU times: user 15 µs, sys: 0 ns, total: 15 µs\n",
      "Wall time: 16.9 µs\n"
     ]
    },
    {
     "data": {
      "text/plain": [
       "[0, 4]"
      ]
     },
     "execution_count": 67,
     "metadata": {},
     "output_type": "execute_result"
    }
   ],
   "source": [
    "%%time\n",
    "#BruteForce Approach\n",
    "\n",
    "def two_sum_bruteforce(num, target):\n",
    "    for i, _num1 in enumerate(num):\n",
    "        for j, _num2 in enumerate(num[i+1:]):\n",
    "            if _num1 + _num2 == target:\n",
    "                return [i,i+j+1]\n",
    "    return [None, None]\n",
    "\n",
    "two_sum_bruteforce(num, target)"
   ]
  },
  {
   "cell_type": "code",
   "execution_count": 70,
   "id": "e15e6462",
   "metadata": {},
   "outputs": [
    {
     "name": "stdout",
     "output_type": "stream",
     "text": [
      "CPU times: user 17 µs, sys: 1e+03 ns, total: 18 µs\n",
      "Wall time: 19.8 µs\n"
     ]
    },
    {
     "data": {
      "text/plain": [
       "[0, 4]"
      ]
     },
     "execution_count": 70,
     "metadata": {},
     "output_type": "execute_result"
    }
   ],
   "source": [
    "%%time\n",
    "\n",
    "# Using hashtable\n",
    "def two_sum_hashmap(num, target):\n",
    "    previousMap = {}\n",
    "    for i, num in enumerate(num):\n",
    "        difference = target - num\n",
    "        if difference in previousMap:\n",
    "            return [previousMap[difference],i]\n",
    "        else:\n",
    "            previousMap[num] = i\n",
    "    return\n",
    "\n",
    "two_sum_hashmap(num, target)"
   ]
  },
  {
   "cell_type": "code",
   "execution_count": null,
   "id": "b52a190c",
   "metadata": {},
   "outputs": [],
   "source": []
  },
  {
   "cell_type": "code",
   "execution_count": null,
   "id": "6550c54f",
   "metadata": {},
   "outputs": [],
   "source": []
  },
  {
   "cell_type": "code",
   "execution_count": null,
   "id": "cb0be541",
   "metadata": {},
   "outputs": [],
   "source": []
  },
  {
   "cell_type": "code",
   "execution_count": null,
   "id": "8eb78b31",
   "metadata": {},
   "outputs": [],
   "source": []
  }
 ],
 "metadata": {
  "kernelspec": {
   "display_name": "Python 3 (ipykernel)",
   "language": "python",
   "name": "python3"
  },
  "language_info": {
   "codemirror_mode": {
    "name": "ipython",
    "version": 3
   },
   "file_extension": ".py",
   "mimetype": "text/x-python",
   "name": "python",
   "nbconvert_exporter": "python",
   "pygments_lexer": "ipython3",
   "version": "3.10.11"
  }
 },
 "nbformat": 4,
 "nbformat_minor": 5
}
