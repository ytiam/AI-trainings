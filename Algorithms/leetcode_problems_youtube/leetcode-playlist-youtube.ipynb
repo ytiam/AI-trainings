{
 "cells": [
  {
   "cell_type": "markdown",
   "id": "6d5010b2",
   "metadata": {},
   "source": [
    "#### 1 - Given an integer array, return True if any number occurs atlest twice else return False\n",
    "https://www.youtube.com/playlist?list=PLEN28aeGPfN_nhXftwe_RTkoOuSj5ntZo"
   ]
  },
  {
   "cell_type": "code",
   "execution_count": 14,
   "id": "670f65c0",
   "metadata": {},
   "outputs": [],
   "source": [
    "import random\n",
    "test_num = [random.randint(10,1000000) for _ in range(100000000)]"
   ]
  },
  {
   "cell_type": "code",
   "execution_count": 33,
   "id": "828de967",
   "metadata": {},
   "outputs": [
    {
     "name": "stdout",
     "output_type": "stream",
     "text": [
      "CPU times: user 74 µs, sys: 1e+03 ns, total: 75 µs\n",
      "Wall time: 85.8 µs\n"
     ]
    },
    {
     "data": {
      "text/plain": [
       "True"
      ]
     },
     "execution_count": 33,
     "metadata": {},
     "output_type": "execute_result"
    }
   ],
   "source": [
    "%%time\n",
    "# BruteForce Approach\n",
    "def duplicate_num(num):\n",
    "    for i in range(len(num)):\n",
    "        for j in range(i,len(num)):\n",
    "            if num[i] == num[j]:\n",
    "                return True\n",
    "    return False\n",
    "        \n",
    "duplicate_num(test_num)"
   ]
  },
  {
   "cell_type": "code",
   "execution_count": 26,
   "id": "d255879b",
   "metadata": {},
   "outputs": [
    {
     "name": "stdout",
     "output_type": "stream",
     "text": [
      "CPU times: user 4.13 s, sys: 15 ms, total: 4.15 s\n",
      "Wall time: 4.12 s\n"
     ]
    },
    {
     "data": {
      "text/plain": [
       "True"
      ]
     },
     "execution_count": 26,
     "metadata": {},
     "output_type": "execute_result"
    }
   ],
   "source": [
    "%%time\n",
    "\n",
    "def duplicate_num_sort(num):\n",
    "    num.sort() # <- sort takes a bit more time O(n*logn) and space O(1)\n",
    "    for i in range(len(num)-1):\n",
    "        if num[i] == num[i+1]:\n",
    "            return True\n",
    "    return False\n",
    "\n",
    "duplicate_num_sort(test_num)"
   ]
  },
  {
   "cell_type": "code",
   "execution_count": null,
   "id": "81ddb755",
   "metadata": {},
   "outputs": [],
   "source": []
  },
  {
   "cell_type": "code",
   "execution_count": 34,
   "id": "b5849d2e",
   "metadata": {},
   "outputs": [
    {
     "name": "stdout",
     "output_type": "stream",
     "text": [
      "CPU times: user 14 µs, sys: 1e+03 ns, total: 15 µs\n",
      "Wall time: 16.2 µs\n"
     ]
    },
    {
     "data": {
      "text/plain": [
       "True"
      ]
     },
     "execution_count": 34,
     "metadata": {},
     "output_type": "execute_result"
    }
   ],
   "source": [
    "%%time\n",
    "\n",
    "# Using set as Hash table, this is best after bruteforce\n",
    "def duplicate_num_hashset(num):\n",
    "    hashset = set()\n",
    "    for i in num:\n",
    "        if i in hashset:\n",
    "            return True\n",
    "        else:\n",
    "            hashset.add(i)\n",
    "    return False\n",
    "\n",
    "duplicate_num_hashset(test_num)"
   ]
  },
  {
   "cell_type": "code",
   "execution_count": null,
   "id": "42586c9d",
   "metadata": {},
   "outputs": [],
   "source": []
  },
  {
   "cell_type": "markdown",
   "id": "14cf5476",
   "metadata": {},
   "source": [
    "#### 2- Given an array of integers, return indices of the two numbers such that they add up to a given target. It is not allowed to use the same number twice. We may assume that each input would have exactly one solution.\n",
    "https://youtu.be/KLlXCFG5TnA?si=OAypfzMv0i8-QfM8"
   ]
  },
  {
   "cell_type": "code",
   "execution_count": 64,
   "id": "b08e304c",
   "metadata": {},
   "outputs": [],
   "source": [
    "num = [3,5,2,6,1]\n",
    "target = 4"
   ]
  },
  {
   "cell_type": "code",
   "execution_count": 65,
   "id": "5a99bfd6",
   "metadata": {},
   "outputs": [
    {
     "data": {
      "text/plain": [
       "[3, 5, 2, 6, 1]"
      ]
     },
     "execution_count": 65,
     "metadata": {},
     "output_type": "execute_result"
    }
   ],
   "source": [
    "num"
   ]
  },
  {
   "cell_type": "code",
   "execution_count": 67,
   "id": "c93f7521",
   "metadata": {},
   "outputs": [
    {
     "name": "stdout",
     "output_type": "stream",
     "text": [
      "CPU times: user 15 µs, sys: 0 ns, total: 15 µs\n",
      "Wall time: 16.9 µs\n"
     ]
    },
    {
     "data": {
      "text/plain": [
       "[0, 4]"
      ]
     },
     "execution_count": 67,
     "metadata": {},
     "output_type": "execute_result"
    }
   ],
   "source": [
    "%%time\n",
    "#BruteForce Approach\n",
    "\n",
    "def two_sum_bruteforce(num, target):\n",
    "    for i, _num1 in enumerate(num):\n",
    "        for j, _num2 in enumerate(num[i+1:]):\n",
    "            if _num1 + _num2 == target:\n",
    "                return [i,i+j+1]\n",
    "    return [None, None]\n",
    "\n",
    "two_sum_bruteforce(num, target)"
   ]
  },
  {
   "cell_type": "code",
   "execution_count": 70,
   "id": "e15e6462",
   "metadata": {},
   "outputs": [
    {
     "name": "stdout",
     "output_type": "stream",
     "text": [
      "CPU times: user 17 µs, sys: 1e+03 ns, total: 18 µs\n",
      "Wall time: 19.8 µs\n"
     ]
    },
    {
     "data": {
      "text/plain": [
       "[0, 4]"
      ]
     },
     "execution_count": 70,
     "metadata": {},
     "output_type": "execute_result"
    }
   ],
   "source": [
    "%%time\n",
    "\n",
    "# Using hashtable\n",
    "def two_sum_hashmap(num, target):\n",
    "    previousMap = {}\n",
    "    for i, num in enumerate(num):\n",
    "        difference = target - num\n",
    "        if difference in previousMap:\n",
    "            return [previousMap[difference],i]\n",
    "        else:\n",
    "            previousMap[num] = i\n",
    "    return\n",
    "\n",
    "two_sum_hashmap(num, target)"
   ]
  },
  {
   "cell_type": "code",
   "execution_count": null,
   "id": "b52a190c",
   "metadata": {},
   "outputs": [],
   "source": []
  },
  {
   "cell_type": "markdown",
   "id": "f67be652",
   "metadata": {},
   "source": [
    "#### 3-Longest Substring Without Repeating Characters"
   ]
  },
  {
   "cell_type": "code",
   "execution_count": 1,
   "id": "cb0be541",
   "metadata": {},
   "outputs": [],
   "source": [
    "s = \"abcdafgbcd\""
   ]
  },
  {
   "cell_type": "code",
   "execution_count": 75,
   "id": "71f45076",
   "metadata": {},
   "outputs": [],
   "source": [
    "## INEFFICIENT AND MISSES EDGE CASES\n",
    "def longest_substring_wo_repeating_characters(s):\n",
    "    len_dict = {}\n",
    "    for i in range(0,len(s)):\n",
    "        for j in range(i+1,len(s)): \n",
    "            temp = s[i:j+1]\n",
    "            if len(temp) != len(set(temp)):\n",
    "                len_dict[temp[:-1]] = len(temp)-1\n",
    "                break\n",
    "    return max(len_dict, key=len_dict.get)"
   ]
  },
  {
   "cell_type": "code",
   "execution_count": 76,
   "id": "46bb098b",
   "metadata": {},
   "outputs": [
    {
     "data": {
      "text/plain": [
       "'hqtxzvugyjnorfibsawecpm'"
      ]
     },
     "execution_count": 76,
     "metadata": {},
     "output_type": "execute_result"
    }
   ],
   "source": [
    "longest_substring_wo_repeating_characters(s)"
   ]
  },
  {
   "cell_type": "code",
   "execution_count": 82,
   "id": "d58ea815",
   "metadata": {},
   "outputs": [],
   "source": [
    "import random, string\n",
    "# test_num = [random.randint(10,1000000) for _ in range(100000000)]\n",
    "s = ''.join(random.choice(string.ascii_lowercase) for _ in range(100000000))"
   ]
  },
  {
   "cell_type": "code",
   "execution_count": 78,
   "id": "3e2fdee8",
   "metadata": {},
   "outputs": [
    {
     "name": "stdout",
     "output_type": "stream",
     "text": [
      "CPU times: user 2.71 s, sys: 26.1 ms, total: 2.73 s\n",
      "Wall time: 2.73 s\n"
     ]
    },
    {
     "data": {
      "text/plain": [
       "'rlnambtopvkeqjchwfsuzy'"
      ]
     },
     "execution_count": 78,
     "metadata": {},
     "output_type": "execute_result"
    }
   ],
   "source": [
    "%%time\n",
    "longest_substring_wo_repeating_characters(s)"
   ]
  },
  {
   "cell_type": "code",
   "execution_count": 49,
   "id": "e1897089",
   "metadata": {},
   "outputs": [
    {
     "name": "stdout",
     "output_type": "stream",
     "text": [
      "0 1 ab\n",
      "0 2 abc\n",
      "0 3 abca\n",
      "1 2 bc\n",
      "1 3 bca\n",
      "1 4 bcae\n",
      "1 5 bcaef\n",
      "2 3 ca\n",
      "2 4 cae\n",
      "2 5 caef\n",
      "3 4 ae\n",
      "3 5 aef\n",
      "4 5 ef\n"
     ]
    },
    {
     "data": {
      "text/plain": [
       "'abc'"
      ]
     },
     "execution_count": 49,
     "metadata": {},
     "output_type": "execute_result"
    }
   ],
   "source": [
    "longest_substring_wo_repeating_characters(s)"
   ]
  },
  {
   "cell_type": "code",
   "execution_count": 80,
   "id": "24841150",
   "metadata": {},
   "outputs": [],
   "source": [
    "# https://www.youtube.com/watch?v=wiGpQwVHdE0\n",
    "def longest_substring_wo_repeating_characters_sol(s):\n",
    "    charset = set()\n",
    "    l = 0\n",
    "    res = 0\n",
    "    \n",
    "    for r in range(len(s)):\n",
    "        while s[r] in charset:\n",
    "            charset.remove(s[l])\n",
    "            l += 1\n",
    "        charset.add(s[r])\n",
    "        res = max(res, r - l +1)\n",
    "    return res"
   ]
  },
  {
   "cell_type": "code",
   "execution_count": 83,
   "id": "11d1f477",
   "metadata": {},
   "outputs": [
    {
     "name": "stdout",
     "output_type": "stream",
     "text": [
      "CPU times: user 32.9 s, sys: 0 ns, total: 32.9 s\n",
      "Wall time: 32.9 s\n"
     ]
    },
    {
     "data": {
      "text/plain": [
       "24"
      ]
     },
     "execution_count": 83,
     "metadata": {},
     "output_type": "execute_result"
    }
   ],
   "source": [
    "%%time\n",
    "longest_substring_wo_repeating_characters_sol(s)"
   ]
  },
  {
   "cell_type": "markdown",
   "id": "62b3c760",
   "metadata": {},
   "source": [
    "#### 4 - Longest Subarray with Sum ≤ K"
   ]
  },
  {
   "cell_type": "code",
   "execution_count": 118,
   "id": "4c641e81",
   "metadata": {},
   "outputs": [],
   "source": [
    "def longest_subarray_w_less_than_k(array, k):\n",
    "    max_len = 0\n",
    "    l = 0\n",
    "    _sum = 0\n",
    "    best_l, best_r = 0, 0\n",
    "    for r in range(len(array)):\n",
    "        _sum = _sum + array[r]\n",
    "        while _sum > k:\n",
    "            _sum = _sum - array[l]\n",
    "            l+=1\n",
    "        if r - l +1 > max_len:\n",
    "            max_len = r - l +1\n",
    "            best_l, best_r = l, r \n",
    "    return array[best_l:best_r+1]"
   ]
  },
  {
   "cell_type": "code",
   "execution_count": 121,
   "id": "f4929a77",
   "metadata": {},
   "outputs": [],
   "source": [
    "lis = [2,4,3,2,3,1,2,3,2,2,1,7]"
   ]
  },
  {
   "cell_type": "code",
   "execution_count": 122,
   "id": "fe04bb13",
   "metadata": {},
   "outputs": [
    {
     "data": {
      "text/plain": [
       "[2, 3, 1, 2, 3, 2, 2]"
      ]
     },
     "execution_count": 122,
     "metadata": {},
     "output_type": "execute_result"
    }
   ],
   "source": [
    "longest_subarray_w_less_than_k(lis,15)"
   ]
  },
  {
   "cell_type": "code",
   "execution_count": null,
   "id": "df9aae77",
   "metadata": {},
   "outputs": [],
   "source": []
  }
 ],
 "metadata": {
  "kernelspec": {
   "display_name": "Python 3 (ipykernel)",
   "language": "python",
   "name": "python3"
  },
  "language_info": {
   "codemirror_mode": {
    "name": "ipython",
    "version": 3
   },
   "file_extension": ".py",
   "mimetype": "text/x-python",
   "name": "python",
   "nbconvert_exporter": "python",
   "pygments_lexer": "ipython3",
   "version": "3.10.11"
  }
 },
 "nbformat": 4,
 "nbformat_minor": 5
}
