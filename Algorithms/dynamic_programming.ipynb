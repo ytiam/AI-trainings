{
 "cells": [
  {
   "cell_type": "markdown",
   "id": "4622a544",
   "metadata": {},
   "source": [
    "### Longest common substring vs Longest common subsequence, how these two problems are different \n",
    "\n",
    "Excellent question — these two problems sound similar but are **fundamentally different** in how they define “commonality.”\n",
    "\n",
    "Let’s go step-by-step 👇\n",
    "\n",
    "---\n",
    "\n",
    "### 🧩 1. Longest Common **Substring**\n",
    "\n",
    "**Definition:**\n",
    "A **substring** is a **contiguous sequence of characters** within a string.\n",
    "\n",
    "* **So:** The *Longest Common Substring (LCSstr)* problem looks for the **longest contiguous block of characters** that appears in both strings.\n",
    "\n",
    "**Example:**\n",
    "\n",
    "```\n",
    "String A = \"abcde\"\n",
    "String B = \"abfce\"\n",
    "```\n",
    "\n",
    "✅ Common substrings: `\"a\"`, `\"ab\"`, `\"c\"`, `\"e\"`\n",
    "👉 **Longest Common Substring = \"ab\"**\n",
    "\n",
    "**Key property:**\n",
    "All characters of the substring must appear **together** in both strings, in the **same order**.\n",
    "\n",
    "**Typical use cases:**\n",
    "\n",
    "* Plagiarism detection\n",
    "* DNA or text pattern matching\n",
    "\n",
    "**DP Recurrence:**\n",
    "If `A[i] == B[j]`,\n",
    "\n",
    "```\n",
    "dp[i][j] = dp[i-1][j-1] + 1\n",
    "```\n",
    "\n",
    "Else\n",
    "\n",
    "```\n",
    "dp[i][j] = 0\n",
    "```\n",
    "\n",
    "(Take max value of `dp[i][j]` as answer.)\n",
    "\n",
    "---\n",
    "\n",
    "### 🧬 2. Longest Common **Subsequence**\n",
    "\n",
    "**Definition:**\n",
    "A **subsequence** is a sequence derived from another string **by deleting some or no characters without changing the order**.\n",
    "\n",
    "* **So:** The *Longest Common Subsequence (LCSseq)* problem looks for the **longest sequence of characters that appear in both strings in the same order**, but **not necessarily contiguous**.\n",
    "\n",
    "**Example:**\n",
    "\n",
    "```\n",
    "String A = \"abcde\"\n",
    "String B = \"abfce\"\n",
    "```\n",
    "\n",
    "✅ Common subsequences: `\"abe\"`, `\"ace\"`, `\"abc\"`, `\"abce\"`\n",
    "👉 **Longest Common Subsequence = \"abce\"**\n",
    "\n",
    "**Key property:**\n",
    "Characters must appear **in order**, but can be **separated** by other characters.\n",
    "\n",
    "**Typical use cases:**\n",
    "\n",
    "* Version control diff tools\n",
    "* DNA sequence analysis\n",
    "* Spell checking / sequence alignment\n",
    "\n",
    "**DP Recurrence:**\n",
    "If `A[i] == B[j]`,\n",
    "\n",
    "```\n",
    "dp[i][j] = 1 + dp[i-1][j-1]\n",
    "```\n",
    "\n",
    "Else\n",
    "\n",
    "```\n",
    "dp[i][j] = max(dp[i-1][j], dp[i][j-1])\n",
    "```\n",
    "\n",
    "---\n",
    "\n",
    "### ⚖️ Quick Comparison Table\n",
    "\n",
    "| Feature       | Longest Common **Substring** | Longest Common **Subsequence** |\n",
    "| ------------- | ---------------------------- | ------------------------------ |\n",
    "| Contiguity    | Must be contiguous           | Can be non-contiguous          |\n",
    "| Example       | \"abc\" in \"xabcx\" and \"zabcy\" | \"abc\" in \"axbycz\" and \"a1b2c3\" |\n",
    "| Complexity    | O(m × n)                     | O(m × n)                       |\n",
    "| DP Reset Rule | Reset to 0 if mismatch       | Take max of neighbors          |\n",
    "| Use Case      | Pattern matching             | Sequence similarity            |\n",
    "\n",
    "---\n",
    "### Is every dynamic programming problem is a grid problem \n",
    "\n",
    "Great question — and a subtle one 👏\n",
    "\n",
    "**Short answer:** ❌ No — not every Dynamic Programming (DP) problem is a *grid* problem.\n",
    "But ✅ many *classical* DP problems can be *visualized* as a grid because they involve **two dimensions** (like comparing two sequences).\n",
    "\n",
    "Let’s unpack this clearly 👇\n",
    "\n",
    "---\n",
    "\n",
    "### 🧩 1. What “Grid Problem” Means\n",
    "\n",
    "When you think of a **grid DP**, it usually means:\n",
    "\n",
    "* You have a **2D DP table** (`dp[i][j]`)\n",
    "* Each cell depends on **neighboring cells** (like top, left, diagonal)\n",
    "* Example problems:\n",
    "\n",
    "  * Longest Common Subsequence\n",
    "  * Edit Distance\n",
    "  * Knapsack (2D version: items × capacity)\n",
    "  * Matrix path problems (min path sum, unique paths)\n",
    "\n",
    "These problems are **naturally represented as grids**, often comparing two sequences or dimensions.\n",
    "\n",
    "---\n",
    "\n",
    "### ⚙️ 2. DP Can Be 1D, 2D, or Even Higher\n",
    "\n",
    "| Type       | Example                                                          | Representation           |\n",
    "| ---------- | ---------------------------------------------------------------- | ------------------------ |\n",
    "| **1D DP**  | Fibonacci, climbing stairs, coin change (min coins)              | Simple array `dp[i]`     |\n",
    "| **2D DP**  | LCS, edit distance, knapsack, matrix paths                       | Grid/table `dp[i][j]`    |\n",
    "| **3D+ DP** | Sequence alignment with constraints, stock trading with cooldown | Multi-dimensional tensor |\n",
    "\n",
    "So, the *grid visualization* applies mainly to **2D DP problems**, not to all.\n",
    "\n",
    "---\n",
    "\n",
    "### 🧠 3. What Actually Defines a DP Problem\n",
    "\n",
    "A problem is a **DP problem** if it satisfies:\n",
    "\n",
    "1. **Overlapping subproblems** — you solve the same subproblem multiple times\n",
    "2. **Optimal substructure** — the global optimum can be built from local optima\n",
    "\n",
    "That’s the core, *not* the grid.\n",
    "\n",
    "For example:\n",
    "\n",
    "* **Fibonacci** → DP (1D, no grid)\n",
    "* **Rod cutting** → DP (1D)\n",
    "* **Subset sum** → 2D table (grid-like)\n",
    "* **Travelling Salesman Problem (TSP)** → DP over subsets (bitmask, no grid)\n",
    "\n",
    "---\n",
    "\n",
    "### ✅ Summary\n",
    "\n",
    "| Aspect                | Explanation                                            |\n",
    "| --------------------- | ------------------------------------------------------ |\n",
    "| Grid visualization    | Common in 2D DP (especially string or matrix problems) |\n",
    "| Not all DP are grids  | Many DP problems are 1D or graph/bitmask based         |\n",
    "| True essence of DP    | Overlapping subproblems + optimal substructure         |\n",
    "| Examples without grid | Fibonacci, Coin Change, TSP                            |\n",
    "\n",
    "---\n"
   ]
  },
  {
   "cell_type": "markdown",
   "id": "b2b1fc5a",
   "metadata": {},
   "source": [
    "### Longest common substring"
   ]
  },
  {
   "cell_type": "code",
   "execution_count": 16,
   "id": "9401de36",
   "metadata": {},
   "outputs": [
    {
     "data": {
      "text/plain": [
       "array([[0, 0, 0, 0],\n",
       "       [0, 0, 0, 0],\n",
       "       [0, 0, 0, 0]])"
      ]
     },
     "execution_count": 16,
     "metadata": {},
     "output_type": "execute_result"
    }
   ],
   "source": [
    "import numpy as np\n",
    "np.zeros((3, 4)).astype(int)"
   ]
  },
  {
   "cell_type": "code",
   "execution_count": 35,
   "id": "33c600f8",
   "metadata": {},
   "outputs": [],
   "source": [
    "def longest_common_substring(s1, s2):\n",
    "\tm, n = len(s1), len(s2)\n",
    "\tdp_table = np.zeros((m+1, n+1)).astype(int)\n",
    "\tmax_len = 0\n",
    "\tend_index_s1 = 0\n",
    "\tfor i in range(1,m+1):\n",
    "\t\tfor j in range(1,n+1):\n",
    "\t\t\tif s1[i-1] == s2[j-1]:\n",
    "\t\t\t\tdp_table[i][j] = dp_table[i-1][j-1]+1\n",
    "\t\t\telse:\n",
    "\t\t\t\tdp_table[i][j] = 0\n",
    "\t\t\tif dp_table[i][j] > max_len:\n",
    "\t\t\t\tmax_len = dp_table[i][j]\n",
    "\t\t\t\tend_index_s1 = i\n",
    "\tprint(dp_table[1:, 1:])\n",
    "\tif max_len == 0:\n",
    "\t\treturn \"\"\n",
    "\telse:\n",
    "\t\treturn s1[end_index_s1 - max_len: end_index_s1]\n",
    "\t\t\t\t"
   ]
  },
  {
   "cell_type": "code",
   "execution_count": 36,
   "id": "7a1cf99b",
   "metadata": {},
   "outputs": [
    {
     "name": "stdout",
     "output_type": "stream",
     "text": [
      "[[0 0 0 0 0 0]\n",
      " [0 0 0 0 0 0]\n",
      " [0 1 0 0 0 0]\n",
      " [0 0 2 0 0 0]\n",
      " [0 0 0 3 0 0]\n",
      " [0 0 0 0 0 1]]\n"
     ]
    },
    {
     "data": {
      "text/plain": [
       "'cde'"
      ]
     },
     "execution_count": 36,
     "metadata": {},
     "output_type": "execute_result"
    }
   ],
   "source": [
    "longest_common_substring(\"abcdef\", \"zcdejf\")"
   ]
  },
  {
   "cell_type": "markdown",
   "id": "bff5d1af",
   "metadata": {},
   "source": [
    "### Longest common subsequence"
   ]
  },
  {
   "cell_type": "code",
   "execution_count": 37,
   "id": "407ee1f4",
   "metadata": {},
   "outputs": [],
   "source": [
    "def longest_common_subsequence(s1, s2):\n",
    "\tm, n = len(s1), len(s2)\n",
    "\tdp_table = np.zeros((m+1, n+1)).astype(int)\n",
    "\tmax_len = 0\n",
    "\tseq = \"\"\n",
    "\tfor i in range(1,m+1):\n",
    "\t\tfor j in range(1,n+1):\n",
    "\t\t\tif s1[i-1] == s2[j-1]:\n",
    "\t\t\t\tdp_table[i][j] = dp_table[i-1][j-1]+1\n",
    "\t\t\telse:\n",
    "\t\t\t\tdp_table[i][j] = max(dp_table[i-1][j], dp_table[i][j-1])\n",
    "\t\t\tif dp_table[i][j] > max_len:\n",
    "\t\t\t\tmax_len = dp_table[i][j]\n",
    "\t\t\t\tseq += s1[i-1]\n",
    "\tprint(dp_table[1:, 1:])\n",
    "\tprint(\"Max subsequence length: \", max_len)\n",
    "\tif max_len == 0:\n",
    "\t\treturn \"\"\n",
    "\telse:\n",
    "\t\treturn seq\n",
    "\t\t\t\t"
   ]
  },
  {
   "cell_type": "code",
   "execution_count": 40,
   "id": "c3ada593",
   "metadata": {},
   "outputs": [
    {
     "name": "stdout",
     "output_type": "stream",
     "text": [
      "[[0 0 0 0 0]\n",
      " [0 0 0 0 0]\n",
      " [0 0 1 1 1]]\n",
      "Max subsequence length:  1\n"
     ]
    },
    {
     "data": {
      "text/plain": [
       "'d'"
      ]
     },
     "execution_count": 40,
     "metadata": {},
     "output_type": "execute_result"
    }
   ],
   "source": [
    "longest_common_subsequence(\"bcd\", \"fgdhe\")"
   ]
  },
  {
   "cell_type": "code",
   "execution_count": null,
   "id": "e7784528",
   "metadata": {},
   "outputs": [],
   "source": []
  }
 ],
 "metadata": {
  "kernelspec": {
   "display_name": ".venv",
   "language": "python",
   "name": "python3"
  },
  "language_info": {
   "codemirror_mode": {
    "name": "ipython",
    "version": 3
   },
   "file_extension": ".py",
   "mimetype": "text/x-python",
   "name": "python",
   "nbconvert_exporter": "python",
   "pygments_lexer": "ipython3",
   "version": "3.13.5"
  }
 },
 "nbformat": 4,
 "nbformat_minor": 5
}
