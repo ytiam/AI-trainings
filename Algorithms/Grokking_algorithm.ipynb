{
 "cells": [
  {
   "cell_type": "markdown",
   "id": "8b3dd702",
   "metadata": {},
   "source": [
    "### Recursion"
   ]
  },
  {
   "cell_type": "code",
   "execution_count": 8,
   "id": "baa07053",
   "metadata": {},
   "outputs": [],
   "source": [
    "import random"
   ]
  },
  {
   "cell_type": "code",
   "execution_count": 1,
   "id": "3e7a758b",
   "metadata": {},
   "outputs": [],
   "source": [
    "# Solve a sum of array using recursion\n",
    "\n",
    "def sum_array_recursion(array):\n",
    "  if len(array)!=0:\n",
    "    return sum_array_recursion(array[1:])+array[0] #<-recursion case\n",
    "  elif len(array)==0:\n",
    "    return 0 #<-base case"
   ]
  },
  {
   "cell_type": "code",
   "execution_count": 4,
   "id": "fea4ab11",
   "metadata": {},
   "outputs": [
    {
     "ename": "RecursionError",
     "evalue": "maximum recursion depth exceeded",
     "output_type": "error",
     "traceback": [
      "\u001b[31m---------------------------------------------------------------------------\u001b[39m",
      "\u001b[31mRecursionError\u001b[39m                            Traceback (most recent call last)",
      "\u001b[36mCell\u001b[39m\u001b[36m \u001b[39m\u001b[32mIn[4]\u001b[39m\u001b[32m, line 1\u001b[39m\n\u001b[32m----> \u001b[39m\u001b[32m1\u001b[39m \u001b[43msum_array_recursion\u001b[49m\u001b[43m(\u001b[49m\u001b[38;5;28;43mrange\u001b[39;49m\u001b[43m(\u001b[49m\u001b[32;43m10000\u001b[39;49m\u001b[43m)\u001b[49m\u001b[43m)\u001b[49m\n",
      "\u001b[36mCell\u001b[39m\u001b[36m \u001b[39m\u001b[32mIn[1]\u001b[39m\u001b[32m, line 5\u001b[39m, in \u001b[36msum_array_recursion\u001b[39m\u001b[34m(array)\u001b[39m\n\u001b[32m      3\u001b[39m \u001b[38;5;28;01mdef\u001b[39;00m\u001b[38;5;250m \u001b[39m\u001b[34msum_array_recursion\u001b[39m(array):\n\u001b[32m      4\u001b[39m   \u001b[38;5;28;01mif\u001b[39;00m \u001b[38;5;28mlen\u001b[39m(array)!=\u001b[32m0\u001b[39m:\n\u001b[32m----> \u001b[39m\u001b[32m5\u001b[39m     \u001b[38;5;28;01mreturn\u001b[39;00m \u001b[43msum_array_recursion\u001b[49m\u001b[43m(\u001b[49m\u001b[43marray\u001b[49m\u001b[43m[\u001b[49m\u001b[32;43m1\u001b[39;49m\u001b[43m:\u001b[49m\u001b[43m]\u001b[49m\u001b[43m)\u001b[49m+array[\u001b[32m0\u001b[39m] \u001b[38;5;66;03m#<-recursion case\u001b[39;00m\n\u001b[32m      6\u001b[39m   \u001b[38;5;28;01melif\u001b[39;00m \u001b[38;5;28mlen\u001b[39m(array)==\u001b[32m0\u001b[39m:\n\u001b[32m      7\u001b[39m     \u001b[38;5;28;01mreturn\u001b[39;00m \u001b[32m0\u001b[39m\n",
      "\u001b[36mCell\u001b[39m\u001b[36m \u001b[39m\u001b[32mIn[1]\u001b[39m\u001b[32m, line 5\u001b[39m, in \u001b[36msum_array_recursion\u001b[39m\u001b[34m(array)\u001b[39m\n\u001b[32m      3\u001b[39m \u001b[38;5;28;01mdef\u001b[39;00m\u001b[38;5;250m \u001b[39m\u001b[34msum_array_recursion\u001b[39m(array):\n\u001b[32m      4\u001b[39m   \u001b[38;5;28;01mif\u001b[39;00m \u001b[38;5;28mlen\u001b[39m(array)!=\u001b[32m0\u001b[39m:\n\u001b[32m----> \u001b[39m\u001b[32m5\u001b[39m     \u001b[38;5;28;01mreturn\u001b[39;00m \u001b[43msum_array_recursion\u001b[49m\u001b[43m(\u001b[49m\u001b[43marray\u001b[49m\u001b[43m[\u001b[49m\u001b[32;43m1\u001b[39;49m\u001b[43m:\u001b[49m\u001b[43m]\u001b[49m\u001b[43m)\u001b[49m+array[\u001b[32m0\u001b[39m] \u001b[38;5;66;03m#<-recursion case\u001b[39;00m\n\u001b[32m      6\u001b[39m   \u001b[38;5;28;01melif\u001b[39;00m \u001b[38;5;28mlen\u001b[39m(array)==\u001b[32m0\u001b[39m:\n\u001b[32m      7\u001b[39m     \u001b[38;5;28;01mreturn\u001b[39;00m \u001b[32m0\u001b[39m\n",
      "    \u001b[31m[... skipping similar frames: sum_array_recursion at line 5 (2974 times)]\u001b[39m\n",
      "\u001b[36mCell\u001b[39m\u001b[36m \u001b[39m\u001b[32mIn[1]\u001b[39m\u001b[32m, line 5\u001b[39m, in \u001b[36msum_array_recursion\u001b[39m\u001b[34m(array)\u001b[39m\n\u001b[32m      3\u001b[39m \u001b[38;5;28;01mdef\u001b[39;00m\u001b[38;5;250m \u001b[39m\u001b[34msum_array_recursion\u001b[39m(array):\n\u001b[32m      4\u001b[39m   \u001b[38;5;28;01mif\u001b[39;00m \u001b[38;5;28mlen\u001b[39m(array)!=\u001b[32m0\u001b[39m:\n\u001b[32m----> \u001b[39m\u001b[32m5\u001b[39m     \u001b[38;5;28;01mreturn\u001b[39;00m \u001b[43msum_array_recursion\u001b[49m\u001b[43m(\u001b[49m\u001b[43marray\u001b[49m\u001b[43m[\u001b[49m\u001b[32;43m1\u001b[39;49m\u001b[43m:\u001b[49m\u001b[43m]\u001b[49m\u001b[43m)\u001b[49m+array[\u001b[32m0\u001b[39m] \u001b[38;5;66;03m#<-recursion case\u001b[39;00m\n\u001b[32m      6\u001b[39m   \u001b[38;5;28;01melif\u001b[39;00m \u001b[38;5;28mlen\u001b[39m(array)==\u001b[32m0\u001b[39m:\n\u001b[32m      7\u001b[39m     \u001b[38;5;28;01mreturn\u001b[39;00m \u001b[32m0\u001b[39m\n",
      "\u001b[31mRecursionError\u001b[39m: maximum recursion depth exceeded"
     ]
    }
   ],
   "source": [
    "sum_array_recursion(range(10000))"
   ]
  },
  {
   "cell_type": "markdown",
   "id": "2a9b5178",
   "metadata": {},
   "source": [
    "The error you are seeing, RecursionError: maximum recursion depth exceeded, happens because your recursive function sum_array_recursion is being called too many times. Python has a limit on how deep recursion can go to prevent infinite loops and stack overflow. When you pass a range object with 10**10 elements, the function tries to call itself that many times, quickly exceeding this limit.\n",
    "\n",
    "For summing large arrays, an iterative approach or using the built-in sum() function is much more efficient and avoids this recursion depth issue.\n",
    "\n",
    "\n",
    "I know the iterative version, but just curious how is the python built in sum() designed? If you can show me\n",
    "That's a great question! Python's built-in sum() function is actually implemented in C, which makes it very efficient for summing iterables. It's designed to iterate over the elements and add them up, similar to the iterative approach we discussed.\n",
    "\n",
    "Since I can't show you the C source code directly, here's a Python function that behaves similarly to the built-in sum(). It uses an iterative approach, which is how the sum() function works under the hood."
   ]
  },
  {
   "cell_type": "code",
   "execution_count": 5,
   "id": "91847520",
   "metadata": {},
   "outputs": [],
   "source": [
    "def sum_array_iterative(array):\n",
    "    total=0\n",
    "    for element in array:\n",
    "        total+=element\n",
    "    return total"
   ]
  },
  {
   "cell_type": "code",
   "execution_count": 6,
   "id": "46a8635a",
   "metadata": {},
   "outputs": [
    {
     "data": {
      "text/plain": [
       "499999999500000000"
      ]
     },
     "execution_count": 6,
     "metadata": {},
     "output_type": "execute_result"
    }
   ],
   "source": [
    "sum_array_iterative(range(1000000000))"
   ]
  },
  {
   "cell_type": "markdown",
   "id": "51d6f5ff",
   "metadata": {},
   "source": [
    "### Quick Sort"
   ]
  },
  {
   "cell_type": "code",
   "execution_count": 7,
   "id": "7ec7cc88",
   "metadata": {},
   "outputs": [],
   "source": [
    "# Divide and Conquer and then recursion\n",
    "def quick_sort(array):\n",
    "  if len(array)<2:\n",
    "    return array\n",
    "  else:\n",
    "    pivot = array[0]\n",
    "    sub_array_left = [i for i in array[1:] if i < pivot]\n",
    "    sub_array_right = [i for i in array[1:] if i>= pivot]\n",
    "    return quick_sort(sub_array_left) + [pivot] + quick_sort(sub_array_right)"
   ]
  },
  {
   "cell_type": "code",
   "execution_count": 13,
   "id": "7f4af873",
   "metadata": {},
   "outputs": [],
   "source": [
    "import numpy as np"
   ]
  },
  {
   "cell_type": "code",
   "execution_count": 14,
   "id": "0e1f169d",
   "metadata": {},
   "outputs": [],
   "source": [
    "# Generate a list of n random integers without a for loop\n",
    "n = 10**7 # Replace with the desired number of integers\n",
    "random_integers = np.array(random.sample(range(10**8), n)) # Generates n unique integers between 0 and 100"
   ]
  },
  {
   "cell_type": "code",
   "execution_count": 15,
   "id": "44b75354",
   "metadata": {},
   "outputs": [],
   "source": [
    "sorted_array = quick_sort(random_integers)"
   ]
  },
  {
   "cell_type": "code",
   "execution_count": null,
   "id": "84b4801a",
   "metadata": {},
   "outputs": [],
   "source": [
    "np_array = np.sort(random_integers)"
   ]
  },
  {
   "cell_type": "markdown",
   "id": "3067a050",
   "metadata": {},
   "source": [
    "Your recursive `quick_sort` implementation is much slower than `numpy.sort` for several reasons:\n",
    "\n",
    "### 1. **Algorithm Efficiency**\n",
    "- Your `quick_sort` uses Python lists and list comprehensions, which are slow for large arrays.\n",
    "- Each recursion creates new lists (`sub_array_left`, `sub_array_right`), causing a lot of memory allocation and copying.\n",
    "- `numpy.sort` uses highly optimized C code under the hood and operates directly on contiguous memory (NumPy arrays), making it much faster.\n",
    "\n",
    "### 2. **Implementation Details**\n",
    "- Your implementation is a simple, unoptimized version of quicksort (not in-place, always picks the first element as pivot).\n",
    "- `numpy.sort` uses the **Timsort** algorithm for small arrays and **quicksort/mergesort/heapsort** (all optimized) for larger arrays, depending on the data type and options.\n",
    "\n",
    "### 3. **Language Overhead**\n",
    "- Python is an interpreted language and much slower for loops and recursion compared to compiled C code.\n",
    "- NumPy leverages vectorized operations and compiled code, avoiding Python’s function call overhead.\n",
    "\n",
    "---\n",
    "\n",
    "### **Summary Table**\n",
    "\n",
    "| Your `quick_sort`                | `numpy.sort`                        |\n",
    "|----------------------------------|-------------------------------------|\n",
    "| Pure Python, recursive           | C-optimized, vectorized             |\n",
    "| Not in-place (creates new lists) | In-place (efficient memory use)     |\n",
    "| Always picks first pivot         | Smart pivot selection               |\n",
    "| Slow for large arrays            | Fast for large arrays               |\n",
    "\n",
    "---\n",
    "\n",
    "**In short:**  \n",
    "`numpy.sort` is much faster because it uses optimized, compiled algorithms and efficient memory handling, while your Python quicksort is simple, recursive, and memory-inefficient. For large data, always use NumPy or built-in sorting functions."
   ]
  },
  {
   "cell_type": "markdown",
   "id": "c6f53ee7",
   "metadata": {},
   "source": [
    "## Hashing"
   ]
  },
  {
   "cell_type": "markdown",
   "id": "195a7dc3",
   "metadata": {},
   "source": [
    "### Hash Function and Hash Table\n",
    "- Hash function maps a string to a integer ( typically an index of an array or list)\n",
    "- It can be many-to-one or even one-to-one as well\n",
    "- one-to-one or injective hash functions are good to have, but many times they are not available based on situations. That kind of situations are known as `collison`.\n",
    "- A good hash function is which avoids collison.\n",
    "- If a hash function faces collison, i.e. two different strings map to a same number, then sometimes it may create linked list to store data for those keys.\n",
    "- Hash tables are the kind of Data Structures which stores these mapings of hash functions\n",
    "- Python dictionary is a type of Hash table.\n",
    "- Hash tables are good and fast at finding duplicate data\n",
    "- Hash functions are good for caching data\n",
    "- Hash tables typically stores data in arrays\n",
    "- Load factor - (Number of blocks occupied)/(Total number of Blocks)\n",
    "- When the load factor goes above 0.7, then the blocks need to be resized. Typically doubled up."
   ]
  },
  {
   "cell_type": "markdown",
   "id": "1ec5b759",
   "metadata": {},
   "source": [
    "Yes 👍 — in CPython (the reference Python implementation), a **dictionary (`dict`) is implemented as a hash table** with open addressing and quadratic probing.\n",
    "\n",
    "Now, about the **hash function** used:\n",
    "\n",
    "* When you call `hash(obj)` in Python, it uses the built-in `hash()` function of that object.\n",
    "* For built-in immutable types (`int`, `float`, `str`, `bytes`, `tuple`), CPython provides optimized hash implementations.\n",
    "* For user-defined objects, the default is `id(obj)` unless you override `__hash__`.\n",
    "\n",
    "---\n",
    "\n",
    "### Hashing details by type (CPython):\n",
    "\n",
    "* **Integers**: The hash is basically the integer value itself (clamped to machine word size).\n",
    "* **Floats**: Same as hashing the equivalent integer for exact values, with special handling for `NaN`, `inf`, etc.\n",
    "* **Strings**: A variant of **FNV-1a**–like algorithm (a simple multiplicative hash), randomized with a per-process seed since Python 3.3 to prevent hash-collision DoS attacks.\n",
    "\n",
    "  * This is called **SipHash24** (cryptographically strong, introduced in Python 3.4+ as default for str/bytes).\n",
    "* **Tuples**: Combined from the hash values of their elements using a rolling algorithm.\n",
    "\n",
    "---\n",
    "\n",
    "✅ So the short answer:\n",
    "\n",
    "* Python dictionaries don’t use a single fixed hash function.\n",
    "* They use the object’s `__hash__` result.\n",
    "* For strings/bytes, CPython uses **SipHash24** internally.\n",
    "\n",
    "Perfect 👍 Let me show you with Python code how **two different objects can have the same hash value** but still live correctly inside a dictionary:\n",
    "\n",
    "```python\n",
    "# Define a custom class\n",
    "class AlwaysHash42:\n",
    "    def __init__(self, value):\n",
    "        self.value = value\n",
    "\n",
    "    def __hash__(self):\n",
    "        # Force all objects to have the same hash\n",
    "        return 42\n",
    "\n",
    "    def __eq__(self, other):\n",
    "        return isinstance(other, AlwaysHash42) and self.value == other.value\n",
    "\n",
    "    def __repr__(self):\n",
    "        return f\"Obj({self.value})\"\n",
    "\n",
    "\n",
    "# Create objects with different values\n",
    "a = AlwaysHash42(\"apple\")\n",
    "b = AlwaysHash42(\"banana\")\n",
    "\n",
    "print(\"Hash of a:\", hash(a))\n",
    "print(\"Hash of b:\", hash(b))\n",
    "\n",
    "# Put them into a dictionary\n",
    "d = {a: \"fruit A\", b: \"fruit B\"}\n",
    "\n",
    "print(\"Dictionary:\", d)\n",
    "print(\"Lookup a:\", d[a])\n",
    "print(\"Lookup b:\", d[b])\n",
    "```\n",
    "\n",
    "### Output:\n",
    "\n",
    "```\n",
    "Hash of a: 42\n",
    "Hash of b: 42\n",
    "Dictionary: {Obj(apple): 'fruit A', Obj(banana): 'fruit B'}\n",
    "Lookup a: fruit A\n",
    "Lookup b: fruit B\n",
    "```\n",
    "\n",
    "---\n",
    "\n",
    "✅ Explanation:\n",
    "\n",
    "* Both `a` and `b` hash to the same number (`42`).\n",
    "* But Python’s dictionary doesn’t break:\n",
    "\n",
    "  * It first uses the hash to find a bucket.\n",
    "  * If multiple keys share that bucket (collision), it uses `__eq__` to tell them apart.\n",
    "\n",
    "That’s why a hash function doesn’t need to be **one-to-one**.\n",
    "\n"
   ]
  },
  {
   "cell_type": "markdown",
   "id": "1b73d50b",
   "metadata": {},
   "source": []
  }
 ],
 "metadata": {
  "kernelspec": {
   "display_name": ".venv",
   "language": "python",
   "name": "python3"
  },
  "language_info": {
   "codemirror_mode": {
    "name": "ipython",
    "version": 3
   },
   "file_extension": ".py",
   "mimetype": "text/x-python",
   "name": "python",
   "nbconvert_exporter": "python",
   "pygments_lexer": "ipython3",
   "version": "3.13.7"
  }
 },
 "nbformat": 4,
 "nbformat_minor": 5
}
