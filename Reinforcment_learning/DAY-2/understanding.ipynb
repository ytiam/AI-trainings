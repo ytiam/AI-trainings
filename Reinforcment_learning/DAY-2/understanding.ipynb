{
 "cells": [
  {
   "cell_type": "code",
   "execution_count": 2,
   "id": "83abbb32",
   "metadata": {},
   "outputs": [],
   "source": [
    "import gymnasium as gym"
   ]
  },
  {
   "cell_type": "code",
   "execution_count": null,
   "id": "6e5714af",
   "metadata": {},
   "outputs": [],
   "source": [
    "env = gym.make(\"Blackjack-v1\", sab=False)"
   ]
  },
  {
   "cell_type": "code",
   "execution_count": 35,
   "id": "364ca618",
   "metadata": {},
   "outputs": [],
   "source": [
    "obs, info = env.reset()"
   ]
  },
  {
   "cell_type": "code",
   "execution_count": 36,
   "id": "8318bc17",
   "metadata": {},
   "outputs": [
    {
     "data": {
      "text/plain": [
       "(21, 10, 1)"
      ]
     },
     "execution_count": 36,
     "metadata": {},
     "output_type": "execute_result"
    }
   ],
   "source": [
    "obs"
   ]
  },
  {
   "cell_type": "code",
   "execution_count": 28,
   "id": "9f405d7e",
   "metadata": {},
   "outputs": [
    {
     "data": {
      "text/plain": [
       "(array([ 0.01558053,  0.23400599,  0.02022884, -0.2561227 ], dtype=float32),\n",
       " 1.0,\n",
       " False,\n",
       " False,\n",
       " {})"
      ]
     },
     "execution_count": 28,
     "metadata": {},
     "output_type": "execute_result"
    }
   ],
   "source": [
    "env.step(1)"
   ]
  },
  {
   "cell_type": "code",
   "execution_count": 37,
   "id": "2860e4d4",
   "metadata": {},
   "outputs": [
    {
     "name": "stdout",
     "output_type": "stream",
     "text": [
      "Help on method step in module gymnasium.wrappers.common:\n",
      "\n",
      "step(action: 'ActType') -> 'tuple[ObsType, SupportsFloat, bool, bool, dict]' method of gymnasium.wrappers.common.OrderEnforcing instance\n",
      "    Steps through the environment.\n",
      "\n"
     ]
    }
   ],
   "source": [
    "help(env.step)"
   ]
  },
  {
   "cell_type": "code",
   "execution_count": 38,
   "id": "ace8fba9",
   "metadata": {},
   "outputs": [
    {
     "data": {
      "text/plain": [
       "np.int64(0)"
      ]
     },
     "execution_count": 38,
     "metadata": {},
     "output_type": "execute_result"
    }
   ],
   "source": [
    "action.start"
   ]
  },
  {
   "cell_type": "code",
   "execution_count": 39,
   "id": "0684bddf",
   "metadata": {},
   "outputs": [
    {
     "name": "stdout",
     "output_type": "stream",
     "text": [
      "Help on method step in module gymnasium.wrappers.common:\n",
      "\n",
      "step(action: 'ActType') -> 'tuple[ObsType, SupportsFloat, bool, bool, dict]' method of gymnasium.wrappers.common.OrderEnforcing instance\n",
      "    Steps through the environment.\n",
      "\n"
     ]
    }
   ],
   "source": [
    "help(env.step)"
   ]
  },
  {
   "cell_type": "code",
   "execution_count": 40,
   "id": "c75ba115",
   "metadata": {},
   "outputs": [
    {
     "name": "stdout",
     "output_type": "stream",
     "text": [
      "    def step(self, action: ActType) -> tuple[ObsType, SupportsFloat, bool, bool, dict]:\n",
      "        \"\"\"Steps through the environment.\"\"\"\n",
      "        if not self._has_reset:\n",
      "            raise ResetNeeded(\"Cannot call env.step() before calling env.reset()\")\n",
      "        return super().step(action)\n",
      "\n"
     ]
    }
   ],
   "source": [
    "import inspect\n",
    "print(inspect.getsource(env.step))"
   ]
  },
  {
   "cell_type": "code",
   "execution_count": 33,
   "id": "ff2abf20",
   "metadata": {},
   "outputs": [
    {
     "name": "stdout",
     "output_type": "stream",
     "text": [
      "    def step(self, action: ActType) -> tuple[ObsType, SupportsFloat, bool, bool, dict]:\n",
      "        \"\"\"Steps through the environment.\"\"\"\n",
      "        if not self._has_reset:\n",
      "            raise ResetNeeded(\"Cannot call env.step() before calling env.reset()\")\n",
      "        return super().step(action)\n",
      "\n"
     ]
    }
   ],
   "source": [
    "print(inspect.getsource(env.env.step))"
   ]
  },
  {
   "cell_type": "code",
   "execution_count": null,
   "id": "94ed9573",
   "metadata": {},
   "outputs": [],
   "source": []
  }
 ],
 "metadata": {
  "kernelspec": {
   "display_name": ".venv",
   "language": "python",
   "name": "python3"
  },
  "language_info": {
   "codemirror_mode": {
    "name": "ipython",
    "version": 3
   },
   "file_extension": ".py",
   "mimetype": "text/x-python",
   "name": "python",
   "nbconvert_exporter": "python",
   "pygments_lexer": "ipython3",
   "version": "3.13.7"
  }
 },
 "nbformat": 4,
 "nbformat_minor": 5
}
