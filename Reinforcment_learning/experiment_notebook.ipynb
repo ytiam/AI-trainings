{
 "cells": [
  {
   "cell_type": "code",
   "execution_count": 28,
   "id": "8714c4e4",
   "metadata": {},
   "outputs": [],
   "source": [
    "from collections import defaultdict\n",
    "import numpy as np\n",
    "x = defaultdict(lambda: np.random.randn(10,3))"
   ]
  },
  {
   "cell_type": "code",
   "execution_count": 29,
   "id": "e78728c2",
   "metadata": {},
   "outputs": [
    {
     "data": {
      "text/plain": [
       "array([[-0.03567109,  2.04460426, -0.89745422],\n",
       "       [ 0.05001919, -0.15466154,  0.37622044],\n",
       "       [-1.59095755,  2.03006799,  0.93992254],\n",
       "       [-0.89094721, -0.46717411,  0.66167825],\n",
       "       [-0.46952572, -0.50617426, -0.77587331],\n",
       "       [ 0.47396705,  0.26601755,  0.67916422],\n",
       "       [ 0.07028864,  0.68276857,  0.68770849],\n",
       "       [ 1.22560319,  1.22448528, -1.35395989],\n",
       "       [-0.3674239 , -0.19028352, -0.26120699],\n",
       "       [ 1.58365192,  0.80339585, -0.74462637]])"
      ]
     },
     "execution_count": 29,
     "metadata": {},
     "output_type": "execute_result"
    }
   ],
   "source": [
    "x[2]"
   ]
  },
  {
   "cell_type": "code",
   "execution_count": 30,
   "id": "70feaa31",
   "metadata": {},
   "outputs": [
    {
     "data": {
      "text/plain": [
       "defaultdict(<function __main__.<lambda>()>,\n",
       "            {2: array([[-0.03567109,  2.04460426, -0.89745422],\n",
       "                    [ 0.05001919, -0.15466154,  0.37622044],\n",
       "                    [-1.59095755,  2.03006799,  0.93992254],\n",
       "                    [-0.89094721, -0.46717411,  0.66167825],\n",
       "                    [-0.46952572, -0.50617426, -0.77587331],\n",
       "                    [ 0.47396705,  0.26601755,  0.67916422],\n",
       "                    [ 0.07028864,  0.68276857,  0.68770849],\n",
       "                    [ 1.22560319,  1.22448528, -1.35395989],\n",
       "                    [-0.3674239 , -0.19028352, -0.26120699],\n",
       "                    [ 1.58365192,  0.80339585, -0.74462637]])})"
      ]
     },
     "execution_count": 30,
     "metadata": {},
     "output_type": "execute_result"
    }
   ],
   "source": [
    "x"
   ]
  },
  {
   "cell_type": "code",
   "execution_count": null,
   "id": "a0e49af9",
   "metadata": {},
   "outputs": [],
   "source": []
  }
 ],
 "metadata": {
  "kernelspec": {
   "display_name": ".venv",
   "language": "python",
   "name": "python3"
  },
  "language_info": {
   "codemirror_mode": {
    "name": "ipython",
    "version": 3
   },
   "file_extension": ".py",
   "mimetype": "text/x-python",
   "name": "python",
   "nbconvert_exporter": "python",
   "pygments_lexer": "ipython3",
   "version": "3.13.7"
  }
 },
 "nbformat": 4,
 "nbformat_minor": 5
}
