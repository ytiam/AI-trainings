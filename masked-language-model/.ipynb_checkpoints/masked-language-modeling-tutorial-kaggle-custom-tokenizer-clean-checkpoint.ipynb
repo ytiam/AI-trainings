{
 "cells": [
  {
   "cell_type": "markdown",
   "metadata": {},
   "source": [
    "# **Transformers Pre-Training: Masked Language Modeling**\n",
    "---\n",
    "\n",
    "- Implementing Encoder-Only Transformer model\n",
    "- Preparing the dataset from scratch\n",
    "- Training BERT-like tokenizer from scratch\n",
    "- Training from scratch with MLM objective\n",
    "- Trained on Wikipedia dataset from scratch"
   ]
  },
  {
   "cell_type": "markdown",
   "metadata": {},
   "source": [
    "# Imports\n",
    "---"
   ]
  },
  {
   "cell_type": "code",
   "execution_count": 1,
   "metadata": {
    "_cell_guid": "b1076dfc-b9ad-4769-8c92-a6c4dae69d19",
    "_uuid": "8f2839f25d086af736a60e9eeb907d3b93b6e0e5",
    "execution": {
     "iopub.execute_input": "2023-10-10T16:55:03.090756Z",
     "iopub.status.busy": "2023-10-10T16:55:03.090058Z",
     "iopub.status.idle": "2023-10-10T16:55:08.507861Z",
     "shell.execute_reply": "2023-10-10T16:55:08.506492Z",
     "shell.execute_reply.started": "2023-10-10T16:55:03.090722Z"
    }
   },
   "outputs": [],
   "source": [
    "import torch\n",
    "import torch.nn as nn\n",
    "import torch.nn.functional as F\n",
    "import numpy as np\n",
    "import pandas as pd\n",
    "import matplotlib.pyplot as plt\n",
    "from pathlib import Path\n",
    "from tqdm.auto import tqdm\n",
    "import random\n",
    "from sklearn.model_selection import train_test_split\n",
    "from tokenizers import Tokenizer\n",
    "from tokenizers.models import WordPiece\n",
    "from tokenizers import normalizers\n",
    "from tokenizers.normalizers import NFD, Lowercase, StripAccents\n",
    "from tokenizers.pre_tokenizers import Whitespace\n",
    "from tokenizers.trainers import WordPieceTrainer\n",
    "from tokenizers import decoders\n",
    "from sklearn.metrics import accuracy_score\n",
    "from transformers import AutoTokenizer\n",
    "from IPython.display import Image "
   ]
  },
  {
   "cell_type": "code",
   "execution_count": 2,
   "metadata": {},
   "outputs": [
    {
     "data": {
      "text/plain": [
       "True"
      ]
     },
     "execution_count": 2,
     "metadata": {},
     "output_type": "execute_result"
    }
   ],
   "source": [
    "torch.cuda.is_available()"
   ]
  },
  {
   "cell_type": "markdown",
   "metadata": {},
   "source": [
    "# Training Tokenizer\n",
    "---"
   ]
  },
  {
   "cell_type": "code",
   "execution_count": 3,
   "metadata": {
    "execution": {
     "iopub.execute_input": "2023-10-10T16:55:08.517204Z",
     "iopub.status.busy": "2023-10-10T16:55:08.514271Z",
     "iopub.status.idle": "2023-10-10T16:55:18.212697Z",
     "shell.execute_reply": "2023-10-10T16:55:18.211631Z",
     "shell.execute_reply.started": "2023-10-10T16:55:08.517166Z"
    }
   },
   "outputs": [
    {
     "data": {
      "text/plain": [
       "(70000, 63000, 5600, 1400)"
      ]
     },
     "execution_count": 3,
     "metadata": {},
     "output_type": "execute_result"
    }
   ],
   "source": [
    "with open('/home/data/sample_wikisent2.txt','r') as f:\n",
    "    lines = f.read().split('\\n')\n",
    "    lines = random.choices(lines,k=700_00)\n",
    "    lines = [ln for ln in lines if len(ln)>1]\n",
    "    train_lines, val_lines = train_test_split(lines,test_size=0.1,shuffle=True)\n",
    "    val_lines, test_lines = train_test_split(val_lines,test_size=0.2,shuffle=True)\n",
    "    \n",
    "len(lines), len(train_lines), len(val_lines), len(test_lines)"
   ]
  },
  {
   "cell_type": "code",
   "execution_count": 4,
   "metadata": {},
   "outputs": [],
   "source": [
    "tokenizer = AutoTokenizer.from_pretrained(\"bert-base-cased\")"
   ]
  },
  {
   "cell_type": "code",
   "execution_count": 5,
   "metadata": {},
   "outputs": [
    {
     "name": "stdout",
     "output_type": "stream",
     "text": [
      "this:101  is:1142  a:1110  sample:170  text:6876  !:3087  S:106  ##hr:156  ##ey:8167  ##as:2254  "
     ]
    },
    {
     "name": "stderr",
     "output_type": "stream",
     "text": [
      "2025-01-19 10:53:08.240830: I external/local_xla/xla/tsl/cuda/cudart_stub.cc:32] Could not find cuda drivers on your machine, GPU will not be used.\n",
      "2025-01-19 10:53:08.413495: E external/local_xla/xla/stream_executor/cuda/cuda_fft.cc:477] Unable to register cuFFT factory: Attempting to register factory for plugin cuFFT when one has already been registered\n",
      "WARNING: All log messages before absl::InitializeLog() is called are written to STDERR\n",
      "E0000 00:00:1737283988.508049      21 cuda_dnn.cc:8310] Unable to register cuDNN factory: Attempting to register factory for plugin cuDNN when one has already been registered\n",
      "E0000 00:00:1737283988.533427      21 cuda_blas.cc:1418] Unable to register cuBLAS factory: Attempting to register factory for plugin cuBLAS when one has already been registered\n",
      "2025-01-19 10:53:08.748328: I tensorflow/core/platform/cpu_feature_guard.cc:210] This TensorFlow binary is optimized to use available CPU instructions in performance-critical operations.\n",
      "To enable the following instructions: AVX2 FMA, in other operations, rebuild TensorFlow with the appropriate compiler flags.\n"
     ]
    },
    {
     "data": {
      "text/plain": [
       "'[CLS] this is a sample text! Shreyas [SEP]'"
      ]
     },
     "execution_count": 5,
     "metadata": {},
     "output_type": "execute_result"
    }
   ],
   "source": [
    "txt = 'this is a sample text! Shreyas'\n",
    "a = tokenizer.tokenize(txt)\n",
    "tok = tokenizer.encode(txt)\n",
    "for i,t in zip(a, tok):\n",
    "    print(f'{i}:{t} ',end=' ')\n",
    "tokenizer.decode(tok)"
   ]
  },
  {
   "cell_type": "code",
   "execution_count": 6,
   "metadata": {},
   "outputs": [
    {
     "data": {
      "text/plain": [
       "(100, 0, 103)"
      ]
     },
     "execution_count": 6,
     "metadata": {},
     "output_type": "execute_result"
    }
   ],
   "source": [
    "tokenizer.convert_tokens_to_ids(\"[UNK]\"),tokenizer.convert_tokens_to_ids(\"[PAD]\"),tokenizer.convert_tokens_to_ids(\"[MASK]\")"
   ]
  },
  {
   "cell_type": "markdown",
   "metadata": {},
   "source": [
    "### Tips for Pytorch data loader Custom Dataset classes"
   ]
  },
  {
   "cell_type": "markdown",
   "metadata": {},
   "source": [
    "If you want to create a custom data class to be used with `torch.utils.data.DataLoader`, you need to define a class that adheres to the `torch.utils.data.Dataset` interface. Specifically, you need to implement the following methods in your custom dataset class:\n",
    "\n",
    "---\n",
    "\n",
    "### 1. **`__len__`**\n",
    "- This method should return the number of samples in your dataset.\n",
    "- It enables the `DataLoader` to know the size of the dataset and how many batches to create.\n",
    "\n",
    "**Example:**\n",
    "```python\n",
    "def __len__(self):\n",
    "    return len(self.data)  # Replace with the length of your dataset\n",
    "```\n",
    "\n",
    "---\n",
    "\n",
    "### 2. **`__getitem__`**\n",
    "- This method retrieves a single sample from your dataset at the specified index.\n",
    "- It should return the data and label (or whatever information your dataset contains) in a format expected by your model.\n",
    "\n",
    "**Example:**\n",
    "```python\n",
    "def __getitem__(self, idx):\n",
    "    sample = self.data[idx]  # Replace with how you access your data\n",
    "    label = self.labels[idx]  # Replace with how you access your labels\n",
    "    return sample, label\n",
    "```\n",
    "\n",
    "---\n",
    "\n",
    "### Optional: **Other Custom Methods**\n",
    "Depending on your dataset's requirements, you might also define additional methods or custom logic:\n",
    "1. **Preprocessing or Augmentation:**\n",
    "   - Apply transformations to the data (e.g., normalization, cropping, or flipping).\n",
    "   - Use `torchvision.transforms` or define your own.\n",
    "\n",
    "**Example:**\n",
    "```python\n",
    "def __getitem__(self, idx):\n",
    "    sample = self.data[idx]\n",
    "    label = self.labels[idx]\n",
    "    if self.transform:\n",
    "        sample = self.transform(sample)\n",
    "    return sample, label\n",
    "```\n",
    "\n",
    "2. **Initialization (`__init__`):**\n",
    "   - Load the dataset, handle file paths, and set up any preprocessing steps or metadata.\n",
    "\n",
    "**Example:**\n",
    "```python\n",
    "def __init__(self, data, labels, transform=None):\n",
    "    self.data = data\n",
    "    self.labels = labels\n",
    "    self.transform = transform\n",
    "```\n",
    "\n",
    "---\n",
    "\n",
    "### Full Example: Custom Dataset Class\n",
    "Here’s a complete example:\n",
    "```python\n",
    "from torch.utils.data import Dataset\n",
    "\n",
    "class CustomDataset(Dataset):\n",
    "    def __init__(self, data, labels, transform=None):\n",
    "        self.data = data\n",
    "        self.labels = labels\n",
    "        self.transform = transform\n",
    "\n",
    "    def __len__(self):\n",
    "        return len(self.data)\n",
    "\n",
    "    def __getitem__(self, idx):\n",
    "        sample = self.data[idx]\n",
    "        label = self.labels[idx]\n",
    "        if self.transform:\n",
    "            sample = self.transform(sample)\n",
    "        return sample, label\n",
    "```\n",
    "\n",
    "---\n",
    "\n",
    "### Integration with DataLoader\n",
    "You can now use your custom dataset with `DataLoader`:\n",
    "```python\n",
    "from torch.utils.data import DataLoader\n",
    "\n",
    "# Example data\n",
    "data = [[1, 2], [3, 4], [5, 6], [7, 8]]\n",
    "labels = [0, 1, 0, 1]\n",
    "\n",
    "# Instantiate the dataset\n",
    "dataset = CustomDataset(data, labels)\n",
    "\n",
    "# Create a DataLoader\n",
    "dataloader = DataLoader(dataset, batch_size=2, shuffle=True)\n",
    "\n",
    "# Iterate through the DataLoader\n",
    "for batch in dataloader:\n",
    "    print(batch)\n",
    "```\n",
    "\n",
    "---\n",
    "\n",
    "### Advanced Usage\n",
    "1. **Dynamic Datasets**: Override `__getitem__` to handle dynamic data loading (e.g., from disk or a database).\n",
    "2. **Weighted Sampling**: Pair with `torch.utils.data.WeightedRandomSampler` to sample data non-uniformly.\n",
    "3. **Custom Collate Function**: Pass a `collate_fn` to `DataLoader` for custom batching logic.\n",
    "\n",
    "By implementing these methods, your custom dataset will be fully compatible with PyTorch's `DataLoader`."
   ]
  },
  {
   "cell_type": "markdown",
   "metadata": {},
   "source": [
    "# Preparing Dataset\n",
    "---\n",
    "\n",
    "- in Masked Language Modeling, the loss calculation is similar to that of causalLMs\n",
    "- the inputs and the labels are identical in terms of position\n",
    "- in the inputs:\n",
    "    - 15% of the tokens are masked / replaced randomly by the `[MASK]` token\n",
    "    - this 15% doesn't include the pad tokens\n",
    "- in the labels:\n",
    "    - the ground-truth tokens which were masked in the inputs are present in the labels\n",
    "    - all other tokens are ignored (set to -100) by the default behaviour of nn.CrossEntropyLoss    "
   ]
  },
  {
   "cell_type": "code",
   "execution_count": 7,
   "metadata": {},
   "outputs": [
    {
     "data": {
      "image/jpeg": "[encoded data removed]",
      "text/plain": [
       "<IPython.core.display.Image object>"
      ]
     },
     "execution_count": 7,
     "metadata": {},
     "output_type": "execute_result"
    }
   ],
   "source": [
    "Image(filename='../../data/mask_language_model.jpg')"
   ]
  },
  {
   "cell_type": "markdown",
   "metadata": {},
   "source": [
    "## Cross-Entropy Calculation (Detailed Step by Step)"
   ]
  },
  {
   "cell_type": "markdown",
   "metadata": {},
   "source": [
    "- https://chatgpt.com/share/6783aa14-455c-800f-bda8-ae4108c4b99a\n",
    "- Personal study notes in tab"
   ]
  },
  {
   "cell_type": "code",
   "execution_count": 8,
   "metadata": {},
   "outputs": [],
   "source": [
    "class MLMDataset:\n",
    "    def __init__(self,lines):\n",
    "        self.lines = lines\n",
    "    def __len__(self,):\n",
    "        return len(self.lines)\n",
    "    def __getitem__(self,idx):\n",
    "        line = self.lines[idx]\n",
    "        ids = tokenizer.encode(line, padding=\"max_length\", max_length=128, truncation=True, )\n",
    "        labels = ids.copy()\n",
    "        return ids, labels\n",
    "    \n",
    "def collate_fn(batch):\n",
    "    input_ids = [torch.tensor(i[0]) for i in batch]\n",
    "    labels = [torch.tensor(i[1]) for i in batch]\n",
    "    input_ids = torch.stack(input_ids)\n",
    "    labels = torch.stack(labels)\n",
    "    # mask 15% of text leaving [PAD]\n",
    "    mlm_mask = torch.rand(input_ids.size()) < 0.15 * (input_ids!=0)\n",
    "    masked_tokens = input_ids * mlm_mask\n",
    "    labels[masked_tokens==0]=-100 # set all tokens except masked tokens to -100\n",
    "    input_ids[masked_tokens!=0]=103 # MASK TOKEN\n",
    "    return input_ids, labels"
   ]
  },
  {
   "cell_type": "code",
   "execution_count": 9,
   "metadata": {
    "execution": {
     "iopub.execute_input": "2023-10-10T16:55:25.026228Z",
     "iopub.status.busy": "2023-10-10T16:55:25.024748Z",
     "iopub.status.idle": "2023-10-10T16:55:25.035561Z",
     "shell.execute_reply": "2023-10-10T16:55:25.034494Z",
     "shell.execute_reply.started": "2023-10-10T16:55:25.026194Z"
    }
   },
   "outputs": [],
   "source": [
    "ds = MLMDataset(lines)\n",
    "dl = torch.utils.data.DataLoader(ds,batch_size=2,shuffle=True,collate_fn=collate_fn)"
   ]
  },
  {
   "cell_type": "markdown",
   "metadata": {},
   "source": [
    "## this is how a sample looks\n",
    "---"
   ]
  },
  {
   "cell_type": "code",
   "execution_count": 10,
   "metadata": {
    "execution": {
     "iopub.execute_input": "2023-10-10T16:55:25.044721Z",
     "iopub.status.busy": "2023-10-10T16:55:25.040598Z",
     "iopub.status.idle": "2023-10-10T16:55:25.165339Z",
     "shell.execute_reply": "2023-10-10T16:55:25.163954Z",
     "shell.execute_reply.started": "2023-10-10T16:55:25.044686Z"
    }
   },
   "outputs": [
    {
     "name": "stdout",
     "output_type": "stream",
     "text": [
      "tensor([  101,  1109,  8170,   117,  1227,  6889,  1112,  2161,   160, 14788,\n",
      "          103,  4671,   117,  1110,  1388,  1373,  1103,  2359, 16084,   103,\n",
      "         2161,   103, 14788, 16339,   119,   102,     0,     0,     0,     0,\n",
      "            0,     0,     0,     0,     0,     0,     0,     0,     0,     0,\n",
      "            0,     0,     0,     0,     0,     0,     0,     0,     0,     0,\n",
      "            0,     0,     0,     0,     0,     0,     0,     0,     0,     0,\n",
      "            0,     0,     0,     0,     0,     0,     0,     0,     0,     0,\n",
      "            0,     0,     0,     0,     0,     0,     0,     0,     0,     0,\n",
      "            0,     0,     0,     0,     0,     0,     0,     0,     0,     0,\n",
      "            0,     0,     0,     0,     0,     0,     0,     0,     0,     0,\n",
      "            0,     0,     0,     0,     0,     0,     0,     0,     0,     0,\n",
      "            0,     0,     0,     0,     0,     0,     0,     0,     0,     0,\n",
      "            0,     0,     0,     0,     0,     0,     0,     0])\n",
      "tensor([ -100,  -100,  -100,  -100,  -100,  -100,  -100,  -100,  -100,  -100,\n",
      "        16339,  -100,  -100,  -100,  -100,  -100,  -100,  -100,  -100,  1104,\n",
      "         -100,   160,  -100,  -100,  -100,  -100,  -100,  -100,  -100,  -100,\n",
      "         -100,  -100,  -100,  -100,  -100,  -100,  -100,  -100,  -100,  -100,\n",
      "         -100,  -100,  -100,  -100,  -100,  -100,  -100,  -100,  -100,  -100,\n",
      "         -100,  -100,  -100,  -100,  -100,  -100,  -100,  -100,  -100,  -100,\n",
      "         -100,  -100,  -100,  -100,  -100,  -100,  -100,  -100,  -100,  -100,\n",
      "         -100,  -100,  -100,  -100,  -100,  -100,  -100,  -100,  -100,  -100,\n",
      "         -100,  -100,  -100,  -100,  -100,  -100,  -100,  -100,  -100,  -100,\n",
      "         -100,  -100,  -100,  -100,  -100,  -100,  -100,  -100,  -100,  -100,\n",
      "         -100,  -100,  -100,  -100,  -100,  -100,  -100,  -100,  -100,  -100,\n",
      "         -100,  -100,  -100,  -100,  -100,  -100,  -100,  -100,  -100,  -100,\n",
      "         -100,  -100,  -100,  -100,  -100,  -100,  -100,  -100])\n"
     ]
    }
   ],
   "source": [
    "i,l = next(iter(dl))\n",
    "print(i[1])\n",
    "print(l[1])"
   ]
  },
  {
   "cell_type": "markdown",
   "metadata": {},
   "source": [
    "# Encoder-Only Transformer Model\n",
    "---\n",
    "\n",
    "- straightforward simple implementation.\n",
    "- nn.LayerNorm replaced with RMSNorm which is preferred to by many.\n",
    "- It looks like BERT but it is not BERT. BERT is more complicated than this.\n",
    "- Only implementing the MLM part of BERT so no need of [CLS] and [SEP] tokens\n",
    "- Learned positional embeddings instead of sinusoidal in BERT.\n",
    "- We can have a mask for the encoder self-attention as well by masking out the pad tokens so attention layers ignore the extra stuff.\n",
    "- For inference currently only supports batch size of 1.\n",
    "- After the encoder outputs pass through the `dim->vocab` Linear layer, the logits at the position where the token was masked are softmaxed and then with argmax the token that's supposed to be there is predicted.\n",
    "\n",
    "```\n",
    "out: 1 x 128 x 256\n",
    "if the input sequence for inference was masked at position 4, we extract 1 x 256 at index 4:\n",
    "preds: out[:,4,:]\n",
    "softmax -> argmax\n",
    "preds: predicted token\n",
    "```"
   ]
  },
  {
   "cell_type": "markdown",
   "metadata": {},
   "source": [
    "RMSNorm (Root Mean Square Normalization) is a normalization technique used primarily in neural networks, particularly in transformer architectures, as an alternative to LayerNorm. It was introduced to address some of the inefficiencies of LayerNorm and has been shown to work well in practice, particularly in large-scale models.\n",
    "\n",
    "### How RMSNorm Works\n",
    "RMSNorm normalizes inputs using their root mean square (RMS) rather than their mean and variance. It avoids computing the mean, focusing instead on the magnitude of the input vector, which can lead to faster computations and simpler implementation. \n",
    "\n",
    "### Formula\n",
    "For a given input vector $$x \\in \\mathbb{R}^d :$$\n",
    "1. Compute the RMS of the vector:\n",
    "   $$\n",
    "   \\text{RMS}(x) = \\sqrt{\\frac{1}{d} \\sum_{i=1}^d x_i^2}\n",
    "   $$\n",
    "\n",
    "2. Normalize the input:\n",
    "   $$\n",
    "   y = \\frac{x}{\\text{RMS}(x)} \\odot \\gamma\n",
    "   $$\n",
    "   Here:\n",
    "   - $\\gamma$ is a learned scaling parameter (similar to LayerNorm),\n",
    "   - $\\odot$ denotes element-wise multiplication.\n",
    "\n",
    "### Key Differences from LayerNorm\n",
    "- **Efficiency**: RMSNorm avoids computing the mean, making it computationally simpler and potentially faster.\n",
    "- **No Subtraction Step**: LayerNorm subtracts the mean from the input before normalization, while RMSNorm directly normalizes using RMS.\n",
    "- **Scale Invariance**: RMSNorm is inherently scale-invariant because it doesn't depend on the mean of the input, which can help in some scenarios.\n",
    "\n",
    "### Advantages\n",
    "- **Efficiency**: Computationally less intensive than LayerNorm.\n",
    "- **Stability**: Works well in scenarios where LayerNorm might struggle with small batch sizes or specific scaling issues.\n",
    "- **Flexibility**: Often used in transformer-based models where speed and simplicity are crucial.\n",
    "\n",
    "### Disadvantages\n",
    "- **No Mean Adjustment**: By not centering the input (subtracting the mean), RMSNorm may not always capture certain input characteristics that LayerNorm does.\n",
    "\n",
    "### Applications\n",
    "RMSNorm has been used in transformer models and large language models as a replacement for LayerNorm. It’s particularly popular in scenarios where:\n",
    "- Large-scale models need efficient computation,\n",
    "- Normalization must maintain scale invariance.\n",
    "\n",
    "If you'd like, I can provide PyTorch code to implement RMSNorm! Let me know."
   ]
  },
  {
   "cell_type": "code",
   "execution_count": 11,
   "metadata": {
    "execution": {
     "iopub.execute_input": "2023-10-10T16:55:25.173087Z",
     "iopub.status.busy": "2023-10-10T16:55:25.170495Z",
     "iopub.status.idle": "2023-10-10T16:55:25.187887Z",
     "shell.execute_reply": "2023-10-10T16:55:25.186928Z",
     "shell.execute_reply.started": "2023-10-10T16:55:25.173036Z"
    }
   },
   "outputs": [],
   "source": [
    "# https://github.com/bzhangGo/rmsnorm/blob/master/rmsnorm_torch.py\n",
    "class RMSNorm(nn.Module):\n",
    "    def __init__(self, d, p=-1., eps=1e-8, bias=False):\n",
    "        \"\"\"\n",
    "            Root Mean Square Layer Normalization\n",
    "        :param d: model size\n",
    "        :param p: partial RMSNorm, valid value [0, 1], default -1.0 (disabled)\n",
    "        :param eps:  epsilon value, default 1e-8\n",
    "        :param bias: whether use bias term for RMSNorm, disabled by\n",
    "            default because RMSNorm doesn't enforce re-centering invariance.\n",
    "        \"\"\"\n",
    "        super(RMSNorm, self).__init__()\n",
    "\n",
    "        self.eps = eps\n",
    "        self.d = d\n",
    "        self.p = p\n",
    "        self.bias = bias\n",
    "\n",
    "        self.scale = nn.Parameter(torch.ones(d))\n",
    "        self.register_parameter(\"scale\", self.scale)\n",
    "\n",
    "        if self.bias:\n",
    "            self.offset = nn.Parameter(torch.zeros(d))\n",
    "            self.register_parameter(\"offset\", self.offset)\n",
    "\n",
    "    def forward(self, x):\n",
    "        if self.p < 0. or self.p > 1.:\n",
    "            norm_x = x.norm(2, dim=-1, keepdim=True)\n",
    "            d_x = self.d\n",
    "        else:\n",
    "            partial_size = int(self.d * self.p)\n",
    "            partial_x, _ = torch.split(x, [partial_size, self.d - partial_size], dim=-1)\n",
    "\n",
    "            norm_x = partial_x.norm(2, dim=-1, keepdim=True)\n",
    "            d_x = partial_size\n",
    "\n",
    "        rms_x = norm_x * d_x ** (-1. / 2)\n",
    "        x_normed = x / (rms_x + self.eps)\n",
    "\n",
    "        if self.bias:\n",
    "            return self.scale * x_normed + self.offset\n",
    "\n",
    "        return self.scale * x_normed"
   ]
  },
  {
   "cell_type": "code",
   "execution_count": 12,
   "metadata": {
    "execution": {
     "iopub.execute_input": "2023-10-10T16:55:25.196069Z",
     "iopub.status.busy": "2023-10-10T16:55:25.192884Z",
     "iopub.status.idle": "2023-10-10T16:55:25.210709Z",
     "shell.execute_reply": "2023-10-10T16:55:25.209748Z",
     "shell.execute_reply.started": "2023-10-10T16:55:25.196033Z"
    }
   },
   "outputs": [],
   "source": [
    "class MultiheadAttention(nn.Module):\n",
    "    def __init__(self, dim, n_heads, dropout=0.):\n",
    "        super().__init__()\n",
    "        self.dim = dim\n",
    "        self.n_heads = n_heads\n",
    "        assert dim % n_heads == 0, 'dim should be div by n_heads'\n",
    "        self.head_dim = self.dim // self.n_heads\n",
    "        self.in_proj = nn.Linear(dim,dim*3,bias=False)\n",
    "        self.attn_dropout = nn.Dropout(dropout)\n",
    "        self.scale = self.head_dim ** -0.5\n",
    "        self.out_proj = nn.Linear(dim,dim)\n",
    "        \n",
    "    def forward(self,x,mask=None):\n",
    "        b,t,c = x.shape\n",
    "        q,k,v = self.in_proj(x).chunk(3,dim=-1)\n",
    "        q = q.view(b,t,self.n_heads,self.head_dim).permute(0,2,1,3)\n",
    "        k = k.view(b,t,self.n_heads,self.head_dim).permute(0,2,1,3)\n",
    "        v = v.view(b,t,self.n_heads,self.head_dim).permute(0,2,1,3)\n",
    "        \n",
    "        qkT = torch.matmul(q,k.transpose(-1,-2)) * self.scale\n",
    "        qkT = self.attn_dropout(qkT)\n",
    "        \n",
    "        if mask is not None:\n",
    "            mask = mask.to(dtype=qkT.dtype,device=qkT.device)\n",
    "            qkT = qkT.masked_fill(mask==0,float('-inf'))\n",
    "            \n",
    "              \n",
    "        qkT = F.softmax(qkT,dim=-1)\n",
    "        attn = torch.matmul(qkT,v)\n",
    "        attn = attn.permute(0,2,1,3).contiguous().view(b,t,c)\n",
    "        out = self.out_proj(attn)\n",
    "        \n",
    "        return out"
   ]
  },
  {
   "cell_type": "code",
   "execution_count": 13,
   "metadata": {
    "execution": {
     "iopub.execute_input": "2023-10-10T16:55:25.217846Z",
     "iopub.status.busy": "2023-10-10T16:55:25.215703Z",
     "iopub.status.idle": "2023-10-10T16:55:25.227639Z",
     "shell.execute_reply": "2023-10-10T16:55:25.226507Z",
     "shell.execute_reply.started": "2023-10-10T16:55:25.217811Z"
    }
   },
   "outputs": [],
   "source": [
    "class FeedForward(nn.Module):\n",
    "    def __init__(self,dim,dropout=0.):\n",
    "        super().__init__()\n",
    "        self.feed_forward = nn.Sequential(\n",
    "            nn.Linear(dim,dim*4),\n",
    "            nn.Dropout(dropout),\n",
    "            nn.GELU(),\n",
    "            nn.Linear(dim*4,dim)\n",
    "        )\n",
    "        \n",
    "    def forward(self, x):\n",
    "        return self.feed_forward(x)"
   ]
  },
  {
   "cell_type": "code",
   "execution_count": 14,
   "metadata": {
    "execution": {
     "iopub.execute_input": "2023-10-10T16:55:25.230104Z",
     "iopub.status.busy": "2023-10-10T16:55:25.229385Z",
     "iopub.status.idle": "2023-10-10T16:55:25.241339Z",
     "shell.execute_reply": "2023-10-10T16:55:25.240183Z",
     "shell.execute_reply.started": "2023-10-10T16:55:25.230068Z"
    }
   },
   "outputs": [],
   "source": [
    "class EncoderBlock(nn.Module):\n",
    "    def __init__(self, dim, n_heads, attn_dropout=0., mlp_dropout=0.):\n",
    "        super().__init__()\n",
    "        self.attn = MultiheadAttention(dim,n_heads,attn_dropout)\n",
    "        self.ffd = FeedForward(dim,mlp_dropout)\n",
    "        self.ln_1 = RMSNorm(dim)\n",
    "        self.ln_2 = RMSNorm(dim)\n",
    "        \n",
    "    def forward(self,x,mask=None):\n",
    "        x = self.ln_1(x)\n",
    "        x = x + self.attn(x,mask)\n",
    "        x = self.ln_2(x)\n",
    "        x = x + self.ffd(x)\n",
    "        return x"
   ]
  },
  {
   "cell_type": "code",
   "execution_count": 15,
   "metadata": {
    "execution": {
     "iopub.execute_input": "2023-10-10T16:55:25.245792Z",
     "iopub.status.busy": "2023-10-10T16:55:25.243815Z",
     "iopub.status.idle": "2023-10-10T16:55:25.257677Z",
     "shell.execute_reply": "2023-10-10T16:55:25.256427Z",
     "shell.execute_reply.started": "2023-10-10T16:55:25.245756Z"
    }
   },
   "outputs": [],
   "source": [
    "class Embedding(nn.Module):\n",
    "    def __init__(self,vocab_size,max_len,dim):\n",
    "        super().__init__()\n",
    "        self.max_len = max_len\n",
    "        self.class_embedding = nn.Embedding(vocab_size,dim)\n",
    "        self.pos_embedding = nn.Embedding(max_len,dim)\n",
    "    def forward(self,x):\n",
    "        x = self.class_embedding(x)\n",
    "        pos = torch.arange(0,x.size(1),device=x.device)\n",
    "        x = x + self.pos_embedding(pos)\n",
    "        return x"
   ]
  },
  {
   "cell_type": "code",
   "execution_count": 16,
   "metadata": {
    "execution": {
     "iopub.execute_input": "2023-10-10T16:55:25.260274Z",
     "iopub.status.busy": "2023-10-10T16:55:25.259889Z",
     "iopub.status.idle": "2023-10-10T16:55:25.291077Z",
     "shell.execute_reply": "2023-10-10T16:55:25.284695Z",
     "shell.execute_reply.started": "2023-10-10T16:55:25.260241Z"
    }
   },
   "outputs": [],
   "source": [
    "class MLMBERT(nn.Module):\n",
    "    def __init__(self, config):\n",
    "        \n",
    "        super().__init__()\n",
    "        \n",
    "        self.embedding = Embedding(config['vocab_size'],config['max_len'],config['dim'])\n",
    "        \n",
    "        self.depth = config['depth']\n",
    "        self.encoders = nn.ModuleList([\n",
    "            EncoderBlock(\n",
    "                dim=config['dim'],\n",
    "                n_heads=config['n_heads'],\n",
    "                attn_dropout=config['attn_dropout'],\n",
    "                mlp_dropout=config['mlp_dropout']\n",
    "            ) for _ in range(self.depth)\n",
    "        ])\n",
    "        \n",
    "        self.ln_f = RMSNorm(config['dim'])\n",
    "        \n",
    "        self.mlm_head = nn.Linear(config['dim'],config['vocab_size'],bias=False)\n",
    "        \n",
    "        self.embedding.class_embedding.weight = self.mlm_head.weight # weight tying\n",
    "        \n",
    "        self.pad_token_id = config['pad_token_id']\n",
    "        self.mask_token_id = config['mask_token_id']\n",
    "        \n",
    "        self.apply(self._init_weights)\n",
    "        \n",
    "    def _init_weights(self, module):\n",
    "        if isinstance(module, nn.Linear):\n",
    "            torch.nn.init.normal_(module.weight, mean=0.0, std=0.02)\n",
    "            if module.bias is not None:\n",
    "                torch.nn.init.zeros_(module.bias)\n",
    "        elif isinstance(module, nn.Embedding):\n",
    "            torch.nn.init.normal_(module.weight, mean=0.0, std=0.02)\n",
    "        \n",
    "    def create_src_mask(self,src):\n",
    "        return (src != self.pad_token_id).unsqueeze(1).unsqueeze(2) # N, 1, 1, src_len\n",
    "    \n",
    "    def forward(self,input_ids,labels=None):\n",
    "        \n",
    "        src_mask = self.create_src_mask(input_ids)\n",
    "        \n",
    "        enc_out = self.embedding(input_ids)\n",
    "\n",
    "        for layer in self.encoders:\n",
    "            enc_out = layer(enc_out,mask=src_mask)\n",
    "        \n",
    "        enc_out = self.ln_f(enc_out)\n",
    "        \n",
    "        logits = self.mlm_head(enc_out)\n",
    "        \n",
    "        if labels is not None:\n",
    "            #loss = F.cross_entropy(logits.view(-1,logits.size(-1)),labels.view(-1))\n",
    "            # Masked token positions\n",
    "            mask_positions = (input_ids == self.mask_token_id)\n",
    "\n",
    "            # Select logits and labels only for masked positions\n",
    "            masked_logits = logits[mask_positions]\n",
    "            masked_labels = labels[mask_positions]\n",
    "\n",
    "            # Compute loss only on masked positions\n",
    "            loss = F.cross_entropy(masked_logits, masked_labels)\n",
    "            return {'loss': loss, 'logits': logits}\n",
    "        else:\n",
    "            # assuming inference input_ids only have 1 [MASK] token\n",
    "            mask_idx = (input_ids==self.mask_token_id).flatten().nonzero().item()\n",
    "            mask_preds = F.softmax(logits[:,mask_idx,:],dim=-1).argmax(dim=-1)\n",
    "            return {'mask_predictions':mask_preds}"
   ]
  },
  {
   "cell_type": "markdown",
   "metadata": {},
   "source": [
    "# Training Preparation\n",
    "---"
   ]
  },
  {
   "cell_type": "code",
   "execution_count": 17,
   "metadata": {},
   "outputs": [
    {
     "data": {
      "text/plain": [
       "28996"
      ]
     },
     "execution_count": 17,
     "metadata": {},
     "output_type": "execute_result"
    }
   ],
   "source": [
    "tokenizer.vocab_size"
   ]
  },
  {
   "cell_type": "code",
   "execution_count": 18,
   "metadata": {
    "execution": {
     "iopub.execute_input": "2023-10-10T16:55:25.292872Z",
     "iopub.status.busy": "2023-10-10T16:55:25.292492Z",
     "iopub.status.idle": "2023-10-10T16:55:25.306915Z",
     "shell.execute_reply": "2023-10-10T16:55:25.305597Z",
     "shell.execute_reply.started": "2023-10-10T16:55:25.292837Z"
    }
   },
   "outputs": [],
   "source": [
    "config = {\n",
    "    'dim': 256,\n",
    "    'n_heads': 4,\n",
    "    'attn_dropout': 0.1,\n",
    "    'mlp_dropout': 0.1,\n",
    "    'depth': 8,\n",
    "    'vocab_size': 28996,\n",
    "    'max_len': 128,\n",
    "    'pad_token_id': 0,\n",
    "    'mask_token_id': 103\n",
    "}"
   ]
  },
  {
   "cell_type": "code",
   "execution_count": 21,
   "metadata": {
    "execution": {
     "iopub.execute_input": "2023-10-10T16:55:25.31051Z",
     "iopub.status.busy": "2023-10-10T16:55:25.308443Z",
     "iopub.status.idle": "2023-10-10T16:55:28.992207Z",
     "shell.execute_reply": "2023-10-10T16:55:28.991154Z",
     "shell.execute_reply.started": "2023-10-10T16:55:25.31047Z"
    }
   },
   "outputs": [
    {
     "name": "stdout",
     "output_type": "stream",
     "text": [
      "trainable: 13763840\n"
     ]
    }
   ],
   "source": [
    "model = MLMBERT(config).to('cuda')\n",
    "print('trainable:',sum([p.numel() for p in model.parameters() if p.requires_grad]))"
   ]
  },
  {
   "cell_type": "code",
   "execution_count": 22,
   "metadata": {
    "execution": {
     "iopub.execute_input": "2023-10-10T16:55:28.994277Z",
     "iopub.status.busy": "2023-10-10T16:55:28.993905Z",
     "iopub.status.idle": "2023-10-10T16:55:28.999535Z",
     "shell.execute_reply": "2023-10-10T16:55:28.998621Z",
     "shell.execute_reply.started": "2023-10-10T16:55:28.994241Z"
    }
   },
   "outputs": [],
   "source": [
    "train_ds = MLMDataset(train_lines)\n",
    "val_ds = MLMDataset(val_lines)"
   ]
  },
  {
   "cell_type": "code",
   "execution_count": 23,
   "metadata": {
    "execution": {
     "iopub.execute_input": "2023-10-10T16:55:29.001742Z",
     "iopub.status.busy": "2023-10-10T16:55:29.000924Z",
     "iopub.status.idle": "2023-10-10T16:55:29.013729Z",
     "shell.execute_reply": "2023-10-10T16:55:29.012743Z",
     "shell.execute_reply.started": "2023-10-10T16:55:29.001707Z"
    }
   },
   "outputs": [],
   "source": [
    "train_dl = torch.utils.data.DataLoader(train_ds, batch_size=60, shuffle=True, collate_fn=collate_fn)\n",
    "val_dl = torch.utils.data.DataLoader(val_ds, batch_size=60, shuffle=False, collate_fn=collate_fn)"
   ]
  },
  {
   "cell_type": "markdown",
   "metadata": {},
   "source": [
    "## Calculating accuracy by masking only 1 token\n",
    "---\n",
    "\n",
    "- Not a great metric but I wanted something basic to begin with."
   ]
  },
  {
   "cell_type": "code",
   "execution_count": 24,
   "metadata": {
    "execution": {
     "iopub.execute_input": "2023-10-10T16:55:29.015359Z",
     "iopub.status.busy": "2023-10-10T16:55:29.014963Z",
     "iopub.status.idle": "2023-10-10T16:55:29.445752Z",
     "shell.execute_reply": "2023-10-10T16:55:29.444784Z",
     "shell.execute_reply.started": "2023-10-10T16:55:29.015324Z"
    }
   },
   "outputs": [
    {
     "data": {
      "application/vnd.jupyter.widget-view+json": {
       "model_id": "9ee2a37b3ceb4826b7ab5e04bfb64c2b",
       "version_major": 2,
       "version_minor": 0
      },
      "text/plain": [
       "  0%|          | 0/1400 [00:00<?, ?it/s]"
      ]
     },
     "metadata": {},
     "output_type": "display_data"
    }
   ],
   "source": [
    "# TEST : SINGLE TOKEN MASKING\n",
    "\n",
    "test_actuals = []\n",
    "test_batches = []\n",
    "for ln in tqdm(test_lines):\n",
    "    tokenized = tokenizer(ln, padding=\"max_length\", max_length=128, truncation=True, add_special_tokens=True, return_special_tokens_mask=True)\n",
    "    fi = len(tokenized.input_ids)\n",
    "    if 1 in tokenized.special_tokens_mask:\n",
    "        fi = torch.tensor(tokenized.special_tokens_mask[1:]).nonzero()[0].item() # ignore [PAD]\n",
    "    m = torch.randint(0,fi,(1,)).item() # select random token to mask\n",
    "    input_ids = torch.tensor(tokenized.input_ids)\n",
    "    test_actuals.append(input_ids[m].item())\n",
    "    input_ids[m]=103 # replace with [MASK]\n",
    "    test_batches.append(input_ids)"
   ]
  },
  {
   "cell_type": "markdown",
   "metadata": {},
   "source": [
    "# Training\n",
    "---"
   ]
  },
  {
   "cell_type": "code",
   "execution_count": 25,
   "metadata": {
    "execution": {
     "iopub.execute_input": "2023-10-10T16:55:29.448191Z",
     "iopub.status.busy": "2023-10-10T16:55:29.447201Z",
     "iopub.status.idle": "2023-10-10T16:55:29.453627Z",
     "shell.execute_reply": "2023-10-10T16:55:29.452655Z",
     "shell.execute_reply.started": "2023-10-10T16:55:29.448156Z"
    }
   },
   "outputs": [],
   "source": [
    "epochs = 20\n",
    "train_losses = []\n",
    "valid_losses = []\n",
    "test_accuracies = []\n",
    "best_val_loss = 1e9"
   ]
  },
  {
   "cell_type": "code",
   "execution_count": 26,
   "metadata": {
    "execution": {
     "iopub.execute_input": "2023-10-10T16:55:29.456267Z",
     "iopub.status.busy": "2023-10-10T16:55:29.455315Z",
     "iopub.status.idle": "2023-10-10T16:55:29.467448Z",
     "shell.execute_reply": "2023-10-10T16:55:29.46614Z",
     "shell.execute_reply.started": "2023-10-10T16:55:29.45623Z"
    }
   },
   "outputs": [],
   "source": [
    "optim = torch.optim.Adam(model.parameters(),lr=6e-4 / 25) #lr = 6e-4 / 25.\n",
    "sched = torch.optim.lr_scheduler.OneCycleLR(optim,max_lr=6e-4,steps_per_epoch=len(train_dl),epochs=epochs)"
   ]
  },
  {
   "cell_type": "code",
   "execution_count": 27,
   "metadata": {
    "execution": {
     "iopub.execute_input": "2023-10-10T16:55:29.469823Z",
     "iopub.status.busy": "2023-10-10T16:55:29.4692Z",
     "iopub.status.idle": "2023-10-10T16:58:12.890648Z",
     "shell.execute_reply": "2023-10-10T16:58:12.889686Z",
     "shell.execute_reply.started": "2023-10-10T16:55:29.469787Z"
    },
    "scrolled": false
   },
   "outputs": [
    {
     "data": {
      "application/vnd.jupyter.widget-view+json": {
       "model_id": "d9e25f2152d64120b96f5449ff1c08c0",
       "version_major": 2,
       "version_minor": 0
      },
      "text/plain": [
       "  0%|          | 0/20 [00:00<?, ?it/s]"
      ]
     },
     "metadata": {},
     "output_type": "display_data"
    },
    {
     "data": {
      "application/vnd.jupyter.widget-view+json": {
       "model_id": "e4e3dfeb53234f1b8939e10db57d0e12",
       "version_major": 2,
       "version_minor": 0
      },
      "text/plain": [
       "  0%|          | 0/1050 [00:00<?, ?it/s]"
      ]
     },
     "metadata": {},
     "output_type": "display_data"
    },
    {
     "data": {
      "application/vnd.jupyter.widget-view+json": {
       "model_id": "b6c24ff22b544b089b7e03294efd4eb9",
       "version_major": 2,
       "version_minor": 0
      },
      "text/plain": [
       "  0%|          | 0/94 [00:00<?, ?it/s]"
      ]
     },
     "metadata": {},
     "output_type": "display_data"
    },
    {
     "name": "stdout",
     "output_type": "stream",
     "text": [
      "epoch 0 | train_loss: 7.7832 valid_loss: 6.7747\n",
      "PREDICTING!\n"
     ]
    },
    {
     "data": {
      "application/vnd.jupyter.widget-view+json": {
       "model_id": "4877ed1407a347ecbaa5e9d3dcdc8199",
       "version_major": 2,
       "version_minor": 0
      },
      "text/plain": [
       "  0%|          | 0/1400 [00:00<?, ?it/s]"
      ]
     },
     "metadata": {},
     "output_type": "display_data"
    },
    {
     "name": "stdout",
     "output_type": "stream",
     "text": [
      "SINGLE MASK TOKEN PREDICTION ACCURACY: 0.1057\n",
      "saving best model...\n"
     ]
    },
    {
     "data": {
      "application/vnd.jupyter.widget-view+json": {
       "model_id": "e57bb54ec1324396813175f56d0fbd24",
       "version_major": 2,
       "version_minor": 0
      },
      "text/plain": [
       "  0%|          | 0/1050 [00:00<?, ?it/s]"
      ]
     },
     "metadata": {},
     "output_type": "display_data"
    },
    {
     "data": {
      "application/vnd.jupyter.widget-view+json": {
       "model_id": "c8ac4e740b0b4c978790cbebf83eafd4",
       "version_major": 2,
       "version_minor": 0
      },
      "text/plain": [
       "  0%|          | 0/94 [00:00<?, ?it/s]"
      ]
     },
     "metadata": {},
     "output_type": "display_data"
    },
    {
     "name": "stdout",
     "output_type": "stream",
     "text": [
      "epoch 1 | train_loss: 6.7139 valid_loss: 6.6130\n",
      "PREDICTING!\n"
     ]
    },
    {
     "data": {
      "application/vnd.jupyter.widget-view+json": {
       "model_id": "8abbde9772f245b7b69a5bd993219468",
       "version_major": 2,
       "version_minor": 0
      },
      "text/plain": [
       "  0%|          | 0/1400 [00:00<?, ?it/s]"
      ]
     },
     "metadata": {},
     "output_type": "display_data"
    },
    {
     "name": "stdout",
     "output_type": "stream",
     "text": [
      "SINGLE MASK TOKEN PREDICTION ACCURACY: 0.1221\n",
      "saving best model...\n"
     ]
    },
    {
     "data": {
      "application/vnd.jupyter.widget-view+json": {
       "model_id": "59a14e752d08413287e4c5c547aed778",
       "version_major": 2,
       "version_minor": 0
      },
      "text/plain": [
       "  0%|          | 0/1050 [00:00<?, ?it/s]"
      ]
     },
     "metadata": {},
     "output_type": "display_data"
    },
    {
     "data": {
      "application/vnd.jupyter.widget-view+json": {
       "model_id": "ed47d87a5b834991b85ae55e3f312399",
       "version_major": 2,
       "version_minor": 0
      },
      "text/plain": [
       "  0%|          | 0/94 [00:00<?, ?it/s]"
      ]
     },
     "metadata": {},
     "output_type": "display_data"
    },
    {
     "name": "stdout",
     "output_type": "stream",
     "text": [
      "epoch 2 | train_loss: 6.3127 valid_loss: 5.7304\n",
      "PREDICTING!\n"
     ]
    },
    {
     "data": {
      "application/vnd.jupyter.widget-view+json": {
       "model_id": "49acaa2338494c49be51e2597d750eeb",
       "version_major": 2,
       "version_minor": 0
      },
      "text/plain": [
       "  0%|          | 0/1400 [00:00<?, ?it/s]"
      ]
     },
     "metadata": {},
     "output_type": "display_data"
    },
    {
     "name": "stdout",
     "output_type": "stream",
     "text": [
      "SINGLE MASK TOKEN PREDICTION ACCURACY: 0.2143\n",
      "saving best model...\n"
     ]
    },
    {
     "data": {
      "application/vnd.jupyter.widget-view+json": {
       "model_id": "ed68c0a82d3e4d32bc8e3f9c28b6f3c8",
       "version_major": 2,
       "version_minor": 0
      },
      "text/plain": [
       "  0%|          | 0/1050 [00:00<?, ?it/s]"
      ]
     },
     "metadata": {},
     "output_type": "display_data"
    },
    {
     "data": {
      "application/vnd.jupyter.widget-view+json": {
       "model_id": "bdaf804078eb4d77a5364378cb94e86d",
       "version_major": 2,
       "version_minor": 0
      },
      "text/plain": [
       "  0%|          | 0/94 [00:00<?, ?it/s]"
      ]
     },
     "metadata": {},
     "output_type": "display_data"
    },
    {
     "name": "stdout",
     "output_type": "stream",
     "text": [
      "epoch 3 | train_loss: 5.3918 valid_loss: 5.1114\n",
      "PREDICTING!\n"
     ]
    },
    {
     "data": {
      "application/vnd.jupyter.widget-view+json": {
       "model_id": "e950d9dced4a4af1be1336296bf35848",
       "version_major": 2,
       "version_minor": 0
      },
      "text/plain": [
       "  0%|          | 0/1400 [00:00<?, ?it/s]"
      ]
     },
     "metadata": {},
     "output_type": "display_data"
    },
    {
     "name": "stdout",
     "output_type": "stream",
     "text": [
      "SINGLE MASK TOKEN PREDICTION ACCURACY: 0.2614\n",
      "saving best model...\n"
     ]
    },
    {
     "data": {
      "application/vnd.jupyter.widget-view+json": {
       "model_id": "486e025cedbc4094829231f9f052e4c4",
       "version_major": 2,
       "version_minor": 0
      },
      "text/plain": [
       "  0%|          | 0/1050 [00:00<?, ?it/s]"
      ]
     },
     "metadata": {},
     "output_type": "display_data"
    },
    {
     "data": {
      "application/vnd.jupyter.widget-view+json": {
       "model_id": "30ec0c510848444f98dcf27394d81f1f",
       "version_major": 2,
       "version_minor": 0
      },
      "text/plain": [
       "  0%|          | 0/94 [00:00<?, ?it/s]"
      ]
     },
     "metadata": {},
     "output_type": "display_data"
    },
    {
     "name": "stdout",
     "output_type": "stream",
     "text": [
      "epoch 4 | train_loss: 4.9601 valid_loss: 4.8737\n",
      "PREDICTING!\n"
     ]
    },
    {
     "data": {
      "application/vnd.jupyter.widget-view+json": {
       "model_id": "03d1d1802ef54af0ba3dfe640a05c8fb",
       "version_major": 2,
       "version_minor": 0
      },
      "text/plain": [
       "  0%|          | 0/1400 [00:00<?, ?it/s]"
      ]
     },
     "metadata": {},
     "output_type": "display_data"
    },
    {
     "name": "stdout",
     "output_type": "stream",
     "text": [
      "SINGLE MASK TOKEN PREDICTION ACCURACY: 0.2886\n",
      "saving best model...\n"
     ]
    },
    {
     "data": {
      "application/vnd.jupyter.widget-view+json": {
       "model_id": "d6aa603740be41a08cacd8ba9478313a",
       "version_major": 2,
       "version_minor": 0
      },
      "text/plain": [
       "  0%|          | 0/1050 [00:00<?, ?it/s]"
      ]
     },
     "metadata": {},
     "output_type": "display_data"
    },
    {
     "data": {
      "application/vnd.jupyter.widget-view+json": {
       "model_id": "a7e03fea7e044ad692b93b12d80db9a9",
       "version_major": 2,
       "version_minor": 0
      },
      "text/plain": [
       "  0%|          | 0/94 [00:00<?, ?it/s]"
      ]
     },
     "metadata": {},
     "output_type": "display_data"
    },
    {
     "name": "stdout",
     "output_type": "stream",
     "text": [
      "epoch 5 | train_loss: 4.6988 valid_loss: 4.6193\n",
      "PREDICTING!\n"
     ]
    },
    {
     "data": {
      "application/vnd.jupyter.widget-view+json": {
       "model_id": "6c684834a4da43fca5219a53e7ac25ce",
       "version_major": 2,
       "version_minor": 0
      },
      "text/plain": [
       "  0%|          | 0/1400 [00:00<?, ?it/s]"
      ]
     },
     "metadata": {},
     "output_type": "display_data"
    },
    {
     "name": "stdout",
     "output_type": "stream",
     "text": [
      "SINGLE MASK TOKEN PREDICTION ACCURACY: 0.3014\n",
      "saving best model...\n"
     ]
    },
    {
     "data": {
      "application/vnd.jupyter.widget-view+json": {
       "model_id": "c1728e8b524745d8adc7aa6028b4cc12",
       "version_major": 2,
       "version_minor": 0
      },
      "text/plain": [
       "  0%|          | 0/1050 [00:00<?, ?it/s]"
      ]
     },
     "metadata": {},
     "output_type": "display_data"
    },
    {
     "data": {
      "application/vnd.jupyter.widget-view+json": {
       "model_id": "fb4a230147384cd7ab34df34fdc4d859",
       "version_major": 2,
       "version_minor": 0
      },
      "text/plain": [
       "  0%|          | 0/94 [00:00<?, ?it/s]"
      ]
     },
     "metadata": {},
     "output_type": "display_data"
    },
    {
     "name": "stdout",
     "output_type": "stream",
     "text": [
      "epoch 6 | train_loss: 4.4692 valid_loss: 4.4156\n",
      "PREDICTING!\n"
     ]
    },
    {
     "data": {
      "application/vnd.jupyter.widget-view+json": {
       "model_id": "b27f5939063746e1a315ee716f146a8d",
       "version_major": 2,
       "version_minor": 0
      },
      "text/plain": [
       "  0%|          | 0/1400 [00:00<?, ?it/s]"
      ]
     },
     "metadata": {},
     "output_type": "display_data"
    },
    {
     "name": "stdout",
     "output_type": "stream",
     "text": [
      "SINGLE MASK TOKEN PREDICTION ACCURACY: 0.3164\n",
      "saving best model...\n"
     ]
    },
    {
     "data": {
      "application/vnd.jupyter.widget-view+json": {
       "model_id": "fbbf646052304c6ea60627afa874e7fd",
       "version_major": 2,
       "version_minor": 0
      },
      "text/plain": [
       "  0%|          | 0/1050 [00:00<?, ?it/s]"
      ]
     },
     "metadata": {},
     "output_type": "display_data"
    },
    {
     "data": {
      "application/vnd.jupyter.widget-view+json": {
       "model_id": "502f356ca1f846cf83dc93a880c9e06f",
       "version_major": 2,
       "version_minor": 0
      },
      "text/plain": [
       "  0%|          | 0/94 [00:00<?, ?it/s]"
      ]
     },
     "metadata": {},
     "output_type": "display_data"
    },
    {
     "name": "stdout",
     "output_type": "stream",
     "text": [
      "epoch 7 | train_loss: 4.2728 valid_loss: 4.3112\n",
      "PREDICTING!\n"
     ]
    },
    {
     "data": {
      "application/vnd.jupyter.widget-view+json": {
       "model_id": "3e229f5424404ac2b5850b24c6e5f706",
       "version_major": 2,
       "version_minor": 0
      },
      "text/plain": [
       "  0%|          | 0/1400 [00:00<?, ?it/s]"
      ]
     },
     "metadata": {},
     "output_type": "display_data"
    },
    {
     "name": "stdout",
     "output_type": "stream",
     "text": [
      "SINGLE MASK TOKEN PREDICTION ACCURACY: 0.3364\n",
      "saving best model...\n"
     ]
    },
    {
     "data": {
      "application/vnd.jupyter.widget-view+json": {
       "model_id": "f613c6c44e974be5889ae62dd9670535",
       "version_major": 2,
       "version_minor": 0
      },
      "text/plain": [
       "  0%|          | 0/1050 [00:00<?, ?it/s]"
      ]
     },
     "metadata": {},
     "output_type": "display_data"
    },
    {
     "data": {
      "application/vnd.jupyter.widget-view+json": {
       "model_id": "7fca72d720a84f5da38e4cf66d3e1867",
       "version_major": 2,
       "version_minor": 0
      },
      "text/plain": [
       "  0%|          | 0/94 [00:00<?, ?it/s]"
      ]
     },
     "metadata": {},
     "output_type": "display_data"
    },
    {
     "name": "stdout",
     "output_type": "stream",
     "text": [
      "epoch 8 | train_loss: 4.0849 valid_loss: 4.1952\n",
      "PREDICTING!\n"
     ]
    },
    {
     "data": {
      "application/vnd.jupyter.widget-view+json": {
       "model_id": "4c79f19e688b4289b489c670712464bf",
       "version_major": 2,
       "version_minor": 0
      },
      "text/plain": [
       "  0%|          | 0/1400 [00:00<?, ?it/s]"
      ]
     },
     "metadata": {},
     "output_type": "display_data"
    },
    {
     "name": "stdout",
     "output_type": "stream",
     "text": [
      "SINGLE MASK TOKEN PREDICTION ACCURACY: 0.3550\n",
      "saving best model...\n"
     ]
    },
    {
     "data": {
      "application/vnd.jupyter.widget-view+json": {
       "model_id": "e89ca51af07b47c8afb5977044b79d1d",
       "version_major": 2,
       "version_minor": 0
      },
      "text/plain": [
       "  0%|          | 0/1050 [00:00<?, ?it/s]"
      ]
     },
     "metadata": {},
     "output_type": "display_data"
    },
    {
     "data": {
      "application/vnd.jupyter.widget-view+json": {
       "model_id": "91319bba23a849f398661c52616afdac",
       "version_major": 2,
       "version_minor": 0
      },
      "text/plain": [
       "  0%|          | 0/94 [00:00<?, ?it/s]"
      ]
     },
     "metadata": {},
     "output_type": "display_data"
    },
    {
     "name": "stdout",
     "output_type": "stream",
     "text": [
      "epoch 9 | train_loss: 3.9275 valid_loss: 4.0677\n",
      "PREDICTING!\n"
     ]
    },
    {
     "data": {
      "application/vnd.jupyter.widget-view+json": {
       "model_id": "30741dd1967d4c179c1a62f654e0cc6a",
       "version_major": 2,
       "version_minor": 0
      },
      "text/plain": [
       "  0%|          | 0/1400 [00:00<?, ?it/s]"
      ]
     },
     "metadata": {},
     "output_type": "display_data"
    },
    {
     "name": "stdout",
     "output_type": "stream",
     "text": [
      "SINGLE MASK TOKEN PREDICTION ACCURACY: 0.3571\n",
      "saving best model...\n"
     ]
    },
    {
     "data": {
      "application/vnd.jupyter.widget-view+json": {
       "model_id": "9e7259e372e04a04a1a562919e82a946",
       "version_major": 2,
       "version_minor": 0
      },
      "text/plain": [
       "  0%|          | 0/1050 [00:00<?, ?it/s]"
      ]
     },
     "metadata": {},
     "output_type": "display_data"
    },
    {
     "data": {
      "application/vnd.jupyter.widget-view+json": {
       "model_id": "99e0de2de5464629a2258059b1ca0d4a",
       "version_major": 2,
       "version_minor": 0
      },
      "text/plain": [
       "  0%|          | 0/94 [00:00<?, ?it/s]"
      ]
     },
     "metadata": {},
     "output_type": "display_data"
    },
    {
     "name": "stdout",
     "output_type": "stream",
     "text": [
      "epoch 10 | train_loss: 3.7607 valid_loss: 3.9700\n",
      "PREDICTING!\n"
     ]
    },
    {
     "data": {
      "application/vnd.jupyter.widget-view+json": {
       "model_id": "27102564c7774b2fbdf5115b6fe04b3b",
       "version_major": 2,
       "version_minor": 0
      },
      "text/plain": [
       "  0%|          | 0/1400 [00:00<?, ?it/s]"
      ]
     },
     "metadata": {},
     "output_type": "display_data"
    },
    {
     "name": "stdout",
     "output_type": "stream",
     "text": [
      "SINGLE MASK TOKEN PREDICTION ACCURACY: 0.3771\n",
      "saving best model...\n"
     ]
    },
    {
     "data": {
      "application/vnd.jupyter.widget-view+json": {
       "model_id": "85ed34f3aeea478d83e2c0a712a7702a",
       "version_major": 2,
       "version_minor": 0
      },
      "text/plain": [
       "  0%|          | 0/1050 [00:00<?, ?it/s]"
      ]
     },
     "metadata": {},
     "output_type": "display_data"
    },
    {
     "data": {
      "application/vnd.jupyter.widget-view+json": {
       "model_id": "de1ba442d04341d7855e218b61c86508",
       "version_major": 2,
       "version_minor": 0
      },
      "text/plain": [
       "  0%|          | 0/94 [00:00<?, ?it/s]"
      ]
     },
     "metadata": {},
     "output_type": "display_data"
    },
    {
     "name": "stdout",
     "output_type": "stream",
     "text": [
      "epoch 11 | train_loss: 3.6126 valid_loss: 3.8677\n",
      "PREDICTING!\n"
     ]
    },
    {
     "data": {
      "application/vnd.jupyter.widget-view+json": {
       "model_id": "9274b43e546d4ccb8dff5526d48c0290",
       "version_major": 2,
       "version_minor": 0
      },
      "text/plain": [
       "  0%|          | 0/1400 [00:00<?, ?it/s]"
      ]
     },
     "metadata": {},
     "output_type": "display_data"
    },
    {
     "name": "stdout",
     "output_type": "stream",
     "text": [
      "SINGLE MASK TOKEN PREDICTION ACCURACY: 0.3836\n",
      "saving best model...\n"
     ]
    },
    {
     "data": {
      "application/vnd.jupyter.widget-view+json": {
       "model_id": "5289b54751044853876bb922cce7421f",
       "version_major": 2,
       "version_minor": 0
      },
      "text/plain": [
       "  0%|          | 0/1050 [00:00<?, ?it/s]"
      ]
     },
     "metadata": {},
     "output_type": "display_data"
    },
    {
     "data": {
      "application/vnd.jupyter.widget-view+json": {
       "model_id": "1ed52a3d177c48749d1c87f8f2357d56",
       "version_major": 2,
       "version_minor": 0
      },
      "text/plain": [
       "  0%|          | 0/94 [00:00<?, ?it/s]"
      ]
     },
     "metadata": {},
     "output_type": "display_data"
    },
    {
     "name": "stdout",
     "output_type": "stream",
     "text": [
      "epoch 12 | train_loss: 3.4695 valid_loss: 3.8237\n",
      "PREDICTING!\n"
     ]
    },
    {
     "data": {
      "application/vnd.jupyter.widget-view+json": {
       "model_id": "c309905df13140558beb66c41c3544f9",
       "version_major": 2,
       "version_minor": 0
      },
      "text/plain": [
       "  0%|          | 0/1400 [00:00<?, ?it/s]"
      ]
     },
     "metadata": {},
     "output_type": "display_data"
    },
    {
     "name": "stdout",
     "output_type": "stream",
     "text": [
      "SINGLE MASK TOKEN PREDICTION ACCURACY: 0.4029\n",
      "saving best model...\n"
     ]
    },
    {
     "data": {
      "application/vnd.jupyter.widget-view+json": {
       "model_id": "a6d7101c20494f1d94a8d782ea379a1c",
       "version_major": 2,
       "version_minor": 0
      },
      "text/plain": [
       "  0%|          | 0/1050 [00:00<?, ?it/s]"
      ]
     },
     "metadata": {},
     "output_type": "display_data"
    },
    {
     "data": {
      "application/vnd.jupyter.widget-view+json": {
       "model_id": "a0f56bc027de436cae491826ee9b6b52",
       "version_major": 2,
       "version_minor": 0
      },
      "text/plain": [
       "  0%|          | 0/94 [00:00<?, ?it/s]"
      ]
     },
     "metadata": {},
     "output_type": "display_data"
    },
    {
     "name": "stdout",
     "output_type": "stream",
     "text": [
      "epoch 13 | train_loss: 3.3090 valid_loss: 3.6919\n",
      "PREDICTING!\n"
     ]
    },
    {
     "data": {
      "application/vnd.jupyter.widget-view+json": {
       "model_id": "657de566a6454326b64d24fab9a64ade",
       "version_major": 2,
       "version_minor": 0
      },
      "text/plain": [
       "  0%|          | 0/1400 [00:00<?, ?it/s]"
      ]
     },
     "metadata": {},
     "output_type": "display_data"
    },
    {
     "name": "stdout",
     "output_type": "stream",
     "text": [
      "SINGLE MASK TOKEN PREDICTION ACCURACY: 0.4086\n",
      "saving best model...\n"
     ]
    },
    {
     "data": {
      "application/vnd.jupyter.widget-view+json": {
       "model_id": "3f55443652ad4cdda04b529af12ce177",
       "version_major": 2,
       "version_minor": 0
      },
      "text/plain": [
       "  0%|          | 0/1050 [00:00<?, ?it/s]"
      ]
     },
     "metadata": {},
     "output_type": "display_data"
    },
    {
     "data": {
      "application/vnd.jupyter.widget-view+json": {
       "model_id": "651a8f57a6334aa6ab4aff60c0aa6667",
       "version_major": 2,
       "version_minor": 0
      },
      "text/plain": [
       "  0%|          | 0/94 [00:00<?, ?it/s]"
      ]
     },
     "metadata": {},
     "output_type": "display_data"
    },
    {
     "name": "stdout",
     "output_type": "stream",
     "text": [
      "epoch 14 | train_loss: 3.1849 valid_loss: 3.6598\n",
      "PREDICTING!\n"
     ]
    },
    {
     "data": {
      "application/vnd.jupyter.widget-view+json": {
       "model_id": "4349fd9330f04752aa758f48aa337578",
       "version_major": 2,
       "version_minor": 0
      },
      "text/plain": [
       "  0%|          | 0/1400 [00:00<?, ?it/s]"
      ]
     },
     "metadata": {},
     "output_type": "display_data"
    },
    {
     "name": "stdout",
     "output_type": "stream",
     "text": [
      "SINGLE MASK TOKEN PREDICTION ACCURACY: 0.4136\n",
      "saving best model...\n"
     ]
    },
    {
     "data": {
      "application/vnd.jupyter.widget-view+json": {
       "model_id": "9e982442ac084ea58f0fef473110f491",
       "version_major": 2,
       "version_minor": 0
      },
      "text/plain": [
       "  0%|          | 0/1050 [00:00<?, ?it/s]"
      ]
     },
     "metadata": {},
     "output_type": "display_data"
    },
    {
     "data": {
      "application/vnd.jupyter.widget-view+json": {
       "model_id": "9fb267903f074a37a4bd6192bf5ebc0b",
       "version_major": 2,
       "version_minor": 0
      },
      "text/plain": [
       "  0%|          | 0/94 [00:00<?, ?it/s]"
      ]
     },
     "metadata": {},
     "output_type": "display_data"
    },
    {
     "name": "stdout",
     "output_type": "stream",
     "text": [
      "epoch 15 | train_loss: 3.0756 valid_loss: 3.6192\n",
      "PREDICTING!\n"
     ]
    },
    {
     "data": {
      "application/vnd.jupyter.widget-view+json": {
       "model_id": "f89122d5292e4452ac45a82c46d77124",
       "version_major": 2,
       "version_minor": 0
      },
      "text/plain": [
       "  0%|          | 0/1400 [00:00<?, ?it/s]"
      ]
     },
     "metadata": {},
     "output_type": "display_data"
    },
    {
     "name": "stdout",
     "output_type": "stream",
     "text": [
      "SINGLE MASK TOKEN PREDICTION ACCURACY: 0.4343\n",
      "saving best model...\n"
     ]
    },
    {
     "data": {
      "application/vnd.jupyter.widget-view+json": {
       "model_id": "d751de95f833416b925dbb81ca8176dd",
       "version_major": 2,
       "version_minor": 0
      },
      "text/plain": [
       "  0%|          | 0/1050 [00:00<?, ?it/s]"
      ]
     },
     "metadata": {},
     "output_type": "display_data"
    },
    {
     "data": {
      "application/vnd.jupyter.widget-view+json": {
       "model_id": "821d609c56014622bb8d7d3e44664723",
       "version_major": 2,
       "version_minor": 0
      },
      "text/plain": [
       "  0%|          | 0/94 [00:00<?, ?it/s]"
      ]
     },
     "metadata": {},
     "output_type": "display_data"
    },
    {
     "name": "stdout",
     "output_type": "stream",
     "text": [
      "epoch 16 | train_loss: 2.9801 valid_loss: 3.4864\n",
      "PREDICTING!\n"
     ]
    },
    {
     "data": {
      "application/vnd.jupyter.widget-view+json": {
       "model_id": "b22480afad254909beaaff0d92bcf7b2",
       "version_major": 2,
       "version_minor": 0
      },
      "text/plain": [
       "  0%|          | 0/1400 [00:00<?, ?it/s]"
      ]
     },
     "metadata": {},
     "output_type": "display_data"
    },
    {
     "name": "stdout",
     "output_type": "stream",
     "text": [
      "SINGLE MASK TOKEN PREDICTION ACCURACY: 0.4286\n",
      "saving best model...\n"
     ]
    },
    {
     "data": {
      "application/vnd.jupyter.widget-view+json": {
       "model_id": "02e20388afba4897b97a3b1a7f356fde",
       "version_major": 2,
       "version_minor": 0
      },
      "text/plain": [
       "  0%|          | 0/1050 [00:00<?, ?it/s]"
      ]
     },
     "metadata": {},
     "output_type": "display_data"
    },
    {
     "data": {
      "application/vnd.jupyter.widget-view+json": {
       "model_id": "adbd33239fd14c1da1104a6156030ea5",
       "version_major": 2,
       "version_minor": 0
      },
      "text/plain": [
       "  0%|          | 0/94 [00:00<?, ?it/s]"
      ]
     },
     "metadata": {},
     "output_type": "display_data"
    },
    {
     "name": "stdout",
     "output_type": "stream",
     "text": [
      "epoch 17 | train_loss: 2.9160 valid_loss: 3.5500\n"
     ]
    },
    {
     "data": {
      "application/vnd.jupyter.widget-view+json": {
       "model_id": "bff69ad47332461f9a3afa6668210721",
       "version_major": 2,
       "version_minor": 0
      },
      "text/plain": [
       "  0%|          | 0/1050 [00:00<?, ?it/s]"
      ]
     },
     "metadata": {},
     "output_type": "display_data"
    },
    {
     "data": {
      "application/vnd.jupyter.widget-view+json": {
       "model_id": "a377eb05372b456daa0316d51b563659",
       "version_major": 2,
       "version_minor": 0
      },
      "text/plain": [
       "  0%|          | 0/94 [00:00<?, ?it/s]"
      ]
     },
     "metadata": {},
     "output_type": "display_data"
    },
    {
     "name": "stdout",
     "output_type": "stream",
     "text": [
      "epoch 18 | train_loss: 2.8671 valid_loss: 3.5366\n"
     ]
    },
    {
     "data": {
      "application/vnd.jupyter.widget-view+json": {
       "model_id": "1c2af2607e74499e8e7fc0e17cdab04e",
       "version_major": 2,
       "version_minor": 0
      },
      "text/plain": [
       "  0%|          | 0/1050 [00:00<?, ?it/s]"
      ]
     },
     "metadata": {},
     "output_type": "display_data"
    },
    {
     "data": {
      "application/vnd.jupyter.widget-view+json": {
       "model_id": "756f9494f6ef48f9815ac6fb029da535",
       "version_major": 2,
       "version_minor": 0
      },
      "text/plain": [
       "  0%|          | 0/94 [00:00<?, ?it/s]"
      ]
     },
     "metadata": {},
     "output_type": "display_data"
    },
    {
     "name": "stdout",
     "output_type": "stream",
     "text": [
      "epoch 19 | train_loss: 2.8404 valid_loss: 3.4894\n"
     ]
    }
   ],
   "source": [
    "for ep in tqdm(range(epochs)):\n",
    "    model.train()\n",
    "    trl = 0.\n",
    "    tprog = tqdm(enumerate(train_dl),total=len(train_dl))\n",
    "    for i, (input_ids, labels) in tprog:\n",
    "        input_ids = input_ids.to('cuda')\n",
    "        labels = labels.to('cuda')\n",
    "        loss = model(input_ids,labels)['loss']\n",
    "        loss.backward()\n",
    "        optim.step()\n",
    "        optim.zero_grad()\n",
    "        sched.step()\n",
    "        trl += loss.item()\n",
    "        tprog.set_description(f'train step loss: {loss.item():.4f}')\n",
    "    train_losses.append(trl/len(train_dl))\n",
    "        \n",
    "    model.eval()\n",
    "    with torch.no_grad():\n",
    "        vrl = 0.\n",
    "        vprog = tqdm(enumerate(val_dl),total=len(val_dl))\n",
    "        for i, (input_ids, labels) in vprog:\n",
    "\n",
    "            input_ids = input_ids.to('cuda')\n",
    "            labels = labels.to('cuda')\n",
    "            loss = model(input_ids,labels)['loss']\n",
    "            vrl += loss.item()\n",
    "            vprog.set_description(f'valid step loss: {loss.item():.4f}')\n",
    "        vloss = vrl/len(val_dl)\n",
    "        valid_losses.append(vloss)\n",
    "        print(f'epoch {ep} | train_loss: {train_losses[-1]:.4f} valid_loss: {valid_losses[-1]:.4f}')\n",
    "        \n",
    "        if vloss < best_val_loss:\n",
    "            best_val_loss = vloss\n",
    "            print('PREDICTING!')\n",
    "            test_predictions = []\n",
    "            for input_ids in tqdm(test_batches):\n",
    "                input_ids = input_ids.unsqueeze(0)\n",
    "                input_ids = input_ids.to('cuda')\n",
    "                mask_preds = model(input_ids)['mask_predictions']\n",
    "                test_predictions.extend(list(mask_preds.detach().cpu().flatten().numpy()))\n",
    "            \n",
    "            tacc = accuracy_score(test_actuals, test_predictions)\n",
    "            test_accuracies.append(tacc)\n",
    "            print(f'SINGLE MASK TOKEN PREDICTION ACCURACY: {tacc:.4f}')\n",
    "            print('saving best model...')\n",
    "            sd = model.state_dict()\n",
    "            torch.save(sd,'./mlm-baby-bert/model.pt')"
   ]
  },
  {
   "cell_type": "code",
   "execution_count": 26,
   "metadata": {},
   "outputs": [],
   "source": [
    "torch.cuda.empty_cache()"
   ]
  },
  {
   "cell_type": "code",
   "execution_count": 28,
   "metadata": {
    "execution": {
     "iopub.execute_input": "2023-10-10T16:58:12.892961Z",
     "iopub.status.busy": "2023-10-10T16:58:12.892264Z",
     "iopub.status.idle": "2023-10-10T16:58:13.152921Z",
     "shell.execute_reply": "2023-10-10T16:58:13.150522Z",
     "shell.execute_reply.started": "2023-10-10T16:58:12.892928Z"
    }
   },
   "outputs": [
    {
     "data": {
      "image/png": "[encoded data removed]",
      "text/plain": [
       "<Figure size 640x480 with 1 Axes>"
      ]
     },
     "metadata": {},
     "output_type": "display_data"
    }
   ],
   "source": [
    "plt.plot(train_losses,color='red',label='train loss')\n",
    "plt.plot(valid_losses,color='orange',label='valid loss')\n",
    "plt.legend()\n",
    "plt.show()"
   ]
  },
  {
   "cell_type": "code",
   "execution_count": 29,
   "metadata": {
    "execution": {
     "iopub.execute_input": "2023-10-10T16:58:13.155428Z",
     "iopub.status.busy": "2023-10-10T16:58:13.154428Z",
     "iopub.status.idle": "2023-10-10T16:58:13.521585Z",
     "shell.execute_reply": "2023-10-10T16:58:13.520646Z",
     "shell.execute_reply.started": "2023-10-10T16:58:13.155393Z"
    }
   },
   "outputs": [
    {
     "data": {
      "image/png": "[encoded data removed]",
      "text/plain": [
       "<Figure size 640x480 with 1 Axes>"
      ]
     },
     "metadata": {},
     "output_type": "display_data"
    }
   ],
   "source": [
    "plt.plot(test_accuracies)\n",
    "plt.title('single mask token prediction accuracy')\n",
    "plt.show()"
   ]
  },
  {
   "cell_type": "code",
   "execution_count": 29,
   "metadata": {
    "execution": {
     "iopub.execute_input": "2023-10-10T16:58:13.523701Z",
     "iopub.status.busy": "2023-10-10T16:58:13.522845Z",
     "iopub.status.idle": "2023-10-10T16:58:13.554858Z",
     "shell.execute_reply": "2023-10-10T16:58:13.55392Z",
     "shell.execute_reply.started": "2023-10-10T16:58:13.523667Z"
    }
   },
   "outputs": [
    {
     "data": {
      "text/plain": [
       "<All keys matched successfully>"
      ]
     },
     "execution_count": 29,
     "metadata": {},
     "output_type": "execute_result"
    }
   ],
   "source": [
    "# best model\n",
    "sd = torch.load('./mlm-baby-bert/model.pt')\n",
    "model.load_state_dict(sd)"
   ]
  },
  {
   "cell_type": "code",
   "execution_count": 30,
   "metadata": {
    "execution": {
     "iopub.execute_input": "2023-10-10T16:58:13.559358Z",
     "iopub.status.busy": "2023-10-10T16:58:13.559084Z",
     "iopub.status.idle": "2023-10-10T16:58:13.567054Z",
     "shell.execute_reply": "2023-10-10T16:58:13.565845Z",
     "shell.execute_reply.started": "2023-10-10T16:58:13.559336Z"
    }
   },
   "outputs": [],
   "source": [
    "def predict_mask(sentence):\n",
    "    \n",
    "    x = tokenizer(sentence, padding=\"max_length\", max_length=128, truncation=True, add_special_tokens=True, return_special_tokens_mask=True)\n",
    "    \n",
    "    # picking an index to mask, range: [0,len-1]\n",
    "    fi = len(x.input_ids)\n",
    "    # if the sample contains pad tokens, we can't mask them, so limiting the end index to ignore padding\n",
    "    if 1 in x.special_tokens_mask:\n",
    "        fi = torch.tensor(x.special_tokens_mask[1:]).nonzero()[0].item() # ignore [PAD]\n",
    "    # random index to mask\n",
    "    idx = torch.randint(0,fi,(1,)).item()\n",
    "    \n",
    "    input_ids = x.input_ids.copy()\n",
    "    masked_token = tokenizer.decode([input_ids[idx]])\n",
    "    \n",
    "    # masking\n",
    "    input_ids[idx] = 103 # idx -> [MASK]\n",
    "    masked_sentence = input_ids.copy()\n",
    "    \n",
    "    # preparing input\n",
    "    input_ids = torch.tensor(input_ids,dtype=torch.long).unsqueeze(0).to('cuda')\n",
    "    \n",
    "    # extracting the predicted token\n",
    "    out = model(input_ids)\n",
    "    predicted = x.input_ids.copy()\n",
    "    predicted[idx] = out['mask_predictions'].item()\n",
    "    predicted_token = tokenizer.decode([out['mask_predictions'].item()])\n",
    "    \n",
    "    print(f'masked: {masked_token} predicted: {predicted_token}')\n",
    "    masked_sentence = tokenizer.decode(masked_sentence,skip_special_tokens=False)\n",
    "    masked_sentence = masked_sentence.replace('[PAD]','')\n",
    "    print('ACTUAL:',sentence)\n",
    "    print('MASKED:',masked_sentence)\n",
    "    print(' MODEL:',tokenizer.decode(predicted))\n",
    "    \n",
    "    return int(masked_token == predicted_token)"
   ]
  },
  {
   "cell_type": "code",
   "execution_count": 31,
   "metadata": {
    "execution": {
     "iopub.execute_input": "2023-10-10T16:58:13.568964Z",
     "iopub.status.busy": "2023-10-10T16:58:13.568379Z",
     "iopub.status.idle": "2023-10-10T16:58:14.22203Z",
     "shell.execute_reply": "2023-10-10T16:58:14.221043Z",
     "shell.execute_reply.started": "2023-10-10T16:58:13.568918Z"
    }
   },
   "outputs": [
    {
     "name": "stdout",
     "output_type": "stream",
     "text": [
      "masked: prior predicted: City\n",
      "ACTUAL: During his nine years at The Atlantic prior to becoming editor, Goldberg became known for his coverage of foreign affairs.\n",
      "MASKED: [CLS] During his nine years at The Atlantic [MASK] to becoming editor, Goldberg became known for his coverage of foreign affairs. [SEP]                                                                                                        \n",
      " MODEL: [CLS] During his nine years at The Atlantic City to becoming editor, Goldberg became known for his coverage of foreign affairs. [SEP] [PAD] [PAD] [PAD] [PAD] [PAD] [PAD] [PAD] [PAD] [PAD] [PAD] [PAD] [PAD] [PAD] [PAD] [PAD] [PAD] [PAD] [PAD] [PAD] [PAD] [PAD] [PAD] [PAD] [PAD] [PAD] [PAD] [PAD] [PAD] [PAD] [PAD] [PAD] [PAD] [PAD] [PAD] [PAD] [PAD] [PAD] [PAD] [PAD] [PAD] [PAD] [PAD] [PAD] [PAD] [PAD] [PAD] [PAD] [PAD] [PAD] [PAD] [PAD] [PAD] [PAD] [PAD] [PAD] [PAD] [PAD] [PAD] [PAD] [PAD] [PAD] [PAD] [PAD] [PAD] [PAD] [PAD] [PAD] [PAD] [PAD] [PAD] [PAD] [PAD] [PAD] [PAD] [PAD] [PAD] [PAD] [PAD] [PAD] [PAD] [PAD] [PAD] [PAD] [PAD] [PAD] [PAD] [PAD] [PAD] [PAD] [PAD] [PAD] [PAD] [PAD] [PAD] [PAD] [PAD] [PAD] [PAD] [PAD] [PAD] [PAD] [PAD] [PAD] [PAD]\n",
      "\n",
      "\n",
      "\n",
      "masked: [CLS] predicted: [CLS]\n",
      "ACTUAL: Bebearia baueri is a butterfly in the family Nymphalidae.\n",
      "MASKED: [MASK] Bebearia baueri is a butterfly in the family Nymphalidae. [SEP]                                                                                                             \n",
      " MODEL: [CLS] Bebearia baueri is a butterfly in the family Nymphalidae. [SEP] [PAD] [PAD] [PAD] [PAD] [PAD] [PAD] [PAD] [PAD] [PAD] [PAD] [PAD] [PAD] [PAD] [PAD] [PAD] [PAD] [PAD] [PAD] [PAD] [PAD] [PAD] [PAD] [PAD] [PAD] [PAD] [PAD] [PAD] [PAD] [PAD] [PAD] [PAD] [PAD] [PAD] [PAD] [PAD] [PAD] [PAD] [PAD] [PAD] [PAD] [PAD] [PAD] [PAD] [PAD] [PAD] [PAD] [PAD] [PAD] [PAD] [PAD] [PAD] [PAD] [PAD] [PAD] [PAD] [PAD] [PAD] [PAD] [PAD] [PAD] [PAD] [PAD] [PAD] [PAD] [PAD] [PAD] [PAD] [PAD] [PAD] [PAD] [PAD] [PAD] [PAD] [PAD] [PAD] [PAD] [PAD] [PAD] [PAD] [PAD] [PAD] [PAD] [PAD] [PAD] [PAD] [PAD] [PAD] [PAD] [PAD] [PAD] [PAD] [PAD] [PAD] [PAD] [PAD] [PAD] [PAD] [PAD] [PAD] [PAD] [PAD] [PAD] [PAD] [PAD] [PAD] [PAD] [PAD] [PAD] [PAD]\n",
      "\n",
      "\n",
      "\n",
      "masked: Hodge predicted: Hodge\n",
      "ACTUAL: The asteroid was named after American teacher Jonathon Hodge.\n",
      "MASKED: [CLS] The asteroid was named after American teacher Jonathon [MASK]. [SEP]                                                                                                                  \n",
      " MODEL: [CLS] The asteroid was named after American teacher Jonathon Hodge. [SEP] [PAD] [PAD] [PAD] [PAD] [PAD] [PAD] [PAD] [PAD] [PAD] [PAD] [PAD] [PAD] [PAD] [PAD] [PAD] [PAD] [PAD] [PAD] [PAD] [PAD] [PAD] [PAD] [PAD] [PAD] [PAD] [PAD] [PAD] [PAD] [PAD] [PAD] [PAD] [PAD] [PAD] [PAD] [PAD] [PAD] [PAD] [PAD] [PAD] [PAD] [PAD] [PAD] [PAD] [PAD] [PAD] [PAD] [PAD] [PAD] [PAD] [PAD] [PAD] [PAD] [PAD] [PAD] [PAD] [PAD] [PAD] [PAD] [PAD] [PAD] [PAD] [PAD] [PAD] [PAD] [PAD] [PAD] [PAD] [PAD] [PAD] [PAD] [PAD] [PAD] [PAD] [PAD] [PAD] [PAD] [PAD] [PAD] [PAD] [PAD] [PAD] [PAD] [PAD] [PAD] [PAD] [PAD] [PAD] [PAD] [PAD] [PAD] [PAD] [PAD] [PAD] [PAD] [PAD] [PAD] [PAD] [PAD] [PAD] [PAD] [PAD] [PAD] [PAD] [PAD] [PAD] [PAD] [PAD] [PAD] [PAD] [PAD] [PAD] [PAD] [PAD] [PAD]\n",
      "\n",
      "\n",
      "\n",
      "masked: So predicted: Ma\n",
      "ACTUAL: He represented the electoral district of Souris-Elmira as a member of the Liberal Party.\n",
      "MASKED: [CLS] He represented the electoral district of [MASK]uris - Elmira as a member of the Liberal Party. [SEP]                                                                                                          \n",
      " MODEL: [CLS] He represented the electoral district of Mauris - Elmira as a member of the Liberal Party. [SEP] [PAD] [PAD] [PAD] [PAD] [PAD] [PAD] [PAD] [PAD] [PAD] [PAD] [PAD] [PAD] [PAD] [PAD] [PAD] [PAD] [PAD] [PAD] [PAD] [PAD] [PAD] [PAD] [PAD] [PAD] [PAD] [PAD] [PAD] [PAD] [PAD] [PAD] [PAD] [PAD] [PAD] [PAD] [PAD] [PAD] [PAD] [PAD] [PAD] [PAD] [PAD] [PAD] [PAD] [PAD] [PAD] [PAD] [PAD] [PAD] [PAD] [PAD] [PAD] [PAD] [PAD] [PAD] [PAD] [PAD] [PAD] [PAD] [PAD] [PAD] [PAD] [PAD] [PAD] [PAD] [PAD] [PAD] [PAD] [PAD] [PAD] [PAD] [PAD] [PAD] [PAD] [PAD] [PAD] [PAD] [PAD] [PAD] [PAD] [PAD] [PAD] [PAD] [PAD] [PAD] [PAD] [PAD] [PAD] [PAD] [PAD] [PAD] [PAD] [PAD] [PAD] [PAD] [PAD] [PAD] [PAD] [PAD] [PAD] [PAD] [PAD] [PAD] [PAD] [PAD] [PAD] [PAD]\n",
      "\n",
      "\n",
      "\n",
      "masked: Red predicted: ##V\n",
      "ACTUAL: He has been serving as assistant coach at EC Red Bull Salzburg in Austria since July 2016.\n",
      "MASKED: [CLS] He has been serving as assistant coach at EC [MASK] Bull Salzburg in Austria since July 2016. [SEP]                                                                                                            \n",
      " MODEL: [CLS] He has been serving as assistant coach at ECV Bull Salzburg in Austria since July 2016. [SEP] [PAD] [PAD] [PAD] [PAD] [PAD] [PAD] [PAD] [PAD] [PAD] [PAD] [PAD] [PAD] [PAD] [PAD] [PAD] [PAD] [PAD] [PAD] [PAD] [PAD] [PAD] [PAD] [PAD] [PAD] [PAD] [PAD] [PAD] [PAD] [PAD] [PAD] [PAD] [PAD] [PAD] [PAD] [PAD] [PAD] [PAD] [PAD] [PAD] [PAD] [PAD] [PAD] [PAD] [PAD] [PAD] [PAD] [PAD] [PAD] [PAD] [PAD] [PAD] [PAD] [PAD] [PAD] [PAD] [PAD] [PAD] [PAD] [PAD] [PAD] [PAD] [PAD] [PAD] [PAD] [PAD] [PAD] [PAD] [PAD] [PAD] [PAD] [PAD] [PAD] [PAD] [PAD] [PAD] [PAD] [PAD] [PAD] [PAD] [PAD] [PAD] [PAD] [PAD] [PAD] [PAD] [PAD] [PAD] [PAD] [PAD] [PAD] [PAD] [PAD] [PAD] [PAD] [PAD] [PAD] [PAD] [PAD] [PAD] [PAD] [PAD] [PAD] [PAD] [PAD] [PAD] [PAD] [PAD] [PAD]\n",
      "\n",
      "\n",
      "\n",
      "masked: US predicted: of\n",
      "ACTUAL: In the summer, the USFS operates a visitor center on the dam, immediately off US Highway 385.\n",
      "MASKED: [CLS] In the summer, the USFS operates a visitor center on the dam, immediately off [MASK] Highway 385. [SEP]                                                                                                         \n",
      " MODEL: [CLS] In the summer, the USFS operates a visitor center on the dam, immediately off of Highway 385. [SEP] [PAD] [PAD] [PAD] [PAD] [PAD] [PAD] [PAD] [PAD] [PAD] [PAD] [PAD] [PAD] [PAD] [PAD] [PAD] [PAD] [PAD] [PAD] [PAD] [PAD] [PAD] [PAD] [PAD] [PAD] [PAD] [PAD] [PAD] [PAD] [PAD] [PAD] [PAD] [PAD] [PAD] [PAD] [PAD] [PAD] [PAD] [PAD] [PAD] [PAD] [PAD] [PAD] [PAD] [PAD] [PAD] [PAD] [PAD] [PAD] [PAD] [PAD] [PAD] [PAD] [PAD] [PAD] [PAD] [PAD] [PAD] [PAD] [PAD] [PAD] [PAD] [PAD] [PAD] [PAD] [PAD] [PAD] [PAD] [PAD] [PAD] [PAD] [PAD] [PAD] [PAD] [PAD] [PAD] [PAD] [PAD] [PAD] [PAD] [PAD] [PAD] [PAD] [PAD] [PAD] [PAD] [PAD] [PAD] [PAD] [PAD] [PAD] [PAD] [PAD] [PAD] [PAD] [PAD] [PAD] [PAD] [PAD] [PAD] [PAD] [PAD] [PAD] [PAD] [PAD] [PAD]\n",
      "\n",
      "\n",
      "\n",
      "masked: Old predicted: Old\n",
      "ACTUAL: The olive-tree warbler (Hippolais olivetorum) is an Old World warbler in the tree warbler genus Hippolais.\n",
      "MASKED: [CLS] The olive - tree warbler ( Hippolais olivetorum ) is an [MASK] World warbler in the tree warbler genus Hippolais. [SEP]                                                                                                \n",
      " MODEL: [CLS] The olive - tree warbler ( Hippolais olivetorum ) is an Old World warbler in the tree warbler genus Hippolais. [SEP] [PAD] [PAD] [PAD] [PAD] [PAD] [PAD] [PAD] [PAD] [PAD] [PAD] [PAD] [PAD] [PAD] [PAD] [PAD] [PAD] [PAD] [PAD] [PAD] [PAD] [PAD] [PAD] [PAD] [PAD] [PAD] [PAD] [PAD] [PAD] [PAD] [PAD] [PAD] [PAD] [PAD] [PAD] [PAD] [PAD] [PAD] [PAD] [PAD] [PAD] [PAD] [PAD] [PAD] [PAD] [PAD] [PAD] [PAD] [PAD] [PAD] [PAD] [PAD] [PAD] [PAD] [PAD] [PAD] [PAD] [PAD] [PAD] [PAD] [PAD] [PAD] [PAD] [PAD] [PAD] [PAD] [PAD] [PAD] [PAD] [PAD] [PAD] [PAD] [PAD] [PAD] [PAD] [PAD] [PAD] [PAD] [PAD] [PAD] [PAD] [PAD] [PAD] [PAD] [PAD] [PAD] [PAD] [PAD] [PAD] [PAD] [PAD] [PAD] [PAD] [PAD] [PAD] [PAD] [PAD]\n",
      "\n",
      "\n",
      "\n",
      "masked: \" predicted: \"\n",
      "ACTUAL: The specific epithet alba is from the Latin meaning \"white\", referring to the flowers.\n",
      "MASKED: [CLS] The specific epithet alba is from the Latin meaning \" white [MASK], referring to the flowers. [SEP]                                                                                                           \n",
      " MODEL: [CLS] The specific epithet alba is from the Latin meaning \" white \", referring to the flowers. [SEP] [PAD] [PAD] [PAD] [PAD] [PAD] [PAD] [PAD] [PAD] [PAD] [PAD] [PAD] [PAD] [PAD] [PAD] [PAD] [PAD] [PAD] [PAD] [PAD] [PAD] [PAD] [PAD] [PAD] [PAD] [PAD] [PAD] [PAD] [PAD] [PAD] [PAD] [PAD] [PAD] [PAD] [PAD] [PAD] [PAD] [PAD] [PAD] [PAD] [PAD] [PAD] [PAD] [PAD] [PAD] [PAD] [PAD] [PAD] [PAD] [PAD] [PAD] [PAD] [PAD] [PAD] [PAD] [PAD] [PAD] [PAD] [PAD] [PAD] [PAD] [PAD] [PAD] [PAD] [PAD] [PAD] [PAD] [PAD] [PAD] [PAD] [PAD] [PAD] [PAD] [PAD] [PAD] [PAD] [PAD] [PAD] [PAD] [PAD] [PAD] [PAD] [PAD] [PAD] [PAD] [PAD] [PAD] [PAD] [PAD] [PAD] [PAD] [PAD] [PAD] [PAD] [PAD] [PAD] [PAD] [PAD] [PAD] [PAD] [PAD] [PAD] [PAD] [PAD] [PAD] [PAD] [PAD] [PAD]\n",
      "\n",
      "\n",
      "\n",
      "masked: by predicted: in\n",
      "ACTUAL: It was designed by Ricardo Galbis Abella, and constructed by the New York firm of Purdy & Henderson.\n",
      "MASKED: [CLS] It was designed by Ricardo Galbis Abella, and constructed [MASK] the New York firm of Purdy & Henderson. [SEP]                                                                                                     \n",
      " MODEL: [CLS] It was designed by Ricardo Galbis Abella, and constructed in the New York firm of Purdy & Henderson. [SEP] [PAD] [PAD] [PAD] [PAD] [PAD] [PAD] [PAD] [PAD] [PAD] [PAD] [PAD] [PAD] [PAD] [PAD] [PAD] [PAD] [PAD] [PAD] [PAD] [PAD] [PAD] [PAD] [PAD] [PAD] [PAD] [PAD] [PAD] [PAD] [PAD] [PAD] [PAD] [PAD] [PAD] [PAD] [PAD] [PAD] [PAD] [PAD] [PAD] [PAD] [PAD] [PAD] [PAD] [PAD] [PAD] [PAD] [PAD] [PAD] [PAD] [PAD] [PAD] [PAD] [PAD] [PAD] [PAD] [PAD] [PAD] [PAD] [PAD] [PAD] [PAD] [PAD] [PAD] [PAD] [PAD] [PAD] [PAD] [PAD] [PAD] [PAD] [PAD] [PAD] [PAD] [PAD] [PAD] [PAD] [PAD] [PAD] [PAD] [PAD] [PAD] [PAD] [PAD] [PAD] [PAD] [PAD] [PAD] [PAD] [PAD] [PAD] [PAD] [PAD] [PAD] [PAD] [PAD] [PAD] [PAD] [PAD] [PAD] [PAD] [PAD]\n",
      "\n",
      "\n",
      "\n",
      "masked: ##ch predicted: ##a\n",
      "ACTUAL: He began his ecclesiastical career with curacies at Lorrha, Shoreditch and Templederry.\n",
      "MASKED: [CLS] He began his ecclesiastical career with curacies at Lorrha, Shoredit [MASK] and Templederry. [SEP]                                                                                                        \n",
      " MODEL: [CLS] He began his ecclesiastical career with curacies at Lorrha, Shoredita and Templederry. [SEP] [PAD] [PAD] [PAD] [PAD] [PAD] [PAD] [PAD] [PAD] [PAD] [PAD] [PAD] [PAD] [PAD] [PAD] [PAD] [PAD] [PAD] [PAD] [PAD] [PAD] [PAD] [PAD] [PAD] [PAD] [PAD] [PAD] [PAD] [PAD] [PAD] [PAD] [PAD] [PAD] [PAD] [PAD] [PAD] [PAD] [PAD] [PAD] [PAD] [PAD] [PAD] [PAD] [PAD] [PAD] [PAD] [PAD] [PAD] [PAD] [PAD] [PAD] [PAD] [PAD] [PAD] [PAD] [PAD] [PAD] [PAD] [PAD] [PAD] [PAD] [PAD] [PAD] [PAD] [PAD] [PAD] [PAD] [PAD] [PAD] [PAD] [PAD] [PAD] [PAD] [PAD] [PAD] [PAD] [PAD] [PAD] [PAD] [PAD] [PAD] [PAD] [PAD] [PAD] [PAD] [PAD] [PAD] [PAD] [PAD] [PAD] [PAD] [PAD] [PAD] [PAD] [PAD] [PAD] [PAD] [PAD] [PAD] [PAD] [PAD] [PAD] [PAD] [PAD] [PAD]\n",
      "\n",
      "\n",
      "\n",
      "masked: is predicted: is\n",
      "ACTUAL: It is 60 km from Shimla and Chandigarh.\n",
      "MASKED: [CLS] It [MASK] 60 km from Shimla and Chandigarh. [SEP]                                                                                                                 \n",
      " MODEL: [CLS] It is 60 km from Shimla and Chandigarh. [SEP] [PAD] [PAD] [PAD] [PAD] [PAD] [PAD] [PAD] [PAD] [PAD] [PAD] [PAD] [PAD] [PAD] [PAD] [PAD] [PAD] [PAD] [PAD] [PAD] [PAD] [PAD] [PAD] [PAD] [PAD] [PAD] [PAD] [PAD] [PAD] [PAD] [PAD] [PAD] [PAD] [PAD] [PAD] [PAD] [PAD] [PAD] [PAD] [PAD] [PAD] [PAD] [PAD] [PAD] [PAD] [PAD] [PAD] [PAD] [PAD] [PAD] [PAD] [PAD] [PAD] [PAD] [PAD] [PAD] [PAD] [PAD] [PAD] [PAD] [PAD] [PAD] [PAD] [PAD] [PAD] [PAD] [PAD] [PAD] [PAD] [PAD] [PAD] [PAD] [PAD] [PAD] [PAD] [PAD] [PAD] [PAD] [PAD] [PAD] [PAD] [PAD] [PAD] [PAD] [PAD] [PAD] [PAD] [PAD] [PAD] [PAD] [PAD] [PAD] [PAD] [PAD] [PAD] [PAD] [PAD] [PAD] [PAD] [PAD] [PAD] [PAD] [PAD] [PAD] [PAD] [PAD] [PAD] [PAD] [PAD] [PAD] [PAD] [PAD] [PAD] [PAD]\n",
      "\n",
      "\n",
      "\n",
      "masked: ##clave predicted: ##clave\n",
      "ACTUAL: It is an exclave surrounded by Kyrgyzstan that forms part of the Isfara District in Sughd province.\n",
      "MASKED: [CLS] It is an ex [MASK] surrounded by Kyrgyzstan that forms part of the Isfara District in Sughd province. [SEP]                                                                                                       \n",
      " MODEL: [CLS] It is an exclave surrounded by Kyrgyzstan that forms part of the Isfara District in Sughd province. [SEP] [PAD] [PAD] [PAD] [PAD] [PAD] [PAD] [PAD] [PAD] [PAD] [PAD] [PAD] [PAD] [PAD] [PAD] [PAD] [PAD] [PAD] [PAD] [PAD] [PAD] [PAD] [PAD] [PAD] [PAD] [PAD] [PAD] [PAD] [PAD] [PAD] [PAD] [PAD] [PAD] [PAD] [PAD] [PAD] [PAD] [PAD] [PAD] [PAD] [PAD] [PAD] [PAD] [PAD] [PAD] [PAD] [PAD] [PAD] [PAD] [PAD] [PAD] [PAD] [PAD] [PAD] [PAD] [PAD] [PAD] [PAD] [PAD] [PAD] [PAD] [PAD] [PAD] [PAD] [PAD] [PAD] [PAD] [PAD] [PAD] [PAD] [PAD] [PAD] [PAD] [PAD] [PAD] [PAD] [PAD] [PAD] [PAD] [PAD] [PAD] [PAD] [PAD] [PAD] [PAD] [PAD] [PAD] [PAD] [PAD] [PAD] [PAD] [PAD] [PAD] [PAD] [PAD] [PAD] [PAD] [PAD] [PAD] [PAD] [PAD] [PAD] [PAD] [PAD]\n",
      "\n",
      "\n",
      "\n",
      "masked: ##wood predicted: ##g\n",
      "ACTUAL: After the 1993 Mumbai bomb blasts and the Dawood-Chhota Rajan split, Shakeel took over the day-to-day operations of the D-Company.\n",
      "MASKED: [CLS] After the 1993 Mumbai bomb blasts and the Da [MASK] - Chhota Rajan split, Shakeel took over the day - to - day operations of the D - Company. [SEP]                                                                                          \n",
      " MODEL: [CLS] After the 1993 Mumbai bomb blasts and the Dag - Chhota Rajan split, Shakeel took over the day - to - day operations of the D - Company. [SEP] [PAD] [PAD] [PAD] [PAD] [PAD] [PAD] [PAD] [PAD] [PAD] [PAD] [PAD] [PAD] [PAD] [PAD] [PAD] [PAD] [PAD] [PAD] [PAD] [PAD] [PAD] [PAD] [PAD] [PAD] [PAD] [PAD] [PAD] [PAD] [PAD] [PAD] [PAD] [PAD] [PAD] [PAD] [PAD] [PAD] [PAD] [PAD] [PAD] [PAD] [PAD] [PAD] [PAD] [PAD] [PAD] [PAD] [PAD] [PAD] [PAD] [PAD] [PAD] [PAD] [PAD] [PAD] [PAD] [PAD] [PAD] [PAD] [PAD] [PAD] [PAD] [PAD] [PAD] [PAD] [PAD] [PAD] [PAD] [PAD] [PAD] [PAD] [PAD] [PAD] [PAD] [PAD] [PAD] [PAD] [PAD] [PAD] [PAD] [PAD] [PAD] [PAD] [PAD] [PAD] [PAD] [PAD] [PAD] [PAD] [PAD] [PAD]\n",
      "\n",
      "\n",
      "\n",
      "masked: Hot predicted: Take\n",
      "ACTUAL: Hot Eight were an American jazz band.\n",
      "MASKED: [CLS] [MASK] Eight were an American jazz band. [SEP]                                                                                                                      \n",
      " MODEL: [CLS] Take Eight were an American jazz band. [SEP] [PAD] [PAD] [PAD] [PAD] [PAD] [PAD] [PAD] [PAD] [PAD] [PAD] [PAD] [PAD] [PAD] [PAD] [PAD] [PAD] [PAD] [PAD] [PAD] [PAD] [PAD] [PAD] [PAD] [PAD] [PAD] [PAD] [PAD] [PAD] [PAD] [PAD] [PAD] [PAD] [PAD] [PAD] [PAD] [PAD] [PAD] [PAD] [PAD] [PAD] [PAD] [PAD] [PAD] [PAD] [PAD] [PAD] [PAD] [PAD] [PAD] [PAD] [PAD] [PAD] [PAD] [PAD] [PAD] [PAD] [PAD] [PAD] [PAD] [PAD] [PAD] [PAD] [PAD] [PAD] [PAD] [PAD] [PAD] [PAD] [PAD] [PAD] [PAD] [PAD] [PAD] [PAD] [PAD] [PAD] [PAD] [PAD] [PAD] [PAD] [PAD] [PAD] [PAD] [PAD] [PAD] [PAD] [PAD] [PAD] [PAD] [PAD] [PAD] [PAD] [PAD] [PAD] [PAD] [PAD] [PAD] [PAD] [PAD] [PAD] [PAD] [PAD] [PAD] [PAD] [PAD] [PAD] [PAD] [PAD] [PAD] [PAD] [PAD] [PAD] [PAD] [PAD] [PAD] [PAD] [PAD] [PAD]\n",
      "\n",
      "\n",
      "\n",
      "masked: s predicted: s\n",
      "ACTUAL: This is the band's last output with original vocalist Guy Speranza.\n",
      "MASKED: [CLS] This is the band ' [MASK] last output with original vocalist Guy Speranza. [SEP]                                                                                                              \n",
      " MODEL: [CLS] This is the band ' s last output with original vocalist Guy Speranza. [SEP] [PAD] [PAD] [PAD] [PAD] [PAD] [PAD] [PAD] [PAD] [PAD] [PAD] [PAD] [PAD] [PAD] [PAD] [PAD] [PAD] [PAD] [PAD] [PAD] [PAD] [PAD] [PAD] [PAD] [PAD] [PAD] [PAD] [PAD] [PAD] [PAD] [PAD] [PAD] [PAD] [PAD] [PAD] [PAD] [PAD] [PAD] [PAD] [PAD] [PAD] [PAD] [PAD] [PAD] [PAD] [PAD] [PAD] [PAD] [PAD] [PAD] [PAD] [PAD] [PAD] [PAD] [PAD] [PAD] [PAD] [PAD] [PAD] [PAD] [PAD] [PAD] [PAD] [PAD] [PAD] [PAD] [PAD] [PAD] [PAD] [PAD] [PAD] [PAD] [PAD] [PAD] [PAD] [PAD] [PAD] [PAD] [PAD] [PAD] [PAD] [PAD] [PAD] [PAD] [PAD] [PAD] [PAD] [PAD] [PAD] [PAD] [PAD] [PAD] [PAD] [PAD] [PAD] [PAD] [PAD] [PAD] [PAD] [PAD] [PAD] [PAD] [PAD] [PAD] [PAD] [PAD] [PAD] [PAD] [PAD] [PAD] [PAD]\n",
      "\n",
      "\n",
      "\n",
      "masked: from predicted: in\n",
      "ACTUAL: Fernando Telles Ribeiro (born April 12, 1938 in Guanabara, Rio de Janeiro) is a male diver from Brazil.\n",
      "MASKED: [CLS] Fernando Telles Ribeiro ( born April 12, 1938 in Guanabara, Rio de Janeiro ) is a male diver [MASK] Brazil. [SEP]                                                                                                 \n",
      " MODEL: [CLS] Fernando Telles Ribeiro ( born April 12, 1938 in Guanabara, Rio de Janeiro ) is a male diver in Brazil. [SEP] [PAD] [PAD] [PAD] [PAD] [PAD] [PAD] [PAD] [PAD] [PAD] [PAD] [PAD] [PAD] [PAD] [PAD] [PAD] [PAD] [PAD] [PAD] [PAD] [PAD] [PAD] [PAD] [PAD] [PAD] [PAD] [PAD] [PAD] [PAD] [PAD] [PAD] [PAD] [PAD] [PAD] [PAD] [PAD] [PAD] [PAD] [PAD] [PAD] [PAD] [PAD] [PAD] [PAD] [PAD] [PAD] [PAD] [PAD] [PAD] [PAD] [PAD] [PAD] [PAD] [PAD] [PAD] [PAD] [PAD] [PAD] [PAD] [PAD] [PAD] [PAD] [PAD] [PAD] [PAD] [PAD] [PAD] [PAD] [PAD] [PAD] [PAD] [PAD] [PAD] [PAD] [PAD] [PAD] [PAD] [PAD] [PAD] [PAD] [PAD] [PAD] [PAD] [PAD] [PAD] [PAD] [PAD] [PAD] [PAD] [PAD] [PAD] [PAD] [PAD] [PAD] [PAD] [PAD] [PAD] [PAD]\n",
      "\n",
      "\n",
      "\n",
      "masked: to predicted: to\n",
      "ACTUAL: The lake Fjellvatnet flows to the southwest into this lake.\n",
      "MASKED: [CLS] The lake Fjellvatnet flows [MASK] the southwest into this lake. [SEP]                                                                                                               \n",
      " MODEL: [CLS] The lake Fjellvatnet flows to the southwest into this lake. [SEP] [PAD] [PAD] [PAD] [PAD] [PAD] [PAD] [PAD] [PAD] [PAD] [PAD] [PAD] [PAD] [PAD] [PAD] [PAD] [PAD] [PAD] [PAD] [PAD] [PAD] [PAD] [PAD] [PAD] [PAD] [PAD] [PAD] [PAD] [PAD] [PAD] [PAD] [PAD] [PAD] [PAD] [PAD] [PAD] [PAD] [PAD] [PAD] [PAD] [PAD] [PAD] [PAD] [PAD] [PAD] [PAD] [PAD] [PAD] [PAD] [PAD] [PAD] [PAD] [PAD] [PAD] [PAD] [PAD] [PAD] [PAD] [PAD] [PAD] [PAD] [PAD] [PAD] [PAD] [PAD] [PAD] [PAD] [PAD] [PAD] [PAD] [PAD] [PAD] [PAD] [PAD] [PAD] [PAD] [PAD] [PAD] [PAD] [PAD] [PAD] [PAD] [PAD] [PAD] [PAD] [PAD] [PAD] [PAD] [PAD] [PAD] [PAD] [PAD] [PAD] [PAD] [PAD] [PAD] [PAD] [PAD] [PAD] [PAD] [PAD] [PAD] [PAD] [PAD] [PAD] [PAD] [PAD] [PAD] [PAD] [PAD] [PAD] [PAD]\n",
      "\n",
      "\n",
      "\n",
      "masked: badge predicted: badge\n",
      "ACTUAL: In addition to Ford and Mazda products, Samcor also assembled Mitsubishi commercial vehicles, with the Mitsubishi L300 minibus being badged as the Ford Husky.\n",
      "MASKED: [CLS] In addition to Ford and Mazda products, Samcor also assembled Mitsubishi commercial vehicles, with the Mitsubishi L300 minibus being [MASK]d as the Ford Husky. [SEP]                                                                                            \n",
      " MODEL: [CLS] In addition to Ford and Mazda products, Samcor also assembled Mitsubishi commercial vehicles, with the Mitsubishi L300 minibus being badged as the Ford Husky. [SEP] [PAD] [PAD] [PAD] [PAD] [PAD] [PAD] [PAD] [PAD] [PAD] [PAD] [PAD] [PAD] [PAD] [PAD] [PAD] [PAD] [PAD] [PAD] [PAD] [PAD] [PAD] [PAD] [PAD] [PAD] [PAD] [PAD] [PAD] [PAD] [PAD] [PAD] [PAD] [PAD] [PAD] [PAD] [PAD] [PAD] [PAD] [PAD] [PAD] [PAD] [PAD] [PAD] [PAD] [PAD] [PAD] [PAD] [PAD] [PAD] [PAD] [PAD] [PAD] [PAD] [PAD] [PAD] [PAD] [PAD] [PAD] [PAD] [PAD] [PAD] [PAD] [PAD] [PAD] [PAD] [PAD] [PAD] [PAD] [PAD] [PAD] [PAD] [PAD] [PAD] [PAD] [PAD] [PAD] [PAD] [PAD] [PAD] [PAD] [PAD] [PAD] [PAD] [PAD] [PAD] [PAD] [PAD] [PAD] [PAD] [PAD] [PAD] [PAD] [PAD]\n",
      "\n",
      "\n",
      "\n",
      "masked: Transformers predicted: Transformers\n",
      "ACTUAL: A game for the Wii called Transformers: Cybertron Adventures was developed by Next Level Games and utilizes the same characters and setting as War for Cybertron.\n",
      "MASKED: [CLS] A game for the Wii called [MASK] : Cybertron Adventures was developed by Next Level Games and utilizes the same characters and setting as War for Cybertron. [SEP]                                                                                              \n",
      " MODEL: [CLS] A game for the Wii called Transformers : Cybertron Adventures was developed by Next Level Games and utilizes the same characters and setting as War for Cybertron. [SEP] [PAD] [PAD] [PAD] [PAD] [PAD] [PAD] [PAD] [PAD] [PAD] [PAD] [PAD] [PAD] [PAD] [PAD] [PAD] [PAD] [PAD] [PAD] [PAD] [PAD] [PAD] [PAD] [PAD] [PAD] [PAD] [PAD] [PAD] [PAD] [PAD] [PAD] [PAD] [PAD] [PAD] [PAD] [PAD] [PAD] [PAD] [PAD] [PAD] [PAD] [PAD] [PAD] [PAD] [PAD] [PAD] [PAD] [PAD] [PAD] [PAD] [PAD] [PAD] [PAD] [PAD] [PAD] [PAD] [PAD] [PAD] [PAD] [PAD] [PAD] [PAD] [PAD] [PAD] [PAD] [PAD] [PAD] [PAD] [PAD] [PAD] [PAD] [PAD] [PAD] [PAD] [PAD] [PAD] [PAD] [PAD] [PAD] [PAD] [PAD] [PAD] [PAD] [PAD] [PAD] [PAD] [PAD] [PAD] [PAD] [PAD] [PAD] [PAD] [PAD] [PAD] [PAD]\n",
      "\n",
      "\n",
      "\n",
      "masked: for predicted: in\n",
      "ACTUAL: Pyke was recruited by Claremont in the West Australian Football League (WAFL) for the 1987 season, playing in a premiership in his first season and winning the club's best and fairest award in his second season.\n",
      "MASKED: [CLS] Pyke was recruited by Claremont in the West Australian Football League ( WAFL ) [MASK] the 1987 season, playing in a premiership in his first season and winning the club ' s best and fairest award in his second season. [SEP]                                                                                 \n",
      " MODEL: [CLS] Pyke was recruited by Claremont in the West Australian Football League ( WAFL ) in the 1987 season, playing in a premiership in his first season and winning the club ' s best and fairest award in his second season. [SEP] [PAD] [PAD] [PAD] [PAD] [PAD] [PAD] [PAD] [PAD] [PAD] [PAD] [PAD] [PAD] [PAD] [PAD] [PAD] [PAD] [PAD] [PAD] [PAD] [PAD] [PAD] [PAD] [PAD] [PAD] [PAD] [PAD] [PAD] [PAD] [PAD] [PAD] [PAD] [PAD] [PAD] [PAD] [PAD] [PAD] [PAD] [PAD] [PAD] [PAD] [PAD] [PAD] [PAD] [PAD] [PAD] [PAD] [PAD] [PAD] [PAD] [PAD] [PAD] [PAD] [PAD] [PAD] [PAD] [PAD] [PAD] [PAD] [PAD] [PAD] [PAD] [PAD] [PAD] [PAD] [PAD] [PAD] [PAD] [PAD] [PAD] [PAD] [PAD] [PAD] [PAD] [PAD] [PAD] [PAD] [PAD] [PAD] [PAD] [PAD] [PAD]\n",
      "\n",
      "\n",
      "\n",
      "masked: between predicted: in\n",
      "ACTUAL: Ralph Ardern inherited the Worcestershire manor of Little Inkberrow between 1382 (the death of his father, Henry de Ardern) and 1408 (the death of his mother).\n",
      "MASKED: [CLS] Ralph Ardern inherited the Worcestershire manor of Little Inkberrow [MASK] 1382 ( the death of his father, Henry de Ardern ) and 1408 ( the death of his mother ). [SEP]                                                                                     \n",
      " MODEL: [CLS] Ralph Ardern inherited the Worcestershire manor of Little Inkberrow in 1382 ( the death of his father, Henry de Ardern ) and 1408 ( the death of his mother ). [SEP] [PAD] [PAD] [PAD] [PAD] [PAD] [PAD] [PAD] [PAD] [PAD] [PAD] [PAD] [PAD] [PAD] [PAD] [PAD] [PAD] [PAD] [PAD] [PAD] [PAD] [PAD] [PAD] [PAD] [PAD] [PAD] [PAD] [PAD] [PAD] [PAD] [PAD] [PAD] [PAD] [PAD] [PAD] [PAD] [PAD] [PAD] [PAD] [PAD] [PAD] [PAD] [PAD] [PAD] [PAD] [PAD] [PAD] [PAD] [PAD] [PAD] [PAD] [PAD] [PAD] [PAD] [PAD] [PAD] [PAD] [PAD] [PAD] [PAD] [PAD] [PAD] [PAD] [PAD] [PAD] [PAD] [PAD] [PAD] [PAD] [PAD] [PAD] [PAD] [PAD] [PAD] [PAD] [PAD] [PAD] [PAD] [PAD] [PAD] [PAD] [PAD] [PAD] [PAD] [PAD] [PAD]\n",
      "\n",
      "\n",
      "\n",
      "masked: , predicted: up\n",
      "ACTUAL: This algorithm finds huge application in computations where data takes the form of a continuous data stream instead of a finite data set, for e.g. network traffic measurements, web server logs, clickstreams.\n",
      "MASKED: [CLS] This algorithm finds huge application in computations where data takes the form of a continuous data stream instead of a finite data set [MASK] for e. g. network traffic measurements, web server logs, clickstreams. [SEP]                                                                                   \n",
      " MODEL: [CLS] This algorithm finds huge application in computations where data takes the form of a continuous data stream instead of a finite data set up for e. g. network traffic measurements, web server logs, clickstreams. [SEP] [PAD] [PAD] [PAD] [PAD] [PAD] [PAD] [PAD] [PAD] [PAD] [PAD] [PAD] [PAD] [PAD] [PAD] [PAD] [PAD] [PAD] [PAD] [PAD] [PAD] [PAD] [PAD] [PAD] [PAD] [PAD] [PAD] [PAD] [PAD] [PAD] [PAD] [PAD] [PAD] [PAD] [PAD] [PAD] [PAD] [PAD] [PAD] [PAD] [PAD] [PAD] [PAD] [PAD] [PAD] [PAD] [PAD] [PAD] [PAD] [PAD] [PAD] [PAD] [PAD] [PAD] [PAD] [PAD] [PAD] [PAD] [PAD] [PAD] [PAD] [PAD] [PAD] [PAD] [PAD] [PAD] [PAD] [PAD] [PAD] [PAD] [PAD] [PAD] [PAD] [PAD] [PAD] [PAD] [PAD] [PAD] [PAD] [PAD] [PAD] [PAD] [PAD] [PAD]\n",
      "\n",
      "\n",
      "\n",
      "masked: in predicted: in\n",
      "ACTUAL: They played in the Philippines National Rugby League Championship.\n",
      "MASKED: [CLS] They played [MASK] the Philippines National Rugby League Championship. [SEP]                                                                                                                    \n",
      " MODEL: [CLS] They played in the Philippines National Rugby League Championship. [SEP] [PAD] [PAD] [PAD] [PAD] [PAD] [PAD] [PAD] [PAD] [PAD] [PAD] [PAD] [PAD] [PAD] [PAD] [PAD] [PAD] [PAD] [PAD] [PAD] [PAD] [PAD] [PAD] [PAD] [PAD] [PAD] [PAD] [PAD] [PAD] [PAD] [PAD] [PAD] [PAD] [PAD] [PAD] [PAD] [PAD] [PAD] [PAD] [PAD] [PAD] [PAD] [PAD] [PAD] [PAD] [PAD] [PAD] [PAD] [PAD] [PAD] [PAD] [PAD] [PAD] [PAD] [PAD] [PAD] [PAD] [PAD] [PAD] [PAD] [PAD] [PAD] [PAD] [PAD] [PAD] [PAD] [PAD] [PAD] [PAD] [PAD] [PAD] [PAD] [PAD] [PAD] [PAD] [PAD] [PAD] [PAD] [PAD] [PAD] [PAD] [PAD] [PAD] [PAD] [PAD] [PAD] [PAD] [PAD] [PAD] [PAD] [PAD] [PAD] [PAD] [PAD] [PAD] [PAD] [PAD] [PAD] [PAD] [PAD] [PAD] [PAD] [PAD] [PAD] [PAD] [PAD] [PAD] [PAD] [PAD] [PAD] [PAD] [PAD] [PAD] [PAD] [PAD] [PAD] [PAD]\n",
      "\n",
      "\n",
      "\n",
      "masked: ##pine predicted: and\n",
      "ACTUAL: Fasiplon (RU 33203) is a nonbenzodiazepine anxiolytic drug from the imidazopyrimidine family of drugs.\n",
      "MASKED: [CLS] Fasiplon ( RU 33203 ) is a nonbenzodiaze [MASK] anxiolytic drug from the imidazopyrimidine family of drugs. [SEP]                                                                                         \n",
      " MODEL: [CLS] Fasiplon ( RU 33203 ) is a nonbenzodiaze and anxiolytic drug from the imidazopyrimidine family of drugs. [SEP] [PAD] [PAD] [PAD] [PAD] [PAD] [PAD] [PAD] [PAD] [PAD] [PAD] [PAD] [PAD] [PAD] [PAD] [PAD] [PAD] [PAD] [PAD] [PAD] [PAD] [PAD] [PAD] [PAD] [PAD] [PAD] [PAD] [PAD] [PAD] [PAD] [PAD] [PAD] [PAD] [PAD] [PAD] [PAD] [PAD] [PAD] [PAD] [PAD] [PAD] [PAD] [PAD] [PAD] [PAD] [PAD] [PAD] [PAD] [PAD] [PAD] [PAD] [PAD] [PAD] [PAD] [PAD] [PAD] [PAD] [PAD] [PAD] [PAD] [PAD] [PAD] [PAD] [PAD] [PAD] [PAD] [PAD] [PAD] [PAD] [PAD] [PAD] [PAD] [PAD] [PAD] [PAD] [PAD] [PAD] [PAD] [PAD] [PAD] [PAD] [PAD] [PAD] [PAD] [PAD] [PAD] [PAD] [PAD] [PAD] [PAD]\n",
      "\n",
      "\n",
      "\n",
      "masked: covers predicted: ,\n",
      "ACTUAL: Essential Oils is a two-disk compilation album by Australian rock band Midnight Oil released in November 2012.The compilation covers Midnight Oil's entire career, starting with their 1978 self-titled album, and includes tracks from all their studio albums and EPs.\n",
      "MASKED: [CLS] Essential Oils is a two - disk compilation album by Australian rock band Midnight Oil released in November 2012. The compilation [MASK] Midnight Oil ' s entire career, starting with their 1978 self - titled album, and includes tracks from all their studio albums and EPs. [SEP]                                                                          \n",
      " MODEL: [CLS] Essential Oils is a two - disk compilation album by Australian rock band Midnight Oil released in November 2012. The compilation, Midnight Oil ' s entire career, starting with their 1978 self - titled album, and includes tracks from all their studio albums and EPs. [SEP] [PAD] [PAD] [PAD] [PAD] [PAD] [PAD] [PAD] [PAD] [PAD] [PAD] [PAD] [PAD] [PAD] [PAD] [PAD] [PAD] [PAD] [PAD] [PAD] [PAD] [PAD] [PAD] [PAD] [PAD] [PAD] [PAD] [PAD] [PAD] [PAD] [PAD] [PAD] [PAD] [PAD] [PAD] [PAD] [PAD] [PAD] [PAD] [PAD] [PAD] [PAD] [PAD] [PAD] [PAD] [PAD] [PAD] [PAD] [PAD] [PAD] [PAD] [PAD] [PAD] [PAD] [PAD] [PAD] [PAD] [PAD] [PAD] [PAD] [PAD] [PAD] [PAD] [PAD] [PAD] [PAD] [PAD] [PAD] [PAD] [PAD] [PAD] [PAD] [PAD] [PAD] [PAD]\n",
      "\n",
      "\n",
      "\n",
      "masked: same predicted: total\n",
      "ACTUAL: Where vote totals are unknown, the MPs received the same number of votes or were returned unopposed, the order is that given by Hayton et al.\n",
      "MASKED: [CLS] Where vote totals are unknown, the MPs received the [MASK] number of votes or were returned unopposed, the order is that given by Hayton et al. [SEP]                                                                                                \n",
      " MODEL: [CLS] Where vote totals are unknown, the MPs received the total number of votes or were returned unopposed, the order is that given by Hayton et al. [SEP] [PAD] [PAD] [PAD] [PAD] [PAD] [PAD] [PAD] [PAD] [PAD] [PAD] [PAD] [PAD] [PAD] [PAD] [PAD] [PAD] [PAD] [PAD] [PAD] [PAD] [PAD] [PAD] [PAD] [PAD] [PAD] [PAD] [PAD] [PAD] [PAD] [PAD] [PAD] [PAD] [PAD] [PAD] [PAD] [PAD] [PAD] [PAD] [PAD] [PAD] [PAD] [PAD] [PAD] [PAD] [PAD] [PAD] [PAD] [PAD] [PAD] [PAD] [PAD] [PAD] [PAD] [PAD] [PAD] [PAD] [PAD] [PAD] [PAD] [PAD] [PAD] [PAD] [PAD] [PAD] [PAD] [PAD] [PAD] [PAD] [PAD] [PAD] [PAD] [PAD] [PAD] [PAD] [PAD] [PAD] [PAD] [PAD] [PAD] [PAD] [PAD] [PAD] [PAD] [PAD] [PAD] [PAD] [PAD] [PAD] [PAD] [PAD] [PAD] [PAD] [PAD] [PAD] [PAD] [PAD]\n",
      "\n",
      "\n",
      "\n",
      "masked: Street predicted: Street\n",
      "ACTUAL: It is historically bounded on the north by Geary Street, on the east by Mason Street, on the south by Market Street and on the west by Van Ness Avenue.\n",
      "MASKED: [CLS] It is historically bounded on the north by Geary Street, on the east by Mason Street, on the south by Market [MASK] and on the west by Van Ness Avenue. [SEP]                                                                                           \n",
      " MODEL: [CLS] It is historically bounded on the north by Geary Street, on the east by Mason Street, on the south by Market Street and on the west by Van Ness Avenue. [SEP] [PAD] [PAD] [PAD] [PAD] [PAD] [PAD] [PAD] [PAD] [PAD] [PAD] [PAD] [PAD] [PAD] [PAD] [PAD] [PAD] [PAD] [PAD] [PAD] [PAD] [PAD] [PAD] [PAD] [PAD] [PAD] [PAD] [PAD] [PAD] [PAD] [PAD] [PAD] [PAD] [PAD] [PAD] [PAD] [PAD] [PAD] [PAD] [PAD] [PAD] [PAD] [PAD] [PAD] [PAD] [PAD] [PAD] [PAD] [PAD] [PAD] [PAD] [PAD] [PAD] [PAD] [PAD] [PAD] [PAD] [PAD] [PAD] [PAD] [PAD] [PAD] [PAD] [PAD] [PAD] [PAD] [PAD] [PAD] [PAD] [PAD] [PAD] [PAD] [PAD] [PAD] [PAD] [PAD] [PAD] [PAD] [PAD] [PAD] [PAD] [PAD] [PAD] [PAD] [PAD] [PAD] [PAD] [PAD] [PAD] [PAD] [PAD] [PAD]\n",
      "\n",
      "\n",
      "\n",
      "masked: take predicted: are\n",
      "ACTUAL: They take their name from Ursula K. Le Guin's Earthsea series of books, where Kalessin is the name of the arch-dragon who is the bearer of the Earthsea world.\n",
      "MASKED: [CLS] They [MASK] their name from Ursula K. Le Guin ' s Earthsea series of books, where Kalessin is the name of the arch - dragon who is the bearer of the Earthsea world. [SEP]                                                                                     \n",
      " MODEL: [CLS] They are their name from Ursula K. Le Guin ' s Earthsea series of books, where Kalessin is the name of the arch - dragon who is the bearer of the Earthsea world. [SEP] [PAD] [PAD] [PAD] [PAD] [PAD] [PAD] [PAD] [PAD] [PAD] [PAD] [PAD] [PAD] [PAD] [PAD] [PAD] [PAD] [PAD] [PAD] [PAD] [PAD] [PAD] [PAD] [PAD] [PAD] [PAD] [PAD] [PAD] [PAD] [PAD] [PAD] [PAD] [PAD] [PAD] [PAD] [PAD] [PAD] [PAD] [PAD] [PAD] [PAD] [PAD] [PAD] [PAD] [PAD] [PAD] [PAD] [PAD] [PAD] [PAD] [PAD] [PAD] [PAD] [PAD] [PAD] [PAD] [PAD] [PAD] [PAD] [PAD] [PAD] [PAD] [PAD] [PAD] [PAD] [PAD] [PAD] [PAD] [PAD] [PAD] [PAD] [PAD] [PAD] [PAD] [PAD] [PAD] [PAD] [PAD] [PAD] [PAD] [PAD] [PAD] [PAD] [PAD] [PAD] [PAD]\n",
      "\n",
      "\n",
      "\n"
     ]
    },
    {
     "name": "stdout",
     "output_type": "stream",
     "text": [
      "masked: ##2 predicted: ##A\n",
      "ACTUAL: NACHT, LRR and PYD domains-containing protein 2 is a protein that in humans is encoded by the NLRP2 gene.\n",
      "MASKED: [CLS] NACHT, LRR and PYD domains - containing protein 2 is a protein that in humans is encoded by the NLRP [MASK] gene. [SEP]                                                                                               \n",
      " MODEL: [CLS] NACHT, LRR and PYD domains - containing protein 2 is a protein that in humans is encoded by the NLRPA gene. [SEP] [PAD] [PAD] [PAD] [PAD] [PAD] [PAD] [PAD] [PAD] [PAD] [PAD] [PAD] [PAD] [PAD] [PAD] [PAD] [PAD] [PAD] [PAD] [PAD] [PAD] [PAD] [PAD] [PAD] [PAD] [PAD] [PAD] [PAD] [PAD] [PAD] [PAD] [PAD] [PAD] [PAD] [PAD] [PAD] [PAD] [PAD] [PAD] [PAD] [PAD] [PAD] [PAD] [PAD] [PAD] [PAD] [PAD] [PAD] [PAD] [PAD] [PAD] [PAD] [PAD] [PAD] [PAD] [PAD] [PAD] [PAD] [PAD] [PAD] [PAD] [PAD] [PAD] [PAD] [PAD] [PAD] [PAD] [PAD] [PAD] [PAD] [PAD] [PAD] [PAD] [PAD] [PAD] [PAD] [PAD] [PAD] [PAD] [PAD] [PAD] [PAD] [PAD] [PAD] [PAD] [PAD] [PAD] [PAD] [PAD] [PAD] [PAD] [PAD] [PAD] [PAD] [PAD] [PAD]\n",
      "\n",
      "\n",
      "\n",
      "masked: be predicted: be\n",
      "ACTUAL: However, it can be used for any gene, regardless of transcriptional activity or gene size.\n",
      "MASKED: [CLS] However, it can [MASK] used for any gene, regardless of transcriptional activity or gene size. [SEP]                                                                                                           \n",
      " MODEL: [CLS] However, it can be used for any gene, regardless of transcriptional activity or gene size. [SEP] [PAD] [PAD] [PAD] [PAD] [PAD] [PAD] [PAD] [PAD] [PAD] [PAD] [PAD] [PAD] [PAD] [PAD] [PAD] [PAD] [PAD] [PAD] [PAD] [PAD] [PAD] [PAD] [PAD] [PAD] [PAD] [PAD] [PAD] [PAD] [PAD] [PAD] [PAD] [PAD] [PAD] [PAD] [PAD] [PAD] [PAD] [PAD] [PAD] [PAD] [PAD] [PAD] [PAD] [PAD] [PAD] [PAD] [PAD] [PAD] [PAD] [PAD] [PAD] [PAD] [PAD] [PAD] [PAD] [PAD] [PAD] [PAD] [PAD] [PAD] [PAD] [PAD] [PAD] [PAD] [PAD] [PAD] [PAD] [PAD] [PAD] [PAD] [PAD] [PAD] [PAD] [PAD] [PAD] [PAD] [PAD] [PAD] [PAD] [PAD] [PAD] [PAD] [PAD] [PAD] [PAD] [PAD] [PAD] [PAD] [PAD] [PAD] [PAD] [PAD] [PAD] [PAD] [PAD] [PAD] [PAD] [PAD] [PAD] [PAD] [PAD] [PAD] [PAD] [PAD] [PAD] [PAD] [PAD]\n",
      "\n",
      "\n",
      "\n",
      "masked: [CLS] predicted: [CLS]\n",
      "ACTUAL: Brooks is a city in Red Lake County, Minnesota, United States.\n",
      "MASKED: [MASK] Brooks is a city in Red Lake County, Minnesota, United States. [SEP]                                                                                                                \n",
      " MODEL: [CLS] Brooks is a city in Red Lake County, Minnesota, United States. [SEP] [PAD] [PAD] [PAD] [PAD] [PAD] [PAD] [PAD] [PAD] [PAD] [PAD] [PAD] [PAD] [PAD] [PAD] [PAD] [PAD] [PAD] [PAD] [PAD] [PAD] [PAD] [PAD] [PAD] [PAD] [PAD] [PAD] [PAD] [PAD] [PAD] [PAD] [PAD] [PAD] [PAD] [PAD] [PAD] [PAD] [PAD] [PAD] [PAD] [PAD] [PAD] [PAD] [PAD] [PAD] [PAD] [PAD] [PAD] [PAD] [PAD] [PAD] [PAD] [PAD] [PAD] [PAD] [PAD] [PAD] [PAD] [PAD] [PAD] [PAD] [PAD] [PAD] [PAD] [PAD] [PAD] [PAD] [PAD] [PAD] [PAD] [PAD] [PAD] [PAD] [PAD] [PAD] [PAD] [PAD] [PAD] [PAD] [PAD] [PAD] [PAD] [PAD] [PAD] [PAD] [PAD] [PAD] [PAD] [PAD] [PAD] [PAD] [PAD] [PAD] [PAD] [PAD] [PAD] [PAD] [PAD] [PAD] [PAD] [PAD] [PAD] [PAD] [PAD] [PAD] [PAD] [PAD] [PAD] [PAD] [PAD] [PAD] [PAD] [PAD]\n",
      "\n",
      "\n",
      "\n",
      "masked: Ha predicted: Ka\n",
      "ACTUAL: Salakhly is a village in the Hajigabul Rayon of Azerbaijan.\n",
      "MASKED: [CLS] Salakhly is a village in the [MASK]jigabul Rayon of Azerbaijan. [SEP]                                                                                                             \n",
      " MODEL: [CLS] Salakhly is a village in the Kajigabul Rayon of Azerbaijan. [SEP] [PAD] [PAD] [PAD] [PAD] [PAD] [PAD] [PAD] [PAD] [PAD] [PAD] [PAD] [PAD] [PAD] [PAD] [PAD] [PAD] [PAD] [PAD] [PAD] [PAD] [PAD] [PAD] [PAD] [PAD] [PAD] [PAD] [PAD] [PAD] [PAD] [PAD] [PAD] [PAD] [PAD] [PAD] [PAD] [PAD] [PAD] [PAD] [PAD] [PAD] [PAD] [PAD] [PAD] [PAD] [PAD] [PAD] [PAD] [PAD] [PAD] [PAD] [PAD] [PAD] [PAD] [PAD] [PAD] [PAD] [PAD] [PAD] [PAD] [PAD] [PAD] [PAD] [PAD] [PAD] [PAD] [PAD] [PAD] [PAD] [PAD] [PAD] [PAD] [PAD] [PAD] [PAD] [PAD] [PAD] [PAD] [PAD] [PAD] [PAD] [PAD] [PAD] [PAD] [PAD] [PAD] [PAD] [PAD] [PAD] [PAD] [PAD] [PAD] [PAD] [PAD] [PAD] [PAD] [PAD] [PAD] [PAD] [PAD] [PAD] [PAD] [PAD] [PAD] [PAD] [PAD] [PAD] [PAD] [PAD] [PAD]\n",
      "\n",
      "\n",
      "\n",
      "masked: , predicted: ,\n",
      "ACTUAL: Lucas made a previously unannounced appearance on 1 January 2016 before making a temporary return later in the year, after escaping prison, and then departing again on 10 March 2016.\n",
      "MASKED: [CLS] Lucas made a previously unannounced appearance on 1 January 2016 before making a temporary return later in the year, after escaping prison [MASK] and then departing again on 10 March 2016. [SEP]                                                                                           \n",
      " MODEL: [CLS] Lucas made a previously unannounced appearance on 1 January 2016 before making a temporary return later in the year, after escaping prison, and then departing again on 10 March 2016. [SEP] [PAD] [PAD] [PAD] [PAD] [PAD] [PAD] [PAD] [PAD] [PAD] [PAD] [PAD] [PAD] [PAD] [PAD] [PAD] [PAD] [PAD] [PAD] [PAD] [PAD] [PAD] [PAD] [PAD] [PAD] [PAD] [PAD] [PAD] [PAD] [PAD] [PAD] [PAD] [PAD] [PAD] [PAD] [PAD] [PAD] [PAD] [PAD] [PAD] [PAD] [PAD] [PAD] [PAD] [PAD] [PAD] [PAD] [PAD] [PAD] [PAD] [PAD] [PAD] [PAD] [PAD] [PAD] [PAD] [PAD] [PAD] [PAD] [PAD] [PAD] [PAD] [PAD] [PAD] [PAD] [PAD] [PAD] [PAD] [PAD] [PAD] [PAD] [PAD] [PAD] [PAD] [PAD] [PAD] [PAD] [PAD] [PAD] [PAD] [PAD] [PAD] [PAD] [PAD] [PAD] [PAD] [PAD] [PAD] [PAD] [PAD] [PAD] [PAD]\n",
      "\n",
      "\n",
      "\n",
      "masked: Observer predicted: Society\n",
      "ACTUAL: The Leitrim Observer is the oldest newspaper in Leitrim.\n",
      "MASKED: [CLS] The Leitrim [MASK] is the oldest newspaper in Leitrim. [SEP]                                                                                                                \n",
      " MODEL: [CLS] The Leitrim Society is the oldest newspaper in Leitrim. [SEP] [PAD] [PAD] [PAD] [PAD] [PAD] [PAD] [PAD] [PAD] [PAD] [PAD] [PAD] [PAD] [PAD] [PAD] [PAD] [PAD] [PAD] [PAD] [PAD] [PAD] [PAD] [PAD] [PAD] [PAD] [PAD] [PAD] [PAD] [PAD] [PAD] [PAD] [PAD] [PAD] [PAD] [PAD] [PAD] [PAD] [PAD] [PAD] [PAD] [PAD] [PAD] [PAD] [PAD] [PAD] [PAD] [PAD] [PAD] [PAD] [PAD] [PAD] [PAD] [PAD] [PAD] [PAD] [PAD] [PAD] [PAD] [PAD] [PAD] [PAD] [PAD] [PAD] [PAD] [PAD] [PAD] [PAD] [PAD] [PAD] [PAD] [PAD] [PAD] [PAD] [PAD] [PAD] [PAD] [PAD] [PAD] [PAD] [PAD] [PAD] [PAD] [PAD] [PAD] [PAD] [PAD] [PAD] [PAD] [PAD] [PAD] [PAD] [PAD] [PAD] [PAD] [PAD] [PAD] [PAD] [PAD] [PAD] [PAD] [PAD] [PAD] [PAD] [PAD] [PAD] [PAD] [PAD] [PAD] [PAD] [PAD] [PAD] [PAD] [PAD]\n",
      "\n",
      "\n",
      "\n",
      "masked: au predicted: al\n",
      "ACTUAL: Tmesisternus aubrooki is a species of beetle in the family Cerambycidae.\n",
      "MASKED: [CLS] Tmesisternus [MASK]brooki is a species of beetle in the family Cerambycidae. [SEP]                                                                                                             \n",
      " MODEL: [CLS] Tmesisternus albrooki is a species of beetle in the family Cerambycidae. [SEP] [PAD] [PAD] [PAD] [PAD] [PAD] [PAD] [PAD] [PAD] [PAD] [PAD] [PAD] [PAD] [PAD] [PAD] [PAD] [PAD] [PAD] [PAD] [PAD] [PAD] [PAD] [PAD] [PAD] [PAD] [PAD] [PAD] [PAD] [PAD] [PAD] [PAD] [PAD] [PAD] [PAD] [PAD] [PAD] [PAD] [PAD] [PAD] [PAD] [PAD] [PAD] [PAD] [PAD] [PAD] [PAD] [PAD] [PAD] [PAD] [PAD] [PAD] [PAD] [PAD] [PAD] [PAD] [PAD] [PAD] [PAD] [PAD] [PAD] [PAD] [PAD] [PAD] [PAD] [PAD] [PAD] [PAD] [PAD] [PAD] [PAD] [PAD] [PAD] [PAD] [PAD] [PAD] [PAD] [PAD] [PAD] [PAD] [PAD] [PAD] [PAD] [PAD] [PAD] [PAD] [PAD] [PAD] [PAD] [PAD] [PAD] [PAD] [PAD] [PAD] [PAD] [PAD] [PAD] [PAD] [PAD] [PAD] [PAD] [PAD] [PAD] [PAD] [PAD] [PAD] [PAD] [PAD] [PAD] [PAD] [PAD]\n",
      "\n",
      "\n",
      "\n",
      "masked: is predicted: is\n",
      "ACTUAL: Clivina limbipennis is a species of ground beetle in the subfamily Scaritinae.\n",
      "MASKED: [CLS] Clivina limbipennis [MASK] a species of ground beetle in the subfamily Scaritinae. [SEP]                                                                                                         \n",
      " MODEL: [CLS] Clivina limbipennis is a species of ground beetle in the subfamily Scaritinae. [SEP] [PAD] [PAD] [PAD] [PAD] [PAD] [PAD] [PAD] [PAD] [PAD] [PAD] [PAD] [PAD] [PAD] [PAD] [PAD] [PAD] [PAD] [PAD] [PAD] [PAD] [PAD] [PAD] [PAD] [PAD] [PAD] [PAD] [PAD] [PAD] [PAD] [PAD] [PAD] [PAD] [PAD] [PAD] [PAD] [PAD] [PAD] [PAD] [PAD] [PAD] [PAD] [PAD] [PAD] [PAD] [PAD] [PAD] [PAD] [PAD] [PAD] [PAD] [PAD] [PAD] [PAD] [PAD] [PAD] [PAD] [PAD] [PAD] [PAD] [PAD] [PAD] [PAD] [PAD] [PAD] [PAD] [PAD] [PAD] [PAD] [PAD] [PAD] [PAD] [PAD] [PAD] [PAD] [PAD] [PAD] [PAD] [PAD] [PAD] [PAD] [PAD] [PAD] [PAD] [PAD] [PAD] [PAD] [PAD] [PAD] [PAD] [PAD] [PAD] [PAD] [PAD] [PAD] [PAD] [PAD] [PAD] [PAD] [PAD] [PAD] [PAD] [PAD] [PAD] [PAD] [PAD]\n",
      "\n",
      "\n",
      "\n",
      "masked: ##ova predicted: have\n",
      "ACTUAL: Nemtsova had previously won a silver in Full-Contact at the last world championships in Paris.\n",
      "MASKED: [CLS] Nemts [MASK] had previously won a silver in Full - Contact at the last world championships in Paris. [SEP]                                                                                                         \n",
      " MODEL: [CLS] Nemts have had previously won a silver in Full - Contact at the last world championships in Paris. [SEP] [PAD] [PAD] [PAD] [PAD] [PAD] [PAD] [PAD] [PAD] [PAD] [PAD] [PAD] [PAD] [PAD] [PAD] [PAD] [PAD] [PAD] [PAD] [PAD] [PAD] [PAD] [PAD] [PAD] [PAD] [PAD] [PAD] [PAD] [PAD] [PAD] [PAD] [PAD] [PAD] [PAD] [PAD] [PAD] [PAD] [PAD] [PAD] [PAD] [PAD] [PAD] [PAD] [PAD] [PAD] [PAD] [PAD] [PAD] [PAD] [PAD] [PAD] [PAD] [PAD] [PAD] [PAD] [PAD] [PAD] [PAD] [PAD] [PAD] [PAD] [PAD] [PAD] [PAD] [PAD] [PAD] [PAD] [PAD] [PAD] [PAD] [PAD] [PAD] [PAD] [PAD] [PAD] [PAD] [PAD] [PAD] [PAD] [PAD] [PAD] [PAD] [PAD] [PAD] [PAD] [PAD] [PAD] [PAD] [PAD] [PAD] [PAD] [PAD] [PAD] [PAD] [PAD] [PAD] [PAD] [PAD] [PAD] [PAD] [PAD] [PAD] [PAD] [PAD] [PAD] [PAD]\n",
      "\n",
      "\n",
      "\n",
      "masked: V predicted: G\n",
      "ACTUAL: The supporting cast included Bob Hoskins, James Remar, Nicolas Cage, Allen Garfield, Laurence Fishburne, Gwen Verdon and Fred Gwynne.\n",
      "MASKED: [CLS] The supporting cast included Bob Hoskins, James Remar, Nicolas Cage, Allen Garfield, Laurence Fishburne, Gwen [MASK]erdon and Fred Gwynne. [SEP]                                                                                             \n",
      " MODEL: [CLS] The supporting cast included Bob Hoskins, James Remar, Nicolas Cage, Allen Garfield, Laurence Fishburne, Gwen Gerdon and Fred Gwynne. [SEP] [PAD] [PAD] [PAD] [PAD] [PAD] [PAD] [PAD] [PAD] [PAD] [PAD] [PAD] [PAD] [PAD] [PAD] [PAD] [PAD] [PAD] [PAD] [PAD] [PAD] [PAD] [PAD] [PAD] [PAD] [PAD] [PAD] [PAD] [PAD] [PAD] [PAD] [PAD] [PAD] [PAD] [PAD] [PAD] [PAD] [PAD] [PAD] [PAD] [PAD] [PAD] [PAD] [PAD] [PAD] [PAD] [PAD] [PAD] [PAD] [PAD] [PAD] [PAD] [PAD] [PAD] [PAD] [PAD] [PAD] [PAD] [PAD] [PAD] [PAD] [PAD] [PAD] [PAD] [PAD] [PAD] [PAD] [PAD] [PAD] [PAD] [PAD] [PAD] [PAD] [PAD] [PAD] [PAD] [PAD] [PAD] [PAD] [PAD] [PAD] [PAD] [PAD] [PAD] [PAD] [PAD] [PAD] [PAD] [PAD] [PAD] [PAD] [PAD] [PAD] [PAD]\n",
      "\n",
      "\n",
      "\n",
      "masked: George predicted: Fort\n",
      "ACTUAL: A fuller version may exist at the George Eastman House.\n",
      "MASKED: [CLS] A fuller version may exist at the [MASK] Eastman House. [SEP]                                                                                                                  \n",
      " MODEL: [CLS] A fuller version may exist at the Fort Eastman House. [SEP] [PAD] [PAD] [PAD] [PAD] [PAD] [PAD] [PAD] [PAD] [PAD] [PAD] [PAD] [PAD] [PAD] [PAD] [PAD] [PAD] [PAD] [PAD] [PAD] [PAD] [PAD] [PAD] [PAD] [PAD] [PAD] [PAD] [PAD] [PAD] [PAD] [PAD] [PAD] [PAD] [PAD] [PAD] [PAD] [PAD] [PAD] [PAD] [PAD] [PAD] [PAD] [PAD] [PAD] [PAD] [PAD] [PAD] [PAD] [PAD] [PAD] [PAD] [PAD] [PAD] [PAD] [PAD] [PAD] [PAD] [PAD] [PAD] [PAD] [PAD] [PAD] [PAD] [PAD] [PAD] [PAD] [PAD] [PAD] [PAD] [PAD] [PAD] [PAD] [PAD] [PAD] [PAD] [PAD] [PAD] [PAD] [PAD] [PAD] [PAD] [PAD] [PAD] [PAD] [PAD] [PAD] [PAD] [PAD] [PAD] [PAD] [PAD] [PAD] [PAD] [PAD] [PAD] [PAD] [PAD] [PAD] [PAD] [PAD] [PAD] [PAD] [PAD] [PAD] [PAD] [PAD] [PAD] [PAD] [PAD] [PAD] [PAD] [PAD] [PAD] [PAD] [PAD]\n",
      "\n",
      "\n",
      "\n",
      "masked: W predicted: M\n",
      "ACTUAL: In late 2007, President George W. Bush nominated Naples to the Board of Directors of the National Passenger Railroad Corporation (Amtrak).\n",
      "MASKED: [CLS] In late 2007, President George [MASK]. Bush nominated Naples to the Board of Directors of the National Passenger Railroad Corporation ( Amtrak ). [SEP]                                                                                                    \n",
      " MODEL: [CLS] In late 2007, President George M. Bush nominated Naples to the Board of Directors of the National Passenger Railroad Corporation ( Amtrak ). [SEP] [PAD] [PAD] [PAD] [PAD] [PAD] [PAD] [PAD] [PAD] [PAD] [PAD] [PAD] [PAD] [PAD] [PAD] [PAD] [PAD] [PAD] [PAD] [PAD] [PAD] [PAD] [PAD] [PAD] [PAD] [PAD] [PAD] [PAD] [PAD] [PAD] [PAD] [PAD] [PAD] [PAD] [PAD] [PAD] [PAD] [PAD] [PAD] [PAD] [PAD] [PAD] [PAD] [PAD] [PAD] [PAD] [PAD] [PAD] [PAD] [PAD] [PAD] [PAD] [PAD] [PAD] [PAD] [PAD] [PAD] [PAD] [PAD] [PAD] [PAD] [PAD] [PAD] [PAD] [PAD] [PAD] [PAD] [PAD] [PAD] [PAD] [PAD] [PAD] [PAD] [PAD] [PAD] [PAD] [PAD] [PAD] [PAD] [PAD] [PAD] [PAD] [PAD] [PAD] [PAD] [PAD] [PAD] [PAD] [PAD] [PAD] [PAD] [PAD] [PAD] [PAD] [PAD] [PAD] [PAD] [PAD] [PAD] [PAD] [PAD]\n",
      "\n",
      "\n",
      "\n",
      "masked: ##kon predicted: ##mal\n",
      "ACTUAL: Baburajapuram is a village in the Kumbakonam taluk of Thanjavur district, Tamil Nadu.\n",
      "MASKED: [CLS] Baburajapuram is a village in the Kumba [MASK]am taluk of Thanjavur district, Tamil Nadu. [SEP]                                                                                                    \n",
      " MODEL: [CLS] Baburajapuram is a village in the Kumbamalam taluk of Thanjavur district, Tamil Nadu. [SEP] [PAD] [PAD] [PAD] [PAD] [PAD] [PAD] [PAD] [PAD] [PAD] [PAD] [PAD] [PAD] [PAD] [PAD] [PAD] [PAD] [PAD] [PAD] [PAD] [PAD] [PAD] [PAD] [PAD] [PAD] [PAD] [PAD] [PAD] [PAD] [PAD] [PAD] [PAD] [PAD] [PAD] [PAD] [PAD] [PAD] [PAD] [PAD] [PAD] [PAD] [PAD] [PAD] [PAD] [PAD] [PAD] [PAD] [PAD] [PAD] [PAD] [PAD] [PAD] [PAD] [PAD] [PAD] [PAD] [PAD] [PAD] [PAD] [PAD] [PAD] [PAD] [PAD] [PAD] [PAD] [PAD] [PAD] [PAD] [PAD] [PAD] [PAD] [PAD] [PAD] [PAD] [PAD] [PAD] [PAD] [PAD] [PAD] [PAD] [PAD] [PAD] [PAD] [PAD] [PAD] [PAD] [PAD] [PAD] [PAD] [PAD] [PAD] [PAD] [PAD] [PAD] [PAD] [PAD] [PAD] [PAD] [PAD] [PAD] [PAD]\n",
      "\n",
      "\n",
      "\n",
      "masked: [CLS] predicted: [CLS]\n",
      "ACTUAL: As the series progresses a demon emperor, Mundus, is found to be responsible for the murder of Dante's mother and the enslavement of his brother.\n",
      "MASKED: [MASK] As the series progresses a demon emperor, Mundus, is found to be responsible for the murder of Dante ' s mother and the enslavement of his brother. [SEP]                                                                                            \n",
      " MODEL: [CLS] As the series progresses a demon emperor, Mundus, is found to be responsible for the murder of Dante ' s mother and the enslavement of his brother. [SEP] [PAD] [PAD] [PAD] [PAD] [PAD] [PAD] [PAD] [PAD] [PAD] [PAD] [PAD] [PAD] [PAD] [PAD] [PAD] [PAD] [PAD] [PAD] [PAD] [PAD] [PAD] [PAD] [PAD] [PAD] [PAD] [PAD] [PAD] [PAD] [PAD] [PAD] [PAD] [PAD] [PAD] [PAD] [PAD] [PAD] [PAD] [PAD] [PAD] [PAD] [PAD] [PAD] [PAD] [PAD] [PAD] [PAD] [PAD] [PAD] [PAD] [PAD] [PAD] [PAD] [PAD] [PAD] [PAD] [PAD] [PAD] [PAD] [PAD] [PAD] [PAD] [PAD] [PAD] [PAD] [PAD] [PAD] [PAD] [PAD] [PAD] [PAD] [PAD] [PAD] [PAD] [PAD] [PAD] [PAD] [PAD] [PAD] [PAD] [PAD] [PAD] [PAD] [PAD] [PAD] [PAD] [PAD] [PAD] [PAD] [PAD] [PAD] [PAD] [PAD]\n",
      "\n",
      "\n",
      "\n",
      "masked: propelled predicted: deck\n",
      "ACTUAL: Panjandrum, also known as The Great Panjandrum, was a massive, rocket-propelled, explosive-laden cart designed by the British military during World War II.\n",
      "MASKED: [CLS] Panjandrum, also known as The Great Panjandrum, was a massive, rocket - [MASK], explosive - laden cart designed by the British military during World War II. [SEP]                                                                                           \n",
      " MODEL: [CLS] Panjandrum, also known as The Great Panjandrum, was a massive, rocket - deck, explosive - laden cart designed by the British military during World War II. [SEP] [PAD] [PAD] [PAD] [PAD] [PAD] [PAD] [PAD] [PAD] [PAD] [PAD] [PAD] [PAD] [PAD] [PAD] [PAD] [PAD] [PAD] [PAD] [PAD] [PAD] [PAD] [PAD] [PAD] [PAD] [PAD] [PAD] [PAD] [PAD] [PAD] [PAD] [PAD] [PAD] [PAD] [PAD] [PAD] [PAD] [PAD] [PAD] [PAD] [PAD] [PAD] [PAD] [PAD] [PAD] [PAD] [PAD] [PAD] [PAD] [PAD] [PAD] [PAD] [PAD] [PAD] [PAD] [PAD] [PAD] [PAD] [PAD] [PAD] [PAD] [PAD] [PAD] [PAD] [PAD] [PAD] [PAD] [PAD] [PAD] [PAD] [PAD] [PAD] [PAD] [PAD] [PAD] [PAD] [PAD] [PAD] [PAD] [PAD] [PAD] [PAD] [PAD] [PAD] [PAD] [PAD] [PAD] [PAD] [PAD] [PAD] [PAD] [PAD]\n",
      "\n",
      "\n",
      "\n",
      "masked: militant predicted: central\n",
      "ACTUAL: Their outlook would typically be that of a militant defender of faith, sometimes crossing over into cleric, missionary, zealot, or inquisitor territory.\n",
      "MASKED: [CLS] Their outlook would typically be that of a [MASK] defender of faith, sometimes crossing over into cleric, missionary, zealot, or inquisitor territory. [SEP]                                                                                             \n",
      " MODEL: [CLS] Their outlook would typically be that of a central defender of faith, sometimes crossing over into cleric, missionary, zealot, or inquisitor territory. [SEP] [PAD] [PAD] [PAD] [PAD] [PAD] [PAD] [PAD] [PAD] [PAD] [PAD] [PAD] [PAD] [PAD] [PAD] [PAD] [PAD] [PAD] [PAD] [PAD] [PAD] [PAD] [PAD] [PAD] [PAD] [PAD] [PAD] [PAD] [PAD] [PAD] [PAD] [PAD] [PAD] [PAD] [PAD] [PAD] [PAD] [PAD] [PAD] [PAD] [PAD] [PAD] [PAD] [PAD] [PAD] [PAD] [PAD] [PAD] [PAD] [PAD] [PAD] [PAD] [PAD] [PAD] [PAD] [PAD] [PAD] [PAD] [PAD] [PAD] [PAD] [PAD] [PAD] [PAD] [PAD] [PAD] [PAD] [PAD] [PAD] [PAD] [PAD] [PAD] [PAD] [PAD] [PAD] [PAD] [PAD] [PAD] [PAD] [PAD] [PAD] [PAD] [PAD] [PAD] [PAD] [PAD] [PAD] [PAD] [PAD] [PAD] [PAD] [PAD] [PAD] [PAD]\n",
      "\n",
      "\n",
      "\n",
      "masked: ##re predicted: ##f\n",
      "ACTUAL: It was subdivided into 10 Batzen, each of 4 Kreuzer or 16 Pfennig.\n",
      "MASKED: [CLS] It was subdivided into 10 Batzen, each of 4 K [MASK]uzer or 16 Pfennig. [SEP]                                                                                                        \n",
      " MODEL: [CLS] It was subdivided into 10 Batzen, each of 4 Kfuzer or 16 Pfennig. [SEP] [PAD] [PAD] [PAD] [PAD] [PAD] [PAD] [PAD] [PAD] [PAD] [PAD] [PAD] [PAD] [PAD] [PAD] [PAD] [PAD] [PAD] [PAD] [PAD] [PAD] [PAD] [PAD] [PAD] [PAD] [PAD] [PAD] [PAD] [PAD] [PAD] [PAD] [PAD] [PAD] [PAD] [PAD] [PAD] [PAD] [PAD] [PAD] [PAD] [PAD] [PAD] [PAD] [PAD] [PAD] [PAD] [PAD] [PAD] [PAD] [PAD] [PAD] [PAD] [PAD] [PAD] [PAD] [PAD] [PAD] [PAD] [PAD] [PAD] [PAD] [PAD] [PAD] [PAD] [PAD] [PAD] [PAD] [PAD] [PAD] [PAD] [PAD] [PAD] [PAD] [PAD] [PAD] [PAD] [PAD] [PAD] [PAD] [PAD] [PAD] [PAD] [PAD] [PAD] [PAD] [PAD] [PAD] [PAD] [PAD] [PAD] [PAD] [PAD] [PAD] [PAD] [PAD] [PAD] [PAD] [PAD] [PAD] [PAD] [PAD] [PAD] [PAD] [PAD] [PAD]\n",
      "\n",
      "\n",
      "\n",
      "masked: Co predicted: Co\n",
      "ACTUAL: The D-class trams were a class of single bogie Californian Combination type trams operated on the Sydney tram network with open cross benches at the ends and a saloon in the center.\n",
      "MASKED: [CLS] The D - class trams were a class of single bogie Californian [MASK]mbination type trams operated on the Sydney tram network with open cross benches at the ends and a saloon in the center. [SEP]                                                                                      \n",
      " MODEL: [CLS] The D - class trams were a class of single bogie Californian Combination type trams operated on the Sydney tram network with open cross benches at the ends and a saloon in the center. [SEP] [PAD] [PAD] [PAD] [PAD] [PAD] [PAD] [PAD] [PAD] [PAD] [PAD] [PAD] [PAD] [PAD] [PAD] [PAD] [PAD] [PAD] [PAD] [PAD] [PAD] [PAD] [PAD] [PAD] [PAD] [PAD] [PAD] [PAD] [PAD] [PAD] [PAD] [PAD] [PAD] [PAD] [PAD] [PAD] [PAD] [PAD] [PAD] [PAD] [PAD] [PAD] [PAD] [PAD] [PAD] [PAD] [PAD] [PAD] [PAD] [PAD] [PAD] [PAD] [PAD] [PAD] [PAD] [PAD] [PAD] [PAD] [PAD] [PAD] [PAD] [PAD] [PAD] [PAD] [PAD] [PAD] [PAD] [PAD] [PAD] [PAD] [PAD] [PAD] [PAD] [PAD] [PAD] [PAD] [PAD] [PAD] [PAD] [PAD] [PAD] [PAD] [PAD] [PAD] [PAD] [PAD] [PAD]\n",
      "\n",
      "\n",
      "\n",
      "masked: par predicted: the\n",
      "ACTUAL: In modern practice, par value is an antiquated concept and no-par stock is increasingly common.\n",
      "MASKED: [CLS] In modern practice, [MASK] value is an antiquated concept and no - par stock is increasingly common. [SEP]                                                                                                         \n",
      " MODEL: [CLS] In modern practice, the value is an antiquated concept and no - par stock is increasingly common. [SEP] [PAD] [PAD] [PAD] [PAD] [PAD] [PAD] [PAD] [PAD] [PAD] [PAD] [PAD] [PAD] [PAD] [PAD] [PAD] [PAD] [PAD] [PAD] [PAD] [PAD] [PAD] [PAD] [PAD] [PAD] [PAD] [PAD] [PAD] [PAD] [PAD] [PAD] [PAD] [PAD] [PAD] [PAD] [PAD] [PAD] [PAD] [PAD] [PAD] [PAD] [PAD] [PAD] [PAD] [PAD] [PAD] [PAD] [PAD] [PAD] [PAD] [PAD] [PAD] [PAD] [PAD] [PAD] [PAD] [PAD] [PAD] [PAD] [PAD] [PAD] [PAD] [PAD] [PAD] [PAD] [PAD] [PAD] [PAD] [PAD] [PAD] [PAD] [PAD] [PAD] [PAD] [PAD] [PAD] [PAD] [PAD] [PAD] [PAD] [PAD] [PAD] [PAD] [PAD] [PAD] [PAD] [PAD] [PAD] [PAD] [PAD] [PAD] [PAD] [PAD] [PAD] [PAD] [PAD] [PAD] [PAD] [PAD] [PAD] [PAD] [PAD] [PAD] [PAD] [PAD] [PAD]\n",
      "\n",
      "\n",
      "\n",
      "masked: they predicted: he\n",
      "ACTUAL: Wales national rugby union team first played Argentina in 1968 when they undertook a two-test tour of the latter country.\n",
      "MASKED: [CLS] Wales national rugby union team first played Argentina in 1968 when [MASK] undertook a two - test tour of the latter country. [SEP]                                                                                                       \n",
      " MODEL: [CLS] Wales national rugby union team first played Argentina in 1968 when he undertook a two - test tour of the latter country. [SEP] [PAD] [PAD] [PAD] [PAD] [PAD] [PAD] [PAD] [PAD] [PAD] [PAD] [PAD] [PAD] [PAD] [PAD] [PAD] [PAD] [PAD] [PAD] [PAD] [PAD] [PAD] [PAD] [PAD] [PAD] [PAD] [PAD] [PAD] [PAD] [PAD] [PAD] [PAD] [PAD] [PAD] [PAD] [PAD] [PAD] [PAD] [PAD] [PAD] [PAD] [PAD] [PAD] [PAD] [PAD] [PAD] [PAD] [PAD] [PAD] [PAD] [PAD] [PAD] [PAD] [PAD] [PAD] [PAD] [PAD] [PAD] [PAD] [PAD] [PAD] [PAD] [PAD] [PAD] [PAD] [PAD] [PAD] [PAD] [PAD] [PAD] [PAD] [PAD] [PAD] [PAD] [PAD] [PAD] [PAD] [PAD] [PAD] [PAD] [PAD] [PAD] [PAD] [PAD] [PAD] [PAD] [PAD] [PAD] [PAD] [PAD] [PAD] [PAD] [PAD] [PAD] [PAD] [PAD] [PAD] [PAD] [PAD] [PAD] [PAD] [PAD] [PAD] [PAD]\n",
      "\n",
      "\n",
      "\n",
      "masked: India predicted: India\n",
      "ACTUAL: Venkataram Mysore is a dermatologist, dermatopathologist, and Hair Transplant surgeon from Bangalore, India.\n",
      "MASKED: [CLS] Venkataram Mysore is a dermatologist, dermatopathologist, and Hair Transplant surgeon from Bangalore, [MASK]. [SEP]                                                                                                  \n",
      " MODEL: [CLS] Venkataram Mysore is a dermatologist, dermatopathologist, and Hair Transplant surgeon from Bangalore, India. [SEP] [PAD] [PAD] [PAD] [PAD] [PAD] [PAD] [PAD] [PAD] [PAD] [PAD] [PAD] [PAD] [PAD] [PAD] [PAD] [PAD] [PAD] [PAD] [PAD] [PAD] [PAD] [PAD] [PAD] [PAD] [PAD] [PAD] [PAD] [PAD] [PAD] [PAD] [PAD] [PAD] [PAD] [PAD] [PAD] [PAD] [PAD] [PAD] [PAD] [PAD] [PAD] [PAD] [PAD] [PAD] [PAD] [PAD] [PAD] [PAD] [PAD] [PAD] [PAD] [PAD] [PAD] [PAD] [PAD] [PAD] [PAD] [PAD] [PAD] [PAD] [PAD] [PAD] [PAD] [PAD] [PAD] [PAD] [PAD] [PAD] [PAD] [PAD] [PAD] [PAD] [PAD] [PAD] [PAD] [PAD] [PAD] [PAD] [PAD] [PAD] [PAD] [PAD] [PAD] [PAD] [PAD] [PAD] [PAD] [PAD] [PAD] [PAD] [PAD] [PAD] [PAD] [PAD] [PAD] [PAD] [PAD] [PAD]\n",
      "\n",
      "\n",
      "\n",
      "masked: Playing predicted: One\n",
      "ACTUAL: The Role-Playing Game of the Future is a science fiction role-playing game published by Simulation Publications, Inc (SPI) from 1981 to 1983.\n",
      "MASKED: [CLS] The Role - [MASK] Game of the Future is a science fiction role - playing game published by Simulation Publications, Inc ( SPI ) from 1981 to 1983. [SEP]                                                                                             \n",
      " MODEL: [CLS] The Role - One Game of the Future is a science fiction role - playing game published by Simulation Publications, Inc ( SPI ) from 1981 to 1983. [SEP] [PAD] [PAD] [PAD] [PAD] [PAD] [PAD] [PAD] [PAD] [PAD] [PAD] [PAD] [PAD] [PAD] [PAD] [PAD] [PAD] [PAD] [PAD] [PAD] [PAD] [PAD] [PAD] [PAD] [PAD] [PAD] [PAD] [PAD] [PAD] [PAD] [PAD] [PAD] [PAD] [PAD] [PAD] [PAD] [PAD] [PAD] [PAD] [PAD] [PAD] [PAD] [PAD] [PAD] [PAD] [PAD] [PAD] [PAD] [PAD] [PAD] [PAD] [PAD] [PAD] [PAD] [PAD] [PAD] [PAD] [PAD] [PAD] [PAD] [PAD] [PAD] [PAD] [PAD] [PAD] [PAD] [PAD] [PAD] [PAD] [PAD] [PAD] [PAD] [PAD] [PAD] [PAD] [PAD] [PAD] [PAD] [PAD] [PAD] [PAD] [PAD] [PAD] [PAD] [PAD] [PAD] [PAD] [PAD] [PAD] [PAD] [PAD] [PAD] [PAD] [PAD]\n",
      "\n",
      "\n",
      "\n"
     ]
    },
    {
     "name": "stdout",
     "output_type": "stream",
     "text": [
      "masked: ##cha predicted: ##lla\n",
      "ACTUAL: Tytocha is a genus of Moth in the family Lasiocampidae.\n",
      "MASKED: [CLS] Tyto [MASK] is a genus of Moth in the family Lasiocampidae. [SEP]                                                                                                            \n",
      " MODEL: [CLS] Tytolla is a genus of Moth in the family Lasiocampidae. [SEP] [PAD] [PAD] [PAD] [PAD] [PAD] [PAD] [PAD] [PAD] [PAD] [PAD] [PAD] [PAD] [PAD] [PAD] [PAD] [PAD] [PAD] [PAD] [PAD] [PAD] [PAD] [PAD] [PAD] [PAD] [PAD] [PAD] [PAD] [PAD] [PAD] [PAD] [PAD] [PAD] [PAD] [PAD] [PAD] [PAD] [PAD] [PAD] [PAD] [PAD] [PAD] [PAD] [PAD] [PAD] [PAD] [PAD] [PAD] [PAD] [PAD] [PAD] [PAD] [PAD] [PAD] [PAD] [PAD] [PAD] [PAD] [PAD] [PAD] [PAD] [PAD] [PAD] [PAD] [PAD] [PAD] [PAD] [PAD] [PAD] [PAD] [PAD] [PAD] [PAD] [PAD] [PAD] [PAD] [PAD] [PAD] [PAD] [PAD] [PAD] [PAD] [PAD] [PAD] [PAD] [PAD] [PAD] [PAD] [PAD] [PAD] [PAD] [PAD] [PAD] [PAD] [PAD] [PAD] [PAD] [PAD] [PAD] [PAD] [PAD] [PAD] [PAD] [PAD] [PAD] [PAD] [PAD] [PAD] [PAD]\n",
      "\n",
      "\n",
      "\n",
      "masked: and predicted: and\n",
      "ACTUAL: The Mail and Empire would in 1936 merge with Brown's Globe to form The Globe and Mail.\n",
      "MASKED: [CLS] The Mail and Empire would in 1936 merge with Brown ' s Globe to form The Globe [MASK] Mail. [SEP]                                                                                                          \n",
      " MODEL: [CLS] The Mail and Empire would in 1936 merge with Brown ' s Globe to form The Globe and Mail. [SEP] [PAD] [PAD] [PAD] [PAD] [PAD] [PAD] [PAD] [PAD] [PAD] [PAD] [PAD] [PAD] [PAD] [PAD] [PAD] [PAD] [PAD] [PAD] [PAD] [PAD] [PAD] [PAD] [PAD] [PAD] [PAD] [PAD] [PAD] [PAD] [PAD] [PAD] [PAD] [PAD] [PAD] [PAD] [PAD] [PAD] [PAD] [PAD] [PAD] [PAD] [PAD] [PAD] [PAD] [PAD] [PAD] [PAD] [PAD] [PAD] [PAD] [PAD] [PAD] [PAD] [PAD] [PAD] [PAD] [PAD] [PAD] [PAD] [PAD] [PAD] [PAD] [PAD] [PAD] [PAD] [PAD] [PAD] [PAD] [PAD] [PAD] [PAD] [PAD] [PAD] [PAD] [PAD] [PAD] [PAD] [PAD] [PAD] [PAD] [PAD] [PAD] [PAD] [PAD] [PAD] [PAD] [PAD] [PAD] [PAD] [PAD] [PAD] [PAD] [PAD] [PAD] [PAD] [PAD] [PAD] [PAD] [PAD] [PAD] [PAD] [PAD] [PAD] [PAD] [PAD] [PAD] [PAD]\n",
      "\n",
      "\n",
      "\n",
      "masked: \" predicted: \"\n",
      "ACTUAL: He was the founding editor of \"The Musical Antiquary\", published quarterly from 1909 to 1913 and also edited church music of Henry Purcell in the Purcell Society's edition published between 1889 and 1902.\n",
      "MASKED: [CLS] He was the founding editor of \" The Musical Antiquary [MASK], published quarterly from 1909 to 1913 and also edited church music of Henry Purcell in the Purcell Society ' s edition published between 1889 and 1902. [SEP]                                                                                 \n",
      " MODEL: [CLS] He was the founding editor of \" The Musical Antiquary \", published quarterly from 1909 to 1913 and also edited church music of Henry Purcell in the Purcell Society ' s edition published between 1889 and 1902. [SEP] [PAD] [PAD] [PAD] [PAD] [PAD] [PAD] [PAD] [PAD] [PAD] [PAD] [PAD] [PAD] [PAD] [PAD] [PAD] [PAD] [PAD] [PAD] [PAD] [PAD] [PAD] [PAD] [PAD] [PAD] [PAD] [PAD] [PAD] [PAD] [PAD] [PAD] [PAD] [PAD] [PAD] [PAD] [PAD] [PAD] [PAD] [PAD] [PAD] [PAD] [PAD] [PAD] [PAD] [PAD] [PAD] [PAD] [PAD] [PAD] [PAD] [PAD] [PAD] [PAD] [PAD] [PAD] [PAD] [PAD] [PAD] [PAD] [PAD] [PAD] [PAD] [PAD] [PAD] [PAD] [PAD] [PAD] [PAD] [PAD] [PAD] [PAD] [PAD] [PAD] [PAD] [PAD] [PAD] [PAD] [PAD] [PAD] [PAD] [PAD] [PAD]\n",
      "\n",
      "\n",
      "\n",
      "masked: relates predicted: refers\n",
      "ACTUAL: Although the term implies the single activity of taking pictures while walking, the more modern use of the term specifically relates to a communal activity of camera enthusiasts.\n",
      "MASKED: [CLS] Although the term implies the single activity of taking pictures while walking, the more modern use of the term specifically [MASK] to a communal activity of camera enthusiasts. [SEP]                                                                                                \n",
      " MODEL: [CLS] Although the term implies the single activity of taking pictures while walking, the more modern use of the term specifically refers to a communal activity of camera enthusiasts. [SEP] [PAD] [PAD] [PAD] [PAD] [PAD] [PAD] [PAD] [PAD] [PAD] [PAD] [PAD] [PAD] [PAD] [PAD] [PAD] [PAD] [PAD] [PAD] [PAD] [PAD] [PAD] [PAD] [PAD] [PAD] [PAD] [PAD] [PAD] [PAD] [PAD] [PAD] [PAD] [PAD] [PAD] [PAD] [PAD] [PAD] [PAD] [PAD] [PAD] [PAD] [PAD] [PAD] [PAD] [PAD] [PAD] [PAD] [PAD] [PAD] [PAD] [PAD] [PAD] [PAD] [PAD] [PAD] [PAD] [PAD] [PAD] [PAD] [PAD] [PAD] [PAD] [PAD] [PAD] [PAD] [PAD] [PAD] [PAD] [PAD] [PAD] [PAD] [PAD] [PAD] [PAD] [PAD] [PAD] [PAD] [PAD] [PAD] [PAD] [PAD] [PAD] [PAD] [PAD] [PAD] [PAD] [PAD] [PAD] [PAD] [PAD] [PAD] [PAD] [PAD] [PAD] [PAD] [PAD] [PAD]\n",
      "\n",
      "\n",
      "\n",
      "masked: Park predicted: Queen\n",
      "ACTUAL: The Park Lane Mews Hotel (formerly the Hilton London Mews Hotel) is a luxury 4-star boutique hotel in London's Mayfair district.\n",
      "MASKED: [CLS] The [MASK] Lane Mews Hotel ( formerly the Hilton London Mews Hotel ) is a luxury 4 - star boutique hotel in London ' s Mayfair district. [SEP]                                                                                              \n",
      " MODEL: [CLS] The Queen Lane Mews Hotel ( formerly the Hilton London Mews Hotel ) is a luxury 4 - star boutique hotel in London ' s Mayfair district. [SEP] [PAD] [PAD] [PAD] [PAD] [PAD] [PAD] [PAD] [PAD] [PAD] [PAD] [PAD] [PAD] [PAD] [PAD] [PAD] [PAD] [PAD] [PAD] [PAD] [PAD] [PAD] [PAD] [PAD] [PAD] [PAD] [PAD] [PAD] [PAD] [PAD] [PAD] [PAD] [PAD] [PAD] [PAD] [PAD] [PAD] [PAD] [PAD] [PAD] [PAD] [PAD] [PAD] [PAD] [PAD] [PAD] [PAD] [PAD] [PAD] [PAD] [PAD] [PAD] [PAD] [PAD] [PAD] [PAD] [PAD] [PAD] [PAD] [PAD] [PAD] [PAD] [PAD] [PAD] [PAD] [PAD] [PAD] [PAD] [PAD] [PAD] [PAD] [PAD] [PAD] [PAD] [PAD] [PAD] [PAD] [PAD] [PAD] [PAD] [PAD] [PAD] [PAD] [PAD] [PAD] [PAD] [PAD] [PAD] [PAD] [PAD] [PAD] [PAD] [PAD] [PAD] [PAD]\n",
      "\n",
      "\n",
      "\n",
      "masked: , predicted: ,\n",
      "ACTUAL: In 1964 and 1968 he finished in seventh place in the coxed pairs and eights, respectively, whereas in 1976 he won a gold medal in the eight.\n",
      "MASKED: [CLS] In 1964 and 1968 he finished in seventh place in the coxed pairs and eights, respectively [MASK] whereas in 1976 he won a gold medal in the eight. [SEP]                                                                                              \n",
      " MODEL: [CLS] In 1964 and 1968 he finished in seventh place in the coxed pairs and eights, respectively, whereas in 1976 he won a gold medal in the eight. [SEP] [PAD] [PAD] [PAD] [PAD] [PAD] [PAD] [PAD] [PAD] [PAD] [PAD] [PAD] [PAD] [PAD] [PAD] [PAD] [PAD] [PAD] [PAD] [PAD] [PAD] [PAD] [PAD] [PAD] [PAD] [PAD] [PAD] [PAD] [PAD] [PAD] [PAD] [PAD] [PAD] [PAD] [PAD] [PAD] [PAD] [PAD] [PAD] [PAD] [PAD] [PAD] [PAD] [PAD] [PAD] [PAD] [PAD] [PAD] [PAD] [PAD] [PAD] [PAD] [PAD] [PAD] [PAD] [PAD] [PAD] [PAD] [PAD] [PAD] [PAD] [PAD] [PAD] [PAD] [PAD] [PAD] [PAD] [PAD] [PAD] [PAD] [PAD] [PAD] [PAD] [PAD] [PAD] [PAD] [PAD] [PAD] [PAD] [PAD] [PAD] [PAD] [PAD] [PAD] [PAD] [PAD] [PAD] [PAD] [PAD] [PAD] [PAD] [PAD] [PAD] [PAD] [PAD]\n",
      "\n",
      "\n",
      "\n",
      "masked: measures predicted: other\n",
      "ACTUAL: More generally, by various measures admissions have a bias against Asian applicants, though not necessarily a strict quota: for example, successful Asian applicants have on average higher test scores than the overall average.\n",
      "MASKED: [CLS] More generally, by various [MASK] admissions have a bias against Asian applicants, though not necessarily a strict quota : for example, successful Asian applicants have on average higher test scores than the overall average. [SEP]                                                                                        \n",
      " MODEL: [CLS] More generally, by various other admissions have a bias against Asian applicants, though not necessarily a strict quota : for example, successful Asian applicants have on average higher test scores than the overall average. [SEP] [PAD] [PAD] [PAD] [PAD] [PAD] [PAD] [PAD] [PAD] [PAD] [PAD] [PAD] [PAD] [PAD] [PAD] [PAD] [PAD] [PAD] [PAD] [PAD] [PAD] [PAD] [PAD] [PAD] [PAD] [PAD] [PAD] [PAD] [PAD] [PAD] [PAD] [PAD] [PAD] [PAD] [PAD] [PAD] [PAD] [PAD] [PAD] [PAD] [PAD] [PAD] [PAD] [PAD] [PAD] [PAD] [PAD] [PAD] [PAD] [PAD] [PAD] [PAD] [PAD] [PAD] [PAD] [PAD] [PAD] [PAD] [PAD] [PAD] [PAD] [PAD] [PAD] [PAD] [PAD] [PAD] [PAD] [PAD] [PAD] [PAD] [PAD] [PAD] [PAD] [PAD] [PAD] [PAD] [PAD] [PAD] [PAD] [PAD] [PAD] [PAD] [PAD] [PAD] [PAD] [PAD] [PAD] [PAD] [PAD]\n",
      "\n",
      "\n",
      "\n",
      "masked: league predicted: US\n",
      "ACTUAL: They finished eleventh in the league with a record of 2-42.\n",
      "MASKED: [CLS] They finished eleventh in the [MASK] with a record of 2 - 42. [SEP]                                                                                                                \n",
      " MODEL: [CLS] They finished eleventh in the US with a record of 2 - 42. [SEP] [PAD] [PAD] [PAD] [PAD] [PAD] [PAD] [PAD] [PAD] [PAD] [PAD] [PAD] [PAD] [PAD] [PAD] [PAD] [PAD] [PAD] [PAD] [PAD] [PAD] [PAD] [PAD] [PAD] [PAD] [PAD] [PAD] [PAD] [PAD] [PAD] [PAD] [PAD] [PAD] [PAD] [PAD] [PAD] [PAD] [PAD] [PAD] [PAD] [PAD] [PAD] [PAD] [PAD] [PAD] [PAD] [PAD] [PAD] [PAD] [PAD] [PAD] [PAD] [PAD] [PAD] [PAD] [PAD] [PAD] [PAD] [PAD] [PAD] [PAD] [PAD] [PAD] [PAD] [PAD] [PAD] [PAD] [PAD] [PAD] [PAD] [PAD] [PAD] [PAD] [PAD] [PAD] [PAD] [PAD] [PAD] [PAD] [PAD] [PAD] [PAD] [PAD] [PAD] [PAD] [PAD] [PAD] [PAD] [PAD] [PAD] [PAD] [PAD] [PAD] [PAD] [PAD] [PAD] [PAD] [PAD] [PAD] [PAD] [PAD] [PAD] [PAD] [PAD] [PAD] [PAD] [PAD] [PAD] [PAD] [PAD] [PAD] [PAD] [PAD]\n",
      "\n",
      "\n",
      "\n",
      "masked: race predicted: ,\n",
      "ACTUAL: The title was later bestowed on a mile and a half handicap race at the same meeting.\n",
      "MASKED: [CLS] The title was later bestowed on a mile and a half handicap [MASK] at the same meeting. [SEP]                                                                                                          \n",
      " MODEL: [CLS] The title was later bestowed on a mile and a half handicap, at the same meeting. [SEP] [PAD] [PAD] [PAD] [PAD] [PAD] [PAD] [PAD] [PAD] [PAD] [PAD] [PAD] [PAD] [PAD] [PAD] [PAD] [PAD] [PAD] [PAD] [PAD] [PAD] [PAD] [PAD] [PAD] [PAD] [PAD] [PAD] [PAD] [PAD] [PAD] [PAD] [PAD] [PAD] [PAD] [PAD] [PAD] [PAD] [PAD] [PAD] [PAD] [PAD] [PAD] [PAD] [PAD] [PAD] [PAD] [PAD] [PAD] [PAD] [PAD] [PAD] [PAD] [PAD] [PAD] [PAD] [PAD] [PAD] [PAD] [PAD] [PAD] [PAD] [PAD] [PAD] [PAD] [PAD] [PAD] [PAD] [PAD] [PAD] [PAD] [PAD] [PAD] [PAD] [PAD] [PAD] [PAD] [PAD] [PAD] [PAD] [PAD] [PAD] [PAD] [PAD] [PAD] [PAD] [PAD] [PAD] [PAD] [PAD] [PAD] [PAD] [PAD] [PAD] [PAD] [PAD] [PAD] [PAD] [PAD] [PAD] [PAD] [PAD] [PAD] [PAD] [PAD] [PAD] [PAD] [PAD]\n",
      "\n",
      "\n",
      "\n",
      "masked: to predicted: to\n",
      "ACTUAL: In 1994 he moved to the town of Ajax, Ontario, where he taught high school for a number of years.\n",
      "MASKED: [CLS] In 1994 he moved [MASK] the town of Ajax, Ontario, where he taught high school for a number of years. [SEP]                                                                                                       \n",
      " MODEL: [CLS] In 1994 he moved to the town of Ajax, Ontario, where he taught high school for a number of years. [SEP] [PAD] [PAD] [PAD] [PAD] [PAD] [PAD] [PAD] [PAD] [PAD] [PAD] [PAD] [PAD] [PAD] [PAD] [PAD] [PAD] [PAD] [PAD] [PAD] [PAD] [PAD] [PAD] [PAD] [PAD] [PAD] [PAD] [PAD] [PAD] [PAD] [PAD] [PAD] [PAD] [PAD] [PAD] [PAD] [PAD] [PAD] [PAD] [PAD] [PAD] [PAD] [PAD] [PAD] [PAD] [PAD] [PAD] [PAD] [PAD] [PAD] [PAD] [PAD] [PAD] [PAD] [PAD] [PAD] [PAD] [PAD] [PAD] [PAD] [PAD] [PAD] [PAD] [PAD] [PAD] [PAD] [PAD] [PAD] [PAD] [PAD] [PAD] [PAD] [PAD] [PAD] [PAD] [PAD] [PAD] [PAD] [PAD] [PAD] [PAD] [PAD] [PAD] [PAD] [PAD] [PAD] [PAD] [PAD] [PAD] [PAD] [PAD] [PAD] [PAD] [PAD] [PAD] [PAD] [PAD] [PAD] [PAD] [PAD] [PAD] [PAD] [PAD] [PAD]\n",
      "\n",
      "\n",
      "\n",
      "masked: also predicted: also\n",
      "ACTUAL: Edge and Christian are also noteworthy for their participation in the first three Tables, Ladders, and Chairs matches (TLC matches).\n",
      "MASKED: [CLS] Edge and Christian are [MASK] noteworthy for their participation in the first three Tables, Ladders, and Chairs matches ( TLC matches ). [SEP]                                                                                                \n",
      " MODEL: [CLS] Edge and Christian are also noteworthy for their participation in the first three Tables, Ladders, and Chairs matches ( TLC matches ). [SEP] [PAD] [PAD] [PAD] [PAD] [PAD] [PAD] [PAD] [PAD] [PAD] [PAD] [PAD] [PAD] [PAD] [PAD] [PAD] [PAD] [PAD] [PAD] [PAD] [PAD] [PAD] [PAD] [PAD] [PAD] [PAD] [PAD] [PAD] [PAD] [PAD] [PAD] [PAD] [PAD] [PAD] [PAD] [PAD] [PAD] [PAD] [PAD] [PAD] [PAD] [PAD] [PAD] [PAD] [PAD] [PAD] [PAD] [PAD] [PAD] [PAD] [PAD] [PAD] [PAD] [PAD] [PAD] [PAD] [PAD] [PAD] [PAD] [PAD] [PAD] [PAD] [PAD] [PAD] [PAD] [PAD] [PAD] [PAD] [PAD] [PAD] [PAD] [PAD] [PAD] [PAD] [PAD] [PAD] [PAD] [PAD] [PAD] [PAD] [PAD] [PAD] [PAD] [PAD] [PAD] [PAD] [PAD] [PAD] [PAD] [PAD] [PAD] [PAD] [PAD] [PAD] [PAD] [PAD] [PAD]\n",
      "\n",
      "\n",
      "\n",
      "masked: is predicted: is\n",
      "ACTUAL: Spook Louder is a 1943 film directed by Del Lord and starring American slapstick comedy team The Three Stooges (Moe Howard, Larry Fine and Curly Howard).\n",
      "MASKED: [CLS] Spook Louder [MASK] a 1943 film directed by Del Lord and starring American slapstick comedy team The Three Stooges ( Moe Howard, Larry Fine and Curly Howard ). [SEP]                                                                                         \n",
      " MODEL: [CLS] Spook Louder is a 1943 film directed by Del Lord and starring American slapstick comedy team The Three Stooges ( Moe Howard, Larry Fine and Curly Howard ). [SEP] [PAD] [PAD] [PAD] [PAD] [PAD] [PAD] [PAD] [PAD] [PAD] [PAD] [PAD] [PAD] [PAD] [PAD] [PAD] [PAD] [PAD] [PAD] [PAD] [PAD] [PAD] [PAD] [PAD] [PAD] [PAD] [PAD] [PAD] [PAD] [PAD] [PAD] [PAD] [PAD] [PAD] [PAD] [PAD] [PAD] [PAD] [PAD] [PAD] [PAD] [PAD] [PAD] [PAD] [PAD] [PAD] [PAD] [PAD] [PAD] [PAD] [PAD] [PAD] [PAD] [PAD] [PAD] [PAD] [PAD] [PAD] [PAD] [PAD] [PAD] [PAD] [PAD] [PAD] [PAD] [PAD] [PAD] [PAD] [PAD] [PAD] [PAD] [PAD] [PAD] [PAD] [PAD] [PAD] [PAD] [PAD] [PAD] [PAD] [PAD] [PAD] [PAD] [PAD] [PAD] [PAD] [PAD] [PAD] [PAD] [PAD]\n",
      "\n",
      "\n",
      "\n",
      "masked: gastropod predicted: gastropod\n",
      "ACTUAL: Echinolittorina wallaceana is a species of sea snail, a marine gastropod mollusk in the family Littorinidae, the winkles or periwinkles.\n",
      "MASKED: [CLS] Echinolittorina wallaceana is a species of sea snail, a marine [MASK] mollusk in the family Littorinidae, the winkles or periwinkles. [SEP]                                                                                          \n",
      " MODEL: [CLS] Echinolittorina wallaceana is a species of sea snail, a marine gastropod mollusk in the family Littorinidae, the winkles or periwinkles. [SEP] [PAD] [PAD] [PAD] [PAD] [PAD] [PAD] [PAD] [PAD] [PAD] [PAD] [PAD] [PAD] [PAD] [PAD] [PAD] [PAD] [PAD] [PAD] [PAD] [PAD] [PAD] [PAD] [PAD] [PAD] [PAD] [PAD] [PAD] [PAD] [PAD] [PAD] [PAD] [PAD] [PAD] [PAD] [PAD] [PAD] [PAD] [PAD] [PAD] [PAD] [PAD] [PAD] [PAD] [PAD] [PAD] [PAD] [PAD] [PAD] [PAD] [PAD] [PAD] [PAD] [PAD] [PAD] [PAD] [PAD] [PAD] [PAD] [PAD] [PAD] [PAD] [PAD] [PAD] [PAD] [PAD] [PAD] [PAD] [PAD] [PAD] [PAD] [PAD] [PAD] [PAD] [PAD] [PAD] [PAD] [PAD] [PAD] [PAD] [PAD] [PAD] [PAD] [PAD] [PAD] [PAD] [PAD] [PAD] [PAD] [PAD] [PAD]\n",
      "\n",
      "\n",
      "\n",
      "masked: ) predicted: )\n",
      "ACTUAL: Mesodapedon is an extinct genus of hyperodapedontid rhynchosaur from middle Triassic (Anisian stage) deposits of India.\n",
      "MASKED: [CLS] Mesodapedon is an extinct genus of hyperodapedontid rhynchosaur from middle Triassic ( Anisian stage [MASK] deposits of India. [SEP]                                                                                          \n",
      " MODEL: [CLS] Mesodapedon is an extinct genus of hyperodapedontid rhynchosaur from middle Triassic ( Anisian stage ) deposits of India. [SEP] [PAD] [PAD] [PAD] [PAD] [PAD] [PAD] [PAD] [PAD] [PAD] [PAD] [PAD] [PAD] [PAD] [PAD] [PAD] [PAD] [PAD] [PAD] [PAD] [PAD] [PAD] [PAD] [PAD] [PAD] [PAD] [PAD] [PAD] [PAD] [PAD] [PAD] [PAD] [PAD] [PAD] [PAD] [PAD] [PAD] [PAD] [PAD] [PAD] [PAD] [PAD] [PAD] [PAD] [PAD] [PAD] [PAD] [PAD] [PAD] [PAD] [PAD] [PAD] [PAD] [PAD] [PAD] [PAD] [PAD] [PAD] [PAD] [PAD] [PAD] [PAD] [PAD] [PAD] [PAD] [PAD] [PAD] [PAD] [PAD] [PAD] [PAD] [PAD] [PAD] [PAD] [PAD] [PAD] [PAD] [PAD] [PAD] [PAD] [PAD] [PAD] [PAD] [PAD] [PAD] [PAD] [PAD] [PAD] [PAD] [PAD] [PAD]\n",
      "\n",
      "\n",
      "\n",
      "masked: It predicted: It\n",
      "ACTUAL: It is responsible for installing, maintaining and operating all types of telecommunications equipment and information systems, providing command support to commanders and their headquarters, and conducting electronic warfare against enemy communications.\n",
      "MASKED: [CLS] [MASK] is responsible for installing, maintaining and operating all types of telecommunications equipment and information systems, providing command support to commanders and their headquarters, and conducting electronic warfare against enemy communications. [SEP]                                                                                           \n",
      " MODEL: [CLS] It is responsible for installing, maintaining and operating all types of telecommunications equipment and information systems, providing command support to commanders and their headquarters, and conducting electronic warfare against enemy communications. [SEP] [PAD] [PAD] [PAD] [PAD] [PAD] [PAD] [PAD] [PAD] [PAD] [PAD] [PAD] [PAD] [PAD] [PAD] [PAD] [PAD] [PAD] [PAD] [PAD] [PAD] [PAD] [PAD] [PAD] [PAD] [PAD] [PAD] [PAD] [PAD] [PAD] [PAD] [PAD] [PAD] [PAD] [PAD] [PAD] [PAD] [PAD] [PAD] [PAD] [PAD] [PAD] [PAD] [PAD] [PAD] [PAD] [PAD] [PAD] [PAD] [PAD] [PAD] [PAD] [PAD] [PAD] [PAD] [PAD] [PAD] [PAD] [PAD] [PAD] [PAD] [PAD] [PAD] [PAD] [PAD] [PAD] [PAD] [PAD] [PAD] [PAD] [PAD] [PAD] [PAD] [PAD] [PAD] [PAD] [PAD] [PAD] [PAD] [PAD] [PAD] [PAD] [PAD] [PAD] [PAD] [PAD] [PAD] [PAD] [PAD] [PAD] [PAD] [PAD]\n",
      "\n",
      "\n",
      "\n",
      "masked: after predicted: by\n",
      "ACTUAL: The central columned five bays are surmounted by a pediment, which once displayed the Branitsky arms, the coat of arms was defaced after the Russian Revolution, but the sculpted decoration which supported the arms remains.\n",
      "MASKED: [CLS] The central columned five bays are surmounted by a pediment, which once displayed the Branitsky arms, the coat of arms was defaced [MASK] the Russian Revolution, but the sculpted decoration which supported the arms remains. [SEP]                                                                              \n",
      " MODEL: [CLS] The central columned five bays are surmounted by a pediment, which once displayed the Branitsky arms, the coat of arms was defaced by the Russian Revolution, but the sculpted decoration which supported the arms remains. [SEP] [PAD] [PAD] [PAD] [PAD] [PAD] [PAD] [PAD] [PAD] [PAD] [PAD] [PAD] [PAD] [PAD] [PAD] [PAD] [PAD] [PAD] [PAD] [PAD] [PAD] [PAD] [PAD] [PAD] [PAD] [PAD] [PAD] [PAD] [PAD] [PAD] [PAD] [PAD] [PAD] [PAD] [PAD] [PAD] [PAD] [PAD] [PAD] [PAD] [PAD] [PAD] [PAD] [PAD] [PAD] [PAD] [PAD] [PAD] [PAD] [PAD] [PAD] [PAD] [PAD] [PAD] [PAD] [PAD] [PAD] [PAD] [PAD] [PAD] [PAD] [PAD] [PAD] [PAD] [PAD] [PAD] [PAD] [PAD] [PAD] [PAD] [PAD] [PAD] [PAD] [PAD] [PAD] [PAD] [PAD] [PAD] [PAD]\n",
      "\n",
      "\n",
      "\n",
      "masked: to predicted: at\n",
      "ACTUAL: The Algoma Central passenger train continues north from here to the end of the line.\n",
      "MASKED: [CLS] The Algoma Central passenger train continues north from here [MASK] the end of the line. [SEP]                                                                                                            \n",
      " MODEL: [CLS] The Algoma Central passenger train continues north from here at the end of the line. [SEP] [PAD] [PAD] [PAD] [PAD] [PAD] [PAD] [PAD] [PAD] [PAD] [PAD] [PAD] [PAD] [PAD] [PAD] [PAD] [PAD] [PAD] [PAD] [PAD] [PAD] [PAD] [PAD] [PAD] [PAD] [PAD] [PAD] [PAD] [PAD] [PAD] [PAD] [PAD] [PAD] [PAD] [PAD] [PAD] [PAD] [PAD] [PAD] [PAD] [PAD] [PAD] [PAD] [PAD] [PAD] [PAD] [PAD] [PAD] [PAD] [PAD] [PAD] [PAD] [PAD] [PAD] [PAD] [PAD] [PAD] [PAD] [PAD] [PAD] [PAD] [PAD] [PAD] [PAD] [PAD] [PAD] [PAD] [PAD] [PAD] [PAD] [PAD] [PAD] [PAD] [PAD] [PAD] [PAD] [PAD] [PAD] [PAD] [PAD] [PAD] [PAD] [PAD] [PAD] [PAD] [PAD] [PAD] [PAD] [PAD] [PAD] [PAD] [PAD] [PAD] [PAD] [PAD] [PAD] [PAD] [PAD] [PAD] [PAD] [PAD] [PAD] [PAD] [PAD] [PAD] [PAD] [PAD] [PAD] [PAD]\n",
      "\n",
      "\n",
      "\n",
      "masked: in predicted: in\n",
      "ACTUAL: Filatopus is a genus of flies in the family Dolichopodidae.\n",
      "MASKED: [CLS] Filatopus is a genus of flies [MASK] the family Dolichopodidae. [SEP]                                                                                                             \n",
      " MODEL: [CLS] Filatopus is a genus of flies in the family Dolichopodidae. [SEP] [PAD] [PAD] [PAD] [PAD] [PAD] [PAD] [PAD] [PAD] [PAD] [PAD] [PAD] [PAD] [PAD] [PAD] [PAD] [PAD] [PAD] [PAD] [PAD] [PAD] [PAD] [PAD] [PAD] [PAD] [PAD] [PAD] [PAD] [PAD] [PAD] [PAD] [PAD] [PAD] [PAD] [PAD] [PAD] [PAD] [PAD] [PAD] [PAD] [PAD] [PAD] [PAD] [PAD] [PAD] [PAD] [PAD] [PAD] [PAD] [PAD] [PAD] [PAD] [PAD] [PAD] [PAD] [PAD] [PAD] [PAD] [PAD] [PAD] [PAD] [PAD] [PAD] [PAD] [PAD] [PAD] [PAD] [PAD] [PAD] [PAD] [PAD] [PAD] [PAD] [PAD] [PAD] [PAD] [PAD] [PAD] [PAD] [PAD] [PAD] [PAD] [PAD] [PAD] [PAD] [PAD] [PAD] [PAD] [PAD] [PAD] [PAD] [PAD] [PAD] [PAD] [PAD] [PAD] [PAD] [PAD] [PAD] [PAD] [PAD] [PAD] [PAD] [PAD] [PAD] [PAD] [PAD] [PAD] [PAD] [PAD]\n",
      "\n",
      "\n",
      "\n",
      "masked: in predicted: in\n",
      "ACTUAL: After the referendum it continued to develop and publish material and supports an independent media outlet which launched in 2015.\n",
      "MASKED: [CLS] After the referendum it continued to develop and publish material and supports an independent media outlet which launched [MASK] 2015. [SEP]                                                                                                         \n",
      " MODEL: [CLS] After the referendum it continued to develop and publish material and supports an independent media outlet which launched in 2015. [SEP] [PAD] [PAD] [PAD] [PAD] [PAD] [PAD] [PAD] [PAD] [PAD] [PAD] [PAD] [PAD] [PAD] [PAD] [PAD] [PAD] [PAD] [PAD] [PAD] [PAD] [PAD] [PAD] [PAD] [PAD] [PAD] [PAD] [PAD] [PAD] [PAD] [PAD] [PAD] [PAD] [PAD] [PAD] [PAD] [PAD] [PAD] [PAD] [PAD] [PAD] [PAD] [PAD] [PAD] [PAD] [PAD] [PAD] [PAD] [PAD] [PAD] [PAD] [PAD] [PAD] [PAD] [PAD] [PAD] [PAD] [PAD] [PAD] [PAD] [PAD] [PAD] [PAD] [PAD] [PAD] [PAD] [PAD] [PAD] [PAD] [PAD] [PAD] [PAD] [PAD] [PAD] [PAD] [PAD] [PAD] [PAD] [PAD] [PAD] [PAD] [PAD] [PAD] [PAD] [PAD] [PAD] [PAD] [PAD] [PAD] [PAD] [PAD] [PAD] [PAD] [PAD] [PAD] [PAD] [PAD] [PAD] [PAD] [PAD] [PAD] [PAD] [PAD] [PAD] [PAD] [PAD]\n",
      "\n",
      "\n",
      "\n",
      "masked: Pradesh predicted: Pradesh\n",
      "ACTUAL: Pragatisheel Manav Samaj Party (PMSP) is a political party in Uttar Pradesh, India.\n",
      "MASKED: [CLS] Pragatisheel Manav Samaj Party ( PMSP ) is a political party in Uttar [MASK], India. [SEP]                                                                                                      \n",
      " MODEL: [CLS] Pragatisheel Manav Samaj Party ( PMSP ) is a political party in Uttar Pradesh, India. [SEP] [PAD] [PAD] [PAD] [PAD] [PAD] [PAD] [PAD] [PAD] [PAD] [PAD] [PAD] [PAD] [PAD] [PAD] [PAD] [PAD] [PAD] [PAD] [PAD] [PAD] [PAD] [PAD] [PAD] [PAD] [PAD] [PAD] [PAD] [PAD] [PAD] [PAD] [PAD] [PAD] [PAD] [PAD] [PAD] [PAD] [PAD] [PAD] [PAD] [PAD] [PAD] [PAD] [PAD] [PAD] [PAD] [PAD] [PAD] [PAD] [PAD] [PAD] [PAD] [PAD] [PAD] [PAD] [PAD] [PAD] [PAD] [PAD] [PAD] [PAD] [PAD] [PAD] [PAD] [PAD] [PAD] [PAD] [PAD] [PAD] [PAD] [PAD] [PAD] [PAD] [PAD] [PAD] [PAD] [PAD] [PAD] [PAD] [PAD] [PAD] [PAD] [PAD] [PAD] [PAD] [PAD] [PAD] [PAD] [PAD] [PAD] [PAD] [PAD] [PAD] [PAD] [PAD] [PAD] [PAD] [PAD] [PAD] [PAD] [PAD] [PAD] [PAD]\n",
      "\n",
      "\n",
      "\n",
      "masked: guitar predicted: guitar\n",
      "ACTUAL: Boy & Bear is an Australian indie rock-folk music band formed in 2009, consisting of David Hosking (vocals and guitar), Killian Gavin (vocals and guitar), Tim Hart (drums and vocals), Jonathan Hart (vocals, banjo, mandolin and keyboards), and David Symes (bass).\n",
      "MASKED: [CLS] Boy & Bear is an Australian indie rock - folk music band formed in 2009, consisting of David Hosking ( vocals and [MASK] ), Killian Gavin ( vocals and guitar ), Tim Hart ( drums and vocals ), Jonathan Hart ( vocals, banjo, mandolin and keyboards ), and David Symes ( bass ). [SEP]                                                            \n",
      " MODEL: [CLS] Boy & Bear is an Australian indie rock - folk music band formed in 2009, consisting of David Hosking ( vocals and guitar ), Killian Gavin ( vocals and guitar ), Tim Hart ( drums and vocals ), Jonathan Hart ( vocals, banjo, mandolin and keyboards ), and David Symes ( bass ). [SEP] [PAD] [PAD] [PAD] [PAD] [PAD] [PAD] [PAD] [PAD] [PAD] [PAD] [PAD] [PAD] [PAD] [PAD] [PAD] [PAD] [PAD] [PAD] [PAD] [PAD] [PAD] [PAD] [PAD] [PAD] [PAD] [PAD] [PAD] [PAD] [PAD] [PAD] [PAD] [PAD] [PAD] [PAD] [PAD] [PAD] [PAD] [PAD] [PAD] [PAD] [PAD] [PAD] [PAD] [PAD] [PAD] [PAD] [PAD] [PAD] [PAD] [PAD] [PAD] [PAD] [PAD] [PAD] [PAD] [PAD] [PAD] [PAD] [PAD] [PAD]\n",
      "\n",
      "\n",
      "\n",
      "masked: or predicted: .\n",
      "ACTUAL: It has been argued that neural spike train signaling implements some form of digital computation, since neural spikes may be considered as discrete units or digits, like 0 or 1 - the neuron either fires an action potential or it does not.\n",
      "MASKED: [CLS] It has been argued that neural spike train signaling implements some form of digital computation, since neural spikes may be considered as discrete units or digits, like 0 [MASK] 1 - the neuron either fires an action potential or it does not. [SEP]                                                                               \n",
      " MODEL: [CLS] It has been argued that neural spike train signaling implements some form of digital computation, since neural spikes may be considered as discrete units or digits, like 0. 1 - the neuron either fires an action potential or it does not. [SEP] [PAD] [PAD] [PAD] [PAD] [PAD] [PAD] [PAD] [PAD] [PAD] [PAD] [PAD] [PAD] [PAD] [PAD] [PAD] [PAD] [PAD] [PAD] [PAD] [PAD] [PAD] [PAD] [PAD] [PAD] [PAD] [PAD] [PAD] [PAD] [PAD] [PAD] [PAD] [PAD] [PAD] [PAD] [PAD] [PAD] [PAD] [PAD] [PAD] [PAD] [PAD] [PAD] [PAD] [PAD] [PAD] [PAD] [PAD] [PAD] [PAD] [PAD] [PAD] [PAD] [PAD] [PAD] [PAD] [PAD] [PAD] [PAD] [PAD] [PAD] [PAD] [PAD] [PAD] [PAD] [PAD] [PAD] [PAD] [PAD] [PAD] [PAD] [PAD] [PAD] [PAD] [PAD] [PAD] [PAD] [PAD] [PAD] [PAD]\n",
      "\n",
      "\n",
      "\n",
      "masked: , predicted: ,\n",
      "ACTUAL: Further, some animals are captured for the explicit purpose of being released, or are released into environments where they are unable to survive.\n",
      "MASKED: [CLS] Further, some animals are captured for the explicit purpose of being released [MASK] or are released into environments where they are unable to survive. [SEP]                                                                                                    \n",
      " MODEL: [CLS] Further, some animals are captured for the explicit purpose of being released, or are released into environments where they are unable to survive. [SEP] [PAD] [PAD] [PAD] [PAD] [PAD] [PAD] [PAD] [PAD] [PAD] [PAD] [PAD] [PAD] [PAD] [PAD] [PAD] [PAD] [PAD] [PAD] [PAD] [PAD] [PAD] [PAD] [PAD] [PAD] [PAD] [PAD] [PAD] [PAD] [PAD] [PAD] [PAD] [PAD] [PAD] [PAD] [PAD] [PAD] [PAD] [PAD] [PAD] [PAD] [PAD] [PAD] [PAD] [PAD] [PAD] [PAD] [PAD] [PAD] [PAD] [PAD] [PAD] [PAD] [PAD] [PAD] [PAD] [PAD] [PAD] [PAD] [PAD] [PAD] [PAD] [PAD] [PAD] [PAD] [PAD] [PAD] [PAD] [PAD] [PAD] [PAD] [PAD] [PAD] [PAD] [PAD] [PAD] [PAD] [PAD] [PAD] [PAD] [PAD] [PAD] [PAD] [PAD] [PAD] [PAD] [PAD] [PAD] [PAD] [PAD] [PAD] [PAD] [PAD] [PAD] [PAD] [PAD] [PAD] [PAD] [PAD] [PAD] [PAD]\n",
      "\n",
      "\n",
      "\n",
      "masked: officer predicted: officer\n",
      "ACTUAL: Vice Admiral Pradeep Chatterjee is a retired Indian Navy officer, who served as Deputy Chief of Naval Staff of the Indian Navy from 29 May 2012 to 31 May 2014 before serving as Commander-in-Chief, Andaman & Nicobar Command.\n",
      "MASKED: [CLS] Vice Admiral Pradeep Chatterjee is a retired Indian Navy [MASK], who served as Deputy Chief of Naval Staff of the Indian Navy from 29 May 2012 to 31 May 2014 before serving as Commander - in - Chief, Andaman & Nicobar Command. [SEP]                                                                           \n",
      " MODEL: [CLS] Vice Admiral Pradeep Chatterjee is a retired Indian Navy officer, who served as Deputy Chief of Naval Staff of the Indian Navy from 29 May 2012 to 31 May 2014 before serving as Commander - in - Chief, Andaman & Nicobar Command. [SEP] [PAD] [PAD] [PAD] [PAD] [PAD] [PAD] [PAD] [PAD] [PAD] [PAD] [PAD] [PAD] [PAD] [PAD] [PAD] [PAD] [PAD] [PAD] [PAD] [PAD] [PAD] [PAD] [PAD] [PAD] [PAD] [PAD] [PAD] [PAD] [PAD] [PAD] [PAD] [PAD] [PAD] [PAD] [PAD] [PAD] [PAD] [PAD] [PAD] [PAD] [PAD] [PAD] [PAD] [PAD] [PAD] [PAD] [PAD] [PAD] [PAD] [PAD] [PAD] [PAD] [PAD] [PAD] [PAD] [PAD] [PAD] [PAD] [PAD] [PAD] [PAD] [PAD] [PAD] [PAD] [PAD] [PAD] [PAD] [PAD] [PAD] [PAD] [PAD] [PAD] [PAD] [PAD] [PAD]\n",
      "\n",
      "\n",
      "\n"
     ]
    },
    {
     "name": "stdout",
     "output_type": "stream",
     "text": [
      "masked: form predicted: of\n",
      "ACTUAL: The cover is an image form the 1963 film, Black Sabbath.\n",
      "MASKED: [CLS] The cover is an image [MASK] the 1963 film, Black Sabbath. [SEP]                                                                                                                 \n",
      " MODEL: [CLS] The cover is an image of the 1963 film, Black Sabbath. [SEP] [PAD] [PAD] [PAD] [PAD] [PAD] [PAD] [PAD] [PAD] [PAD] [PAD] [PAD] [PAD] [PAD] [PAD] [PAD] [PAD] [PAD] [PAD] [PAD] [PAD] [PAD] [PAD] [PAD] [PAD] [PAD] [PAD] [PAD] [PAD] [PAD] [PAD] [PAD] [PAD] [PAD] [PAD] [PAD] [PAD] [PAD] [PAD] [PAD] [PAD] [PAD] [PAD] [PAD] [PAD] [PAD] [PAD] [PAD] [PAD] [PAD] [PAD] [PAD] [PAD] [PAD] [PAD] [PAD] [PAD] [PAD] [PAD] [PAD] [PAD] [PAD] [PAD] [PAD] [PAD] [PAD] [PAD] [PAD] [PAD] [PAD] [PAD] [PAD] [PAD] [PAD] [PAD] [PAD] [PAD] [PAD] [PAD] [PAD] [PAD] [PAD] [PAD] [PAD] [PAD] [PAD] [PAD] [PAD] [PAD] [PAD] [PAD] [PAD] [PAD] [PAD] [PAD] [PAD] [PAD] [PAD] [PAD] [PAD] [PAD] [PAD] [PAD] [PAD] [PAD] [PAD] [PAD] [PAD] [PAD] [PAD] [PAD] [PAD] [PAD] [PAD]\n",
      "\n",
      "\n",
      "\n",
      "masked: Working predicted: 30th\n",
      "ACTUAL: For the Working Class Man is the second studio album by former Cold Chisel frontman Jimmy Barnes, released in 1985.\n",
      "MASKED: [CLS] For the [MASK] Class Man is the second studio album by former Cold Chisel frontman Jimmy Barnes, released in 1985. [SEP]                                                                                                       \n",
      " MODEL: [CLS] For the 30th Class Man is the second studio album by former Cold Chisel frontman Jimmy Barnes, released in 1985. [SEP] [PAD] [PAD] [PAD] [PAD] [PAD] [PAD] [PAD] [PAD] [PAD] [PAD] [PAD] [PAD] [PAD] [PAD] [PAD] [PAD] [PAD] [PAD] [PAD] [PAD] [PAD] [PAD] [PAD] [PAD] [PAD] [PAD] [PAD] [PAD] [PAD] [PAD] [PAD] [PAD] [PAD] [PAD] [PAD] [PAD] [PAD] [PAD] [PAD] [PAD] [PAD] [PAD] [PAD] [PAD] [PAD] [PAD] [PAD] [PAD] [PAD] [PAD] [PAD] [PAD] [PAD] [PAD] [PAD] [PAD] [PAD] [PAD] [PAD] [PAD] [PAD] [PAD] [PAD] [PAD] [PAD] [PAD] [PAD] [PAD] [PAD] [PAD] [PAD] [PAD] [PAD] [PAD] [PAD] [PAD] [PAD] [PAD] [PAD] [PAD] [PAD] [PAD] [PAD] [PAD] [PAD] [PAD] [PAD] [PAD] [PAD] [PAD] [PAD] [PAD] [PAD] [PAD] [PAD] [PAD] [PAD] [PAD] [PAD] [PAD] [PAD] [PAD] [PAD]\n",
      "\n",
      "\n",
      "\n",
      "masked: live predicted: two\n",
      "ACTUAL: It has since appeared on numerous compilation and live albums.\n",
      "MASKED: [CLS] It has since appeared on numerous compilation and [MASK] albums. [SEP]                                                                                                                   \n",
      " MODEL: [CLS] It has since appeared on numerous compilation and two albums. [SEP] [PAD] [PAD] [PAD] [PAD] [PAD] [PAD] [PAD] [PAD] [PAD] [PAD] [PAD] [PAD] [PAD] [PAD] [PAD] [PAD] [PAD] [PAD] [PAD] [PAD] [PAD] [PAD] [PAD] [PAD] [PAD] [PAD] [PAD] [PAD] [PAD] [PAD] [PAD] [PAD] [PAD] [PAD] [PAD] [PAD] [PAD] [PAD] [PAD] [PAD] [PAD] [PAD] [PAD] [PAD] [PAD] [PAD] [PAD] [PAD] [PAD] [PAD] [PAD] [PAD] [PAD] [PAD] [PAD] [PAD] [PAD] [PAD] [PAD] [PAD] [PAD] [PAD] [PAD] [PAD] [PAD] [PAD] [PAD] [PAD] [PAD] [PAD] [PAD] [PAD] [PAD] [PAD] [PAD] [PAD] [PAD] [PAD] [PAD] [PAD] [PAD] [PAD] [PAD] [PAD] [PAD] [PAD] [PAD] [PAD] [PAD] [PAD] [PAD] [PAD] [PAD] [PAD] [PAD] [PAD] [PAD] [PAD] [PAD] [PAD] [PAD] [PAD] [PAD] [PAD] [PAD] [PAD] [PAD] [PAD] [PAD] [PAD] [PAD] [PAD] [PAD] [PAD] [PAD]\n",
      "\n",
      "\n",
      "\n",
      "masked: drug predicted: and\n",
      "ACTUAL: The novel's portrayal of promiscuous sex and recreational drug use provoked controversy.\n",
      "MASKED: [CLS] The novel ' s portrayal of promiscuous sex and recreational [MASK] use provoked controversy. [SEP]                                                                                                            \n",
      " MODEL: [CLS] The novel ' s portrayal of promiscuous sex and recreational and use provoked controversy. [SEP] [PAD] [PAD] [PAD] [PAD] [PAD] [PAD] [PAD] [PAD] [PAD] [PAD] [PAD] [PAD] [PAD] [PAD] [PAD] [PAD] [PAD] [PAD] [PAD] [PAD] [PAD] [PAD] [PAD] [PAD] [PAD] [PAD] [PAD] [PAD] [PAD] [PAD] [PAD] [PAD] [PAD] [PAD] [PAD] [PAD] [PAD] [PAD] [PAD] [PAD] [PAD] [PAD] [PAD] [PAD] [PAD] [PAD] [PAD] [PAD] [PAD] [PAD] [PAD] [PAD] [PAD] [PAD] [PAD] [PAD] [PAD] [PAD] [PAD] [PAD] [PAD] [PAD] [PAD] [PAD] [PAD] [PAD] [PAD] [PAD] [PAD] [PAD] [PAD] [PAD] [PAD] [PAD] [PAD] [PAD] [PAD] [PAD] [PAD] [PAD] [PAD] [PAD] [PAD] [PAD] [PAD] [PAD] [PAD] [PAD] [PAD] [PAD] [PAD] [PAD] [PAD] [PAD] [PAD] [PAD] [PAD] [PAD] [PAD] [PAD] [PAD] [PAD] [PAD] [PAD] [PAD] [PAD] [PAD] [PAD]\n",
      "\n",
      "\n",
      "\n",
      "masked: 2012 predicted: 2012\n",
      "ACTUAL: The service was scheduled to run until March 2013 after which no more households could apply, however the switchover process was completed on 23 October 2012 with the ceasing of analog TV broadcasts in Northern Ireland.\n",
      "MASKED: [CLS] The service was scheduled to run until March 2013 after which no more households could apply, however the switchover process was completed on 23 October [MASK] with the ceasing of analog TV broadcasts in Northern Ireland. [SEP]                                                                                     \n",
      " MODEL: [CLS] The service was scheduled to run until March 2013 after which no more households could apply, however the switchover process was completed on 23 October 2012 with the ceasing of analog TV broadcasts in Northern Ireland. [SEP] [PAD] [PAD] [PAD] [PAD] [PAD] [PAD] [PAD] [PAD] [PAD] [PAD] [PAD] [PAD] [PAD] [PAD] [PAD] [PAD] [PAD] [PAD] [PAD] [PAD] [PAD] [PAD] [PAD] [PAD] [PAD] [PAD] [PAD] [PAD] [PAD] [PAD] [PAD] [PAD] [PAD] [PAD] [PAD] [PAD] [PAD] [PAD] [PAD] [PAD] [PAD] [PAD] [PAD] [PAD] [PAD] [PAD] [PAD] [PAD] [PAD] [PAD] [PAD] [PAD] [PAD] [PAD] [PAD] [PAD] [PAD] [PAD] [PAD] [PAD] [PAD] [PAD] [PAD] [PAD] [PAD] [PAD] [PAD] [PAD] [PAD] [PAD] [PAD] [PAD] [PAD] [PAD] [PAD] [PAD] [PAD] [PAD] [PAD] [PAD] [PAD] [PAD] [PAD] [PAD] [PAD]\n",
      "\n",
      "\n",
      "\n",
      "masked: Legislative predicted: Legislative\n",
      "ACTUAL: He was also a member of Madhya Pradesh Legislative Assembly during 1993-2003.\n",
      "MASKED: [CLS] He was also a member of Madhya Pradesh [MASK] Assembly during 1993 - 2003. [SEP]                                                                                                               \n",
      " MODEL: [CLS] He was also a member of Madhya Pradesh Legislative Assembly during 1993 - 2003. [SEP] [PAD] [PAD] [PAD] [PAD] [PAD] [PAD] [PAD] [PAD] [PAD] [PAD] [PAD] [PAD] [PAD] [PAD] [PAD] [PAD] [PAD] [PAD] [PAD] [PAD] [PAD] [PAD] [PAD] [PAD] [PAD] [PAD] [PAD] [PAD] [PAD] [PAD] [PAD] [PAD] [PAD] [PAD] [PAD] [PAD] [PAD] [PAD] [PAD] [PAD] [PAD] [PAD] [PAD] [PAD] [PAD] [PAD] [PAD] [PAD] [PAD] [PAD] [PAD] [PAD] [PAD] [PAD] [PAD] [PAD] [PAD] [PAD] [PAD] [PAD] [PAD] [PAD] [PAD] [PAD] [PAD] [PAD] [PAD] [PAD] [PAD] [PAD] [PAD] [PAD] [PAD] [PAD] [PAD] [PAD] [PAD] [PAD] [PAD] [PAD] [PAD] [PAD] [PAD] [PAD] [PAD] [PAD] [PAD] [PAD] [PAD] [PAD] [PAD] [PAD] [PAD] [PAD] [PAD] [PAD] [PAD] [PAD] [PAD] [PAD] [PAD] [PAD] [PAD] [PAD] [PAD] [PAD] [PAD] [PAD] [PAD] [PAD] [PAD]\n",
      "\n",
      "\n",
      "\n",
      "masked: ##yt predicted: ##ls\n",
      "ACTUAL: According to some authorities, Moytoy's wife was a woman named Go-sa-du-isga,.\n",
      "MASKED: [CLS] According to some authorities, Mo [MASK]oy ' s wife was a woman named Go - sa - du - isga,. [SEP]                                                                                                     \n",
      " MODEL: [CLS] According to some authorities, Molsoy ' s wife was a woman named Go - sa - du - isga,. [SEP] [PAD] [PAD] [PAD] [PAD] [PAD] [PAD] [PAD] [PAD] [PAD] [PAD] [PAD] [PAD] [PAD] [PAD] [PAD] [PAD] [PAD] [PAD] [PAD] [PAD] [PAD] [PAD] [PAD] [PAD] [PAD] [PAD] [PAD] [PAD] [PAD] [PAD] [PAD] [PAD] [PAD] [PAD] [PAD] [PAD] [PAD] [PAD] [PAD] [PAD] [PAD] [PAD] [PAD] [PAD] [PAD] [PAD] [PAD] [PAD] [PAD] [PAD] [PAD] [PAD] [PAD] [PAD] [PAD] [PAD] [PAD] [PAD] [PAD] [PAD] [PAD] [PAD] [PAD] [PAD] [PAD] [PAD] [PAD] [PAD] [PAD] [PAD] [PAD] [PAD] [PAD] [PAD] [PAD] [PAD] [PAD] [PAD] [PAD] [PAD] [PAD] [PAD] [PAD] [PAD] [PAD] [PAD] [PAD] [PAD] [PAD] [PAD] [PAD] [PAD] [PAD] [PAD] [PAD] [PAD] [PAD] [PAD] [PAD] [PAD] [PAD]\n",
      "\n",
      "\n",
      "\n",
      "masked: dialect predicted: style\n",
      "ACTUAL: The county was officially organized on February 19, 1851, and is named for the local bayou, taken from the Fox dialect word, pem-eskaw, meaning \"liquid mud\".\n",
      "MASKED: [CLS] The county was officially organized on February 19, 1851, and is named for the local bayou, taken from the Fox [MASK] word, pem - eskaw, meaning \" liquid mud \". [SEP]                                                                                      \n",
      " MODEL: [CLS] The county was officially organized on February 19, 1851, and is named for the local bayou, taken from the Fox style word, pem - eskaw, meaning \" liquid mud \". [SEP] [PAD] [PAD] [PAD] [PAD] [PAD] [PAD] [PAD] [PAD] [PAD] [PAD] [PAD] [PAD] [PAD] [PAD] [PAD] [PAD] [PAD] [PAD] [PAD] [PAD] [PAD] [PAD] [PAD] [PAD] [PAD] [PAD] [PAD] [PAD] [PAD] [PAD] [PAD] [PAD] [PAD] [PAD] [PAD] [PAD] [PAD] [PAD] [PAD] [PAD] [PAD] [PAD] [PAD] [PAD] [PAD] [PAD] [PAD] [PAD] [PAD] [PAD] [PAD] [PAD] [PAD] [PAD] [PAD] [PAD] [PAD] [PAD] [PAD] [PAD] [PAD] [PAD] [PAD] [PAD] [PAD] [PAD] [PAD] [PAD] [PAD] [PAD] [PAD] [PAD] [PAD] [PAD] [PAD] [PAD] [PAD] [PAD] [PAD] [PAD] [PAD] [PAD] [PAD] [PAD] [PAD] [PAD]\n",
      "\n",
      "\n",
      "\n",
      "masked: for predicted: for\n",
      "ACTUAL: He has been contributing the Nepali Literature for over five decades.\n",
      "MASKED: [CLS] He has been contributing the Nepali Literature [MASK] over five decades. [SEP]                                                                                                                  \n",
      " MODEL: [CLS] He has been contributing the Nepali Literature for over five decades. [SEP] [PAD] [PAD] [PAD] [PAD] [PAD] [PAD] [PAD] [PAD] [PAD] [PAD] [PAD] [PAD] [PAD] [PAD] [PAD] [PAD] [PAD] [PAD] [PAD] [PAD] [PAD] [PAD] [PAD] [PAD] [PAD] [PAD] [PAD] [PAD] [PAD] [PAD] [PAD] [PAD] [PAD] [PAD] [PAD] [PAD] [PAD] [PAD] [PAD] [PAD] [PAD] [PAD] [PAD] [PAD] [PAD] [PAD] [PAD] [PAD] [PAD] [PAD] [PAD] [PAD] [PAD] [PAD] [PAD] [PAD] [PAD] [PAD] [PAD] [PAD] [PAD] [PAD] [PAD] [PAD] [PAD] [PAD] [PAD] [PAD] [PAD] [PAD] [PAD] [PAD] [PAD] [PAD] [PAD] [PAD] [PAD] [PAD] [PAD] [PAD] [PAD] [PAD] [PAD] [PAD] [PAD] [PAD] [PAD] [PAD] [PAD] [PAD] [PAD] [PAD] [PAD] [PAD] [PAD] [PAD] [PAD] [PAD] [PAD] [PAD] [PAD] [PAD] [PAD] [PAD] [PAD] [PAD] [PAD] [PAD] [PAD] [PAD] [PAD] [PAD] [PAD] [PAD]\n",
      "\n",
      "\n",
      "\n",
      "masked: but predicted: and\n",
      "ACTUAL: Betting on horse races is one of the few legal forms of gambling in Thailand, and the sport became highly popular during the mid-twentieth century but has largely declined since.\n",
      "MASKED: [CLS] Betting on horse races is one of the few legal forms of gambling in Thailand, and the sport became highly popular during the mid - twentieth century [MASK] has largely declined since. [SEP]                                                                                           \n",
      " MODEL: [CLS] Betting on horse races is one of the few legal forms of gambling in Thailand, and the sport became highly popular during the mid - twentieth century and has largely declined since. [SEP] [PAD] [PAD] [PAD] [PAD] [PAD] [PAD] [PAD] [PAD] [PAD] [PAD] [PAD] [PAD] [PAD] [PAD] [PAD] [PAD] [PAD] [PAD] [PAD] [PAD] [PAD] [PAD] [PAD] [PAD] [PAD] [PAD] [PAD] [PAD] [PAD] [PAD] [PAD] [PAD] [PAD] [PAD] [PAD] [PAD] [PAD] [PAD] [PAD] [PAD] [PAD] [PAD] [PAD] [PAD] [PAD] [PAD] [PAD] [PAD] [PAD] [PAD] [PAD] [PAD] [PAD] [PAD] [PAD] [PAD] [PAD] [PAD] [PAD] [PAD] [PAD] [PAD] [PAD] [PAD] [PAD] [PAD] [PAD] [PAD] [PAD] [PAD] [PAD] [PAD] [PAD] [PAD] [PAD] [PAD] [PAD] [PAD] [PAD] [PAD] [PAD] [PAD] [PAD] [PAD] [PAD] [PAD] [PAD] [PAD] [PAD] [PAD] [PAD]\n",
      "\n",
      "\n",
      "\n",
      "masked: . predicted: .\n",
      "ACTUAL: Reaching number eighty on the U.S. R&B chart, it became her first solo single to miss the pop chart.\n",
      "MASKED: [CLS] Reaching number eighty on the U. S [MASK] R & B chart, it became her first solo single to miss the pop chart. [SEP]                                                                                                    \n",
      " MODEL: [CLS] Reaching number eighty on the U. S. R & B chart, it became her first solo single to miss the pop chart. [SEP] [PAD] [PAD] [PAD] [PAD] [PAD] [PAD] [PAD] [PAD] [PAD] [PAD] [PAD] [PAD] [PAD] [PAD] [PAD] [PAD] [PAD] [PAD] [PAD] [PAD] [PAD] [PAD] [PAD] [PAD] [PAD] [PAD] [PAD] [PAD] [PAD] [PAD] [PAD] [PAD] [PAD] [PAD] [PAD] [PAD] [PAD] [PAD] [PAD] [PAD] [PAD] [PAD] [PAD] [PAD] [PAD] [PAD] [PAD] [PAD] [PAD] [PAD] [PAD] [PAD] [PAD] [PAD] [PAD] [PAD] [PAD] [PAD] [PAD] [PAD] [PAD] [PAD] [PAD] [PAD] [PAD] [PAD] [PAD] [PAD] [PAD] [PAD] [PAD] [PAD] [PAD] [PAD] [PAD] [PAD] [PAD] [PAD] [PAD] [PAD] [PAD] [PAD] [PAD] [PAD] [PAD] [PAD] [PAD] [PAD] [PAD] [PAD] [PAD] [PAD] [PAD] [PAD] [PAD] [PAD] [PAD] [PAD] [PAD] [PAD]\n",
      "\n",
      "\n",
      "\n",
      "masked: , predicted: ,\n",
      "ACTUAL: Julie Stevens (born 20 December 1936) is an English actress, presenter and singer, best known in Britain for her appearances on children's television.\n",
      "MASKED: [CLS] Julie Stevens ( born 20 December 1936 ) is an English actress, presenter and singer [MASK] best known in Britain for her appearances on children ' s television. [SEP]                                                                                                \n",
      " MODEL: [CLS] Julie Stevens ( born 20 December 1936 ) is an English actress, presenter and singer, best known in Britain for her appearances on children ' s television. [SEP] [PAD] [PAD] [PAD] [PAD] [PAD] [PAD] [PAD] [PAD] [PAD] [PAD] [PAD] [PAD] [PAD] [PAD] [PAD] [PAD] [PAD] [PAD] [PAD] [PAD] [PAD] [PAD] [PAD] [PAD] [PAD] [PAD] [PAD] [PAD] [PAD] [PAD] [PAD] [PAD] [PAD] [PAD] [PAD] [PAD] [PAD] [PAD] [PAD] [PAD] [PAD] [PAD] [PAD] [PAD] [PAD] [PAD] [PAD] [PAD] [PAD] [PAD] [PAD] [PAD] [PAD] [PAD] [PAD] [PAD] [PAD] [PAD] [PAD] [PAD] [PAD] [PAD] [PAD] [PAD] [PAD] [PAD] [PAD] [PAD] [PAD] [PAD] [PAD] [PAD] [PAD] [PAD] [PAD] [PAD] [PAD] [PAD] [PAD] [PAD] [PAD] [PAD] [PAD] [PAD] [PAD] [PAD] [PAD] [PAD] [PAD] [PAD] [PAD] [PAD] [PAD] [PAD] [PAD] [PAD]\n",
      "\n",
      "\n",
      "\n",
      "masked: Major predicted: Major\n",
      "ACTUAL: Gregory Blakemoor Norton (born July 6, 1972) is a hitting coordinator in the Boston Red Sox Minor League system and a former corner infielder in Major League Baseball.\n",
      "MASKED: [CLS] Gregory Blakemoor Norton ( born July 6, 1972 ) is a hitting coordinator in the Boston Red Sox Minor League system and a former corner infielder in [MASK] League Baseball. [SEP]                                                                                           \n",
      " MODEL: [CLS] Gregory Blakemoor Norton ( born July 6, 1972 ) is a hitting coordinator in the Boston Red Sox Minor League system and a former corner infielder in Major League Baseball. [SEP] [PAD] [PAD] [PAD] [PAD] [PAD] [PAD] [PAD] [PAD] [PAD] [PAD] [PAD] [PAD] [PAD] [PAD] [PAD] [PAD] [PAD] [PAD] [PAD] [PAD] [PAD] [PAD] [PAD] [PAD] [PAD] [PAD] [PAD] [PAD] [PAD] [PAD] [PAD] [PAD] [PAD] [PAD] [PAD] [PAD] [PAD] [PAD] [PAD] [PAD] [PAD] [PAD] [PAD] [PAD] [PAD] [PAD] [PAD] [PAD] [PAD] [PAD] [PAD] [PAD] [PAD] [PAD] [PAD] [PAD] [PAD] [PAD] [PAD] [PAD] [PAD] [PAD] [PAD] [PAD] [PAD] [PAD] [PAD] [PAD] [PAD] [PAD] [PAD] [PAD] [PAD] [PAD] [PAD] [PAD] [PAD] [PAD] [PAD] [PAD] [PAD] [PAD] [PAD] [PAD] [PAD] [PAD] [PAD] [PAD] [PAD] [PAD] [PAD]\n",
      "\n",
      "\n",
      "\n",
      "masked: notably predicted: with\n",
      "ACTUAL: He also wrote short stories, poetry, notably a well-regarded Ode to the Mississippi, and a defense of the theater against criticism from the pulpit.\n",
      "MASKED: [CLS] He also wrote short stories, poetry, [MASK] a well - regarded Ode to the Mississippi, and a defense of the theater against criticism from the pulpit. [SEP]                                                                                               \n",
      " MODEL: [CLS] He also wrote short stories, poetry, with a well - regarded Ode to the Mississippi, and a defense of the theater against criticism from the pulpit. [SEP] [PAD] [PAD] [PAD] [PAD] [PAD] [PAD] [PAD] [PAD] [PAD] [PAD] [PAD] [PAD] [PAD] [PAD] [PAD] [PAD] [PAD] [PAD] [PAD] [PAD] [PAD] [PAD] [PAD] [PAD] [PAD] [PAD] [PAD] [PAD] [PAD] [PAD] [PAD] [PAD] [PAD] [PAD] [PAD] [PAD] [PAD] [PAD] [PAD] [PAD] [PAD] [PAD] [PAD] [PAD] [PAD] [PAD] [PAD] [PAD] [PAD] [PAD] [PAD] [PAD] [PAD] [PAD] [PAD] [PAD] [PAD] [PAD] [PAD] [PAD] [PAD] [PAD] [PAD] [PAD] [PAD] [PAD] [PAD] [PAD] [PAD] [PAD] [PAD] [PAD] [PAD] [PAD] [PAD] [PAD] [PAD] [PAD] [PAD] [PAD] [PAD] [PAD] [PAD] [PAD] [PAD] [PAD] [PAD] [PAD] [PAD] [PAD] [PAD] [PAD] [PAD] [PAD] [PAD]\n",
      "\n",
      "\n",
      "\n",
      "masked: It predicted: It\n",
      "ACTUAL: It is native to the Guiana Shield.\n",
      "MASKED: [CLS] [MASK] is native to the Guiana Shield. [SEP]                                                                                                                      \n",
      " MODEL: [CLS] It is native to the Guiana Shield. [SEP] [PAD] [PAD] [PAD] [PAD] [PAD] [PAD] [PAD] [PAD] [PAD] [PAD] [PAD] [PAD] [PAD] [PAD] [PAD] [PAD] [PAD] [PAD] [PAD] [PAD] [PAD] [PAD] [PAD] [PAD] [PAD] [PAD] [PAD] [PAD] [PAD] [PAD] [PAD] [PAD] [PAD] [PAD] [PAD] [PAD] [PAD] [PAD] [PAD] [PAD] [PAD] [PAD] [PAD] [PAD] [PAD] [PAD] [PAD] [PAD] [PAD] [PAD] [PAD] [PAD] [PAD] [PAD] [PAD] [PAD] [PAD] [PAD] [PAD] [PAD] [PAD] [PAD] [PAD] [PAD] [PAD] [PAD] [PAD] [PAD] [PAD] [PAD] [PAD] [PAD] [PAD] [PAD] [PAD] [PAD] [PAD] [PAD] [PAD] [PAD] [PAD] [PAD] [PAD] [PAD] [PAD] [PAD] [PAD] [PAD] [PAD] [PAD] [PAD] [PAD] [PAD] [PAD] [PAD] [PAD] [PAD] [PAD] [PAD] [PAD] [PAD] [PAD] [PAD] [PAD] [PAD] [PAD] [PAD] [PAD] [PAD] [PAD] [PAD] [PAD] [PAD] [PAD] [PAD] [PAD] [PAD] [PAD]\n",
      "\n",
      "\n",
      "\n",
      "masked: [CLS] predicted: [CLS]\n",
      "ACTUAL: It was named for Katharine Berman, a 2016 Intel STS awardee.\n",
      "MASKED: [MASK] It was named for Katharine Berman, a 2016 Intel STS awardee. [SEP]                                                                                                              \n",
      " MODEL: [CLS] It was named for Katharine Berman, a 2016 Intel STS awardee. [SEP] [PAD] [PAD] [PAD] [PAD] [PAD] [PAD] [PAD] [PAD] [PAD] [PAD] [PAD] [PAD] [PAD] [PAD] [PAD] [PAD] [PAD] [PAD] [PAD] [PAD] [PAD] [PAD] [PAD] [PAD] [PAD] [PAD] [PAD] [PAD] [PAD] [PAD] [PAD] [PAD] [PAD] [PAD] [PAD] [PAD] [PAD] [PAD] [PAD] [PAD] [PAD] [PAD] [PAD] [PAD] [PAD] [PAD] [PAD] [PAD] [PAD] [PAD] [PAD] [PAD] [PAD] [PAD] [PAD] [PAD] [PAD] [PAD] [PAD] [PAD] [PAD] [PAD] [PAD] [PAD] [PAD] [PAD] [PAD] [PAD] [PAD] [PAD] [PAD] [PAD] [PAD] [PAD] [PAD] [PAD] [PAD] [PAD] [PAD] [PAD] [PAD] [PAD] [PAD] [PAD] [PAD] [PAD] [PAD] [PAD] [PAD] [PAD] [PAD] [PAD] [PAD] [PAD] [PAD] [PAD] [PAD] [PAD] [PAD] [PAD] [PAD] [PAD] [PAD] [PAD] [PAD] [PAD] [PAD] [PAD] [PAD] [PAD]\n",
      "\n",
      "\n",
      "\n",
      "masked: has predicted: has\n",
      "ACTUAL: The station has 76 parking spaces.\n",
      "MASKED: [CLS] The station [MASK] 76 parking spaces. [SEP]                                                                                                                       \n",
      " MODEL: [CLS] The station has 76 parking spaces. [SEP] [PAD] [PAD] [PAD] [PAD] [PAD] [PAD] [PAD] [PAD] [PAD] [PAD] [PAD] [PAD] [PAD] [PAD] [PAD] [PAD] [PAD] [PAD] [PAD] [PAD] [PAD] [PAD] [PAD] [PAD] [PAD] [PAD] [PAD] [PAD] [PAD] [PAD] [PAD] [PAD] [PAD] [PAD] [PAD] [PAD] [PAD] [PAD] [PAD] [PAD] [PAD] [PAD] [PAD] [PAD] [PAD] [PAD] [PAD] [PAD] [PAD] [PAD] [PAD] [PAD] [PAD] [PAD] [PAD] [PAD] [PAD] [PAD] [PAD] [PAD] [PAD] [PAD] [PAD] [PAD] [PAD] [PAD] [PAD] [PAD] [PAD] [PAD] [PAD] [PAD] [PAD] [PAD] [PAD] [PAD] [PAD] [PAD] [PAD] [PAD] [PAD] [PAD] [PAD] [PAD] [PAD] [PAD] [PAD] [PAD] [PAD] [PAD] [PAD] [PAD] [PAD] [PAD] [PAD] [PAD] [PAD] [PAD] [PAD] [PAD] [PAD] [PAD] [PAD] [PAD] [PAD] [PAD] [PAD] [PAD] [PAD] [PAD] [PAD] [PAD] [PAD] [PAD] [PAD] [PAD] [PAD] [PAD] [PAD]\n",
      "\n",
      "\n",
      "\n",
      "masked: , predicted: ,\n",
      "ACTUAL: Dabolim railway station (Station code: DBM) is a main railway station in South Goa district, Goa.\n",
      "MASKED: [CLS] Dabolim railway station ( Station code : DBM ) is a main railway station in South Goa district [MASK] Goa. [SEP]                                                                                                      \n",
      " MODEL: [CLS] Dabolim railway station ( Station code : DBM ) is a main railway station in South Goa district, Goa. [SEP] [PAD] [PAD] [PAD] [PAD] [PAD] [PAD] [PAD] [PAD] [PAD] [PAD] [PAD] [PAD] [PAD] [PAD] [PAD] [PAD] [PAD] [PAD] [PAD] [PAD] [PAD] [PAD] [PAD] [PAD] [PAD] [PAD] [PAD] [PAD] [PAD] [PAD] [PAD] [PAD] [PAD] [PAD] [PAD] [PAD] [PAD] [PAD] [PAD] [PAD] [PAD] [PAD] [PAD] [PAD] [PAD] [PAD] [PAD] [PAD] [PAD] [PAD] [PAD] [PAD] [PAD] [PAD] [PAD] [PAD] [PAD] [PAD] [PAD] [PAD] [PAD] [PAD] [PAD] [PAD] [PAD] [PAD] [PAD] [PAD] [PAD] [PAD] [PAD] [PAD] [PAD] [PAD] [PAD] [PAD] [PAD] [PAD] [PAD] [PAD] [PAD] [PAD] [PAD] [PAD] [PAD] [PAD] [PAD] [PAD] [PAD] [PAD] [PAD] [PAD] [PAD] [PAD] [PAD] [PAD] [PAD] [PAD] [PAD] [PAD] [PAD] [PAD]\n",
      "\n",
      "\n",
      "\n",
      "masked: Queens predicted: and\n",
      "ACTUAL: Born in New York City, a Jamaica, Queens native, Morley has released four studio albums, including Undivided in 2012.\n",
      "MASKED: [CLS] Born in New York City, a Jamaica, [MASK] native, Morley has released four studio albums, including Undivided in 2012. [SEP]                                                                                                   \n",
      " MODEL: [CLS] Born in New York City, a Jamaica, and native, Morley has released four studio albums, including Undivided in 2012. [SEP] [PAD] [PAD] [PAD] [PAD] [PAD] [PAD] [PAD] [PAD] [PAD] [PAD] [PAD] [PAD] [PAD] [PAD] [PAD] [PAD] [PAD] [PAD] [PAD] [PAD] [PAD] [PAD] [PAD] [PAD] [PAD] [PAD] [PAD] [PAD] [PAD] [PAD] [PAD] [PAD] [PAD] [PAD] [PAD] [PAD] [PAD] [PAD] [PAD] [PAD] [PAD] [PAD] [PAD] [PAD] [PAD] [PAD] [PAD] [PAD] [PAD] [PAD] [PAD] [PAD] [PAD] [PAD] [PAD] [PAD] [PAD] [PAD] [PAD] [PAD] [PAD] [PAD] [PAD] [PAD] [PAD] [PAD] [PAD] [PAD] [PAD] [PAD] [PAD] [PAD] [PAD] [PAD] [PAD] [PAD] [PAD] [PAD] [PAD] [PAD] [PAD] [PAD] [PAD] [PAD] [PAD] [PAD] [PAD] [PAD] [PAD] [PAD] [PAD] [PAD] [PAD] [PAD] [PAD] [PAD] [PAD] [PAD] [PAD]\n",
      "\n",
      "\n",
      "\n",
      "masked: a predicted: a\n",
      "ACTUAL: Bulimulus rugiferus is a species of tropical air-breathing land snail, a pulmonate gastropod mollusk in the subfamily Bulimulinae.\n",
      "MASKED: [CLS] Bulimulus rugiferus is [MASK] species of tropical air - breathing land snail, a pulmonate gastropod mollusk in the subfamily Bulimulinae. [SEP]                                                                                            \n",
      " MODEL: [CLS] Bulimulus rugiferus is a species of tropical air - breathing land snail, a pulmonate gastropod mollusk in the subfamily Bulimulinae. [SEP] [PAD] [PAD] [PAD] [PAD] [PAD] [PAD] [PAD] [PAD] [PAD] [PAD] [PAD] [PAD] [PAD] [PAD] [PAD] [PAD] [PAD] [PAD] [PAD] [PAD] [PAD] [PAD] [PAD] [PAD] [PAD] [PAD] [PAD] [PAD] [PAD] [PAD] [PAD] [PAD] [PAD] [PAD] [PAD] [PAD] [PAD] [PAD] [PAD] [PAD] [PAD] [PAD] [PAD] [PAD] [PAD] [PAD] [PAD] [PAD] [PAD] [PAD] [PAD] [PAD] [PAD] [PAD] [PAD] [PAD] [PAD] [PAD] [PAD] [PAD] [PAD] [PAD] [PAD] [PAD] [PAD] [PAD] [PAD] [PAD] [PAD] [PAD] [PAD] [PAD] [PAD] [PAD] [PAD] [PAD] [PAD] [PAD] [PAD] [PAD] [PAD] [PAD] [PAD] [PAD] [PAD] [PAD] [PAD] [PAD] [PAD] [PAD] [PAD] [PAD]\n",
      "\n",
      "\n",
      "\n",
      "masked: used predicted: held\n",
      "ACTUAL: A non-standard points allocation system was used in the 2000 league.\n",
      "MASKED: [CLS] A non - standard points allocation system was [MASK] in the 2000 league. [SEP]                                                                                                                \n",
      " MODEL: [CLS] A non - standard points allocation system was held in the 2000 league. [SEP] [PAD] [PAD] [PAD] [PAD] [PAD] [PAD] [PAD] [PAD] [PAD] [PAD] [PAD] [PAD] [PAD] [PAD] [PAD] [PAD] [PAD] [PAD] [PAD] [PAD] [PAD] [PAD] [PAD] [PAD] [PAD] [PAD] [PAD] [PAD] [PAD] [PAD] [PAD] [PAD] [PAD] [PAD] [PAD] [PAD] [PAD] [PAD] [PAD] [PAD] [PAD] [PAD] [PAD] [PAD] [PAD] [PAD] [PAD] [PAD] [PAD] [PAD] [PAD] [PAD] [PAD] [PAD] [PAD] [PAD] [PAD] [PAD] [PAD] [PAD] [PAD] [PAD] [PAD] [PAD] [PAD] [PAD] [PAD] [PAD] [PAD] [PAD] [PAD] [PAD] [PAD] [PAD] [PAD] [PAD] [PAD] [PAD] [PAD] [PAD] [PAD] [PAD] [PAD] [PAD] [PAD] [PAD] [PAD] [PAD] [PAD] [PAD] [PAD] [PAD] [PAD] [PAD] [PAD] [PAD] [PAD] [PAD] [PAD] [PAD] [PAD] [PAD] [PAD] [PAD] [PAD] [PAD] [PAD] [PAD] [PAD] [PAD] [PAD] [PAD]\n",
      "\n",
      "\n",
      "\n",
      "masked: - predicted: -\n",
      "ACTUAL: Dong-hyuk, also spelled Dong-hyeok or Tong-hyok, is a Korean masculine given name.\n",
      "MASKED: [CLS] Dong [MASK] hyuk, also spelled Dong - hyeok or Tong - hyok, is a Korean masculine given name. [SEP]                                                                                                   \n",
      " MODEL: [CLS] Dong - hyuk, also spelled Dong - hyeok or Tong - hyok, is a Korean masculine given name. [SEP] [PAD] [PAD] [PAD] [PAD] [PAD] [PAD] [PAD] [PAD] [PAD] [PAD] [PAD] [PAD] [PAD] [PAD] [PAD] [PAD] [PAD] [PAD] [PAD] [PAD] [PAD] [PAD] [PAD] [PAD] [PAD] [PAD] [PAD] [PAD] [PAD] [PAD] [PAD] [PAD] [PAD] [PAD] [PAD] [PAD] [PAD] [PAD] [PAD] [PAD] [PAD] [PAD] [PAD] [PAD] [PAD] [PAD] [PAD] [PAD] [PAD] [PAD] [PAD] [PAD] [PAD] [PAD] [PAD] [PAD] [PAD] [PAD] [PAD] [PAD] [PAD] [PAD] [PAD] [PAD] [PAD] [PAD] [PAD] [PAD] [PAD] [PAD] [PAD] [PAD] [PAD] [PAD] [PAD] [PAD] [PAD] [PAD] [PAD] [PAD] [PAD] [PAD] [PAD] [PAD] [PAD] [PAD] [PAD] [PAD] [PAD] [PAD] [PAD] [PAD] [PAD] [PAD] [PAD] [PAD] [PAD] [PAD] [PAD]\n",
      "\n",
      "\n",
      "\n",
      "masked: once predicted: as\n",
      "ACTUAL: \"The Coon\" was re-released once more on DVD and Blu-ray as a \"bonus episode\" with the complete fourteenth season.\n",
      "MASKED: [CLS] \" The Coon \" was re - released [MASK] more on DVD and Blu - ray as a \" bonus episode \" with the complete fourteenth season. [SEP]                                                                                                 \n",
      " MODEL: [CLS] \" The Coon \" was re - released as more on DVD and Blu - ray as a \" bonus episode \" with the complete fourteenth season. [SEP] [PAD] [PAD] [PAD] [PAD] [PAD] [PAD] [PAD] [PAD] [PAD] [PAD] [PAD] [PAD] [PAD] [PAD] [PAD] [PAD] [PAD] [PAD] [PAD] [PAD] [PAD] [PAD] [PAD] [PAD] [PAD] [PAD] [PAD] [PAD] [PAD] [PAD] [PAD] [PAD] [PAD] [PAD] [PAD] [PAD] [PAD] [PAD] [PAD] [PAD] [PAD] [PAD] [PAD] [PAD] [PAD] [PAD] [PAD] [PAD] [PAD] [PAD] [PAD] [PAD] [PAD] [PAD] [PAD] [PAD] [PAD] [PAD] [PAD] [PAD] [PAD] [PAD] [PAD] [PAD] [PAD] [PAD] [PAD] [PAD] [PAD] [PAD] [PAD] [PAD] [PAD] [PAD] [PAD] [PAD] [PAD] [PAD] [PAD] [PAD] [PAD] [PAD] [PAD] [PAD] [PAD] [PAD] [PAD] [PAD] [PAD] [PAD] [PAD] [PAD] [PAD] [PAD] [PAD] [PAD] [PAD]\n",
      "\n",
      "\n",
      "\n",
      "masked: approved predicted: completed\n",
      "ACTUAL: The League disbanded in August 1864 after it became clear that the amendment would be approved.\n",
      "MASKED: [CLS] The League disbanded in August 1864 after it became clear that the amendment would be [MASK]. [SEP]                                                                                                             \n",
      " MODEL: [CLS] The League disbanded in August 1864 after it became clear that the amendment would be completed. [SEP] [PAD] [PAD] [PAD] [PAD] [PAD] [PAD] [PAD] [PAD] [PAD] [PAD] [PAD] [PAD] [PAD] [PAD] [PAD] [PAD] [PAD] [PAD] [PAD] [PAD] [PAD] [PAD] [PAD] [PAD] [PAD] [PAD] [PAD] [PAD] [PAD] [PAD] [PAD] [PAD] [PAD] [PAD] [PAD] [PAD] [PAD] [PAD] [PAD] [PAD] [PAD] [PAD] [PAD] [PAD] [PAD] [PAD] [PAD] [PAD] [PAD] [PAD] [PAD] [PAD] [PAD] [PAD] [PAD] [PAD] [PAD] [PAD] [PAD] [PAD] [PAD] [PAD] [PAD] [PAD] [PAD] [PAD] [PAD] [PAD] [PAD] [PAD] [PAD] [PAD] [PAD] [PAD] [PAD] [PAD] [PAD] [PAD] [PAD] [PAD] [PAD] [PAD] [PAD] [PAD] [PAD] [PAD] [PAD] [PAD] [PAD] [PAD] [PAD] [PAD] [PAD] [PAD] [PAD] [PAD] [PAD] [PAD] [PAD] [PAD] [PAD] [PAD] [PAD] [PAD] [PAD] [PAD] [PAD] [PAD] [PAD]\n",
      "\n",
      "\n",
      "\n",
      "masked: the predicted: the\n",
      "ACTUAL: Tadipatri or Tadpatri is a town in Anantapur district of the Indian state of Andhra Pradesh.\n",
      "MASKED: [CLS] Tadipatri or Tadpatri is a town in Anantapur district of [MASK] Indian state of Andhra Pradesh. [SEP]                                                                                                      \n",
      " MODEL: [CLS] Tadipatri or Tadpatri is a town in Anantapur district of the Indian state of Andhra Pradesh. [SEP] [PAD] [PAD] [PAD] [PAD] [PAD] [PAD] [PAD] [PAD] [PAD] [PAD] [PAD] [PAD] [PAD] [PAD] [PAD] [PAD] [PAD] [PAD] [PAD] [PAD] [PAD] [PAD] [PAD] [PAD] [PAD] [PAD] [PAD] [PAD] [PAD] [PAD] [PAD] [PAD] [PAD] [PAD] [PAD] [PAD] [PAD] [PAD] [PAD] [PAD] [PAD] [PAD] [PAD] [PAD] [PAD] [PAD] [PAD] [PAD] [PAD] [PAD] [PAD] [PAD] [PAD] [PAD] [PAD] [PAD] [PAD] [PAD] [PAD] [PAD] [PAD] [PAD] [PAD] [PAD] [PAD] [PAD] [PAD] [PAD] [PAD] [PAD] [PAD] [PAD] [PAD] [PAD] [PAD] [PAD] [PAD] [PAD] [PAD] [PAD] [PAD] [PAD] [PAD] [PAD] [PAD] [PAD] [PAD] [PAD] [PAD] [PAD] [PAD] [PAD] [PAD] [PAD] [PAD] [PAD] [PAD] [PAD] [PAD] [PAD] [PAD] [PAD]\n",
      "\n",
      "\n",
      "\n",
      "masked: , predicted: ,\n",
      "ACTUAL: Benton is also known for an annual festival called \"Tater Day\", which attracts residents from all over the Jackson Purchase and involves games, deep fried food, and a parade.\n",
      "MASKED: [CLS] Benton is also known for an annual festival called \" Tater Day \", which attracts residents from all over the Jackson Purchase and involves games, deep fried food [MASK] and a parade. [SEP]                                                                                        \n",
      " MODEL: [CLS] Benton is also known for an annual festival called \" Tater Day \", which attracts residents from all over the Jackson Purchase and involves games, deep fried food, and a parade. [SEP] [PAD] [PAD] [PAD] [PAD] [PAD] [PAD] [PAD] [PAD] [PAD] [PAD] [PAD] [PAD] [PAD] [PAD] [PAD] [PAD] [PAD] [PAD] [PAD] [PAD] [PAD] [PAD] [PAD] [PAD] [PAD] [PAD] [PAD] [PAD] [PAD] [PAD] [PAD] [PAD] [PAD] [PAD] [PAD] [PAD] [PAD] [PAD] [PAD] [PAD] [PAD] [PAD] [PAD] [PAD] [PAD] [PAD] [PAD] [PAD] [PAD] [PAD] [PAD] [PAD] [PAD] [PAD] [PAD] [PAD] [PAD] [PAD] [PAD] [PAD] [PAD] [PAD] [PAD] [PAD] [PAD] [PAD] [PAD] [PAD] [PAD] [PAD] [PAD] [PAD] [PAD] [PAD] [PAD] [PAD] [PAD] [PAD] [PAD] [PAD] [PAD] [PAD] [PAD] [PAD] [PAD] [PAD] [PAD] [PAD]\n",
      "\n",
      "\n",
      "\n",
      "CORRECT:48/100\n"
     ]
    }
   ],
   "source": [
    "correct = 0\n",
    "for sentence in random.choices(train_lines+test_lines,k=100):\n",
    "    correct += predict_mask(sentence)\n",
    "    print('\\n\\n')\n",
    "print(f'CORRECT:{correct}/{100}')"
   ]
  },
  {
   "cell_type": "code",
   "execution_count": 30,
   "metadata": {},
   "outputs": [
    {
     "data": {
      "text/plain": [
       "'Castelluccio SMN is an Italian paramotor that was designed and produced by Fly Castelluccio of Ascoli Piceno for powered paragliding.'"
      ]
     },
     "execution_count": 30,
     "metadata": {},
     "output_type": "execute_result"
    }
   ],
   "source": [
    "sentence"
   ]
  },
  {
   "cell_type": "code",
   "execution_count": null,
   "metadata": {},
   "outputs": [],
   "source": []
  }
 ],
 "metadata": {
  "kaggle": {
   "accelerator": "gpu",
   "dataSources": [
    {
     "datasetId": 46601,
     "sourceId": 84740,
     "sourceType": "datasetVersion"
    }
   ],
   "dockerImageVersionId": 30559,
   "isGpuEnabled": true,
   "isInternetEnabled": true,
   "language": "python",
   "sourceType": "notebook"
  },
  "kernelspec": {
   "display_name": "Python 3 (ipykernel)",
   "language": "python",
   "name": "python3"
  },
  "language_info": {
   "codemirror_mode": {
    "name": "ipython",
    "version": 3
   },
   "file_extension": ".py",
   "mimetype": "text/x-python",
   "name": "python",
   "nbconvert_exporter": "python",
   "pygments_lexer": "ipython3",
   "version": "3.10.11"
  }
 },
 "nbformat": 4,
 "nbformat_minor": 4
}
