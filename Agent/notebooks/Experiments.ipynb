{
 "cells": [
  {
   "cell_type": "markdown",
   "id": "b88c718d",
   "metadata": {},
   "source": [
    "https://academy.langchain.com/courses/take/intro-to-langgraph/lessons/58239430-module-2-introduction"
   ]
  },
  {
   "cell_type": "code",
   "execution_count": null,
   "id": "2e29b359",
   "metadata": {},
   "outputs": [],
   "source": []
  }
 ],
 "metadata": {
  "kernelspec": {
   "display_name": "Python 3 (ipykernel)",
   "language": "python",
   "name": "python3"
  },
  "language_info": {
   "codemirror_mode": {
    "name": "ipython",
    "version": 3
   },
   "file_extension": ".py",
   "mimetype": "text/x-python",
   "name": "python",
   "nbconvert_exporter": "python",
   "pygments_lexer": "ipython3",
   "version": "3.10.11"
  }
 },
 "nbformat": 4,
 "nbformat_minor": 5
}
