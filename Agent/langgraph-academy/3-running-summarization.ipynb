{
 "cells": [
  {
   "cell_type": "code",
   "execution_count": 4,
   "id": "bc8cb0df",
   "metadata": {},
   "outputs": [
    {
     "data": {
      "text/plain": [
       "True"
      ]
     },
     "execution_count": 4,
     "metadata": {},
     "output_type": "execute_result"
    }
   ],
   "source": [
    "from dotenv import load_dotenv\n",
    "load_dotenv(\"../../config/local.env\")"
   ]
  },
  {
   "cell_type": "code",
   "execution_count": 6,
   "id": "5127ecf6",
   "metadata": {},
   "outputs": [],
   "source": [
    "from langchain_openai import ChatOpenAI\n",
    "model = ChatOpenAI(model=\"gpt-5-nano-2025-08-07\",temperature=0)"
   ]
  },
  {
   "cell_type": "code",
   "execution_count": 16,
   "id": "43ffcd91",
   "metadata": {},
   "outputs": [],
   "source": [
    "from langgraph.graph import MessagesState\n",
    "class State(MessagesState):\n",
    "    summary: str"
   ]
  },
  {
   "cell_type": "code",
   "execution_count": null,
   "id": "ad401194",
   "metadata": {},
   "outputs": [],
   "source": [
    "from langchain_core.messages import SystemMessage, HumanMessage, RemoveMessage, AIMessage"
   ]
  },
  {
   "cell_type": "code",
   "execution_count": 20,
   "id": "3116ef2e",
   "metadata": {},
   "outputs": [],
   "source": [
    "k = HumanMessage(content=\"Tell me a joke about cats.\")"
   ]
  },
  {
   "cell_type": "code",
   "execution_count": 27,
   "id": "c10f6857",
   "metadata": {},
   "outputs": [
    {
     "data": {
      "text/plain": [
       "{'content': 'Tell me a joke about cats.',\n",
       " 'additional_kwargs': {},\n",
       " 'response_metadata': {},\n",
       " 'type': 'human',\n",
       " 'name': None,\n",
       " 'id': None,\n",
       " 'example': False}"
      ]
     },
     "execution_count": 27,
     "metadata": {},
     "output_type": "execute_result"
    }
   ],
   "source": [
    "k.model_dump()"
   ]
  },
  {
   "cell_type": "code",
   "execution_count": 28,
   "id": "776303a2",
   "metadata": {},
   "outputs": [
    {
     "data": {
      "text/plain": [
       "{'content': 'You are an expert assistant',\n",
       " 'additional_kwargs': {},\n",
       " 'response_metadata': {},\n",
       " 'type': 'system',\n",
       " 'name': None,\n",
       " 'id': None}"
      ]
     },
     "execution_count": 28,
     "metadata": {},
     "output_type": "execute_result"
    }
   ],
   "source": [
    "SystemMessage(content=\"You are an expert assistant\").model_dump()"
   ]
  },
  {
   "cell_type": "code",
   "execution_count": 30,
   "id": "51ec320f",
   "metadata": {},
   "outputs": [
    {
     "data": {
      "text/plain": [
       "{'content': '',\n",
       " 'additional_kwargs': {},\n",
       " 'response_metadata': {},\n",
       " 'type': 'remove',\n",
       " 'name': None,\n",
       " 'id': '1'}"
      ]
     },
     "execution_count": 30,
     "metadata": {},
     "output_type": "execute_result"
    }
   ],
   "source": [
    "RemoveMessage(id=1).model_dump()"
   ]
  },
  {
   "cell_type": "code",
   "execution_count": 32,
   "id": "28d6460f",
   "metadata": {},
   "outputs": [
    {
     "data": {
      "text/plain": [
       "{'content': \"Sure! Here's a cat joke for you.\",\n",
       " 'additional_kwargs': {},\n",
       " 'response_metadata': {},\n",
       " 'type': 'ai',\n",
       " 'name': None,\n",
       " 'id': None,\n",
       " 'example': False,\n",
       " 'tool_calls': [],\n",
       " 'invalid_tool_calls': [],\n",
       " 'usage_metadata': None}"
      ]
     },
     "execution_count": 32,
     "metadata": {},
     "output_type": "execute_result"
    }
   ],
   "source": [
    "AIMessage(content=\"Sure! Here's a cat joke for you.\").model_dump()"
   ]
  },
  {
   "cell_type": "code",
   "execution_count": 33,
   "id": "dd7a18bb",
   "metadata": {},
   "outputs": [],
   "source": [
    "# Define the logic to call the model\n",
    "def call_model(state: State):\n",
    "    \n",
    "    # Get summary if it exists\n",
    "    summary = state.get(\"summary\", \"\")\n",
    "\n",
    "    # If there is summary, then we add it\n",
    "    if summary:\n",
    "        \n",
    "        # Add summary to system message\n",
    "        system_message = f\"Summary of conversation earlier: {summary}\"\n",
    "\n",
    "        # Append summary to any newer messages\n",
    "        messages = [SystemMessage(content=system_message)] + state[\"messages\"]\n",
    "    \n",
    "    else:\n",
    "        messages = state[\"messages\"]\n",
    "    \n",
    "    response = model.invoke(messages)\n",
    "    return {\"messages\": response}"
   ]
  },
  {
   "cell_type": "code",
   "execution_count": null,
   "id": "6e044887",
   "metadata": {},
   "outputs": [
    {
     "data": {
      "text/plain": [
       "AIMessage(content='Your name is Atanu. I’ll call you that in this chat. If you’d prefer a different name or nickname, tell me and I’ll use it.', additional_kwargs={'refusal': None}, response_metadata={'token_usage': {'completion_tokens': 298, 'prompt_tokens': 20, 'total_tokens': 318, 'completion_tokens_details': {'accepted_prediction_tokens': 0, 'audio_tokens': 0, 'reasoning_tokens': 256, 'rejected_prediction_tokens': 0}, 'prompt_tokens_details': {'audio_tokens': 0, 'cached_tokens': 0}}, 'model_name': 'gpt-5-nano-2025-08-07', 'system_fingerprint': None, 'id': 'chatcmpl-CPtcUdou2KptophHwEFiJRdWvfc5j', 'service_tier': 'default', 'finish_reason': 'stop', 'logprobs': None}, id='run--c9d08a35-a57c-495d-8a7a-3566d48e3ad4-0', usage_metadata={'input_tokens': 20, 'output_tokens': 298, 'total_tokens': 318, 'input_token_details': {'audio': 0, 'cache_read': 0}, 'output_token_details': {'audio': 0, 'reasoning': 256}})"
      ]
     },
     "execution_count": 36,
     "metadata": {},
     "output_type": "execute_result"
    }
   ],
   "source": [
    "# model.invoke([\"My name is Atanu\", \"What is my name?\"])"
   ]
  },
  {
   "cell_type": "code",
   "execution_count": 37,
   "id": "70787a83",
   "metadata": {},
   "outputs": [],
   "source": [
    "def summarize_conversation(state: State):\n",
    "    \n",
    "    # First, we get any existing summary\n",
    "    summary = state.get(\"summary\", \"\")\n",
    "\n",
    "    # Create our summarization prompt \n",
    "    if summary:\n",
    "        \n",
    "        # A summary already exists\n",
    "        summary_message = (\n",
    "            f\"This is summary of the conversation to date: {summary}\\n\\n\"\n",
    "            \"Extend the summary by taking into account the new messages above:\"\n",
    "        )\n",
    "        \n",
    "    else:\n",
    "        summary_message = \"Create a summary of the conversation above:\"\n",
    "\n",
    "    # Add prompt to our history\n",
    "    messages = state[\"messages\"] + [HumanMessage(content=summary_message)]\n",
    "    response = model.invoke(messages)\n",
    "    \n",
    "    # Delete all but the 2 most recent messages\n",
    "    delete_messages = [RemoveMessage(id=m.id) for m in state[\"messages\"][:-2]]\n",
    "    return {\"summary\": response.content, \"messages\": delete_messages}"
   ]
  },
  {
   "cell_type": "code",
   "execution_count": 38,
   "id": "88602a61",
   "metadata": {},
   "outputs": [],
   "source": [
    "from langgraph.graph import END\n",
    "from typing_extensions import Literal\n",
    "# Determine whether to end or summarize the conversation\n",
    "def should_continue(state: State) -> Literal [\"summarize_conversation\",END]:\n",
    "    \n",
    "    \"\"\"Return the next node to execute.\"\"\"\n",
    "    \n",
    "    messages = state[\"messages\"]\n",
    "    \n",
    "    # If there are more than six messages, then we summarize the conversation\n",
    "    if len(messages) > 6:\n",
    "        return \"summarize_conversation\"\n",
    "    \n",
    "    # Otherwise we can just end\n",
    "    return END"
   ]
  },
  {
   "cell_type": "code",
   "execution_count": 39,
   "id": "a06a0dca",
   "metadata": {},
   "outputs": [
    {
     "data": {
      "image/png": "[encoded data removed]",
      "text/plain": [
       "<IPython.core.display.Image object>"
      ]
     },
     "metadata": {},
     "output_type": "display_data"
    }
   ],
   "source": [
    "from IPython.display import Image, display\n",
    "from langgraph.checkpoint.memory import MemorySaver\n",
    "from langgraph.graph import StateGraph, START\n",
    "\n",
    "# Define a new graph\n",
    "workflow = StateGraph(State)\n",
    "workflow.add_node(\"conversation\", call_model)\n",
    "workflow.add_node(summarize_conversation)\n",
    "\n",
    "# Set the entrypoint as conversation\n",
    "workflow.add_edge(START, \"conversation\")\n",
    "workflow.add_conditional_edges(\"conversation\", should_continue)\n",
    "workflow.add_edge(\"summarize_conversation\", END)\n",
    "\n",
    "# Compile\n",
    "memory = MemorySaver()\n",
    "graph = workflow.compile(checkpointer=memory)\n",
    "display(Image(graph.get_graph().draw_mermaid_png()))"
   ]
  },
  {
   "cell_type": "code",
   "execution_count": 47,
   "id": "d9d30a77",
   "metadata": {},
   "outputs": [],
   "source": [
    "# workflow_ = StateGraph(State)\n",
    "# workflow_.add_node(\"test\",call_model)\n",
    "\n",
    "# workflow_.add_edge(START, \"test\")\n",
    "# workflow_.compile()"
   ]
  },
  {
   "cell_type": "code",
   "execution_count": 48,
   "id": "d6551cc6",
   "metadata": {},
   "outputs": [
    {
     "name": "stdout",
     "output_type": "stream",
     "text": [
      "==================================\u001b[1m Ai Message \u001b[0m==================================\n",
      "\n",
      "Nice to meet you, Lance! How can I help today? Here are a few things I can do, or feel free to tell me something specific:\n",
      "\n",
      "- Answer questions or explain a topic\n",
      "- Help with writing, editing, or brainstorming\n",
      "- Plan or organize a project, trip, or schedule\n",
      "- Practice a skill (coding, language, interview prep, etc.)\n",
      "- Recommend books, movies, or resources\n",
      "\n",
      "Want to share a goal or topic you’d like to dive into? I can tailor my replies to fit.\n"
     ]
    }
   ],
   "source": [
    "# Create a thread\n",
    "config = {\"configurable\": {\"thread_id\": \"1\"}}\n",
    "\n",
    "# Start conversation\n",
    "input_message = HumanMessage(content=\"hi! I'm Lance\")\n",
    "output = graph.invoke({\"messages\": [input_message]}, config) \n",
    "for m in output['messages'][-1:]:\n",
    "    m.pretty_print()"
   ]
  },
  {
   "cell_type": "code",
   "execution_count": 50,
   "id": "56ac7097",
   "metadata": {},
   "outputs": [
    {
     "name": "stdout",
     "output_type": "stream",
     "text": [
      "==================================\u001b[1m Ai Message \u001b[0m==================================\n",
      "\n",
      "Your name is Lance. If you’d like me to use a nickname or different form, tell me and I’ll adjust. How can I help today, Lance?\n"
     ]
    }
   ],
   "source": [
    "input_message = HumanMessage(content=\"what's my name?\")\n",
    "output = graph.invoke({\"messages\": [input_message]}, config) \n",
    "for m in output['messages'][-1:]:\n",
    "    m.pretty_print()"
   ]
  },
  {
   "cell_type": "code",
   "execution_count": 51,
   "id": "770fd48f",
   "metadata": {},
   "outputs": [
    {
     "data": {
      "text/plain": [
       "{'messages': [HumanMessage(content=\"hi! I'm Lance\", additional_kwargs={}, response_metadata={}, id='81f0ded2-324a-42f3-a784-4a779df1c1c3'),\n",
       "  AIMessage(content='Nice to meet you, Lance! How can I help today? Here are a few things I can do, or feel free to tell me something specific:\\n\\n- Answer questions or explain a topic\\n- Help with writing, editing, or brainstorming\\n- Plan or organize a project, trip, or schedule\\n- Practice a skill (coding, language, interview prep, etc.)\\n- Recommend books, movies, or resources\\n\\nWant to share a goal or topic you’d like to dive into? I can tailor my replies to fit.', additional_kwargs={'refusal': None}, response_metadata={'token_usage': {'completion_tokens': 691, 'prompt_tokens': 10, 'total_tokens': 701, 'completion_tokens_details': {'accepted_prediction_tokens': 0, 'audio_tokens': 0, 'reasoning_tokens': 576, 'rejected_prediction_tokens': 0}, 'prompt_tokens_details': {'audio_tokens': 0, 'cached_tokens': 0}}, 'model_name': 'gpt-5-nano-2025-08-07', 'system_fingerprint': None, 'id': 'chatcmpl-CPuNX04TaPgI4N4Nciuqi2Qv8FGS1', 'service_tier': 'default', 'finish_reason': 'stop', 'logprobs': None}, id='run--925eda86-dedd-48d5-9076-8903c6f93f0f-0', usage_metadata={'input_tokens': 10, 'output_tokens': 691, 'total_tokens': 701, 'input_token_details': {'audio': 0, 'cache_read': 0}, 'output_token_details': {'audio': 0, 'reasoning': 576}}),\n",
       "  HumanMessage(content=\"what's my name?\", additional_kwargs={}, response_metadata={}, id='5717e3ab-c0c5-4129-8cd9-42237956f6e4'),\n",
       "  AIMessage(content='Your name is Lance. If you’d like me to use a nickname or different form, tell me and I’ll adjust. How can I help today, Lance?', additional_kwargs={'refusal': None}, response_metadata={'token_usage': {'completion_tokens': 234, 'prompt_tokens': 131, 'total_tokens': 365, 'completion_tokens_details': {'accepted_prediction_tokens': 0, 'audio_tokens': 0, 'reasoning_tokens': 192, 'rejected_prediction_tokens': 0}, 'prompt_tokens_details': {'audio_tokens': 0, 'cached_tokens': 0}}, 'model_name': 'gpt-5-nano-2025-08-07', 'system_fingerprint': None, 'id': 'chatcmpl-CPuPBQlLN77Xj8oN8eneNXNdIkgWK', 'service_tier': 'default', 'finish_reason': 'stop', 'logprobs': None}, id='run--ed28321e-993f-4b05-807b-2caf51f8d29a-0', usage_metadata={'input_tokens': 131, 'output_tokens': 234, 'total_tokens': 365, 'input_token_details': {'audio': 0, 'cache_read': 0}, 'output_token_details': {'audio': 0, 'reasoning': 192}})]}"
      ]
     },
     "execution_count": 51,
     "metadata": {},
     "output_type": "execute_result"
    }
   ],
   "source": [
    "output"
   ]
  },
  {
   "cell_type": "code",
   "execution_count": 52,
   "id": "3d21f0d4",
   "metadata": {},
   "outputs": [
    {
     "name": "stdout",
     "output_type": "stream",
     "text": [
      "==================================\u001b[1m Ai Message \u001b[0m==================================\n",
      "\n",
      "Nice! The 49ers are a solid pick and have a lot of history.\n",
      "\n",
      "If you want, I can dive into:\n",
      "- A quick overview of the franchise and its most famous eras (Bill Walsh era with Joe Montana, the 1980s dynasty, recent resurgence).\n",
      "- Notable players past and present (Montana, Rice, Lott, Bosa, etc.).\n",
      "- The current team, standings, and schedule (I can look up up-to-date info if you want).\n",
      "- Enduring rivalries and memorable games to rewatch.\n",
      "- Fantasy football notes related to 49ers players.\n",
      "\n",
      "What would you like to hear about first?\n"
     ]
    }
   ],
   "source": [
    "input_message = HumanMessage(content=\"i like the 49ers!\")\n",
    "output = graph.invoke({\"messages\": [input_message]}, config) \n",
    "for m in output['messages'][-1:]:\n",
    "    m.pretty_print()"
   ]
  },
  {
   "cell_type": "code",
   "execution_count": 57,
   "id": "f641bdf4",
   "metadata": {},
   "outputs": [
    {
     "data": {
      "text/plain": [
       "[HumanMessage(content=\"hi! I'm Lance\", additional_kwargs={}, response_metadata={}, id='81f0ded2-324a-42f3-a784-4a779df1c1c3'),\n",
       " AIMessage(content='Nice to meet you, Lance! How can I help today? Here are a few things I can do, or feel free to tell me something specific:\\n\\n- Answer questions or explain a topic\\n- Help with writing, editing, or brainstorming\\n- Plan or organize a project, trip, or schedule\\n- Practice a skill (coding, language, interview prep, etc.)\\n- Recommend books, movies, or resources\\n\\nWant to share a goal or topic you’d like to dive into? I can tailor my replies to fit.', additional_kwargs={'refusal': None}, response_metadata={'token_usage': {'completion_tokens': 691, 'prompt_tokens': 10, 'total_tokens': 701, 'completion_tokens_details': {'accepted_prediction_tokens': 0, 'audio_tokens': 0, 'reasoning_tokens': 576, 'rejected_prediction_tokens': 0}, 'prompt_tokens_details': {'audio_tokens': 0, 'cached_tokens': 0}}, 'model_name': 'gpt-5-nano-2025-08-07', 'system_fingerprint': None, 'id': 'chatcmpl-CPuNX04TaPgI4N4Nciuqi2Qv8FGS1', 'service_tier': 'default', 'finish_reason': 'stop', 'logprobs': None}, id='run--925eda86-dedd-48d5-9076-8903c6f93f0f-0', usage_metadata={'input_tokens': 10, 'output_tokens': 691, 'total_tokens': 701, 'input_token_details': {'audio': 0, 'cache_read': 0}, 'output_token_details': {'audio': 0, 'reasoning': 576}}),\n",
       " HumanMessage(content=\"what's my name?\", additional_kwargs={}, response_metadata={}, id='5717e3ab-c0c5-4129-8cd9-42237956f6e4'),\n",
       " AIMessage(content='Your name is Lance. If you’d like me to use a nickname or different form, tell me and I’ll adjust. How can I help today, Lance?', additional_kwargs={'refusal': None}, response_metadata={'token_usage': {'completion_tokens': 234, 'prompt_tokens': 131, 'total_tokens': 365, 'completion_tokens_details': {'accepted_prediction_tokens': 0, 'audio_tokens': 0, 'reasoning_tokens': 192, 'rejected_prediction_tokens': 0}, 'prompt_tokens_details': {'audio_tokens': 0, 'cached_tokens': 0}}, 'model_name': 'gpt-5-nano-2025-08-07', 'system_fingerprint': None, 'id': 'chatcmpl-CPuPBQlLN77Xj8oN8eneNXNdIkgWK', 'service_tier': 'default', 'finish_reason': 'stop', 'logprobs': None}, id='run--ed28321e-993f-4b05-807b-2caf51f8d29a-0', usage_metadata={'input_tokens': 131, 'output_tokens': 234, 'total_tokens': 365, 'input_token_details': {'audio': 0, 'cache_read': 0}, 'output_token_details': {'audio': 0, 'reasoning': 192}}),\n",
       " HumanMessage(content='i like the 49ers!', additional_kwargs={}, response_metadata={}, id='5e517ea3-16ae-4b96-ab89-14544d73fd37'),\n",
       " AIMessage(content='Nice! The 49ers are a solid pick and have a lot of history.\\n\\nIf you want, I can dive into:\\n- A quick overview of the franchise and its most famous eras (Bill Walsh era with Joe Montana, the 1980s dynasty, recent resurgence).\\n- Notable players past and present (Montana, Rice, Lott, Bosa, etc.).\\n- The current team, standings, and schedule (I can look up up-to-date info if you want).\\n- Enduring rivalries and memorable games to rewatch.\\n- Fantasy football notes related to 49ers players.\\n\\nWhat would you like to hear about first?', additional_kwargs={'refusal': None}, response_metadata={'token_usage': {'completion_tokens': 1420, 'prompt_tokens': 181, 'total_tokens': 1601, 'completion_tokens_details': {'accepted_prediction_tokens': 0, 'audio_tokens': 0, 'reasoning_tokens': 1280, 'rejected_prediction_tokens': 0}, 'prompt_tokens_details': {'audio_tokens': 0, 'cached_tokens': 0}}, 'model_name': 'gpt-5-nano-2025-08-07', 'system_fingerprint': None, 'id': 'chatcmpl-CPuQa4nSQ5payLRrGMj9185uMgbC1', 'service_tier': 'default', 'finish_reason': 'stop', 'logprobs': None}, id='run--dbdaa733-dad6-4cdd-85aa-1a411176a6d4-0', usage_metadata={'input_tokens': 181, 'output_tokens': 1420, 'total_tokens': 1601, 'input_token_details': {'audio': 0, 'cache_read': 0}, 'output_token_details': {'audio': 0, 'reasoning': 1280}})]"
      ]
     },
     "execution_count": 57,
     "metadata": {},
     "output_type": "execute_result"
    }
   ],
   "source": [
    "graph.get_state(config).values.get(\"messages\",\"\")"
   ]
  },
  {
   "cell_type": "code",
   "execution_count": 58,
   "id": "7396ee7e",
   "metadata": {},
   "outputs": [
    {
     "name": "stdout",
     "output_type": "stream",
     "text": [
      "==================================\u001b[1m Ai Message \u001b[0m==================================\n",
      "\n",
      "Short answer: yes — when Nick Bosa signed his extension in 2023, it made him the highest-paid defensive player in NFL history by both total value and average annual value.\n",
      "\n",
      "Details:\n",
      "- Contract: five-year, about $170 million\n",
      "- Average annual value (AAV): around $34 million per year\n",
      "- Fully guaranteed at signing: roughly $122.5 million\n",
      "\n",
      "Note: “highest paid” can mean total money, AAV, or guaranteed money. Since then, there could be new deals that change the rankings depending on which metric you care about. If you’d like, I can look up the current top defensive-player contracts to give you the latest standings. Also happy to chat about Nick Bosa’s strengths and how he impacts the 49ers' defense.\n"
     ]
    }
   ],
   "source": [
    "input_message = HumanMessage(content=\"i like Nick Bosa, isn't he the highest paid defensive player?\")\n",
    "output = graph.invoke({\"messages\": [input_message]}, config) \n",
    "for m in output['messages'][-1:]:\n",
    "    m.pretty_print()"
   ]
  },
  {
   "cell_type": "code",
   "execution_count": 59,
   "id": "fad4c4ae",
   "metadata": {},
   "outputs": [
    {
     "data": {
      "text/plain": [
       "{'messages': [HumanMessage(content=\"i like Nick Bosa, isn't he the highest paid defensive player?\", additional_kwargs={}, response_metadata={}, id='8b114464-f4b0-4280-bb65-3f771be8fa44'),\n",
       "  AIMessage(content=\"Short answer: yes — when Nick Bosa signed his extension in 2023, it made him the highest-paid defensive player in NFL history by both total value and average annual value.\\n\\nDetails:\\n- Contract: five-year, about $170 million\\n- Average annual value (AAV): around $34 million per year\\n- Fully guaranteed at signing: roughly $122.5 million\\n\\nNote: “highest paid” can mean total money, AAV, or guaranteed money. Since then, there could be new deals that change the rankings depending on which metric you care about. If you’d like, I can look up the current top defensive-player contracts to give you the latest standings. Also happy to chat about Nick Bosa’s strengths and how he impacts the 49ers' defense.\", additional_kwargs={'refusal': None}, response_metadata={'token_usage': {'completion_tokens': 1640, 'prompt_tokens': 336, 'total_tokens': 1976, 'completion_tokens_details': {'accepted_prediction_tokens': 0, 'audio_tokens': 0, 'reasoning_tokens': 1472, 'rejected_prediction_tokens': 0}, 'prompt_tokens_details': {'audio_tokens': 0, 'cached_tokens': 0}}, 'model_name': 'gpt-5-nano-2025-08-07', 'system_fingerprint': None, 'id': 'chatcmpl-CPuTuOY7wxNHTEfXnPP8qdFqREqGN', 'service_tier': 'default', 'finish_reason': 'stop', 'logprobs': None}, id='run--6170047e-9998-4d46-881a-afce487d6b16-0', usage_metadata={'input_tokens': 336, 'output_tokens': 1640, 'total_tokens': 1976, 'input_token_details': {'audio': 0, 'cache_read': 0}, 'output_token_details': {'audio': 0, 'reasoning': 1472}})],\n",
       " 'summary': 'Summary of our conversation so far:\\n\\n- You introduced yourself as Lance and asked for your name; I confirmed it and offered to tailor help.\\n- You mentioned you like the 49ers, and I offered several topic ideas (franchise history, notable players, current team info, etc.).\\n- You said you like Nick Bosa and asked if he’s the highest-paid defensive player.\\n- I responded: yes, when Bosa signed his 2023 extension he became the highest-paid defensive player in NFL history by total value and average annual value. Key details: five-year deal ~ $170 million; average annual value ~ $34 million; fully guaranteed at signing ~ $122.5 million. I also noted that “highest paid” can depend on the metric, and I offered to look up current top contracts or discuss Bosa’s strengths and impact.'}"
      ]
     },
     "execution_count": 59,
     "metadata": {},
     "output_type": "execute_result"
    }
   ],
   "source": [
    "output"
   ]
  },
  {
   "cell_type": "code",
   "execution_count": 61,
   "id": "6190e898",
   "metadata": {},
   "outputs": [
    {
     "data": {
      "text/plain": [
       "[HumanMessage(content=\"i like Nick Bosa, isn't he the highest paid defensive player?\", additional_kwargs={}, response_metadata={}, id='8b114464-f4b0-4280-bb65-3f771be8fa44'),\n",
       " AIMessage(content=\"Short answer: yes — when Nick Bosa signed his extension in 2023, it made him the highest-paid defensive player in NFL history by both total value and average annual value.\\n\\nDetails:\\n- Contract: five-year, about $170 million\\n- Average annual value (AAV): around $34 million per year\\n- Fully guaranteed at signing: roughly $122.5 million\\n\\nNote: “highest paid” can mean total money, AAV, or guaranteed money. Since then, there could be new deals that change the rankings depending on which metric you care about. If you’d like, I can look up the current top defensive-player contracts to give you the latest standings. Also happy to chat about Nick Bosa’s strengths and how he impacts the 49ers' defense.\", additional_kwargs={'refusal': None}, response_metadata={'token_usage': {'completion_tokens': 1640, 'prompt_tokens': 336, 'total_tokens': 1976, 'completion_tokens_details': {'accepted_prediction_tokens': 0, 'audio_tokens': 0, 'reasoning_tokens': 1472, 'rejected_prediction_tokens': 0}, 'prompt_tokens_details': {'audio_tokens': 0, 'cached_tokens': 0}}, 'model_name': 'gpt-5-nano-2025-08-07', 'system_fingerprint': None, 'id': 'chatcmpl-CPuTuOY7wxNHTEfXnPP8qdFqREqGN', 'service_tier': 'default', 'finish_reason': 'stop', 'logprobs': None}, id='run--6170047e-9998-4d46-881a-afce487d6b16-0', usage_metadata={'input_tokens': 336, 'output_tokens': 1640, 'total_tokens': 1976, 'input_token_details': {'audio': 0, 'cache_read': 0}, 'output_token_details': {'audio': 0, 'reasoning': 1472}})]"
      ]
     },
     "execution_count": 61,
     "metadata": {},
     "output_type": "execute_result"
    }
   ],
   "source": [
    "graph.get_state(config).values.get(\"messages\",\"\")"
   ]
  },
  {
   "cell_type": "code",
   "execution_count": 62,
   "id": "9b2f2576",
   "metadata": {},
   "outputs": [
    {
     "data": {
      "text/plain": [
       "'Summary of our conversation so far:\\n\\n- You introduced yourself as Lance and asked for your name; I confirmed it and offered to tailor help.\\n- You mentioned you like the 49ers, and I offered several topic ideas (franchise history, notable players, current team info, etc.).\\n- You said you like Nick Bosa and asked if he’s the highest-paid defensive player.\\n- I responded: yes, when Bosa signed his 2023 extension he became the highest-paid defensive player in NFL history by total value and average annual value. Key details: five-year deal ~ $170 million; average annual value ~ $34 million; fully guaranteed at signing ~ $122.5 million. I also noted that “highest paid” can depend on the metric, and I offered to look up current top contracts or discuss Bosa’s strengths and impact.'"
      ]
     },
     "execution_count": 62,
     "metadata": {},
     "output_type": "execute_result"
    }
   ],
   "source": [
    "graph.get_state(config).values.get(\"summary\",\"\")"
   ]
  },
  {
   "cell_type": "code",
   "execution_count": 63,
   "id": "6f471a65",
   "metadata": {},
   "outputs": [
    {
     "name": "stdout",
     "output_type": "stream",
     "text": [
      "==================================\u001b[1m Ai Message \u001b[0m==================================\n",
      "\n",
      "Short answer: it depends on what you want your name to be.\n",
      "\n",
      "- If your name is Lance (or you prefer to go by Lance) and you told Rita that, then yes—she’s correct to call you Lance.\n",
      "- If your name isn’t Lance or you don’t want to be called Lance, then it’s just a mismatch and you can gently correct her.\n",
      "\n",
      "If you want, here are quick lines you can use:\n",
      "- “Hi Rita, I actually go by Lance. Please call me Lance from now on.”\n",
      "- “Hi Rita, my name is [Your Real Name], I go by [Your Preferred Name]. Could you call me that?”\n",
      "\n",
      "Want me to tailor a short message you can send her? Also, tell me what name you want to be used.\n"
     ]
    }
   ],
   "source": [
    "input_message = HumanMessage(content=\"Rita came to my house yesterday. She called me as Lance. Is she right?\")\n",
    "output = graph.invoke({\"messages\": [input_message]}, config) \n",
    "for m in output['messages'][-1:]:\n",
    "    m.pretty_print()"
   ]
  },
  {
   "cell_type": "code",
   "execution_count": 66,
   "id": "21cde762",
   "metadata": {},
   "outputs": [
    {
     "name": "stdout",
     "output_type": "stream",
     "text": [
      "Summary of our conversation so far:\n",
      "\n",
      "- You introduced yourself as Lance and asked for your name; I confirmed it and offered to tailor help.\n",
      "- You mentioned you like the 49ers, and I offered several topic ideas (franchise history, notable players, current team info, etc.).\n",
      "- You said you like Nick Bosa and asked if he’s the highest-paid defensive player.\n",
      "- I responded: yes, when Bosa signed his 2023 extension he became the highest-paid defensive player in NFL history by total value and average annual value. Key details: five-year deal ~ $170 million; average annual value ~ $34 million; fully guaranteed at signing ~ $122.5 million. I also noted that “highest paid” can depend on the metric, and I offered to look up current top contracts or discuss Bosa’s strengths and impact.\n"
     ]
    }
   ],
   "source": [
    "print(output[\"summary\"])"
   ]
  },
  {
   "cell_type": "code",
   "execution_count": 67,
   "id": "19cccea4",
   "metadata": {},
   "outputs": [
    {
     "name": "stdout",
     "output_type": "stream",
     "text": [
      "==================================\u001b[1m Ai Message \u001b[0m==================================\n",
      "\n",
      "Yes. In your earlier message you said you like Nick Bosa and you’re a 49ers fan. If you want, I can break down what you might like about his game, his best seasons, current stats, or how he impacts the 49ers’ defense. Want a quick highlights summary or a side-by-side with other top edge rushers?\n"
     ]
    }
   ],
   "source": [
    "input_message = HumanMessage(content=\"Do I like Nick Bosa?\")\n",
    "output = graph.invoke({\"messages\": [input_message]}, config) \n",
    "for m in output['messages'][-1:]:\n",
    "    m.pretty_print()"
   ]
  },
  {
   "cell_type": "code",
   "execution_count": 70,
   "id": "373179a9",
   "metadata": {},
   "outputs": [
    {
     "name": "stdout",
     "output_type": "stream",
     "text": [
      "[HumanMessage(content=\"i like Nick Bosa, isn't he the highest paid defensive player?\", additional_kwargs={}, response_metadata={}, id='8b114464-f4b0-4280-bb65-3f771be8fa44'), AIMessage(content=\"Short answer: yes — when Nick Bosa signed his extension in 2023, it made him the highest-paid defensive player in NFL history by both total value and average annual value.\\n\\nDetails:\\n- Contract: five-year, about $170 million\\n- Average annual value (AAV): around $34 million per year\\n- Fully guaranteed at signing: roughly $122.5 million\\n\\nNote: “highest paid” can mean total money, AAV, or guaranteed money. Since then, there could be new deals that change the rankings depending on which metric you care about. If you’d like, I can look up the current top defensive-player contracts to give you the latest standings. Also happy to chat about Nick Bosa’s strengths and how he impacts the 49ers' defense.\", additional_kwargs={'refusal': None}, response_metadata={'token_usage': {'completion_tokens': 1640, 'prompt_tokens': 336, 'total_tokens': 1976, 'completion_tokens_details': {'accepted_prediction_tokens': 0, 'audio_tokens': 0, 'reasoning_tokens': 1472, 'rejected_prediction_tokens': 0}, 'prompt_tokens_details': {'audio_tokens': 0, 'cached_tokens': 0}}, 'model_name': 'gpt-5-nano-2025-08-07', 'system_fingerprint': None, 'id': 'chatcmpl-CPuTuOY7wxNHTEfXnPP8qdFqREqGN', 'service_tier': 'default', 'finish_reason': 'stop', 'logprobs': None}, id='run--6170047e-9998-4d46-881a-afce487d6b16-0', usage_metadata={'input_tokens': 336, 'output_tokens': 1640, 'total_tokens': 1976, 'input_token_details': {'audio': 0, 'cache_read': 0}, 'output_token_details': {'audio': 0, 'reasoning': 1472}}), HumanMessage(content='Rita came to my house yesterday. She called me as Lance. Is she right?', additional_kwargs={}, response_metadata={}, id='010958d7-ff47-45ec-ae50-23ad9d60d55d'), AIMessage(content='Short answer: it depends on what you want your name to be.\\n\\n- If your name is Lance (or you prefer to go by Lance) and you told Rita that, then yes—she’s correct to call you Lance.\\n- If your name isn’t Lance or you don’t want to be called Lance, then it’s just a mismatch and you can gently correct her.\\n\\nIf you want, here are quick lines you can use:\\n- “Hi Rita, I actually go by Lance. Please call me Lance from now on.”\\n- “Hi Rita, my name is [Your Real Name], I go by [Your Preferred Name]. Could you call me that?”\\n\\nWant me to tailor a short message you can send her? Also, tell me what name you want to be used.', additional_kwargs={'refusal': None}, response_metadata={'token_usage': {'completion_tokens': 1511, 'prompt_tokens': 388, 'total_tokens': 1899, 'completion_tokens_details': {'accepted_prediction_tokens': 0, 'audio_tokens': 0, 'reasoning_tokens': 1344, 'rejected_prediction_tokens': 0}, 'prompt_tokens_details': {'audio_tokens': 0, 'cached_tokens': 0}}, 'model_name': 'gpt-5-nano-2025-08-07', 'system_fingerprint': None, 'id': 'chatcmpl-CPuaJTuYOHaEdKf2kEnxq6KTgSHMw', 'service_tier': 'default', 'finish_reason': 'stop', 'logprobs': None}, id='run--eb4d04e8-8320-4f3c-8b2d-08949c968e7d-0', usage_metadata={'input_tokens': 388, 'output_tokens': 1511, 'total_tokens': 1899, 'input_token_details': {'audio': 0, 'cache_read': 0}, 'output_token_details': {'audio': 0, 'reasoning': 1344}}), HumanMessage(content='Do I like Nick Bosa?', additional_kwargs={}, response_metadata={}, id='5b1b7af6-8082-4b88-ae61-637dd6f5c284'), AIMessage(content='Yes. In your earlier message you said you like Nick Bosa and you’re a 49ers fan. If you want, I can break down what you might like about his game, his best seasons, current stats, or how he impacts the 49ers’ defense. Want a quick highlights summary or a side-by-side with other top edge rushers?', additional_kwargs={'refusal': None}, response_metadata={'token_usage': {'completion_tokens': 594, 'prompt_tokens': 563, 'total_tokens': 1157, 'completion_tokens_details': {'accepted_prediction_tokens': 0, 'audio_tokens': 0, 'reasoning_tokens': 512, 'rejected_prediction_tokens': 0}, 'prompt_tokens_details': {'audio_tokens': 0, 'cached_tokens': 0}}, 'model_name': 'gpt-5-nano-2025-08-07', 'system_fingerprint': None, 'id': 'chatcmpl-CPuegZtwtQtRvLjrxBxW0WFWdsp9C', 'service_tier': 'default', 'finish_reason': 'stop', 'logprobs': None}, id='run--08315af1-7f28-4692-a9e5-7386ff1c8cf7-0', usage_metadata={'input_tokens': 563, 'output_tokens': 594, 'total_tokens': 1157, 'input_token_details': {'audio': 0, 'cache_read': 0}, 'output_token_details': {'audio': 0, 'reasoning': 512}})]\n"
     ]
    }
   ],
   "source": [
    "print(output[\"messages\"])"
   ]
  },
  {
   "cell_type": "code",
   "execution_count": 71,
   "id": "621e4a85",
   "metadata": {},
   "outputs": [
    {
     "data": {
      "text/plain": [
       "[HumanMessage(content=\"i like Nick Bosa, isn't he the highest paid defensive player?\", additional_kwargs={}, response_metadata={}, id='8b114464-f4b0-4280-bb65-3f771be8fa44'),\n",
       " AIMessage(content=\"Short answer: yes — when Nick Bosa signed his extension in 2023, it made him the highest-paid defensive player in NFL history by both total value and average annual value.\\n\\nDetails:\\n- Contract: five-year, about $170 million\\n- Average annual value (AAV): around $34 million per year\\n- Fully guaranteed at signing: roughly $122.5 million\\n\\nNote: “highest paid” can mean total money, AAV, or guaranteed money. Since then, there could be new deals that change the rankings depending on which metric you care about. If you’d like, I can look up the current top defensive-player contracts to give you the latest standings. Also happy to chat about Nick Bosa’s strengths and how he impacts the 49ers' defense.\", additional_kwargs={'refusal': None}, response_metadata={'token_usage': {'completion_tokens': 1640, 'prompt_tokens': 336, 'total_tokens': 1976, 'completion_tokens_details': {'accepted_prediction_tokens': 0, 'audio_tokens': 0, 'reasoning_tokens': 1472, 'rejected_prediction_tokens': 0}, 'prompt_tokens_details': {'audio_tokens': 0, 'cached_tokens': 0}}, 'model_name': 'gpt-5-nano-2025-08-07', 'system_fingerprint': None, 'id': 'chatcmpl-CPuTuOY7wxNHTEfXnPP8qdFqREqGN', 'service_tier': 'default', 'finish_reason': 'stop', 'logprobs': None}, id='run--6170047e-9998-4d46-881a-afce487d6b16-0', usage_metadata={'input_tokens': 336, 'output_tokens': 1640, 'total_tokens': 1976, 'input_token_details': {'audio': 0, 'cache_read': 0}, 'output_token_details': {'audio': 0, 'reasoning': 1472}}),\n",
       " HumanMessage(content='Rita came to my house yesterday. She called me as Lance. Is she right?', additional_kwargs={}, response_metadata={}, id='010958d7-ff47-45ec-ae50-23ad9d60d55d'),\n",
       " AIMessage(content='Short answer: it depends on what you want your name to be.\\n\\n- If your name is Lance (or you prefer to go by Lance) and you told Rita that, then yes—she’s correct to call you Lance.\\n- If your name isn’t Lance or you don’t want to be called Lance, then it’s just a mismatch and you can gently correct her.\\n\\nIf you want, here are quick lines you can use:\\n- “Hi Rita, I actually go by Lance. Please call me Lance from now on.”\\n- “Hi Rita, my name is [Your Real Name], I go by [Your Preferred Name]. Could you call me that?”\\n\\nWant me to tailor a short message you can send her? Also, tell me what name you want to be used.', additional_kwargs={'refusal': None}, response_metadata={'token_usage': {'completion_tokens': 1511, 'prompt_tokens': 388, 'total_tokens': 1899, 'completion_tokens_details': {'accepted_prediction_tokens': 0, 'audio_tokens': 0, 'reasoning_tokens': 1344, 'rejected_prediction_tokens': 0}, 'prompt_tokens_details': {'audio_tokens': 0, 'cached_tokens': 0}}, 'model_name': 'gpt-5-nano-2025-08-07', 'system_fingerprint': None, 'id': 'chatcmpl-CPuaJTuYOHaEdKf2kEnxq6KTgSHMw', 'service_tier': 'default', 'finish_reason': 'stop', 'logprobs': None}, id='run--eb4d04e8-8320-4f3c-8b2d-08949c968e7d-0', usage_metadata={'input_tokens': 388, 'output_tokens': 1511, 'total_tokens': 1899, 'input_token_details': {'audio': 0, 'cache_read': 0}, 'output_token_details': {'audio': 0, 'reasoning': 1344}}),\n",
       " HumanMessage(content='Do I like Nick Bosa?', additional_kwargs={}, response_metadata={}, id='5b1b7af6-8082-4b88-ae61-637dd6f5c284'),\n",
       " AIMessage(content='Yes. In your earlier message you said you like Nick Bosa and you’re a 49ers fan. If you want, I can break down what you might like about his game, his best seasons, current stats, or how he impacts the 49ers’ defense. Want a quick highlights summary or a side-by-side with other top edge rushers?', additional_kwargs={'refusal': None}, response_metadata={'token_usage': {'completion_tokens': 594, 'prompt_tokens': 563, 'total_tokens': 1157, 'completion_tokens_details': {'accepted_prediction_tokens': 0, 'audio_tokens': 0, 'reasoning_tokens': 512, 'rejected_prediction_tokens': 0}, 'prompt_tokens_details': {'audio_tokens': 0, 'cached_tokens': 0}}, 'model_name': 'gpt-5-nano-2025-08-07', 'system_fingerprint': None, 'id': 'chatcmpl-CPuegZtwtQtRvLjrxBxW0WFWdsp9C', 'service_tier': 'default', 'finish_reason': 'stop', 'logprobs': None}, id='run--08315af1-7f28-4692-a9e5-7386ff1c8cf7-0', usage_metadata={'input_tokens': 563, 'output_tokens': 594, 'total_tokens': 1157, 'input_token_details': {'audio': 0, 'cache_read': 0}, 'output_token_details': {'audio': 0, 'reasoning': 512}})]"
      ]
     },
     "execution_count": 71,
     "metadata": {},
     "output_type": "execute_result"
    }
   ],
   "source": [
    "graph.get_state(config).values.get(\"messages\",\"\")"
   ]
  },
  {
   "cell_type": "code",
   "execution_count": 72,
   "id": "d3178522",
   "metadata": {},
   "outputs": [
    {
     "name": "stdout",
     "output_type": "stream",
     "text": [
      "==================================\u001b[1m Ai Message \u001b[0m==================================\n",
      "\n",
      "I can’t set real-time reminders myself, but I can help you set one up and give you ready-to-use text.\n",
      "\n",
      "Tell me:\n",
      "- What time tomorrow you plan to go to the park?\n",
      "- Which device/app you use for reminders (iPhone Reminders, Google Calendar, Android, etc.)?\n",
      "- Do you want multiple reminders (e.g., the night before and 30 minutes before) or just one?\n",
      "\n",
      "In the meantime, here are ready-to-use templates you can copy-paste into your app:\n",
      "\n",
      "Simple one-time reminder\n",
      "- “Park tomorrow at [time]. Pack water, sunscreen, hat, and phone. Leave by [leave time].”\n",
      "\n",
      "Two reminders (night before + 30 minutes before)\n",
      "- Night before: “Park tomorrow at [time]. Leave by [leave time]. Pack water, sunscreen, hat.”\n",
      "- 30 minutes before: “Time to head to the park. Don’t forget water and sunscreen.”\n",
      "\n",
      "If you’re going at 5:00 PM and leaving by 4:30 PM, with a basic checklist\n",
      "- Reminder 1: “Park tomorrow at 5:00 PM. Leave by 4:30 PM. Pack water, sunscreen, hat, sunglasses.”\n",
      "- Reminder 2 (30 minutes before): “Head to the park now. Pack water and sunscreen.”\n",
      "\n",
      "Helpful checklist to pair with reminders\n",
      "- Water bottle (1–2 liters)\n",
      "- Sunscreen and hat\n",
      "- Comfortable shoes\n",
      "- Sunglasses\n",
      "- Phone, charger/portable battery\n",
      "- Snack\n",
      "- Towel or blanket (optional)\n",
      "\n",
      "Want me to tailor one now? Tell me your planned time and which reminder app you’ll use.\n"
     ]
    }
   ],
   "source": [
    "input_message = HumanMessage(content=\"Tomorrow I will go to the park. Please remind me.\")\n",
    "output = graph.invoke({\"messages\": [input_message]}, config) \n",
    "for m in output['messages'][-1:]:\n",
    "    m.pretty_print()"
   ]
  },
  {
   "cell_type": "code",
   "execution_count": 75,
   "id": "10fecead",
   "metadata": {},
   "outputs": [
    {
     "name": "stdout",
     "output_type": "stream",
     "text": [
      "Extended summary of our conversation so far:\n",
      "\n",
      "- You introduced yourself as Lance and asked for help with your name; I confirmed and offered to tailor assistance to your preferred name.\n",
      "- You mentioned you like the 49ers, and I offered topic ideas related to Nick Bosa, the team’s history, current players, etc.\n",
      "- You asked if Nick Bosa is the highest-paid defensive player; I answered yes at the time of his 2023 extension, providing contract details (five-year, ~$170M; AAV ~$34M; fully guaranteed at signing ~$122.5M) and noted that rankings depend on the metric. I also offered to look up current standings and discuss his strengths and impact.\n",
      "- You asked about Rita calling you Lance after she visited yesterday; I explained naming conventions: if you go by Lance, she’s correct to call you that, and I provided sample lines to correct her if needed.\n",
      "- You asked again whether you like Nick Bosa; I confirmed you do (you’re a 49ers fan) and offered to break down his game, best seasons, current stats, and how he impacts the defense, or compare him to other top edge rushers.\n",
      "- You asked for reminders for tomorrow’s park visit; I explained I can’t set real-time reminders but offered to help you set them up and provided ready-to-use templates and a checklist, and asked for the time, device/app, and whether you want multiple reminders to tailor the message.\n"
     ]
    }
   ],
   "source": [
    "print(output['summary'])"
   ]
  },
  {
   "cell_type": "code",
   "execution_count": 77,
   "id": "7b511468",
   "metadata": {},
   "outputs": [
    {
     "data": {
      "text/plain": [
       "[HumanMessage(content='Tomorrow I will go to the park. Please remind me.', additional_kwargs={}, response_metadata={}, id='fa9bff74-6d74-4b6e-96e0-69a23a88a71e'),\n",
       " AIMessage(content='I can’t set real-time reminders myself, but I can help you set one up and give you ready-to-use text.\\n\\nTell me:\\n- What time tomorrow you plan to go to the park?\\n- Which device/app you use for reminders (iPhone Reminders, Google Calendar, Android, etc.)?\\n- Do you want multiple reminders (e.g., the night before and 30 minutes before) or just one?\\n\\nIn the meantime, here are ready-to-use templates you can copy-paste into your app:\\n\\nSimple one-time reminder\\n- “Park tomorrow at [time]. Pack water, sunscreen, hat, and phone. Leave by [leave time].”\\n\\nTwo reminders (night before + 30 minutes before)\\n- Night before: “Park tomorrow at [time]. Leave by [leave time]. Pack water, sunscreen, hat.”\\n- 30 minutes before: “Time to head to the park. Don’t forget water and sunscreen.”\\n\\nIf you’re going at 5:00 PM and leaving by 4:30 PM, with a basic checklist\\n- Reminder 1: “Park tomorrow at 5:00 PM. Leave by 4:30 PM. Pack water, sunscreen, hat, sunglasses.”\\n- Reminder 2 (30 minutes before): “Head to the park now. Pack water and sunscreen.”\\n\\nHelpful checklist to pair with reminders\\n- Water bottle (1–2 liters)\\n- Sunscreen and hat\\n- Comfortable shoes\\n- Sunglasses\\n- Phone, charger/portable battery\\n- Snack\\n- Towel or blanket (optional)\\n\\nWant me to tailor one now? Tell me your planned time and which reminder app you’ll use.', additional_kwargs={'refusal': None}, response_metadata={'token_usage': {'completion_tokens': 1497, 'prompt_tokens': 658, 'total_tokens': 2155, 'completion_tokens_details': {'accepted_prediction_tokens': 0, 'audio_tokens': 0, 'reasoning_tokens': 1152, 'rejected_prediction_tokens': 0}, 'prompt_tokens_details': {'audio_tokens': 0, 'cached_tokens': 0}}, 'model_name': 'gpt-5-nano-2025-08-07', 'system_fingerprint': None, 'id': 'chatcmpl-CPuggrWMKd59BRwHMvpnSqy6TBGcY', 'service_tier': 'default', 'finish_reason': 'stop', 'logprobs': None}, id='run--7941477e-8c1d-4a8b-aeaf-7444431ba590-0', usage_metadata={'input_tokens': 658, 'output_tokens': 1497, 'total_tokens': 2155, 'input_token_details': {'audio': 0, 'cache_read': 0}, 'output_token_details': {'audio': 0, 'reasoning': 1152}})]"
      ]
     },
     "execution_count": 77,
     "metadata": {},
     "output_type": "execute_result"
    }
   ],
   "source": [
    "graph.get_state(config).values.get(\"messages\",\"\")"
   ]
  },
  {
   "cell_type": "code",
   "execution_count": null,
   "id": "3d507803",
   "metadata": {},
   "outputs": [],
   "source": []
  }
 ],
 "metadata": {
  "kernelspec": {
   "display_name": ".venv",
   "language": "python",
   "name": "python3"
  },
  "language_info": {
   "codemirror_mode": {
    "name": "ipython",
    "version": 3
   },
   "file_extension": ".py",
   "mimetype": "text/x-python",
   "name": "python",
   "nbconvert_exporter": "python",
   "pygments_lexer": "ipython3",
   "version": "3.13.8"
  }
 },
 "nbformat": 4,
 "nbformat_minor": 5
}
