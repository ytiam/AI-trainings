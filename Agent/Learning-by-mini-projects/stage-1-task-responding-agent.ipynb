{
 "cells": [
  {
   "cell_type": "markdown",
   "id": "3b0229f1",
   "metadata": {},
   "source": [
    "Let’s begin Stage 1: The Core Agent Node — our foundation for understanding how LangGraph executes agent logic."
   ]
  },
  {
   "cell_type": "markdown",
   "id": "9e6da47e",
   "metadata": {},
   "source": [
    "Stage 1: The Core Agent Node — Your First LangGraph Agent\n",
    "\n",
    "🎯 Goal\n",
    "\n",
    "- Build a minimal LangGraph agent that:\n",
    "\n",
    "- Takes a user query (e.g., “Explain transformers in one line”)\n",
    "\n",
    "- Uses an LLM to respond\n",
    "\n",
    "- Passes messages through a state graph (no tools, no memory yet)\n",
    "\n",
    "🧠 Concepts Introduced\n",
    "\n",
    "- StateGraph: defines the overall workflow (nodes + edges)\n",
    "\n",
    "- State: carries messages or intermediate data between nodes\n",
    "\n",
    "- Node function: acts as an “agent brain” — it receives the state and returns updates\n",
    "\n",
    "- Graph execution: LangGraph runs your defined graph (with or without streaming)"
   ]
  },
  {
   "cell_type": "code",
   "execution_count": 5,
   "id": "4923e997",
   "metadata": {},
   "outputs": [
    {
     "data": {
      "text/plain": [
       "True"
      ]
     },
     "execution_count": 5,
     "metadata": {},
     "output_type": "execute_result"
    }
   ],
   "source": [
    "from dotenv import load_dotenv\n",
    "from langgraph.graph import StateGraph, MessagesState, END\n",
    "from langchain_openai import ChatOpenAI\n",
    "load_dotenv(\"../../config/local.env\")"
   ]
  },
  {
   "cell_type": "code",
   "execution_count": 6,
   "id": "ea01278b",
   "metadata": {},
   "outputs": [],
   "source": [
    "# 1️⃣ Define the LLM\n",
    "llm = ChatOpenAI(model=\"gpt-4o-mini\")"
   ]
  },
  {
   "cell_type": "code",
   "execution_count": 7,
   "id": "c3cce570",
   "metadata": {},
   "outputs": [],
   "source": [
    "\n",
    "# 2️⃣ Define the agent node (a function that processes state)\n",
    "def agent_node(state: MessagesState):\n",
    "    user_message = state[\"messages\"][-1].content\n",
    "    print(f\"🧠 Agent received: {user_message}\")\n",
    "    \n",
    "    # Get LLM response\n",
    "    response = llm.invoke(user_message)\n",
    "    \n",
    "    # Return updated state\n",
    "    return {\"messages\": state[\"messages\"] + [response]}\n"
   ]
  },
  {
   "cell_type": "code",
   "execution_count": 8,
   "id": "382e28b0",
   "metadata": {},
   "outputs": [
    {
     "name": "stdout",
     "output_type": "stream",
     "text": [
      "🧠 Agent received: Explain transformers in one line\n"
     ]
    }
   ],
   "source": [
    "\n",
    "# 3️⃣ Build the graph\n",
    "builder = StateGraph(MessagesState)\n",
    "builder.add_node(\"agent\", agent_node)\n",
    "builder.set_entry_point(\"agent\")   # where execution starts\n",
    "builder.add_edge(\"agent\", END)     # no next node, ends here\n",
    "\n",
    "# 4️⃣ Compile the graph\n",
    "graph = builder.compile()\n",
    "\n",
    "# 5️⃣ Run the agent\n",
    "result = graph.invoke({\"messages\": [{\"role\": \"user\", \"content\": \"Explain transformers in one line\"}]})\n"
   ]
  },
  {
   "cell_type": "code",
   "execution_count": 9,
   "id": "a42e5382",
   "metadata": {},
   "outputs": [
    {
     "name": "stdout",
     "output_type": "stream",
     "text": [
      "🤖 Agent says: Transformers are a type of neural network architecture designed for processing sequential data, using self-attention mechanisms to weigh the importance of different elements in the input sequence.\n"
     ]
    }
   ],
   "source": [
    "\n",
    "# 6️⃣ Print output\n",
    "print(\"🤖 Agent says:\", result[\"messages\"][-1].content)\n"
   ]
  },
  {
   "cell_type": "markdown",
   "id": "d4482e2c",
   "metadata": {},
   "source": [
    "### Explanation\n",
    "\n",
    "- MessagesState is a pre-defined state type in LangGraph for chat-based messages.\n",
    "\n",
    "- The function agent_node acts like a thinking unit — it reads from state, processes, and updates it.\n",
    "\n",
    "- StateGraph defines your workflow topology — here, a single node.\n",
    "\n",
    "- .invoke() executes the workflow once. Later, we’ll add .stream() for real-time updates."
   ]
  }
 ],
 "metadata": {
  "kernelspec": {
   "display_name": ".venv",
   "language": "python",
   "name": "python3"
  },
  "language_info": {
   "codemirror_mode": {
    "name": "ipython",
    "version": 3
   },
   "file_extension": ".py",
   "mimetype": "text/x-python",
   "name": "python",
   "nbconvert_exporter": "python",
   "pygments_lexer": "ipython3",
   "version": "3.13.9"
  }
 },
 "nbformat": 4,
 "nbformat_minor": 5
}
