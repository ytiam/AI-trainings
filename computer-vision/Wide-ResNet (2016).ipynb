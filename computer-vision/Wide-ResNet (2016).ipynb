{
 "cells": [
  {
   "cell_type": "markdown",
   "id": "14035d68",
   "metadata": {},
   "source": [
    "**Motivation**: Wider instead of deeper network"
   ]
  },
  {
   "cell_type": "markdown",
   "id": "497f651d",
   "metadata": {},
   "source": [
    "Another Resnet variant. Will study later.\n",
    "Links:\n",
    "- https://github.com/szagoruyko/wide-residual-networks\n",
    "- https://github.com/xternalz/WideResNet-pytorch?tab=readme-ov-file"
   ]
  },
  {
   "cell_type": "code",
   "execution_count": null,
   "id": "04cafd17",
   "metadata": {},
   "outputs": [],
   "source": []
  }
 ],
 "metadata": {
  "kernelspec": {
   "display_name": "Python 3 (ipykernel)",
   "language": "python",
   "name": "python3"
  },
  "language_info": {
   "codemirror_mode": {
    "name": "ipython",
    "version": 3
   },
   "file_extension": ".py",
   "mimetype": "text/x-python",
   "name": "python",
   "nbconvert_exporter": "python",
   "pygments_lexer": "ipython3",
   "version": "3.10.11"
  }
 },
 "nbformat": 4,
 "nbformat_minor": 5
}
