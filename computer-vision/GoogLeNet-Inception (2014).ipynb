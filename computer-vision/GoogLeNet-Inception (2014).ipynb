{
 "cells": [
  {
   "cell_type": "markdown",
   "id": "532fd0fc",
   "metadata": {},
   "source": [
    "Motivation: Make networks deeper without huge parameter growth.\n",
    "\n",
    "Used Inception modules (parallel convs of different sizes).\n",
    "\n",
    "Limitation: Complex design, handcrafted modules."
   ]
  },
  {
   "cell_type": "markdown",
   "id": "3364c968",
   "metadata": {},
   "source": [
    "the naming of **InceptionNet** (a.k.a. GoogLeNet) actually has a fun story.\n",
    "\n",
    "---\n",
    "\n",
    "### 🔹 Why \"Inception\"?\n",
    "\n",
    "* In 2010, the movie **Inception** (directed by Christopher Nolan) came out, famous for the line: *“We need to go deeper.”*\n",
    "* The GoogLeNet team (Szegedy et al., 2014) was building a very **deep network**, much deeper than AlexNet and VGG.\n",
    "* So they named their architecture **Inception** as a playful reference to that movie quote.\n",
    "\n",
    "---\n",
    "\n",
    "### 🔹 Why GoogLeNet (with an extra \"o\")?\n",
    "\n",
    "* It was also a tribute to **LeNet-5** (the CNN by Yann LeCun in the 1990s).\n",
    "* Since the team was from Google, they called it **GoogLeNet** (instead of InceptionNet) to echo LeNet while branding it.\n",
    "* That’s why in papers, you’ll often see *“Inception (GoogLeNet)”*.\n",
    "\n",
    "---\n",
    "\n",
    "✅ So:\n",
    "\n",
    "* **“Inception”** → from the movie, hinting at *going deeper*.\n",
    "* **“GoogLeNet”** → homage to LeNet, with Google’s twist.\n",
    "\n",
    "---\n",
    "\n",
    "Do you also want me to explain how the **Inception module itself** embodies the idea of “inception” (multiple scales nested inside one block — like a network within a network)? That’s another neat angle.\n"
   ]
  },
  {
   "cell_type": "code",
   "execution_count": 1,
   "id": "3058ffdb",
   "metadata": {},
   "outputs": [],
   "source": [
    "import matplotlib.pyplot as plt\n",
    "import torch.nn.functional as F\n",
    "from torchvision import datasets\n",
    "from torchvision import transforms\n",
    "from torch.utils.data import DataLoader\n",
    "import torch\n",
    "from sklearn.metrics import accuracy_score"
   ]
  },
  {
   "cell_type": "code",
   "execution_count": 2,
   "id": "53efbc8b",
   "metadata": {},
   "outputs": [],
   "source": [
    "BATCH_SIZE = 64\n",
    "NUM_EPOCHS = 50\n",
    "LEARNING_RATE = 0.001\n",
    "NUM_WORKERS = 4\n",
    "best_val_loss = 1e9"
   ]
  },
  {
   "cell_type": "code",
   "execution_count": null,
   "id": "c3240652",
   "metadata": {},
   "outputs": [],
   "source": []
  },
  {
   "cell_type": "code",
   "execution_count": 3,
   "id": "1c98cd35",
   "metadata": {},
   "outputs": [
    {
     "name": "stdout",
     "output_type": "stream",
     "text": [
      "Files already downloaded and verified\n"
     ]
    }
   ],
   "source": [
    "train_dataset = datasets.CIFAR10(root='../data', \n",
    "                                 train=True, \n",
    "                                 transform=transforms.ToTensor(),\n",
    "                                 download=True)\n",
    "\n",
    "train_loader = DataLoader(dataset=train_dataset, \n",
    "                          batch_size=BATCH_SIZE, \n",
    "                          num_workers=NUM_WORKERS,\n",
    "                          drop_last=True,\n",
    "                          shuffle=True)\n",
    "\n",
    "test_dataset = datasets.CIFAR10(root='../data', \n",
    "                                train=False,\n",
    "                                transform=transforms.ToTensor())\n",
    "\n",
    "test_loader = DataLoader(dataset=test_dataset, \n",
    "                         batch_size=BATCH_SIZE,\n",
    "                         num_workers=NUM_WORKERS,\n",
    "                         drop_last=False,\n",
    "                         shuffle=False)\n",
    "\n",
    "# Checking the dataset\n",
    "all_train_labels = []\n",
    "all_test_labels = []\n",
    "\n",
    "for images, labels in train_loader:  \n",
    "    all_train_labels.append(labels)\n",
    "all_train_labels = torch.cat(all_train_labels)\n",
    "    \n",
    "for images, labels in test_loader:  \n",
    "    all_test_labels.append(labels)\n",
    "all_test_labels = torch.cat(all_test_labels)"
   ]
  },
  {
   "cell_type": "code",
   "execution_count": null,
   "id": "2015e6fa",
   "metadata": {},
   "outputs": [],
   "source": []
  },
  {
   "cell_type": "code",
   "execution_count": 4,
   "id": "e36d18c7",
   "metadata": {
    "scrolled": true
   },
   "outputs": [
    {
     "data": {
      "text/plain": [
       "<matplotlib.image.AxesImage at 0x7ff76467b9d0>"
      ]
     },
     "execution_count": 4,
     "metadata": {},
     "output_type": "execute_result"
    },
    {
     "data": {
      "image/png": "[encoded data removed]",
      "text/plain": [
       "<Figure size 640x480 with 1 Axes>"
      ]
     },
     "metadata": {},
     "output_type": "display_data"
    }
   ],
   "source": [
    "img = next(iter(train_loader))\n",
    "plt.imshow(img[0][1].reshape(32,32,3))"
   ]
  },
  {
   "cell_type": "code",
   "execution_count": null,
   "id": "58997e1d",
   "metadata": {},
   "outputs": [],
   "source": []
  },
  {
   "cell_type": "code",
   "execution_count": 5,
   "id": "2c261475",
   "metadata": {},
   "outputs": [
    {
     "name": "stdout",
     "output_type": "stream",
     "text": [
      "Baseline ACC: 10.00%\n"
     ]
    }
   ],
   "source": [
    "majority_prediction = torch.argmax(torch.bincount(all_test_labels))\n",
    "baseline_acc = torch.mean((all_test_labels == majority_prediction).float())\n",
    "print(f'Baseline ACC: {baseline_acc*100:.2f}%')"
   ]
  },
  {
   "cell_type": "code",
   "execution_count": null,
   "id": "1074c6e9",
   "metadata": {},
   "outputs": [],
   "source": []
  },
  {
   "cell_type": "code",
   "execution_count": 6,
   "id": "46eb6d5b",
   "metadata": {},
   "outputs": [
    {
     "name": "stderr",
     "output_type": "stream",
     "text": [
      "/opt/conda/lib/python3.10/site-packages/torch/cuda/__init__.py:107: UserWarning: CUDA initialization: CUDA unknown error - this may be due to an incorrectly set up environment, e.g. changing env variable CUDA_VISIBLE_DEVICES after program start. Setting the available devices to be zero. (Triggered internally at /opt/conda/conda-bld/pytorch_1682343967769/work/c10/cuda/CUDAFunctions.cpp:109.)\n",
      "  return torch._C._cuda_getDeviceCount() > 0\n"
     ]
    }
   ],
   "source": [
    "device = \"cuda\" if torch.cuda.is_available() else \"cpu\""
   ]
  },
  {
   "cell_type": "code",
   "execution_count": 7,
   "id": "0132ba15",
   "metadata": {},
   "outputs": [
    {
     "data": {
      "text/plain": [
       "'cpu'"
      ]
     },
     "execution_count": 7,
     "metadata": {},
     "output_type": "execute_result"
    }
   ],
   "source": [
    "device"
   ]
  },
  {
   "cell_type": "code",
   "execution_count": null,
   "id": "6159da86",
   "metadata": {},
   "outputs": [],
   "source": []
  },
  {
   "cell_type": "code",
   "execution_count": 89,
   "id": "161daca5",
   "metadata": {},
   "outputs": [],
   "source": [
    "# Let's Go Deeper!\n",
    "\n",
    "import torch\n",
    "from torch import nn\n",
    "import torch.nn.functional as F\n",
    "\n",
    "\n",
    "# Convolution -> Batch Norm -> Relu\n",
    "class ConvBlock(nn.Module):\n",
    "    def __init__(self, in_channels, out_channels, **kwargs):\n",
    "        super().__init__()\n",
    "        self.conv = nn.Conv2d(in_channels, out_channels, bias=False, **kwargs)\n",
    "        self.bn = nn.BatchNorm2d(out_channels, eps=.001)\n",
    "\n",
    "    def forward(self, x: torch.Tensor) -> torch.Tensor:\n",
    "        x = self.bn(self.conv(x))\n",
    "        return F.relu(x, inplace=True)\n",
    "    \n",
    "class ShapePrinter(nn.Module):\n",
    "    def __init__(self, name=\"\"):\n",
    "        super().__init__()\n",
    "        self.name = name\n",
    "\n",
    "    def forward(self, x):\n",
    "        print(f\"{self.name}: {x.shape}\")\n",
    "        return x\n",
    "\n",
    "\n",
    "class InceptionBlock(nn.Module):\n",
    "    def __init__(\n",
    "        self,\n",
    "        in_channels,\n",
    "        out_1x1,\n",
    "        outinception_3x3_reduced,\n",
    "        outinception_3x3,\n",
    "        outinception_5x5_reduced,\n",
    "        outinception_5x5,\n",
    "        out_pool\n",
    "    ):\n",
    "        super().__init__()\n",
    "\n",
    "        self.branch1 = ConvBlock(\n",
    "            in_channels, out_1x1, kernel_size=1, stride=1\n",
    "        )\n",
    "\n",
    "        self.branch2 = nn.Sequential(\n",
    "            ConvBlock(in_channels, outinception_3x3_reduced, kernel_size=1),\n",
    "            ConvBlock(outinception_3x3_reduced, outinception_3x3, kernel_size=3, padding=1),\n",
    "        )\n",
    "\n",
    "        # Is in the original googLeNet paper 5x5 conv but in Inception_v2 it has shown to be\n",
    "        # more efficient if you instead do two 3x3 convs which is what I am doing here!\n",
    "        self.branch3 = nn.Sequential(\n",
    "            ConvBlock(in_channels, outinception_5x5_reduced, kernel_size=1),\n",
    "            ConvBlock(outinception_5x5_reduced, outinception_5x5, kernel_size=5, padding=2),\n",
    "            ConvBlock(outinception_5x5, outinception_5x5, kernel_size=5, padding=2),\n",
    "        )\n",
    "\n",
    "        self.branch4 = nn.Sequential(\n",
    "            nn.MaxPool2d(kernel_size=3, stride=1, padding=1),\n",
    "            ConvBlock(in_channels, out_pool, kernel_size=1),\n",
    "        )\n",
    "\n",
    "    def forward(self, x: torch.Tensor)-> torch.Tensor:\n",
    "        y1 = self.branch1(x)\n",
    "        print(\"=====\\n\")\n",
    "        y2 = self.branch2(x)\n",
    "        print(\"=====\\n\")\n",
    "        y3 = self.branch3(x)\n",
    "        print(\"=====\\n\")\n",
    "        y4 = self.branch4(x)\n",
    "        print(\"=====\\n\")\n",
    "\n",
    "        return torch.cat([y1, y2, y3, y4], 1)\n",
    "\n",
    "\n",
    "class Inception(nn.Module):\n",
    "    def __init__(self, num_classes, grayscale=False):\n",
    "        super().__init__()\n",
    "        \n",
    "        self.grayscale = grayscale\n",
    "        self.num_classes = num_classes\n",
    "\n",
    "        if self.grayscale:\n",
    "            in_channels = 1\n",
    "        else:\n",
    "            in_channels = 3\n",
    "\n",
    "        self.first_layers = nn.Sequential(\n",
    "            ConvBlock(in_channels, 192, kernel_size=3, padding=1)\n",
    "        )\n",
    "\n",
    "        self.inception_3a = InceptionBlock(192, 64, 96, 128, 16, 32, 32)\n",
    "        self.inception_3b = InceptionBlock(256, 128, 128, 192, 32, 96, 64)\n",
    "\n",
    "        self.max_pool = nn.MaxPool2d(kernel_size=3, stride=2, padding=1)\n",
    "\n",
    "        self.inception_4a = InceptionBlock(480, 192, 96, 208, 16, 48, 64)\n",
    "        self.inception_4b = InceptionBlock(512, 160, 112, 224, 24, 64, 64)\n",
    "        self.inception_4c = InceptionBlock(512, 128, 128, 256, 24, 64, 64)\n",
    "        self.inception_4d = InceptionBlock(512, 112, 144, 288, 32, 64, 64)\n",
    "        self.inception_4e = InceptionBlock(528, 256, 160, 320, 32, 128, 128)\n",
    "\n",
    "        self.inception_5a = InceptionBlock(832, 256, 160, 320, 32, 128, 128)\n",
    "        self.inception_5b = InceptionBlock(832, 384, 192, 384, 48, 128, 128)\n",
    "\n",
    "        self.avg_pool = nn.AvgPool2d(kernel_size=8, stride=1)\n",
    "        self.fc = nn.Linear(1024, num_classes)\n",
    "\n",
    "    def forward(self, x: torch.Tensor) -> torch.Tensor:\n",
    "        out: torch.Tensor\n",
    "        out = self.first_layers(x)\n",
    "\n",
    "        out = self.inception_3a(out)\n",
    "        out = self.inception_3b(out)\n",
    "        out = self.max_pool(out)\n",
    "\n",
    "        out = self.inception_4a(out)\n",
    "        out = self.inception_4b(out)\n",
    "        out = self.inception_4c(out)\n",
    "        out = self.inception_4d(out)\n",
    "        out = self.inception_4e(out)\n",
    "        out = self.max_pool(out)\n",
    "\n",
    "        out = self.inception_5a(out)\n",
    "        out = self.inception_5b(out)\n",
    "\n",
    "        out = self.avg_pool(out)\n",
    "        out = out.view(out.size(0), -1)\n",
    "\n",
    "        return self.fc(out)"
   ]
  },
  {
   "cell_type": "markdown",
   "id": "265be482",
   "metadata": {},
   "source": [
    "#### Shape testing"
   ]
  },
  {
   "cell_type": "code",
   "execution_count": 93,
   "id": "63be01e5",
   "metadata": {},
   "outputs": [],
   "source": [
    "def attach_shape_hooks(model):\n",
    "    \"\"\"\n",
    "    Attaches forward hooks to all layers of a model \n",
    "    to print input/output shapes during a forward pass.\n",
    "    \"\"\"\n",
    "    def hook(module, inp, out):\n",
    "        # skip printing for containers (Sequential, ModuleList etc.)\n",
    "        if not isinstance(module, (nn.Sequential, nn.ModuleList)):\n",
    "            print(f\"{module.__class__.__name__:<20} \"\n",
    "                  f\"input: {tuple(inp[0].shape)} \"\n",
    "                  f\"output: {tuple(out.shape)}\")\n",
    "\n",
    "    hooks = []\n",
    "    for layer in model.modules():\n",
    "        hooks.append(layer.register_forward_hook(hook))\n",
    "    return hooks"
   ]
  },
  {
   "cell_type": "code",
   "execution_count": 90,
   "id": "e5980392",
   "metadata": {},
   "outputs": [],
   "source": [
    "test = nn.Sequential(ConvBlock(3, 192, kernel_size=3, padding=1))(img[0])"
   ]
  },
  {
   "cell_type": "code",
   "execution_count": 91,
   "id": "96976494",
   "metadata": {},
   "outputs": [
    {
     "data": {
      "text/plain": [
       "torch.Size([64, 192, 32, 32])"
      ]
     },
     "execution_count": 91,
     "metadata": {},
     "output_type": "execute_result"
    }
   ],
   "source": [
    "test.shape"
   ]
  },
  {
   "cell_type": "code",
   "execution_count": 92,
   "id": "4452ba3b",
   "metadata": {},
   "outputs": [],
   "source": [
    "inc = InceptionBlock(192, 66, 96, 126, 14, 30, 30)"
   ]
  },
  {
   "cell_type": "code",
   "execution_count": 94,
   "id": "7359ac47",
   "metadata": {},
   "outputs": [],
   "source": [
    "hooks = attach_shape_hooks(inc)"
   ]
  },
  {
   "cell_type": "code",
   "execution_count": 95,
   "id": "3fd58c14",
   "metadata": {},
   "outputs": [
    {
     "name": "stdout",
     "output_type": "stream",
     "text": [
      "Conv2d               input: (64, 192, 32, 32) output: (64, 66, 32, 32)\n",
      "BatchNorm2d          input: (64, 66, 32, 32) output: (64, 66, 32, 32)\n",
      "ConvBlock            input: (64, 192, 32, 32) output: (64, 66, 32, 32)\n",
      "=====\n",
      "\n",
      "Conv2d               input: (64, 192, 32, 32) output: (64, 96, 32, 32)\n",
      "BatchNorm2d          input: (64, 96, 32, 32) output: (64, 96, 32, 32)\n",
      "ConvBlock            input: (64, 192, 32, 32) output: (64, 96, 32, 32)\n",
      "Conv2d               input: (64, 96, 32, 32) output: (64, 126, 32, 32)\n",
      "BatchNorm2d          input: (64, 126, 32, 32) output: (64, 126, 32, 32)\n",
      "ConvBlock            input: (64, 96, 32, 32) output: (64, 126, 32, 32)\n",
      "=====\n",
      "\n",
      "Conv2d               input: (64, 192, 32, 32) output: (64, 14, 32, 32)\n",
      "BatchNorm2d          input: (64, 14, 32, 32) output: (64, 14, 32, 32)\n",
      "ConvBlock            input: (64, 192, 32, 32) output: (64, 14, 32, 32)\n",
      "Conv2d               input: (64, 14, 32, 32) output: (64, 30, 32, 32)\n",
      "BatchNorm2d          input: (64, 30, 32, 32) output: (64, 30, 32, 32)\n",
      "ConvBlock            input: (64, 14, 32, 32) output: (64, 30, 32, 32)\n",
      "Conv2d               input: (64, 30, 32, 32) output: (64, 30, 32, 32)\n",
      "BatchNorm2d          input: (64, 30, 32, 32) output: (64, 30, 32, 32)\n",
      "ConvBlock            input: (64, 30, 32, 32) output: (64, 30, 32, 32)\n",
      "=====\n",
      "\n",
      "MaxPool2d            input: (64, 192, 32, 32) output: (64, 192, 32, 32)\n",
      "Conv2d               input: (64, 192, 32, 32) output: (64, 30, 32, 32)\n",
      "BatchNorm2d          input: (64, 30, 32, 32) output: (64, 30, 32, 32)\n",
      "ConvBlock            input: (64, 192, 32, 32) output: (64, 30, 32, 32)\n",
      "=====\n",
      "\n",
      "InceptionBlock       input: (64, 192, 32, 32) output: (64, 252, 32, 32)\n"
     ]
    }
   ],
   "source": [
    "oo = inc(test)"
   ]
  },
  {
   "cell_type": "code",
   "execution_count": 44,
   "id": "9433151a",
   "metadata": {},
   "outputs": [
    {
     "data": {
      "text/plain": [
       "256"
      ]
     },
     "execution_count": 44,
     "metadata": {},
     "output_type": "execute_result"
    }
   ],
   "source": [
    "128+32+32+64"
   ]
  },
  {
   "cell_type": "code",
   "execution_count": 36,
   "id": "2bb939e8",
   "metadata": {},
   "outputs": [],
   "source": [
    "for h in hooks:\n",
    "    h.remove()"
   ]
  },
  {
   "cell_type": "markdown",
   "id": "b4f66fc0",
   "metadata": {},
   "source": [
    "#### ----------------------------------------------------------------------------------"
   ]
  },
  {
   "cell_type": "code",
   "execution_count": null,
   "id": "3b211c4c",
   "metadata": {},
   "outputs": [],
   "source": []
  },
  {
   "cell_type": "code",
   "execution_count": 17,
   "id": "0808a607",
   "metadata": {},
   "outputs": [
    {
     "name": "stdout",
     "output_type": "stream",
     "text": [
      "6.158346 M parameters\n"
     ]
    }
   ],
   "source": [
    "model = Inception(num_classes=10)\n",
    "m = model.to(device)\n",
    "# print the number of parameters in the model\n",
    "print(sum(p.numel() for p in m.parameters())/1e6, 'M parameters')\n",
    "\n",
    "# create a PyTorch optimizer\n",
    "optimizer = torch.optim.AdamW(model.parameters(), lr=LEARNING_RATE)"
   ]
  },
  {
   "cell_type": "code",
   "execution_count": 10,
   "id": "418ccfc9",
   "metadata": {},
   "outputs": [
    {
     "name": "stdout",
     "output_type": "stream",
     "text": [
      "epoch 0 | train_loss: 1.2482 valid_loss: 1.2768\n",
      "Accuracy:  0.5736\n",
      "epoch 1 | train_loss: 0.7794 valid_loss: 0.7304\n",
      "Accuracy:  0.7439\n",
      "epoch 2 | train_loss: 0.6000 valid_loss: 0.6109\n",
      "Accuracy:  0.7889\n",
      "epoch 3 | train_loss: 0.4898 valid_loss: 0.5428\n",
      "Accuracy:  0.811\n",
      "epoch 4 | train_loss: 0.4093 valid_loss: 0.6806\n",
      "epoch 5 | train_loss: 0.3458 valid_loss: 0.5063\n",
      "Accuracy:  0.8336\n",
      "epoch 6 | train_loss: 0.2943 valid_loss: 0.4786\n",
      "Accuracy:  0.8443\n",
      "epoch 7 | train_loss: 0.2503 valid_loss: 0.5122\n"
     ]
    },
    {
     "ename": "KeyboardInterrupt",
     "evalue": "",
     "output_type": "error",
     "traceback": [
      "\u001b[0;31m---------------------------------------------------------------------------\u001b[0m",
      "\u001b[0;31mKeyboardInterrupt\u001b[0m                         Traceback (most recent call last)",
      "Cell \u001b[0;32mIn[10], line 13\u001b[0m\n\u001b[1;32m     11\u001b[0m     optimizer\u001b[38;5;241m.\u001b[39mstep()\n\u001b[1;32m     12\u001b[0m     optimizer\u001b[38;5;241m.\u001b[39mzero_grad()\n\u001b[0;32m---> 13\u001b[0m     trl \u001b[38;5;241m+\u001b[39m\u001b[38;5;241m=\u001b[39m \u001b[43mloss\u001b[49m\u001b[38;5;241;43m.\u001b[39;49m\u001b[43mitem\u001b[49m\u001b[43m(\u001b[49m\u001b[43m)\u001b[49m\n\u001b[1;32m     15\u001b[0m m\u001b[38;5;241m.\u001b[39meval()\n\u001b[1;32m     16\u001b[0m \u001b[38;5;28;01mwith\u001b[39;00m torch\u001b[38;5;241m.\u001b[39mno_grad():\n",
      "\u001b[0;31mKeyboardInterrupt\u001b[0m: "
     ]
    }
   ],
   "source": [
    "for ep in range(NUM_EPOCHS):\n",
    "    all_pred_labels = []\n",
    "    trl = 0\n",
    "    m.train()\n",
    "    for x_b, y_b in train_loader:\n",
    "        x_b = x_b.to(device)\n",
    "        y_b = y_b.to(device)\n",
    "        logits = m(x_b)\n",
    "        loss = F.cross_entropy(logits, y_b)\n",
    "        loss.backward()\n",
    "        optimizer.step()\n",
    "        optimizer.zero_grad()\n",
    "        trl += loss.item()\n",
    "    \n",
    "    m.eval()\n",
    "    with torch.no_grad():\n",
    "        vdl = 0\n",
    "        for x_v_b, y_v_b in test_loader:\n",
    "            x_v_b, y_v_b = x_v_b.to(device), y_v_b.to(device)\n",
    "            logits = m(x_v_b)\n",
    "            loss = F.cross_entropy(logits, y_v_b)\n",
    "            vdl += loss.item()\n",
    "        print(f'epoch {ep} | train_loss: {trl/len(train_loader):.4f} valid_loss: {vdl/len(test_loader):.4f}')\n",
    "    \n",
    "    if vdl < best_val_loss:\n",
    "        best_val_loss = vdl\n",
    "        for x_v_b, y_v_b in test_loader:\n",
    "            x_v_b, y_v_b = x_v_b.to(device), y_v_b.to(device)\n",
    "            logits = m(x_v_b)\n",
    "            pred_label = F.softmax(logits,dim=-1).argmax(dim=-1)\n",
    "            all_pred_labels.extend(list(pred_label.detach().cpu().flatten().numpy()))\n",
    "        print(\"Accuracy: \",accuracy_score(all_test_labels.detach().cpu().flatten().numpy(), all_pred_labels))"
   ]
  },
  {
   "cell_type": "code",
   "execution_count": null,
   "id": "b252ecef",
   "metadata": {},
   "outputs": [],
   "source": []
  }
 ],
 "metadata": {
  "kernelspec": {
   "display_name": "Python 3 (ipykernel)",
   "language": "python",
   "name": "python3"
  },
  "language_info": {
   "codemirror_mode": {
    "name": "ipython",
    "version": 3
   },
   "file_extension": ".py",
   "mimetype": "text/x-python",
   "name": "python",
   "nbconvert_exporter": "python",
   "pygments_lexer": "ipython3",
   "version": "3.10.11"
  }
 },
 "nbformat": 4,
 "nbformat_minor": 5
}
